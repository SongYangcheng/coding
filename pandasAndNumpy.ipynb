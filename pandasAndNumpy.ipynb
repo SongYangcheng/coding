{
 "cells": [
  {
   "cell_type": "markdown",
   "id": "049be5c7",
   "metadata": {},
   "source": [
    "## 数据分析\n",
    "- 描述性分析：从一组数据中可以摘要并且描述这份数据的集中和描述情景\n",
    "- 探究性分析：从数据中发现模式、关系和假设\n",
    "- 验证性分析：使用统计方法来检验假设\n",
    "### Numpy库\n",
    "- 数值计算的基础包可以高效处理大规模数组和矩阵运算\n",
    "- 数组对象：ndarray\n",
    "- 数组创建：array, arange, linspace, zeros, ones, empty, eye\n",
    "- 数组属性：shape, dtype, size, ndim\n",
    "- 数组操作：索引、切片、迭代、变形、连接、分割\n",
    "- 数学函数：基本运算、统计函数、线性代数\n",
    "### Pandas库\n",
    "- 数据分析的强大工具，提供了高效的数据结构和数据操作功能，是基于Numpy构建的\n",
    "- 主要数据结构：Series（一维标签数组）、DataFrame（二维表格数据）\n",
    "- 数据导入导出：read_csv, read_excel, to_csv, to_excel\n",
    "- 数据选择与过滤：loc, iloc, 条件筛选\n",
    "- 数据清洗：处理缺失值、重复值、数据类型转换\n",
    "- 数据操作：排序、分组、聚合、透视表、合并、连接\n",
    "### Matplotlib库\n",
    "- 数据可视化的基础库，提供了丰富的绘图功能\n",
    "- 基本绘图函数：plot, scatter, bar, hist, pie\n",
    "- 图形定制：标题、标签、图例、颜色、样式\n",
    "- 子图布局：subplot, subplots\n",
    "- 保存图形：savefig\n",
    "### Seaborn库\n",
    "- 基于Matplotlib的高级可视化库，提供了更美观和简洁的绘图接口\n",
    "- 统计图形：箱线图、热力图、分布图、回归图\n",
    "- 数据集集成：内置多个常用数据集，方便练习和演示\n",
    "- 主题设置：set_style, set_context, set_palette\n",
    "### NLTK库\n",
    "- 自然语言处理的强大工具包，提供了丰富的文本处理和分析功能\n",
    "- 主要功能：分词、词性标注、命名实体识别、句法分析、情感分析\n",
    "- 语料库：内置多个常用语料库，方便练习和演示\n",
    "- 文本预处理：去除停用词、词干提取、词形还原\n",
    "### Pyecharts库\n",
    "- 基于Echarts的Python可视化库，支持生成交互式图表\n",
    "- 多种图表类型：折线图、柱状图、饼图、散点图、地图等\n",
    "- 图表定制：标题、标签、图例、颜色、样式\n",
    "- 交互功能：缩放、悬停提示、数据视图\n",
    "- 输出格式：HTML文件、Jupyter Notebook\n"
   ]
  },
  {
   "cell_type": "markdown",
   "id": "84772816",
   "metadata": {},
   "source": [
    "### 数组和列表区别\n",
    "- 数组（Array）是固定大小的，所有元素类型相同，适合进行数值计算和矩阵运算，如果改变大小需要创建新数组,如果改变某个元素类型会报错\n",
    "- 列表（List）是动态大小的，可以包含不同类型的元素，适合存储和操作异构数据\n",
    "- 数组在内存中是连续存储的，访问速度快；列表在内存中是分散存储的，访问速度相对较慢\n",
    "- 数组支持向量化操作，可以对整个数组进行批量运算；列表需要通过循环逐个处理元素\n",
    "- 数组通常使用Numpy库来创建和操作，列表是Python内置的数据结构\n",
    "![image.png](/imgs/image.png)"
   ]
  },
  {
   "cell_type": "markdown",
   "id": "ff5f5c40",
   "metadata": {},
   "source": [
    "### numpy\n",
    "- ndarray: 多维数组对象，支持高效的数值计算和矩阵运算\n",
    "- array: 创建数组的函数，可以从列表、元组等数据结构转换而来\n",
    "- shape: 数组的形状属性，表示数组的维度信息，（行数， 列数）三维（深度，行数，列数）\n",
    "- dtype: 数组的元素类型属性，表示数组中元素的数据类型\n",
    "- size: 数组的大小属性，表示数组中元素的总数\n",
    "- iterdim: 数组的维度属性，表示数组的维度数量\n",
    "- ndmin: 数组的最小维度属性，表示数组的最小维度数量显示维度\n",
    "ndarrary对象称为数组\n",
    "数组维度元组称为形状\n"
   ]
  },
  {
   "cell_type": "code",
   "execution_count": null,
   "id": "49eadccc",
   "metadata": {},
   "outputs": [
    {
     "name": "stdout",
     "output_type": "stream",
     "text": [
      "(3, 2, 3)\n",
      "[[[1 2 3]\n",
      "  [1 2 3]]\n",
      "\n",
      " [[1 2 3]\n",
      "  [1 2 3]]\n",
      "\n",
      " [[1 2 3]\n",
      "  [1 2 3]]]\n",
      "(18,)\n",
      "int64\n",
      "[[0.96933675 0.06985592 0.55214668]\n",
      " [0.42114998 0.29239704 0.21558959]]\n",
      "(2, 3)\n",
      "[[-0.34620985 -0.45012429 -0.01817544]\n",
      " [-0.00268622  0.53759363  0.1030838 ]]\n"
     ]
    }
   ],
   "source": [
    "import numpy\n",
    "#ndarrary对象称为数组\n",
    "#数组维度元组称为形状\n",
    "#如果二维数组为空则二维数组不存在\n",
    "arr = numpy.array([[[1, 2, 3], [1, 2, 3]], [[1, 2, 3],  [1, 2, 3]], [[1, 2, 3],  [1, 2, 3]]])\n",
    "print(arr.shape) #(3, 2, 3)\n",
    "\n",
    "print(arr)\n",
    "\n",
    "arr = arr.flatten() #展平数组\n",
    "arr_lis = numpy.random.rand(2, 3) # 在0-1中生成随机2行3列数据\n",
    "normal_arr = numpy.random.randn(2, 3)\n",
    "print(arr.shape)\n",
    "print(arr.dtype)\n",
    "print(arr_lis)\n",
    "print(arr_lis.shape)\n",
    "print(normal_arr)"
   ]
  },
  {
   "cell_type": "markdown",
   "id": "34f3e668",
   "metadata": {},
   "source": [
    "### np中的常用函数\n",
    "- np.linspace(): 用于创建一个等间隔的数值序列，指定起始值、终止值和元素数量\n",
    "- np.arange(): 用于创建一个等差数值序列，指定起始值、终止值和步长\n",
    "- np.zeros(): 用于创建一个指定形状的数组，所有元素初始化为0\n",
    "- np.ones(): 用于创建一个指定形状的数组，所有元素初始化为1\n",
    "- np.eye(): 用于创建一个单位矩阵，主对角线元素为1，其余元素为0\n",
    "- np.sum(): 用于计算数组元素的和，可以指定轴进行按行或按列求和\n",
    "- np.dot(): 用于计算两个数组的点积，适用于向量和矩阵的乘法运算"
   ]
  },
  {
   "cell_type": "code",
   "execution_count": 34,
   "id": "b963d8d1",
   "metadata": {},
   "outputs": [
    {
     "data": {
      "text/plain": [
       "8112"
      ]
     },
     "execution_count": 34,
     "metadata": {},
     "output_type": "execute_result"
    }
   ],
   "source": [
    "import sys\n",
    "import numpy as np\n",
    "\n",
    "arr = np.arange(1000)\n",
    "\n",
    "sys.getsizeof(arr)"
   ]
  },
  {
   "cell_type": "code",
   "execution_count": null,
   "id": "e3e6421c",
   "metadata": {},
   "outputs": [
    {
     "name": "stdout",
     "output_type": "stream",
     "text": [
      "CPU times: total: 15.6 ms\n",
      "Wall time: 1.26 ms\n"
     ]
    }
   ],
   "source": [
    "#%%time是Ipython和jupyter中单元魔法函数\n",
    "%%time\n",
    "for _ in range(20):\n",
    "    my_list2 = [x*2 for x in arr]"
   ]
  },
  {
   "cell_type": "code",
   "execution_count": 35,
   "id": "25bf11bb",
   "metadata": {},
   "outputs": [
    {
     "name": "stdout",
     "output_type": "stream",
     "text": [
      "[ 5 13 25]\n"
     ]
    }
   ],
   "source": [
    "a = np.array([1, 2, 3])\n",
    "b = np.array([2, 3, 4])\n",
    "c = a**2 + b**2\n",
    "print(c)"
   ]
  },
  {
   "cell_type": "code",
   "execution_count": 45,
   "id": "53f6d690",
   "metadata": {},
   "outputs": [
    {
     "name": "stdout",
     "output_type": "stream",
     "text": [
      "[[1 2 3 4 5 6]]\n",
      "2\n"
     ]
    }
   ],
   "source": [
    "arr = np.array([1, 2, 3, 4, 5, 6],  ndmin=2, dtype=int)\n",
    "print(arr)\n",
    "print(arr[0, 1])"
   ]
  },
  {
   "cell_type": "code",
   "execution_count": null,
   "id": "6c7a743f",
   "metadata": {},
   "outputs": [
    {
     "name": "stdout",
     "output_type": "stream",
     "text": [
      "[[1. 0.]\n",
      " [0. 1.]]\n",
      "[1. 1.]\n",
      "[1. 0. 0. 1.]\n"
     ]
    }
   ],
   "source": [
    "import numpy as np\n",
    "arr_1 = np.eye(2, 2)\n",
    "arr_one = np.ones(2)\n",
    "print(arr_1)\n",
    "print(arr_one)\n",
    "arr_reshape = arr_1.reshape(4)\n",
    "print(arr_reshape)\n"
   ]
  },
  {
   "cell_type": "code",
   "execution_count": 85,
   "id": "9245814a",
   "metadata": {},
   "outputs": [
    {
     "name": "stdout",
     "output_type": "stream",
     "text": [
      "(2, 2)\n",
      "int64\n",
      "[[[1 2]]\n",
      "\n",
      " [[1 2]]]\n"
     ]
    },
    {
     "data": {
      "text/plain": [
       "(2, 1, 2)"
      ]
     },
     "execution_count": 85,
     "metadata": {},
     "output_type": "execute_result"
    }
   ],
   "source": [
    "arr = np.arange(1, 5)\n",
    "arr_lis = np.array([[1, 2], [1, 2]])\n",
    "arr_reshape = arr.reshape(2,2)\n",
    "print(arr_reshape.shape)\n",
    "print(arr_reshape.dtype)\n",
    "arr_reshape.ndim\n",
    "arr_lis_respape = arr_lis.reshape(2, 1, 2)\n",
    "print(arr_lis_respape)\n",
    "arr_lis_respape.shape"
   ]
  },
  {
   "cell_type": "markdown",
   "id": "5e456a23",
   "metadata": {},
   "source": [
    "当np.array()中dtype = object时 表示数组中的元素可以是任意类型的Python对象，而不仅仅是数值类型。这种情况下，数组的每个元素可以是字符串、列表、字典，甚至是自定义的类实例等。\n",
    "### 数组塌陷\n",
    "- 在Numpy数组中, 元素形状上不一致加上dtype=object时, 会导致数组塌陷, 即数组的某些元素本身是数组或列表, 但由于形状不一致, 整个数组被视为一维数组, 每个元素是一个独立的对象, 而不是多维数组的一部分\n",
    "- 这种情况下, 数组的shape属性会显示为(元素数量,), 表示这是一个一维数组, 而不是多维数组\n",
    "- 访问这些元素时, 需要使用索引来获取每个独立的对象, 而不是像多维数组那样使用多重索引"
   ]
  },
  {
   "cell_type": "code",
   "execution_count": null,
   "id": "f0ad5047",
   "metadata": {},
   "outputs": [
    {
     "name": "stdout",
     "output_type": "stream",
     "text": [
      "[1 2 3] [1 2 3]\n",
      "[1 2 3] [2 4 6]\n",
      "(2,)\n",
      "[1, 2, 3]\n",
      "[1]\n",
      "(3,)\n",
      "[list([[1, 2]]) list([[2, 3]]) list([[1, 2, 3], [1, 2]])]\n"
     ]
    }
   ],
   "source": [
    "a = np.array([1, 2, 3])\n",
    "b = a\n",
    "print(a, b)\n",
    "a = a*2 #a在此处开辟新的内存空间\n",
    "print(b, a)\n",
    "a = np.array([[1, 2, 3], [1]], dtype=object)\n",
    "print(a.shape) #输出(2,)表示有两个列表组成\n",
    "for i in a:\n",
    "    print(i)\n",
    "c = np.array([[[1, 2]],[[2, 3]], [[1, 2, 3]]], dtype=type)\n",
    "print(c.shape)\n",
    "print(c)"
   ]
  },
  {
   "cell_type": "code",
   "execution_count": 11,
   "id": "47962d29",
   "metadata": {},
   "outputs": [
    {
     "name": "stdout",
     "output_type": "stream",
     "text": [
      "12\n"
     ]
    },
    {
     "data": {
      "text/plain": [
       "array([5, 4, 3, 2, 1])"
      ]
     },
     "execution_count": 11,
     "metadata": {},
     "output_type": "execute_result"
    }
   ],
   "source": [
    "import numpy as np\n",
    "\n",
    "a = np.array([1, 2, 3])\n",
    "b = np.array([2, 2, 2]) #必须有相同的行列数\n",
    "print(np.dot(a, b))\n",
    "arr = np.arange(5, 0, -1)\n",
    "arr"
   ]
  },
  {
   "cell_type": "markdown",
   "id": "56663808",
   "metadata": {},
   "source": [
    "### arange和linspace区别\n",
    "- arange: 创建一个等差数值序列，指定起始值、终止值和步长，生成的数组不包含终止值\n",
    "- linspace: 创建一个等间隔的数值序列，指定起始值、终止值和元素数量，生成的数组包含终止值\n",
    "- arange适用于生成整数序列或具有固定步长的数值序列\n",
    "- linspace适用于生成具有指定数量元素的数值序列，尤其在需要精确控制元素数量时更为方便"
   ]
  },
  {
   "cell_type": "code",
   "execution_count": null,
   "id": "09c44b2d",
   "metadata": {},
   "outputs": [
    {
     "name": "stdout",
     "output_type": "stream",
     "text": [
      "[1.  1.5 2. ]\n"
     ]
    },
    {
     "data": {
      "text/plain": [
       "array([[0, 0, 0],\n",
       "       [0, 0, 0]])"
      ]
     },
     "execution_count": 28,
     "metadata": {},
     "output_type": "execute_result"
    }
   ],
   "source": [
    "arr = np.linspace(1, 2, 3)\n",
    "print(arr)\n",
    "np.sum(arr)\n",
    "arr.flags\n",
    "arr_emp = np.empty([2, 3], dtype=int)\n",
    "arr_emp #数组数值为随机值因为没有初始化\n",
    "arr_zero = np.zeros((2, 3), dtype=int)\n",
    "arr_zero #数组以0填充"
   ]
  },
  {
   "cell_type": "markdown",
   "id": "9b31efef",
   "metadata": {},
   "source": [
    "### zeros和zeros_like区别\n",
    "- numpy.zeros 可以直接指定要创建的数组的形状，而 numpy.zeros_like 则是创建一个与给定数组具有相同形状的数组。\n",
    "- numpy.zeros 需要手动指定形状参数，而 numpy.zeros_like 则是通过传入一个已有数组来自动获取形状信息。\n",
    "- ones和ones_like区别同理"
   ]
  },
  {
   "cell_type": "code",
   "execution_count": 29,
   "id": "3b23e515",
   "metadata": {},
   "outputs": [
    {
     "data": {
      "text/plain": [
       "array([0, 0, 0])"
      ]
     },
     "execution_count": 29,
     "metadata": {},
     "output_type": "execute_result"
    }
   ],
   "source": [
    "arr_like = np.zeros_like(arr, dtype=int)\n",
    "arr_like"
   ]
  },
  {
   "cell_type": "markdown",
   "id": "bded7de6",
   "metadata": {},
   "source": [
    "### numpy.asarray()\n",
    "- numpy.asarray() 函数用于将输入数据（如列表、元组等）转换为 NumPy 数组（ndarray）。\n",
    "- 如果输入数据已经是一个 NumPy 数组，asarray() 不会创建新的数组，而是返回原始数组的引用，从而节省内存和提高性能。\n",
    "- 如果输入数据不是 NumPy 数组，asarray() 会创建一个新的数组，并将输入数据复制到新数组中。\n"
   ]
  },
  {
   "cell_type": "code",
   "execution_count": null,
   "id": "3224839e",
   "metadata": {},
   "outputs": [
    {
     "name": "stdout",
     "output_type": "stream",
     "text": [
      "<class 'list'>\n",
      "<class 'numpy.ndarray'>\n"
     ]
    }
   ],
   "source": [
    "lis = [1, 2, 3]\n",
    "arr = np.asarray(lis)\n",
    "print(type(lis))#list\n",
    "print(type(arr)) #numpy.ndarray"
   ]
  },
  {
   "cell_type": "code",
   "execution_count": null,
   "id": "4efc302e",
   "metadata": {},
   "outputs": [
    {
     "name": "stdout",
     "output_type": "stream",
     "text": [
      "[0.  0.1 0.2 0.3 0.4 0.5]\n",
      "[1 3 5]\n",
      "[[ 1  2  3  4  5  6  7  8  9 10]\n",
      " [ 1  2  3  4  5  6  7  8  9 10]]\n",
      "[  2.71828183  20.08553692 148.4131591 ]\n"
     ]
    }
   ],
   "source": [
    "import numpy\n",
    "\n",
    "darray = numpy.linspace(0, 0.5, 6)\n",
    "print(darray)\n",
    "a = numpy.arange(1, 6, 2)\n",
    "print(a)\n",
    "arr_a = numpy.array([numpy.linspace(1, 10, 10) for _ in range(2)], dtype=int)\n",
    "print(arr_a)\n",
    "a = np.exp(a) #自然指数e\n",
    "print(a)"
   ]
  },
  {
   "cell_type": "code",
   "execution_count": 44,
   "id": "251c5945",
   "metadata": {},
   "outputs": [
    {
     "name": "stdout",
     "output_type": "stream",
     "text": [
      "x1 = (-1+1.4142135623730951j), x2 = (-1-1.4142135623730951j)\n"
     ]
    }
   ],
   "source": [
    "import numpy\n",
    "\n",
    "def sovle_quadratic(a, b, c):\n",
    "    \"\"\"求解a*x^2 + b*x + c = 0 返回x1， x2\"\"\"\n",
    "\n",
    "    discriminant = b**2 - 4*a*c\n",
    "\n",
    "    if discriminant >= 0:\n",
    "        # 判别式非负，实数解\n",
    "        sqrt_d = np.sqrt(discriminant)\n",
    "        x1 = (-b + sqrt_d ) / (2*a)\n",
    "        x2 = (-b - sqrt_d ) / (2*a)\n",
    "    else:\n",
    "        #判断为负数，则为复数解\n",
    "        sqrt_d = np.sqrt(-discriminant)\n",
    "        real_part = -b / (2 * a)\n",
    "        imag_part = sqrt_d / (2 * a)\n",
    "        x1 = complex(real_part, imag_part)\n",
    "        x2 = complex(real_part, -imag_part)\n",
    "\n",
    "    print(f\"x1 = {x1}, x2 = {x2}\")\n",
    "\n",
    "sovle_quadratic(1, 2, 3)"
   ]
  },
  {
   "cell_type": "code",
   "execution_count": null,
   "id": "55b12ddd",
   "metadata": {},
   "outputs": [
    {
     "name": "stdout",
     "output_type": "stream",
     "text": [
      "方程1x^2 + -3x + 2 = 0, 解为[np.float64(0.9999732670355815), np.float64(1.0000090180270362), np.float64(0.999972616993894), np.float64(0.9998613998613992), np.float64(2.0), np.float64(2.0), np.float64(2.000070867327505)]\n"
     ]
    }
   ],
   "source": [
    "\"\"\"求解a*x^2 + b*x + c = 0 返回x1， x2\"\"\"\n",
    "import numpy as np\n",
    "\n",
    "# import matplotlib.pyplot as plt\n",
    "\n",
    "def quadratic_equation(a, b, c, x):\n",
    "    return a * x**2 + b*x + c\n",
    "\n",
    "def find_approx_roots(a, b, c, x_range, num_points=1000, tol=1e-2):\n",
    "    \"\"\"x_range:x的取值范围(min_x, max_x)\n",
    "        tol:近似解的容差（y的绝对值小于tol时认为等于0\n",
    "    \"\"\"\n",
    "    x_vals = np.linspace(x_range[0], x_range[1], num_points)\n",
    "    y_vals = quadratic_equation(a, b, c, x_vals)\n",
    "\n",
    "    approx_roots = []\n",
    "    for i in range(len(x_vals) - 1):\n",
    "        #如果y跨过0， 或者y接近0\n",
    "        #如果两个领点之间的乘积小于0则存在零点在这个范围\n",
    "        # 注意这里只检测y_vals[i]是否接近零， 没有检测最后一个\n",
    "        if (y_vals[i] * y_vals[i+1] < 0 ) or (abs(y_vals[i]) < tol):\n",
    "            #获取相邻两点坐标\n",
    "            x0 = x_vals[i]\n",
    "            x1 = x_vals[i+1]\n",
    "            y0 = y_vals[i]\n",
    "            y1 = y_vals[i+1]\n",
    "            x_root = x0 - y0 * (x1 - x0) / (y1 - y0) #线性插值公式\n",
    "            approx_roots.append(x_root)\n",
    "            #以上是连接两点的直线与x轴交点的x坐标，比直接取x[i]更加方便\n",
    "    return approx_roots\n",
    "a = 1\n",
    "b = -3\n",
    "c = 2\n",
    "x_range = (-2, 4)\n",
    "approx_roots = find_approx_roots(a, b, c, x_range)\n",
    "print(f\"方程{a}x^2 + {b}x + {c} = 0, 解为{approx_roots}\")"
   ]
  },
  {
   "cell_type": "markdown",
   "id": "7794a160",
   "metadata": {},
   "source": [
    "np.logspace(start, stop, num=50, endpoint=True, base=10.0, dtype=None, axis=0)\n",
    "\n",
    "- np.logspace() 函数用于创建一个在对数刻度上均匀分布的数值序列。\n",
    "- start: 序列的起始值，表示 base 的 start 次幂。\n",
    "- stop: 序列的终止值，表示 base 的 stop 次幂。\n",
    "- num: 要生成的元素数量，默认为 50。\n",
    "- endpoint: 如果为 True，则序列中包含终止值 stop；如果为 False，则不包含 stop，默认为 True。\n",
    "- base: 对数的底数，默认为 10.0。\n",
    "- dtype: 输出数组的数据类型，默认为 None，表示根据输入数据自动推断类型。\n"
   ]
  },
  {
   "cell_type": "code",
   "execution_count": null,
   "id": "80bcdae6",
   "metadata": {},
   "outputs": [
    {
     "name": "stdout",
     "output_type": "stream",
     "text": [
      "[  10.           46.41588834  215.443469   1000.        ]\n"
     ]
    }
   ],
   "source": [
    "arr = np.logspace(1, 3, 4)\n",
    "print(arr) #因为生成的是均匀分布的数值序列"
   ]
  },
  {
   "cell_type": "code",
   "execution_count": 91,
   "id": "75f47dec",
   "metadata": {},
   "outputs": [
    {
     "name": "stdout",
     "output_type": "stream",
     "text": [
      "[0.0001 0.001  0.01   0.1   ]\n"
     ]
    }
   ],
   "source": [
    "learning_rates = np.logspace(-4, -1, num=4)#1e-4到1e-1之间的四个学习率\n",
    "print(learning_rates)"
   ]
  },
  {
   "cell_type": "code",
   "execution_count": 1,
   "id": "0c9ba7a7",
   "metadata": {},
   "outputs": [
    {
     "name": "stdout",
     "output_type": "stream",
     "text": [
      "tetx\n"
     ]
    }
   ],
   "source": [
    "a = \"tetx\"\n",
    "print(\"{}\".format(a))"
   ]
  },
  {
   "cell_type": "code",
   "execution_count": null,
   "id": "388eef97",
   "metadata": {},
   "outputs": [
    {
     "name": "stdout",
     "output_type": "stream",
     "text": [
      "0    1\n",
      "1    2\n",
      "2    3\n",
      "3    4\n",
      "dtype: int64\n",
      "0    1\n",
      "1    2\n",
      "2    3\n",
      "3    4\n",
      "dtype: int64\n",
      "1    1\n",
      "2    2\n",
      "3    3\n",
      "4    4\n",
      "dtype: int64\n"
     ]
    }
   ],
   "source": [
    "import pandas as pd\n",
    "import numpy\n",
    "lis = [1, 2, 3, 4]\n",
    "arr = numpy.array([1, 2, 3, 4])\n",
    "s = pd.Series(lis)\n",
    "s_arr = pd.Series(arr)\n",
    "print(s)#输出一样\n",
    "print(s_arr)\n",
    "\"\"\" \n",
    "0    1\n",
    "1    2\n",
    "2    3\n",
    "3    4\n",
    "dtype: int64\n",
    " \"\"\"\n",
    "#前面的索引可以自定义\n",
    "s_arr = pd.Series(arr, index= [1, 2, 3, 4])\n",
    "print(s_arr)\n",
    "\"\"\" \n",
    "1    1\n",
    "2    2\n",
    "3    3\n",
    "4    4\n",
    "dtype: int64 \"\"\""
   ]
  },
  {
   "cell_type": "code",
   "execution_count": null,
   "id": "6d0dd944",
   "metadata": {},
   "outputs": [
    {
     "name": "stdout",
     "output_type": "stream",
     "text": [
      "   0\n",
      "0  1\n",
      "1  2\n",
      "2  3\n",
      "3  4\n"
     ]
    }
   ],
   "source": [
    "data = [1, 2, 3, 4]\n",
    "df = pd.DataFrame(data)\n",
    "print(df)\n",
    "\"\"\" \n",
    "   0 \n",
    "0  1\n",
    "1  2\n",
    "2  3\n",
    "3  4\n",
    " \"\"\""
   ]
  },
  {
   "cell_type": "code",
   "execution_count": null,
   "id": "f42e918e",
   "metadata": {},
   "outputs": [
    {
     "name": "stdout",
     "output_type": "stream",
     "text": [
      "         name department  monthly_salary  yearly_bonus\n",
      "1  Employee_1      Teach           19000         63328\n",
      "2  Employee_2         HR           10600         90654\n",
      "3  Employee_3      Teach           15123         69659\n",
      "4  Employee_4         HR           11253         73766\n",
      "5  Employee_5      Teach           15206         64179\n",
      "6  Employee_6         HR           13324         40098\n",
      "7  Employee_7      Teach           11214         65135\n",
      "8  Employee_8         HR           19565         73662\n",
      "数据状态：\n",
      "(25, 4)\n",
      "\n",
      "描述统计数据\n",
      "name              object\n",
      "department        object\n",
      "monthly_salary     int32\n",
      "yearly_bonus       int32\n",
      "dtype: object\n"
     ]
    }
   ],
   "source": [
    "import random\n",
    "import numpy as np\n",
    "import pandas as pd\n",
    "np.random.seed(50) #固定随机种子\n",
    "# name = [\"Employee_\" + f\"{i}\" for i in range(1, 26)]\n",
    "# department  = ([\"Teach\", \"HR\"] * 13)[:25]\n",
    "# monthly_salary = np.random.randint(5000, 20000, size=25)\n",
    "# yearly_bonus = np.random.randint(20000, 100000, size=25)\n",
    "data = {\n",
    "\"name\" : [\"Employee_\" + f\"{i}\" for i in range(1, 26)],\n",
    "\"department\" : ([\"Teach\", \"HR\"] * 13)[:25],\n",
    "\"monthly_salary\" : np.random.randint(5000, 20000, size=25),\n",
    "\"yearly_bonus\" : np.random.randint(20000, 100000, size=25)\n",
    "}\n",
    "\n",
    "index = [ i for i in range(1, 26)]\n",
    "\n",
    "info_chess = pd.DataFrame(data, index=index)\n",
    "# print(info_chess)\n",
    "\n",
    "#输出前八行数据\n",
    "print(info_chess.head(8))\n",
    "#输出数据形状\n",
    "print(\"数据状态：\")\n",
    "print(info_chess.shape)\n",
    "print(\"\\n数据类型\")\n",
    "print(info_chess.dtypes)"
   ]
  },
  {
   "cell_type": "code",
   "execution_count": 7,
   "id": "07de4322",
   "metadata": {},
   "outputs": [
    {
     "name": "stdout",
     "output_type": "stream",
     "text": [
      "你好\n",
      "hello\n"
     ]
    }
   ],
   "source": [
    "def wrapper(func):\n",
    "    def inner():\n",
    "        func()\n",
    "        print(\"hello\")\n",
    "    return inner\n",
    "@wrapper\n",
    "def Hello():\n",
    "    print(\"你好\")\n",
    "Hello()"
   ]
  },
  {
   "cell_type": "code",
   "execution_count": 11,
   "id": "4cd1b5a6",
   "metadata": {},
   "outputs": [
    {
     "name": "stdout",
     "output_type": "stream",
     "text": [
      "[1.  2.5 4. ]1.5\n",
      "[[1. 0. 0. 0.]\n",
      " [0. 1. 0. 0.]\n",
      " [0. 0. 1. 0.]\n",
      " [0. 0. 0. 1.]]\n"
     ]
    }
   ],
   "source": [
    "import numpy as np\n",
    "arr, step = np.linspace(1, 4, num=3 ,retstep=True)\n",
    "print(f\"{arr}{step}\")\n",
    "arr_1 = np.identity(4)\n",
    "print(arr_1)"
   ]
  },
  {
   "cell_type": "code",
   "execution_count": 21,
   "id": "c0d62a51",
   "metadata": {},
   "outputs": [
    {
     "name": "stdout",
     "output_type": "stream",
     "text": [
      "[[[1. 2.]\n",
      "  [3. 4.]\n",
      "  [5. 6.]]\n",
      "\n",
      " [[3. 4.]\n",
      "  [5. 6.]\n",
      "  [7. 8.]]]\n"
     ]
    }
   ],
   "source": [
    "start = np.array([[1, 2], [3, 4]])\n",
    "stop = np.array([[5, 6], [7, 8]])\n",
    "arr = np.linspace(start, stop, num=3, axis=1)\n",
    "print(arr)"
   ]
  },
  {
   "cell_type": "code",
   "execution_count": 36,
   "id": "881b571d",
   "metadata": {},
   "outputs": [
    {
     "name": "stdout",
     "output_type": "stream",
     "text": [
      "[[[1 2 3]\n",
      "  [2 3 4]]\n",
      "\n",
      " [[3 4 5]\n",
      "  [4 5 6]]]\n"
     ]
    }
   ],
   "source": [
    "a = np.array([[1, 2], [3, 4]])\n",
    "b = np.array([[3, 4], [5, 6]])\n",
    "# print(np.subtract(a, b)) #对应值相减\n",
    "arr = np.linspace(a, b, num=3, axis=2, dtype=int)\n",
    "print(arr)"
   ]
  },
  {
   "cell_type": "markdown",
   "id": "08a18292",
   "metadata": {},
   "source": [
    "### numpy中的数学函数\n",
    "- np.add(): 用于对两个数组进行逐元素加法运算\n",
    "- np.subtract(): 用于对两个数组进行逐元素减法运算\n",
    "- np.multiply(): 用于对两个数组进行逐元素乘法运算\n",
    "- np.divide(): 用于对两个数组进行逐元素除法运算\n",
    "- np.sqrt(): 用于计算数组中每个元素的平方根\n",
    "- np.exp(): 用于计算数组中每个元素的指数值\n",
    "- np.log(): 用于计算数组中每个元素的自然对数\n",
    "- np.median(): 用于计算数组中元素的中位数\n",
    "- np.mean(): 用于计算数组中元素的平均值\n",
    "- np.std(): 用于计算数组中元素的标准差\n",
    "- np.var(): 用于计算数组中元素的方差\n",
    "- np.min(): 用于计算数组中元素的最小值\n",
    "- np.max(): 用于计算数组中元素的最大值\n",
    "- np.corrcoef(): 用于计算两个数组之间的相关系数矩阵\n",
    "- np.linalg.inv(): 用于计算矩阵的逆矩阵\n",
    "- np.linalg.det(): 用于计算矩阵的行列式\n",
    "多维数组数学运算时，默认按元素位置对应进行运算"
   ]
  },
  {
   "cell_type": "markdown",
   "id": "4bab02f8",
   "metadata": {},
   "source": [
    "numpy.random模块是numpy的一个子模块， 在numpy生成随机数方面提供了丰富的功能\n",
    "- numpy.random.rand(): 生成均匀分布的随机数，参数为数组的形状\n",
    "- numpy.random.randn(): 生成标准正态分布的随机数，参数为数组的形状\n",
    "- numpy.random.randint(): 生成指定范围内的随机整数，参数为起始值\n",
    "- numpy.random.choice(): 从给定的一维数组中随机抽取指定数量的元素，参数为数组和抽取数量\n",
    "- numpy.random.seed(): 设置随机数种子，确保每次生成的随机数序列相同\n",
    "- numpy.random.normal(): 生成正态分布的随机数，参数为均值、标准差和数量\n",
    "- numpy.random.uniform(): 生成均匀分布的随机数，参数为起始值、终止值和数量\n",
    "RandomState: 生成随机数的对象，可以创建多个独立的随机数生成器ng = np.random.default_rng()\n",
    "Generator: 新的随机数生成器，推荐使用，可以替代RandomState"
   ]
  },
  {
   "cell_type": "code",
   "execution_count": null,
   "id": "b4e6e9af",
   "metadata": {},
   "outputs": [
    {
     "name": "stdout",
     "output_type": "stream",
     "text": [
      "0.8050029237453802\n",
      "[1]\n"
     ]
    }
   ],
   "source": [
    "import numpy as np\n",
    "#未设置种子每次随机结果都不同\n",
    "# np.random.seed(50)\n",
    "# arr = np.random.randint(5)\n",
    "# arr\n",
    "rng = np.random.default_rng(5) #这个直接在括号里面设置种子该方式为Generator\n",
    "print(rng.random())\n",
    "arr = np.arange(1, 2)\n",
    "print(arr)\n",
    "arr = np.array([[1, 2, 3], [1, 2, 3]])\n",
    "arr.resize(1, 3)"
   ]
  },
  {
   "cell_type": "code",
   "execution_count": null,
   "id": "ba3f720d",
   "metadata": {},
   "outputs": [
    {
     "data": {
      "text/plain": [
       "array([7.56994721, 6.84853026, 3.39587269])"
      ]
     },
     "execution_count": 32,
     "metadata": {},
     "output_type": "execute_result"
    }
   ],
   "source": [
    "np.random.rand(3) #生成三个随机浮点数0-1 np.random.rand(3)[0.24423009, 0.3251973 , 0.43930505\n",
    "np.random.randint(1, 5, 3) #array([4, 4, 2], dtype=int32)\n",
    "np.random.randn(2) #正态分布array([2.51254838, 0.4411176 ])\n",
    "np.random.uniform(1, 5, 3) #array([2.53197239, 1.4592758 , 4.45781604])\n",
    "np.random.normal(5, 2, 3) #生成三个均值为5标准差为2的三个随机数， array([7.56994721, 6.84853026, 3.39587269])"
   ]
  },
  {
   "cell_type": "markdown",
   "id": "344b9f21",
   "metadata": {},
   "source": [
    "###  rng = np.random.default_rng() \n",
    "()中可设置种子该方式为Generator\n",
    "- rng.random(): 生成**均匀分布**的随机数，范围在[0.0, 1.0)之间\n",
    "- rng.integers(low, high=None, size=None, dtype=int): 生成指定范围内的随机整数，low为起始值，high为终止值<font color=\"red\">(不包含)</font>，size为生成的整数数量,endpoint=True表示包含终止值\n",
    "- rng.normal(loc=0.0, scale=1.0, size=None): 生成**正态分布**的随机数，loc为均值，scale为标准差，size为生成的随机数数量\n",
    "- rng.uniform(low=0.0, high=1.0, size=None): 生成**均匀分布**的随机数，low为起始值，high为终止值（不包含），size为生成的随机数数量\n",
    "- rng.choice(a, size=None, replace=True, p=None): 从给定的一维数组a中随机抽取指定数量的元素，size为抽取数量，replace表示是否允许重复抽取，p为每个元素被抽取的概率分布\n",
    "- rng.standard_normal(size=None): 生成标准**正态分布**的随机数，均值为0，标准差为1，size为生成的随机数数量"
   ]
  },
  {
   "cell_type": "code",
   "execution_count": null,
   "id": "93f4e410",
   "metadata": {},
   "outputs": [
    {
     "name": "stdout",
     "output_type": "stream",
     "text": [
      "0.852633198899536\n",
      "[2 2 2]\n",
      "[-0.89084632  0.64187558  0.08624737]\n",
      "[3.34882274 1.3941724  9.8817529 ]\n",
      "[ 0.30503957  1.19408509 -0.9849753 ]\n"
     ]
    }
   ],
   "source": [
    "rng = np.random.default_rng()\n",
    "\n",
    "print(rng.random()) #生成0-1之间的均匀分布浮点数\n",
    "print(rng.integers(1, 3, 3, dtype=int)) #[2 1 2]\n",
    "print(rng.standard_normal(3)) #均值为0标准差为1的随机数3\n",
    "print(rng.uniform(1, 10, 3)) #[6.5809714  1.98769408 6.55718315]均匀分布\n",
    "print(rng.normal(1, 1, 3)) #[1.40180647 0.1278559  2.12011302]分别为均值标准差"
   ]
  },
  {
   "cell_type": "markdown",
   "id": "ab9b75c6",
   "metadata": {},
   "source": [
    "### numpy中数据类型\n",
    "- int: 整数类型，如 int8, int16, int32, int64\n",
    "- float: 浮点数类型，如 float16, float32, float64\n",
    "- bool: 布尔类型，表示 True 或 False\n",
    "- complex: 复数类型，如 complex64, complex128\n",
    "- object: 通用对象类型，可以存储任意 Python 对象\n",
    "### 特征码\n",
    "- b: 布尔类型\n",
    "- i: 有符号整数类型\n",
    "- u: 无符号整数类型\n",
    "- f: 浮点数类型\n",
    "- c: 复数类型\n",
    "- m: 时间间隔类型\n",
    "- M: 日期时间类型\n",
    "- O: 对象类型\n",
    "- S: 字节字符串类型\n",
    "- V: 原始数据类型\n",
    "- U: Unicode字符串类型\n"
   ]
  },
  {
   "cell_type": "markdown",
   "id": "a6edc919",
   "metadata": {},
   "source": [
    "### 数据类型转换- astype(): 用于将数组转换为指定的数据类型\n",
    "- astype() 方法用于将 NumPy 数组转换为指定的数据类型。\n"
   ]
  },
  {
   "cell_type": "code",
   "execution_count": null,
   "id": "33f04afc",
   "metadata": {},
   "outputs": [
    {
     "name": "stdout",
     "output_type": "stream",
     "text": [
      "f\n",
      "float64\n",
      "int64\n",
      "int64\n"
     ]
    }
   ],
   "source": [
    "data = np.array([1, 2, 3])\n",
    "data.dtype.name #输出int64\n",
    "float_dta = data.astype(\"float\")\n",
    "\n",
    "print(float_dta.dtype.kind)#f\n",
    "print(float_dta.dtype.name)#float64\n",
    "\n",
    "data_int = data.astype(\"int\")\n",
    "print(data_int.dtype.name) #int64\n",
    "data_int_2 = data.astype(np.int64)\n",
    "print(data_int_2.dtype.name) #int64\n"
   ]
  },
  {
   "cell_type": "code",
   "execution_count": 69,
   "id": "458b77d2",
   "metadata": {},
   "outputs": [
    {
     "name": "stdout",
     "output_type": "stream",
     "text": [
      "[-1.1290769  -0.92819418 -0.1313509  -1.22034345 -0.81828949  0.35720707\n",
      "  1.27934602 -0.69899402 -0.92830635  0.52414244]\n",
      "[-1  0  0 -1  0  0  1  0  0  0]\n",
      "[1 3 4]\n"
     ]
    }
   ],
   "source": [
    "rng = np.random.default_rng()\n",
    "rand_data = np.random.randn(10)\n",
    "print(rand_data)\n",
    "rand_data_int = rand_data.astype(\"int\")\n",
    "print(rand_data_int)\n",
    "\n",
    "rand_int = rng.integers(1, 5, 3)\n",
    "print(rand_int)"
   ]
  },
  {
   "cell_type": "code",
   "execution_count": 75,
   "id": "d1d9f1c5",
   "metadata": {},
   "outputs": [
    {
     "name": "stdout",
     "output_type": "stream",
     "text": [
      "[1 2 3]\n",
      "[1. 2. 3.]\n",
      "['1.0' '2.0' '3.0']\n"
     ]
    }
   ],
   "source": [
    "import numpy as np\n",
    "\n",
    "str_data = np.array([\"1\", \"2\", \"3\"])\n",
    "int_data = str_data.astype(int)\n",
    "print(int_data)\n",
    "float_data = int_data.astype(float)\n",
    "print(float_data)\n",
    "#数字转字符串\n",
    "str_data_1 = float_data.astype(str)\n",
    "print(str_data_1)"
   ]
  },
  {
   "cell_type": "markdown",
   "id": "ec06aab7",
   "metadata": {},
   "source": [
    "### 多维数组索引和切片\n",
    "arr = np.array([[1, 2, 3, 4],\n",
    "                [5, 6, 7, 8],\n",
    "                [9, 10, 11, 12]])\n",
    "| 特性       | arr[1, 2] (元组索引) | arr[1][2] (链式索引) | arr[1:2, 2:3] (切片索引) |\n",
    "|----------|------------------|------------------|--------------------|\n",
    "| 目的       | 获取单个元素         | 获取单个元素         | 提取子数组             |\n",
    "| 语法风格     | NumPy推荐，高效       | Python原生列表风格，效率较低 | 用于数据子集提取          |\n",
    "| 返回类型     | 单个元素 (标量)      | 单个元素 (标量)      | NumPy数组           |\n",
    "| 返回值示例    | 7                | 7                | [[7]]\n",
    "| 返回维度     | 降维 (2D -> 0D)    | 降维 (2D -> 0D)    | 保持维度 (2D -> 2D)   |\n",
    "| 性能       | 最高效 (一次操作)     | 较低效 (多次操作)     | 取决于切片大小         |\n",
    "| 数据关系     | 返回值的副本         | 返回值的副本         | 返回原数组的视图       |\n",
    "\n"
   ]
  },
  {
   "cell_type": "code",
   "execution_count": null,
   "id": "4adf1b48",
   "metadata": {},
   "outputs": [
    {
     "name": "stdout",
     "output_type": "stream",
     "text": [
      "[[1 2 3]\n",
      " [1 2 3]]\n",
      "2\n",
      "[[2]\n",
      " [2]]\n",
      "[3 3]\n",
      "(3, 5)\n",
      "34\n",
      "[[34]]\n",
      "[[2]]\n",
      "34\n"
     ]
    }
   ],
   "source": [
    "arr = np.array([[1, 2, 3],[1, 2, 3]])\n",
    "print(arr[:2]) #获取\n",
    "print(arr[1, 1])\n",
    "print(arr[:, 1:2]) #取所有行的第二列 [[2] [2]]\n",
    "\n",
    "print(arr[:, 2]) #获取第三列的元素并组成列表[3 3]\n",
    "\n",
    "arr = np.array([[1 ,6 ,11, 15, 16], [1, 12, 34, 15, 13], [2, 3, 4, 5, 5]])\n",
    "\n",
    "print(arr.shape)\n",
    "print(arr[1][2]) #34\n",
    "print(arr[1:2, 2:3]) #[[34]]\n",
    "# print(arr[2:3, 0:1])\n",
    "print(arr[1, 2]) #34"
   ]
  },
  {
   "cell_type": "code",
   "execution_count": null,
   "id": "593cdf34",
   "metadata": {},
   "outputs": [
    {
     "name": "stdout",
     "output_type": "stream",
     "text": [
      "[[10  6  5]\n",
      " [11 16  2]]\n",
      "[[10  6  5]\n",
      " [11 16  2]]\n"
     ]
    }
   ],
   "source": [
    "#花式索引\n",
    "#一维数组\n",
    "arr = np.array([10, 6, 5, 11, 16, 2])\n",
    "arr[[0, 1, 3]] #输出下表组成的二维数组 array([10,  6, 11])\n",
    "arr_2 = arr.reshape(2,3)\n",
    "print(arr_2)\n",
    "print(arr_2[[0, 1]]) #直接按照行索引取出 [[10  6  5] [11 16  2]]\n"
   ]
  },
  {
   "cell_type": "code",
   "execution_count": null,
   "id": "7b18693c",
   "metadata": {},
   "outputs": [
    {
     "data": {
      "text/plain": [
       "array([34,  5])"
      ]
     },
     "execution_count": 105,
     "metadata": {},
     "output_type": "execute_result"
    }
   ],
   "source": [
    "arr = np.array([[1 ,6 ,11, 15, 16], [1, 12, 34, 15, 13], [2, 3, 4, 5, 5]])\n",
    "arr[[1,2], [2, 3]] #每一个列表中第一个元素为行索引第二个为改行的元素索引array([34,  5])\n",
    "\n",
    "#注意：使用两个花式索引索引二维数组时候，两个花式索引对应的数组或者列表的长度是相等的，并且长度不能出超过二维数组终端的相应轴上的元素数量，否则回传先索引异常\n"
   ]
  },
  {
   "cell_type": "code",
   "execution_count": null,
   "id": "1475436b",
   "metadata": {},
   "outputs": [
    {
     "name": "stdout",
     "output_type": "stream",
     "text": [
      "[[False  True  True  True  True]\n",
      " [False  True  True  True  True]\n",
      " [False False  True  True  True]]\n",
      "[ 6 11 15 16 12 34 15 13  4  5  5]\n",
      "(11,)\n"
     ]
    },
    {
     "data": {
      "text/plain": [
       "array([[ 1,  6, 11, 15],\n",
       "       [ 1, 12, 34, 15]])"
      ]
     },
     "execution_count": 12,
     "metadata": {},
     "output_type": "execute_result"
    }
   ],
   "source": [
    "import numpy as np\n",
    "\n",
    "arr = np.array([[1 ,6 ,11, 15, 16],\n",
    "                 [1, 12, 34, 15, 13],\n",
    "                   [2, 3, 4, 5, 5]])\n",
    "#判断当前哪些元素大于3\n",
    "print(arr > 3)\n",
    "#返回比较后的bool数组维度变\n",
    "\n",
    "print(arr[arr > 3]) #显示出大于3的数组并降维\n",
    "print(arr[arr > 3].shape)\n",
    "\n",
    "arr[[True, True, False], :4] #前面的布尔值是代表是否选择第几行True为选择， 后面的切片为改行的元素\n",
    "\n",
    "\n"
   ]
  },
  {
   "cell_type": "code",
   "execution_count": null,
   "id": "d49ead46",
   "metadata": {},
   "outputs": [
    {
     "name": "stdout",
     "output_type": "stream",
     "text": [
      "[ True False  True]\n",
      "[ True False  True]\n"
     ]
    }
   ],
   "source": [
    "arr1 = np.array([True, False, True])\n",
    "arr2 = np.array([1, 0, 3], dtype=bool)\n",
    "print(arr1)\n",
    "print(arr2) #有值九为True\n"
   ]
  },
  {
   "cell_type": "code",
   "execution_count": null,
   "id": "a059c388",
   "metadata": {},
   "outputs": [
    {
     "name": "stdout",
     "output_type": "stream",
     "text": [
      "[[ 6  8 10 12]\n",
      " [ 6  8 10 12]\n",
      " [ 6  8 10 12]]\n",
      "[[-4 -4 -4 -4]\n",
      " [-4 -4 -4 -4]\n",
      " [-4 -4 -4 -4]]\n",
      "[[ 5 12 21 32]\n",
      " [ 5 12 21 32]\n",
      " [ 5 12 21 32]]\n",
      "3\n",
      "[[6 8]\n",
      " [6 8]]\n"
     ]
    },
    {
     "data": {
      "text/plain": [
       "np.int64(10)"
      ]
     },
     "execution_count": 49,
     "metadata": {},
     "output_type": "execute_result"
    }
   ],
   "source": [
    "#形状相同的数组运算\n",
    "arr1 = np.array([[1, 2 ,3 ,4], [1, 2, 3, 4], [1, 2, 3, 4]])\n",
    "arr2 = np.array([[5, 6, 7, 8], [5, 6, 7, 8], [5, 6, 7, 8]])\n",
    "\n",
    "print(arr1 + arr2)\n",
    "print(arr1 - arr2)\n",
    "print(arr1 * arr2)\n",
    "print(arr1[:2, :2]  + arr2[:2, :2])\n",
    "arr1[2, 2] + arr2[1, 2]"
   ]
  },
  {
   "cell_type": "markdown",
   "id": "404fe266",
   "metadata": {},
   "source": [
    "### 塌陷和广播\n",
    "- 塌陷：当创建的数组中包含形状不一致的元素时，且dtype=object时，整个数组会被视为一维数组，每个元素是一个独立的对象，而不是多维数组的一部分\n",
    "- 广播：当对形状不同的数组进行数学运算时，NumPy会自动调整较小数组的形状以匹配较大数组的形状，从而使得运算可以顺利进行\n",
    " - 广播规则：\n",
    "  1. 如果两个数组的维度数量不同，则在较小的数组前面添加1，直到两个数组的维度数量相同\n",
    "  2. 如果两个数组在某个维度上的长度不相同，且其中一个数组在该维度上的长度为1，则将该数组沿该维度复制，直到其长度与另一个数组相同\n",
    "  3. 如果两个数组在某个维度上的长度不相同，且都不为1，则无法进行广播，抛出错误\n"
   ]
  },
  {
   "cell_type": "code",
   "execution_count": null,
   "id": "5249d31d",
   "metadata": {},
   "outputs": [
    {
     "name": "stdout",
     "output_type": "stream",
     "text": [
      "[[1 2 3]]\n",
      "[[1]\n",
      " [2]\n",
      " [3]\n",
      " [4]]\n"
     ]
    },
    {
     "data": {
      "text/plain": [
       "array([[2, 3, 4],\n",
       "       [3, 4, 5],\n",
       "       [4, 5, 6],\n",
       "       [5, 6, 7]])"
      ]
     },
     "execution_count": 57,
     "metadata": {},
     "output_type": "execute_result"
    }
   ],
   "source": [
    "#形状不同的算数运算， 可能会触发广播机制，对参与运算的数组进行扩展使扩展后的数组有相同形状\n",
    "a  =  np.array([[1, 2, 3]])\n",
    "b  = np.array([[1], [2], [3], [4]])\n",
    "print(a)\n",
    "#[[1 2 3]]\n",
    "print(b)\n",
    "\"\"\" \n",
    "[[1]\n",
    " [2]\n",
    " [3]\n",
    " [4]] \"\"\"\n",
    "a + b #每个进行对自己复制并且延申成a.shape * b*shape形状的在进行操作\n",
    "\"\"\"\n",
    "  array([[2, 3, 4],\n",
    "       [3, 4, 5],\n",
    "       [4, 5, 6],\n",
    "       [5, 6, 7]])\n",
    "  \"\"\"\n"
   ]
  },
  {
   "cell_type": "code",
   "execution_count": null,
   "id": "3b6c0f34",
   "metadata": {},
   "outputs": [],
   "source": []
  },
  {
   "cell_type": "code",
   "execution_count": 47,
   "id": "4890830d",
   "metadata": {},
   "outputs": [
    {
     "name": "stdout",
     "output_type": "stream",
     "text": [
      "  name  math_grader  china_grader  other\n",
      "1   小明          100            90     80\n",
      "2   小红           98            70     40\n",
      "3   小美           60            80     80\n",
      "++++++++++++++++++++++++++++\n",
      "      math_grader  other\n",
      "name                    \n",
      "小明            100     80\n",
      "小红             98     40\n",
      "小美             60     80\n",
      "++++++++++++++++++++++++++++++\n",
      "name  other\n",
      "小明    80       100\n",
      "小红    40        98\n",
      "小美    80        60\n",
      "Name: math_grader, dtype: int64\n"
     ]
    }
   ],
   "source": [
    "import pandas as pd\n",
    "\n",
    "frame = pd.DataFrame(\n",
    "    {\n",
    "    \"name\":[\"小明\", \"小红\", \"小美\"],\n",
    "    \"math_grader\":[100, 98, 60],\n",
    "    \"china_grader\":[90, 70, 80],\n",
    "    \"other\": [80, 40, 80]\n",
    "},\n",
    "index=[1, 2, 3]\n",
    ")\n",
    "print(frame)\n",
    "print(\"++++++++++++++++++++++++++++\")\n",
    "group = frame.groupby(\"name\").agg({\n",
    "    \"math_grader\":\"sum\",\n",
    "    \"other\": \"max\"\n",
    "}\n",
    ")\n",
    "print(group)\n",
    "print(\"++++++++++++++++++++++++++++++\")\n",
    "sum_grader = frame.groupby([\"name\", \"other\"])[\"math_grader\"].sum()\n",
    "print(sum_grader)\n",
    "\n",
    "\n"
   ]
  },
  {
   "cell_type": "markdown",
   "id": "bb7fc280",
   "metadata": {},
   "source": [
    "### np.where()\n",
    "- np.where() 函数用于根据条件从数组中选择元素，返回满足条件的元素的索引或值。\n",
    "- 语法：np.where(condition, [x, y])\n",
    "  - condition: 条件表达式，返回布尔数组\n",
    "  - x: 满足条件时返回的值（可选）\n",
    "  - y: 不满足条件时返回的值（可选）\n",
    "- 用处\n",
    "  - 条件筛选：根据条件从数组中筛选元素\n",
    "  - 条件替换：根据条件替换数组中的元素\n",
    "  - 索引获取：获取满足条件的元素的索引位置"
   ]
  },
  {
   "cell_type": "code",
   "execution_count": null,
   "id": "5de99f75",
   "metadata": {},
   "outputs": [
    {
     "name": "stdout",
     "output_type": "stream",
     "text": [
      "[  20.   20.   20.   20.   20.   20. -999.]\n"
     ]
    }
   ],
   "source": [
    "#用法跟条件表达式类似\n",
    "import numpy as np\n",
    "\n",
    "temp_c = np.array([22.3, 19.2, 43, 38, -38, -23.4, -999])\n",
    "\n",
    "#将-999修正为20\n",
    "temp_c_clear = np.where(temp_c == -999, 20, temp_c) #当前面条件为True时返回20， 否则返回temp_c中的值\n",
    "\n",
    "print(temp_c_clear)\n",
    "\n"
   ]
  },
  {
   "cell_type": "code",
   "execution_count": null,
   "id": "333dac8b",
   "metadata": {},
   "outputs": [
    {
     "name": "stdout",
     "output_type": "stream",
     "text": [
      "[[272 224 219]\n",
      " [279  72 163]\n",
      " [119  41 283]]\n",
      "[[20 20 20]\n",
      " [20 20 20]\n",
      " [20 20 20]]\n",
      "[[1 2]\n",
      " [3 4]]\n",
      "[[1 2]\n",
      " [3 4]]\n"
     ]
    }
   ],
   "source": [
    "np.random.seed(20)#生成随机种子，让数据可视化更强\n",
    "arr = np.random.randint(1, 300, size=(3, 3))\n",
    "print(arr)\n",
    "new_arr = np.where(arr > 30, 20, np.where(arr<20, 10, arr))\n",
    "print(new_arr)\n",
    "\n",
    "arr = np.array([1, 2, 3, 4])\n",
    "arr_re = np.where(arr>2) #当为一维元素时返回的是其下表\n",
    "arr_re  #(array([2, 3]),)\n",
    "\n",
    "#当数组是二维时返回两个数组参数分别对应其满足条件的行列索引\n",
    "arr_two = np.array([1, 2, 3, 4]).reshape(2, 2)\n",
    "print(arr_two)\n",
    "\"\"\"\n",
    " [[1 2]\n",
    " [3 4]] \"\"\"\n",
    "arr_re = np.where(arr_two>2)\n",
    "arr_re #(array([1, 1]), array([0, 1]))其对应的=是3， 4的坐标\n",
    "\n",
    "arr_re = np.where((arr_two>1) & (arr_two <4), arr_two, 999)#将不在这个范围内的数替换为999且该符号必须为&或者|\n",
    "\n",
    "print(arr_re)"
   ]
  },
  {
   "cell_type": "markdown",
   "id": "18649461",
   "metadata": {},
   "source": [
    "### numpy中的通用函数\n",
    "- numpy.ufuncs 是 NumPy 中的通用函数（universal functions），用于对数组进行逐元素操作。\n",
    "- 这些函数可以对数组的每个元素应用相同的操作，而无需使用显式的循环，从而提高了代码的效率和可读性。\n",
    "- ufuncs包括\n",
    "    - 算术运算：np.add, np.subtract, np.multiply, np.divide, np.powerf\n",
    "    - 三角函数：np.sin, np.cos, np.tan, np.arcsin, np.arccos, np.arctan\n",
    "    - 指数和对数函数：np.exp, np.log, np.log10, np.log2\n",
    "    - 比较运算：np.equal, np.not_equal, np.greater, np.less, np.greater_equal, np.less_equal\n",
    "    - 逻辑运算：np.logical_and, np.logical_or, np.logical_not\n",
    "    - 聚合函数：np.sum, np.prod, np.mean, np.std, np.var, np.min, np.max\n",
    "    - 其他函数：np.abs, np.sqrt, np.ceil, np.floor, np.round\n",
    "- 其中：\n",
    "    - np.add: 对应元素相加\n",
    "    - np.subtract: 对应元素相减\n",
    "    - np.multiply: 对应元素相乘\n",
    "    - np.divide: 对应元素相除\n",
    "    - np.power: 对应元素求幂\n",
    "    - np.sin: 计算每个元素的正弦值\n",
    "    - np.cos: 计算每个元素的余弦值\n",
    "    - np.tan: 计算每个元素的正切值\n",
    "    - np.exp: 计算每个元素的指数值（e的幂）\n",
    "    - np.log: 计算每个元素的自然对数值\n",
    "    - np.sqrt: 计算每个元素的平方根值\n",
    "    - np.abs: 计算每个元素的绝对值\n",
    "    - np.ceil: 对每个元素向上取整\n",
    "    - np.floor: 对每个元素向下取整\n",
    "    - np.round: 对每个元素进行四舍五入\n",
    "    - np.rint: 对每个元素取整(四舍五入)\n",
    "    - np.modf: 将每个元素分解为整数部分和小数部分\n",
    "    - np.isnan: 检查每个元素是否为NaN（Not a Number）\n",
    "    - np.isinf: 检查每个元素是否为正无穷或负无穷\n",
    "    - np.isfinite: 检查每个元素是否为有限数值（非NaN且非无穷）\n",
    "    - np.sign: 返回每个元素的符号（正数为1，负数为-1，零为0）\n",
    "    - np.clip: 将数组中的元素限制在指定的范围内\n",
    "    - sinh, cosh, tanh: 计算每个元素的双曲正弦、双曲余弦和双曲正切值\n",
    "    - arcsinh, arccosh, arctanh: 计算每个元素的反双曲正弦、反双曲余弦和反双曲正切值\n",
    "    - np.diff: 计算数组中相邻元素的差值\n",
    "    - np.cumsum: 计算数组中元素的累积和\n",
    "    - np.cumprod: 计算数组中元素的累积积\n",
    "    - np.logical_and: 对应元素进行逻辑与运算\n",
    "    - np.logical_or: 对应元素进行逻辑或运算\n",
    "    - np.logical_not: 对应元素进行逻辑非运算\n",
    "    - np.equal: 对应元素进行相等比较\n",
    "    - np.not_equal: 对应元素进行不相等比较\n",
    "    - np.greater: 对应元素进行大于比较\n",
    "    - np.less: 对应元素进行小于比较\n",
    "    - np.greater_equal: 对应元素进行大于等于比较\n",
    "    - np.less_equal: 对应元素进行小于等于比较\n",
    "    - np.maximum: 返回对应元素中的最大值\n",
    "    - np.std(): 计算数组中元素的标准差\n",
    "    - np.var(): 计算数组中元素的方差\n",
    "    - np.min(): 计算数组中元素的最小值\n",
    "### 二元函数\n",
    "- 二元函数是指接受两个输入参数并返回一个输出结果的函数\n",
    "- 例如，np.add(x, y) 是一个二元函数，它接受两个数组作为输入，并返回一个新的数组，其中每个元素是对应输入数组元素的和\n",
    "- 二元函数包括:\n",
    "    - np.add: 对应元素相加\n",
    "    - np.subtract: 对应元素相减\n",
    "    - np.multiply: 对应元素相乘\n",
    "    - np.divide: 对应元素相除\n",
    "    - np.power: 对应元素求幂\n",
    "    - np.logical_and: 对应元素进行逻辑与运算\n",
    "    - np.logical_or: 对应元素进行逻辑或运算\n",
    "    - np.logical_xor: 对应元素进行逻辑异或运算\n",
    "    - np.maximum: 返回对应元素中的最大值\n",
    "    - np.minimum: 返回对应元素中的最小值\n",
    "    - np.mod: 计算对应元素的模（取余）值\n",
    "    - np.copysign: 将第二个数组的符号赋给第一个数组的对应元素\n",
    "    - np.hypot: 计算对应元素的平方和的平方根（即欧几里得距离）\n",
    "    - np.arctan2: 计算对应元素的反正切值，考虑象限信息\n",
    "    - np.floor_divide: 对应元素进行向下取整的整数除法\n",
    "    - greater, less, equal, not_equal, greater_equal, less_equal: 对应元素进行比较运算分别对应大于、小于、等于、不等于、大于等于、小于等于\n",
    "\n"
   ]
  },
  {
   "cell_type": "markdown",
   "id": "997401dd",
   "metadata": {},
   "source": [
    "### np.random.rand()和np.random.random()区别\n",
    "- np.random.rand(): 生成均匀分布的随机数，参数为数组的形状，返回值范围在[0.0, 1.0)之间\n",
    "- np.random.random(): 生成均匀分布的随机数，参数为数组的形状，返回值范围在[0.0, 1.0)之间\n",
    "- 两者的主要区别在于参数的传递方式\n",
    "  - np.random.rand() 需要将形状参数作为单独的参数传递，例如 np.random.rand(3, 4) 会生成一个形状为 (3, 4) 的数组\n",
    "  - np.random.random() 则需要将形状参数作为一个元组传递，例如 np.random.random((3, 4)) 会生成一个形状为 (3, 4) 的数组"
   ]
  },
  {
   "cell_type": "markdown",
   "id": "34f3bbe5",
   "metadata": {},
   "source": [
    "### np.fabs()和np.abs()区别\n",
    "- np.fabs(): 计算数组中每个元素的绝对值，返回一个新的数组，结果类型为浮点数\n",
    "- np.abs(): 计算数组中每个元素的绝对值，返回一个新的数组，结果类型与输入数组相同"
   ]
  },
  {
   "cell_type": "code",
   "execution_count": null,
   "id": "d8af152a",
   "metadata": {},
   "outputs": [
    {
     "data": {
      "text/plain": [
       "array([ True,  True, False, False])"
      ]
     },
     "execution_count": 41,
     "metadata": {},
     "output_type": "execute_result"
    }
   ],
   "source": [
    "import numpy as np\n",
    "np.random.seed(10)\n",
    "arr_int = np.random.randint(0, 4, size=(2, 2))\n",
    "arr_float = np.array([1.3, 1.8, -5.5, 4.0, -10.4])\n",
    "arr_bool = np.array([np.nan, np.nan, 8.0, -10.7])\n",
    "np.fabs(arr_float) #返回的是浮点数\n",
    "np.abs(arr_float) #返回的是原类型的绝对值\n",
    "np.ceil(arr_float) #返回向上取整array([  2.,   2.,  -5.,   4., -10.])\n",
    "np.rint(arr_float) #四舍五入 array([  1.,   2.,  -6.,   4., -10.])\n",
    "np.isnan(arr_bool) #是nan返回True否则返回False\n"
   ]
  },
  {
   "cell_type": "markdown",
   "id": "2e72a26f",
   "metadata": {},
   "source": [
    "### 数组重塑和转置操作\n",
    "数组的重塑和转置是Numpy中常用的操作，用于改变数组的形状和维度顺序，一般在处理多维数据时使用，也就是说**新形状行数和列数必须与原形状的元素总数相同**\n",
    "- 重塑（Reshape）: 使用reshape()方法可以改变数组的形状，但不改变数据内容\n",
    "- 转置（Transpose）: 使用T属性或transpose()方法可以交换数组的维度顺序\n",
    "### np.reshape()和np.resize()区别\n",
    "- np.reshape(): 用于改变数组的形状，但不改变数据内容，返回一个新的数组视图，如果新形状与原形状不兼容会报错\n",
    "- np.resize(): 用于改变数组的形状，如果新形状大于原形状，则重复填充原数组的元素，返回一个新的数组\n",
    " - reshape不会修改原数组，resize会修改原数组\n",
    " - resize的**填充规则**是从头开始重复填充原数组的元素，直到达到新形状所需的元素数量,然后循环遍历数组中的元素进行填充\n",
    "\n",
    "\n",
    "|序号|方法|描述|\n",
    "|---|---|---|\n",
    "|1 |np.reshape() |用于改变数组的形状，但不改变数据内容，返回一个新的数组视图，如果新形状与原形状不兼容会报错|\n",
    "|2 |np.resize() |用于改变数组的形状，如果新形状大于原形状，则重复填充原数组的元素，返回一个新的数组|\n",
    "|3 |np.ravel() |将多维数组展平为一维数组，返回一个新的视图, **其与原数组arr共用一个内存地址**|\n",
    "|4 |flatten() |将多维数组展平为一维数组，返回一个新的数组副本, **对原数组无影响**,有时候会存在内存爆炸情况，对超大数组会出现内存溢出|\n",
    "\n",
    "\n",
    "np.ravel(arr, order='C')其中arr为输入数组，order参数指定展平的顺序，'C'表示按行优先（C风格），'F'表示按列优先（Fortran风格），'K'表示按元素在内存中的顺序，' A'表示按列优先（Fortran风格）如果数组是Fortran连续的，否则按行优先（C风格）\n",
    "\n",
    "flatten(a, order='C')其中a为输入数组，order参数指定展平的顺序，'C'表示按行优先（C风格），'F'表示按列优先（Fortran风格），'K'表示按元素在内存中的顺序, ' A'表示按列优先（Fortran风格）如果数组是Fortran连续的，否则按行优先（C风格）返回一维数组原数组不变"
   ]
  },
  {
   "cell_type": "code",
   "execution_count": null,
   "id": "4cf35112",
   "metadata": {},
   "outputs": [
    {
     "name": "stdout",
     "output_type": "stream",
     "text": [
      "[[1 2]\n",
      " [3 4]]\n",
      "[[1 2 3]\n",
      " [4 1 2]\n",
      " [3 4 1]]\n",
      "[[[ 1  3  5]]\n",
      "\n",
      " [[ 7  9 11]]]\n",
      "[ 1  3  5  7  9 11]\n",
      "[ 1  3  5  7  9 11]\n",
      "[ 1  3  5  7  9 11]\n"
     ]
    }
   ],
   "source": [
    "import numpy as np\n",
    "arr = np.array([1, 2, 3, 4])\n",
    "print(arr.reshape(2, 2))\n",
    "\"\"\" [[1 2]\n",
    " [3 4]] \"\"\"\n",
    "arr_resize = np.resize(arr, (3, 3))\n",
    "print(arr_resize)\n",
    "\n",
    "\"\"\" [[1 2 3]\n",
    " [4 1 2]\n",
    " [3 4 1]] \"\"\"\n",
    "arr = np.arange(1, 12, 2)\n",
    "arr_reshape = arr.reshape(2, 1, 3)\n",
    "print(arr_reshape)\n",
    "\"\"\" \n",
    "array([[[ 1,  3,  5]],\n",
    "\n",
    "       [[ 7,  9, 11]]]) \n",
    "       \"\"\"\n",
    "arr_rav = arr_reshape.ravel()\n",
    "print(arr_rav) #[ 1  3  5  7  9 11]\n",
    "arr_rav2 = np.ravel(arr, order=\"c\") #按行优先展开\n",
    "print(arr_rav2) # array([ 1,  3,  5,  7,  9, 11])\n",
    "arr_F = np.ravel(arr, order=\"F\")\n",
    "print(arr_F) #[ 1  3  5  7  9 11] 在多维数组中效果明显"
   ]
  },
  {
   "cell_type": "code",
   "execution_count": null,
   "id": "ca5b85d0",
   "metadata": {},
   "outputs": [
    {
     "data": {
      "text/plain": [
       "array([1, 2, 3, 4])"
      ]
     },
     "execution_count": 17,
     "metadata": {},
     "output_type": "execute_result"
    }
   ],
   "source": [
    "arr = np.array([1, 2, 3, 4])\n",
    "arr_resize = np.resize(arr, (2, 3))\n",
    "arr_resize\n",
    "\"\"\" array([[1, 2, 3],\n",
    "       [4, 1, 2]]) 将原数组中元素遍历进行填充 \"\"\"\n",
    "\n",
    "arr_flatten = arr.flatten()\n",
    "arr_flatten\n",
    "\"\"\"array([1, 2, 3, 4])  \"\"\""
   ]
  },
  {
   "cell_type": "code",
   "execution_count": null,
   "id": "366ef7c7",
   "metadata": {},
   "outputs": [
    {
     "data": {
      "image/png": "[encoded data removed]",
      "text/plain": [
       "<Figure size 640x480 with 1 Axes>"
      ]
     },
     "metadata": {},
     "output_type": "display_data"
    },
    {
     "name": "stdout",
     "output_type": "stream",
     "text": [
      "(3, 4)\n"
     ]
    }
   ],
   "source": [
    "import matplotlib.pyplot as plt\n",
    "\n",
    "arr = np.random.rand(3, 4)\n",
    "arr_rav = np.ravel(arr, order=\"c\")\n",
    "plt.plot(arr_rav)\n",
    "\n",
    "plt.show()\n",
    "print(f\"{arr.shape}\")"
   ]
  },
  {
   "cell_type": "code",
   "execution_count": null,
   "id": "5ccfc350",
   "metadata": {},
   "outputs": [
    {
     "name": "stdout",
     "output_type": "stream",
     "text": [
      "[[0. 0. 0. ... 0. 0. 0.]\n",
      " [0. 0. 0. ... 0. 0. 0.]\n",
      " [0. 0. 0. ... 0. 0. 0.]\n",
      " ...\n",
      " [0. 0. 0. ... 0. 0. 0.]\n",
      " [0. 0. 0. ... 0. 0. 0.]\n",
      " [0. 0. 0. ... 0. 0. 0.]]\n",
      "[1. 1. 1. ... 1. 1. 1.]\n",
      "[[1. 1. 1. ... 1. 1. 1.]\n",
      " [1. 1. 1. ... 1. 1. 1.]\n",
      " [1. 1. 1. ... 1. 1. 1.]\n",
      " ...\n",
      " [1. 1. 1. ... 1. 1. 1.]\n",
      " [1. 1. 1. ... 1. 1. 1.]\n",
      " [1. 1. 1. ... 1. 1. 1.]]\n"
     ]
    }
   ],
   "source": [
    "# 能直接修改原来元素可见ravel方法与原数组共享一个地址空间\n",
    "import numpy as np\n",
    "large_arr = np.zeros((100, 100))\n",
    "print(large_arr)\n",
    "large = np.ravel(large_arr)\n",
    "large[:] = 1\n",
    "# print(large)\n",
    "print(large_arr)"
   ]
  },
  {
   "cell_type": "code",
   "execution_count": null,
   "id": "54be1e51",
   "metadata": {},
   "outputs": [
    {
     "data": {
      "text/plain": [
       "array([[0., 0.],\n",
       "       [0., 0.]])"
      ]
     },
     "execution_count": 33,
     "metadata": {},
     "output_type": "execute_result"
    }
   ],
   "source": [
    "#由此可见flatten与原数组不共享内存\n",
    "import numpy as np\n",
    "\n",
    "arr_zero = np.zeros((2, 2))\n",
    "arr_flatten = arr_zero.flatten()\n",
    "arr_flatten[:] = 1\n",
    "arr_flatten #array([1., 1., 1., 1.])\n",
    "arr_zero\n",
    "\"\"\" array([[0., 0.],\n",
    "       [0., 0.]]) \"\"\""
   ]
  },
  {
   "cell_type": "markdown",
   "id": "4425c3b3",
   "metadata": {},
   "source": [
    "### 连续数组和非连续数组\n",
    "可通过arr.flags['CONTIGUOUS']查看连续性，可分为['C_CONTIGUOUS', 'F_CONTIGUOUS']\n",
    "- 连续数组：在内存中连续存储的数组，访问速度快，适合进行数值计算和矩阵运算\n",
    "- 特点：\n",
    "     1. 高效切片和迭代：连续数组在进行切片和迭代操作时，由于内存地址是连续的，访问速度更快\n",
    "     2. 兼容性：与许多科学计算库（如SciPy、Pandas）兼容性更好\n",
    "     3. 内存占用：连续数组由于在内存中连续存储，通常占用更少的内存空间，因为没有额外的指针或引用来连接元素\n",
    "     4. CPU缓存友好：连续数组由于在内存中连续存储，更容易利用CPU缓存，提高访问速度\n",
    "- 非连续数组：在内存中不连续存储的数组，访问速度相对较慢，适合存储和操作异构数据\n",
    "- 特点：\n",
    "     1. 灵活性：非连续数组可以包含不同类型的元素，适合存储和操作异构数据\n",
    "     2. 内存碎片化：由于非连续数组在内存中不连续存储，可能会导致内存碎片化，影响性能\n",
    "     3. 切片和迭代效率较低：非连续数组在进行切片和迭代操作时，由于内存地址不连续，访问速度相对较慢\n",
    "     4. CPU缓存不友好：非连续数组由于在内存中不连续存储，较难利用CPU缓存，可能导致访问速度较慢\n",
    "- 连续数组通常使用Numpy库来创建和操作，非连续数组可以使用Python内置的列表或Pandas库来创建和操作\n",
    "\n",
    "### 内存重新排序\n",
    "可将非连续数组转换为连续数组\n",
    "- np.ascontiguousarray(): 将数组转换为C风格的连续数组\n",
    "- np.asfortranarray(): 将数组转换为Fortran风格的连续数组\n",
    "- np.copy(): 创建数组的副本，返回一个新的数组\n",
    "\n"
   ]
  },
  {
   "cell_type": "code",
   "execution_count": null,
   "id": "39c6af36",
   "metadata": {},
   "outputs": [
    {
     "name": "stdout",
     "output_type": "stream",
     "text": [
      "arr_re是否连续按行True\n",
      "arr_re是否连续按列False\n",
      "[[1 3]\n",
      " [4 6]]\n",
      "arr_re是否连续按行False\n",
      "arr_re是否连续按列False\n",
      "arr_re是否连续按行False\n",
      "arr_re是否连续按列False\n",
      "arr_re是否连续按行True\n",
      "arr_re是否连续按列False\n"
     ]
    }
   ],
   "source": [
    "import numpy as np\n",
    "\n",
    "arr = np.array([1, 2, 3, 4, 5, 6])\n",
    "arr_re = arr.reshape(2, 3)\n",
    "print(f\"arr_re是否连续按行{arr_re.flags['C_CONTIGUOUS']}\") #arr_re是否连续按行True\n",
    "\n",
    "print(f\"arr_re是否连续按列{arr_re.flags['F_CONTIGUOUS']}\") #arr_re是否连续按列False\n",
    "\n",
    "arr_split = arr_re[:, ::2]\n",
    "print(arr_split)\n",
    "\"\"\" [[1 3]\n",
    " [4 6]] \"\"\"\n",
    "print(f\"arr_re是否连续按行{arr_split.flags['C_CONTIGUOUS']}\") #arr_re是否连续按行False\n",
    "\n",
    "print(f\"arr_re是否连续按列{arr_split.flags['F_CONTIGUOUS']}\") #arr_re是否连续按列False\n",
    "\n",
    "arr_split_T = arr_split.T\n",
    "print(f\"arr_re是否连续按行{arr_split_T.flags['C_CONTIGUOUS']}\") #arr_re是否连续按行False\n",
    "\n",
    "print(f\"arr_re是否连续按列{arr_split_T.flags['F_CONTIGUOUS']}\") #arr_re是否连续按列False\n",
    "\n",
    "# 内存重新排列\n",
    "contiguous_arr = np.ascontiguousarray(arr_split_T) \n",
    "# 或者用contiguous_arr = arr_split_T.copy() \n",
    "print(f\"arr_re是否连续按行{contiguous_arr.flags['C_CONTIGUOUS']}\") #arr_re是否连续按行True\n",
    "\n",
    "print(f\"arr_re是否连续按列{contiguous_arr.flags['F_CONTIGUOUS']}\") #arr_re是否连续按列False"
   ]
  },
  {
   "cell_type": "markdown",
   "id": "8467e06a",
   "metadata": {},
   "source": [
    "### np.squeeze()和np.expand_dims()区别\n",
    "- np.squeeze(a, axis=(0,1)): 用于删除数组中维度为1的轴，返回一个新的数组,a为输入数组,axis指定要删除的轴，默认为None，表示删除所有维度为1的轴, ()可同时去除多个维度\n",
    "- np.expand_dims(): 用于在指定位置插入一个新的轴，返回一个新的数组\n",
    "\n",
    "### np.squeeze()和np.reshape()区别\n",
    "| 特性       | np.squeeze()          | np.reshape()          |\n",
    "|----------|------------------|------------------|\n",
    "| 目的       | 删除维度为1的轴       | 改变数组的形状       |\n",
    "| 语法       | np.squeeze(a, axis=None) | np.reshape(a, newshape) |\n",
    "| 参数       | a: 输入数组    axis: 要删除的轴，默认为None     | a: 输入数组      newshape: 新的形状，可以是整数或元组     |\n",
    "| 返回类型     | 新的数组           | 新的数组           |  \n",
    "| 维度变化     | 只删除维度为1的轴     | 可以增加或减少维度     |\n",
    "|与原始数组的关系| 返回原数组的视图, 不改变数组内容       | 返回原数组的视图或副本， 可能改变内存布局，如reshape(-1, 3)自动计算第一维大小  |"
   ]
  },
  {
   "cell_type": "code",
   "execution_count": 16,
   "id": "233e9fe2",
   "metadata": {},
   "outputs": [
    {
     "name": "stdout",
     "output_type": "stream",
     "text": [
      "[1 3 4]\n"
     ]
    }
   ],
   "source": [
    "import numpy as np\n",
    "\n",
    "arr = np.array([[1], [3], [4]])\n",
    "\n",
    "squeeze = np.squeeze(arr, axis=1)\n",
    "\n",
    "print(squeeze)"
   ]
  },
  {
   "cell_type": "code",
   "execution_count": null,
   "id": "3bc6ddc9",
   "metadata": {},
   "outputs": [
    {
     "name": "stdout",
     "output_type": "stream",
     "text": [
      "()\n",
      "(1, 1)\n",
      "43\n"
     ]
    }
   ],
   "source": [
    "#简化单元素数组\n",
    "arr = np.array([[43]])\n",
    "squeeze = np.squeeze(arr)\n",
    "\n",
    "print(squeeze.shape) #()\n",
    "print(arr.shape) #(1, 1)\n",
    "print(squeeze.item()) #43\n"
   ]
  },
  {
   "cell_type": "code",
   "execution_count": null,
   "id": "34b19177",
   "metadata": {},
   "outputs": [
    {
     "name": "stdout",
     "output_type": "stream",
     "text": [
      "(1, 2, 3, 1)\n",
      "(2, 3)\n",
      "[[0 1 2]\n",
      " [3 4 5]]\n"
     ]
    }
   ],
   "source": [
    "arr = np.arange(6).reshape(1, 2, 3, 1)\n",
    "print(arr.shape) #(1, 2, 3, 1)\n",
    "arr_sq = np.squeeze(arr)\n",
    "print(arr_sq.shape) #(2, 3)删除了所有为一的维度\n",
    "print(arr_sq)\n",
    "\"\"\" [[0 1 2]\n",
    " [3 4 5]] \"\"\""
   ]
  },
  {
   "cell_type": "markdown",
   "id": "104fe81b",
   "metadata": {},
   "source": [
    "### 数组的转置\n",
    "数组的转置是指交换数组的维度顺序，对于二维数组将行变为列，列变为行，对于多维数组则是交换各个维度的位置, transpose()转置后的数可以通过该数在数组中的索引, 比如三维数组的一个元素的位置为(3, 4, 5)当转置后变为(4, 3, 5)则运用的是transpose((1, 0, 2))默认为(0, 1, 2),其中数字代表着维度的索引位置\n",
    "- 对于二维数组，转置操作可以使用.T属性或transpose()方法\n",
    "- 对于多维数组，转置操作可以使用transpose()方法，并指定新的维度顺序\n",
    "transpose()方法可以接受一个元组作为参数，指定新的维度顺序，例如对于一个形状为(2, 3, 4)的数组，调用transpose((1, 0, 2))会将其转置为形状为(3, 2, 4)的数组, 其中数字代表着维度的索引位置\n"
   ]
  },
  {
   "cell_type": "code",
   "execution_count": null,
   "id": "5326cc34",
   "metadata": {},
   "outputs": [
    {
     "name": "stdout",
     "output_type": "stream",
     "text": [
      "[[ 0  1  2  3]\n",
      " [ 4  5  6  7]\n",
      " [ 8  9 10 11]] \n",
      " (3, 4)\n",
      "[[ 0  4  8]\n",
      " [ 1  5  9]\n",
      " [ 2  6 10]\n",
      " [ 3  7 11]] \n",
      " (3, 4)\n",
      "[[ 0  4  8]\n",
      " [ 1  5  9]\n",
      " [ 2  6 10]\n",
      " [ 3  7 11]] \n",
      " (4, 3)\n"
     ]
    }
   ],
   "source": [
    "arr = np.arange(12).reshape(3, 4)\n",
    "print(arr,\"\\n\", arr.shape)\n",
    "\"\"\" \n",
    "[[ 0  1  2  3]\n",
    " [ 4  5  6  7]\n",
    " [ 8  9 10 11]] \n",
    " (3, 4) \"\"\"\n",
    "print(arr.T,\"\\n\", arr.shape)\n",
    "\n",
    "arr_tran = arr.transpose((1, 0)) #将轴0和1互换\n",
    "print(arr_tran, \"\\n\", arr_tran.shape)"
   ]
  },
  {
   "cell_type": "code",
   "execution_count": 41,
   "id": "642503ad",
   "metadata": {},
   "outputs": [
    {
     "name": "stdout",
     "output_type": "stream",
     "text": [
      "[[[0 1]\n",
      "  [2 3]]\n",
      "\n",
      " [[4 5]\n",
      "  [6 7]]]\n",
      "[[[0 1]\n",
      "  [4 5]]\n",
      "\n",
      " [[2 3]\n",
      "  [6 7]]]\n",
      "[[[0 4]\n",
      "  [2 6]]\n",
      "\n",
      " [[1 5]\n",
      "  [3 7]]]\n"
     ]
    }
   ],
   "source": [
    "arr = np.arange(8).reshape(2, 2, 2)\n",
    "print(arr)\n",
    "print(arr.transpose(1, 0, 2))\n",
    "print(arr.transpose())"
   ]
  },
  {
   "cell_type": "markdown",
   "id": "203fb870",
   "metadata": {},
   "source": [
    "### 条件逻辑\n",
    "在Numpy中，可以使用多种函数和方法来实现条件逻辑操作，以下是一些常用的函数和方法：\n",
    "- np.where(): 根据条件从数组中选择元素，返回满足条件的元素的索引或值，跟if-else类似x = np.where(condition, x, y)\n",
    "- np.select(): 根据多个条件从数组中选择元素，返回满足条件的元素的值\n",
    "- np.clip(): 将数组中的元素限制在指定的范围内\n",
    "- np.nonzero(): 返回数组中非零元素的索引\n",
    "- np.extract(): 根据条件从数组中提取元素，返回满足条件的元素的值\n",
    "- np.logical_and(): 对应元素进行逻辑与运算"
   ]
  },
  {
   "cell_type": "code",
   "execution_count": null,
   "id": "f6a995b2",
   "metadata": {},
   "outputs": [
    {
     "data": {
      "text/plain": [
       "array([1, 2, 6, 7])"
      ]
     },
     "execution_count": 42,
     "metadata": {},
     "output_type": "execute_result"
    }
   ],
   "source": [
    "arr_x = np.array([1, 2, 3, 4])\n",
    "arr_y = np.array([4, 5, 6, 7])\n",
    "arr_con = np.array([True, True, False, False])\n",
    "\n",
    "result = np.where(arr_con, arr_x, arr_y) #跟条件语句一样，True则选择第一否则选择第二个\n",
    "\n",
    "result"
   ]
  },
  {
   "cell_type": "markdown",
   "id": "674a6f1c",
   "metadata": {},
   "source": [
    "\n",
    "arr.argsort(): 返回数组元素排序后的索引\n",
    "arr.argmax(): 返回数组中最大值的索引\n",
    "arr.argmin(): 返回数组中最小值的索引\n",
    "arr.cumsum(): 计算数组中元素的累积和, 前n个元素的和\n",
    "arr.cumprod(): 计算数组中元素的累积积\n",
    "np.sort(arr, axis): 对数组进行排序，默认按行排序,什么不传入返回None, kind='quicksort'快速排序, 'mergesort'归并排序, 'heapsort'堆排序, 'stable'稳定排序\n",
    "np.argsort(arr, axis): 返回数组元素排序后的索引\n",
    "np.partition(arr, kth, axis): 对数组进行部分排序，返回第k个最小元素及其左侧的元素\n",
    "np.argpartition(arr, kth, axis): 返回数组部分排序后的索引\n",
    "np.all(): 检查数组中所有元素是否满足条件\n",
    "np.any(): 检查数组中是否有任意元素满足条件"
   ]
  },
  {
   "cell_type": "code",
   "execution_count": null,
   "id": "29bc28f1",
   "metadata": {},
   "outputs": [
    {
     "name": "stdout",
     "output_type": "stream",
     "text": [
      "[ 0  1  3  6 10 15 21 28 36 45]\n"
     ]
    },
    {
     "data": {
      "text/plain": [
       "array([0, 0, 0, 0, 0, 0, 0, 0, 0, 0])"
      ]
     },
     "execution_count": 46,
     "metadata": {},
     "output_type": "execute_result"
    }
   ],
   "source": [
    "arr = np.arange(10)\n",
    "print(arr.cumsum())\n",
    "arr.cumprod()\n",
    "\n"
   ]
  },
  {
   "cell_type": "code",
   "execution_count": null,
   "id": "626e486a",
   "metadata": {},
   "outputs": [
    {
     "data": {
      "text/plain": [
       "array([1, 2, 3, 4])"
      ]
     },
     "execution_count": 49,
     "metadata": {},
     "output_type": "execute_result"
    }
   ],
   "source": [
    "arr = np.array([1, 3, 4, 2])\n",
    "np.sort(arr)"
   ]
  },
  {
   "cell_type": "code",
   "execution_count": null,
   "id": "a96d9393",
   "metadata": {},
   "outputs": [
    {
     "name": "stdout",
     "output_type": "stream",
     "text": [
      "[[1 3]\n",
      " [4 2]]\n",
      "[[1 2]\n",
      " [4 3]]\n",
      "[[1 3]\n",
      " [2 4]]\n"
     ]
    }
   ],
   "source": [
    "arr = np.array([1, 3, 4, 2])\n",
    "arr_r = arr.reshape(2, 2)\n",
    "print(arr_r)\n",
    "print(np.sort(arr_r, axis=0)) #在列方向进行排序\n",
    "print(np.sort(arr_r, axis=1))"
   ]
  },
  {
   "cell_type": "code",
   "execution_count": 66,
   "id": "da2f8c88",
   "metadata": {},
   "outputs": [
    {
     "name": "stdout",
     "output_type": "stream",
     "text": [
      "[(b'xiaoming', 20) (b'yangcheng', 24)]\n"
     ]
    }
   ],
   "source": [
    "dtype_result = [(\"name\",\"S10\"), (\"age\", int)]\n",
    "data = np.array([(\"yangcheng\", 24), (\"xiaoming\", 20)], dtype=dtype_result)\n",
    "sorted_data = np.sort(data, order=\"age\")\n",
    "print(sorted_data)\n"
   ]
  },
  {
   "cell_type": "code",
   "execution_count": 63,
   "id": "2854f266",
   "metadata": {},
   "outputs": [
    {
     "name": "stdout",
     "output_type": "stream",
     "text": [
      "[0 1 3 2]\n"
     ]
    }
   ],
   "source": [
    "arr = np.array([1, 2, 4, 3])\n",
    "print(np.argsort(arr))"
   ]
  },
  {
   "cell_type": "code",
   "execution_count": 9,
   "id": "e121ca53",
   "metadata": {},
   "outputs": [
    {
     "data": {
      "text/plain": [
       "array([(1, '小明'), (2, '小将'), (3, '小刘')],\n",
       "      dtype=[('x', '<i8'), ('y', '<U2')])"
      ]
     },
     "execution_count": 9,
     "metadata": {},
     "output_type": "execute_result"
    }
   ],
   "source": [
    "arr = np.array([(1, \"小明\"), (3, \"小刘\"), (2, \"小将\")], dtype=[(\"x\", int), (\"y\", 'U2')])\n",
    "arr_sort = np.sort(arr, order=\"x\")\n",
    "arr_sort"
   ]
  },
  {
   "cell_type": "markdown",
   "id": "33b633ae",
   "metadata": {},
   "source": [
    "扁平化排序\n",
    "先将多维数组展平为一维数组，然后对展平后的数组进行排序\n",
    "- arr.flatten().sort()：将多维数组展平为一维数组，并对展平后的数组进行排序，返回一个新的排序后的数组副本\n",
    "- np.sort(arr.flatten())：将多维数组展平为一维数组，并对展平后的数组进行排序，返回一个新的排序后的数组副本\n"
   ]
  },
  {
   "cell_type": "code",
   "execution_count": 62,
   "id": "fa081e91",
   "metadata": {},
   "outputs": [
    {
     "data": {
      "text/plain": [
       "array([[1],\n",
       "       [2],\n",
       "       [3],\n",
       "       [4]])"
      ]
     },
     "execution_count": 62,
     "metadata": {},
     "output_type": "execute_result"
    }
   ],
   "source": [
    "import numpy as np\n",
    "arr = np.array([[1], [3], [4], [2]])\n",
    "\n",
    "arr_f = arr.flatten()\n",
    "np.sort(arr_f).reshape(arr.shape)\n"
   ]
  },
  {
   "cell_type": "markdown",
   "id": "69afb5d1",
   "metadata": {},
   "source": [
    "### 查找数组唯一元素\n",
    "- np.unique(): 用于查找数组中的唯一元素，返回一个排序后的唯一元素数组\n",
    "- np.unique(arr, return_index=False, return_inverse=False, return_counts=False, axis=None)\n",
    "  - arr: 输入数组\n",
    "  - return_index: 如果为True，返回唯一元素在原数组中的索引\n",
    "  - return_inverse: 如果为True，返回原数组中每个元素对应的唯一元素的索引, 可以用于数组重构\n",
    "  - return_counts: 如果为True，返回每个唯一元素在原数组中出现的次数\n",
    "  - axis: 指定沿哪个轴查找唯一元素，默认为None，表示查找整个数组的唯一元素\n",
    "  - equal_nan: 如果为True，则将NaN视为相等的唯一值, **默认情况下为True**"
   ]
  },
  {
   "cell_type": "code",
   "execution_count": 20,
   "id": "3cb8f570",
   "metadata": {},
   "outputs": [
    {
     "name": "stdout",
     "output_type": "stream",
     "text": [
      "[1 2 3]\n",
      "[0 1 2]\n",
      "[0 1 2 2 0]\n",
      "count为：[2 1 2]\n",
      "[1 2 3 3 1]\n"
     ]
    },
    {
     "data": {
      "text/plain": [
       "array([ 1.,  2., nan, nan])"
      ]
     },
     "execution_count": 20,
     "metadata": {},
     "output_type": "execute_result"
    }
   ],
   "source": [
    "import numpy as np\n",
    "arr = np.array([1, 2, 3, 3, 1])\n",
    "arr_unique, indexs, inverse, count = np.unique(arr, return_index=True, return_inverse=True, return_counts=True)\n",
    "print(arr_unique) #[1 2 3]\n",
    "print(indexs) #[0 1 2]可设置返回索引返回唯一值在数组中的索引\n",
    "print(inverse) #[0 1 2 2 0]\n",
    "print(f\"count为：{count}\") #[2 1 2]前面的分别为其出现的次数\n",
    "#元组重构 \n",
    "reconstruct = arr_unique[inverse]\n",
    "print(reconstruct) #[1 2 3 3 1]\n",
    "\n",
    "arr = np.array([1, 2, np.nan, np.nan])\n",
    "arr_un = np.unique(arr)\n",
    "arr_un #默认情况下是去重的array([ 1.,  2., nan])\n",
    "arr_un_1 = np.unique(arr, equal_nan=False)\n",
    "arr_un_1 # array([ 1.,  2., nan, nan])"
   ]
  },
  {
   "cell_type": "markdown",
   "id": "7b83351b",
   "metadata": {},
   "source": [
    "### numpy中判断元素是否在数组中\n",
    "- np.in1d(): 用于判断一个数组中的元素是否在另一个数组中，返回一个布尔数组， 布尔数组的长度与第一个数组相同, <font color=\"red\">**该方法已经被弃用**</font>\n",
    "- np.isin(): 用于判断一个数组中的元素是否在另一个数组中，返回一个布尔数组,功能更强大\n",
    "- np.isin(element, test_elements, assume_unique=False, invert=False)\n",
    "  - element: 输入数组\n",
    "  - test_elements: 用于测试的数组\n",
    "  - assume_unique: 如果为True，假设输入数组和测试数组中的元素都是唯一的，可以提高性能\n",
    "  - invert: 如果为True，返回元素不在测试数组中的布尔值"
   ]
  },
  {
   "cell_type": "code",
   "execution_count": 30,
   "id": "1f39cd08",
   "metadata": {},
   "outputs": [
    {
     "name": "stdout",
     "output_type": "stream",
     "text": [
      "[4 3 4 4 1]\n",
      "[3 2 1 4 3]\n"
     ]
    },
    {
     "data": {
      "text/plain": [
       "array([ True, False,  True,  True,  True])"
      ]
     },
     "execution_count": 30,
     "metadata": {},
     "output_type": "execute_result"
    }
   ],
   "source": [
    "import numpy as np\n",
    "np.random.seed(20)\n",
    "arr = np.random.randint(1, 5, size=5)\n",
    "arr_test = np.random.randint(1, 5, size=5)\n",
    "print(arr)\n",
    "print(arr_test)\n",
    "np.isin(arr_test, arr)"
   ]
  },
  {
   "cell_type": "markdown",
   "id": "6c8c8e96",
   "metadata": {},
   "source": [
    "### 线性代数模块\n",
    "- numpy.linalg 模块提供了丰富的线性代数函数，用于矩阵运算、特征值分解、奇异值分解等\n",
    "- 常用函数包括：\n",
    "    - np.dot(): 用于计算两个数组的点积，适用于向量和矩阵的乘法运算\n",
    "    - np.matmul(): 用于计算两个数组的矩阵乘法，支持广播\n",
    "    - np.linalg.inv(): 用于计算矩阵的逆矩阵\n",
    "    - np.linalg.diag(): 用于创建对角矩阵或提取矩阵的对角线元素\n",
    "    - np.linalg.trace(): 用于计算方阵的迹（对角线元素之和）\n",
    "    - np.linalg.lstsq(): 用于计算线性最小二乘解\n",
    "    - np.linalg.det(): 用于计算矩阵的行列式\n",
    "    - np.linalg.eig(): 用于计算方阵的特征值和特征向量\n",
    "    - np.linalg.svd(): 用于计算矩阵的奇异值分解\n",
    "    - np.linalg.norm(): 用于计算向量或矩阵的范数\n",
    "    - np.linalg.solve(): 用于解线性方程组\n",
    "    - np.trace(): 用于计算方阵的迹（对角线元素之和）\n",
    "    - np.linalg.pinv(): 用于计算矩阵的伪逆\n",
    "    - np.linalg.cholesky(): 用于计算正定矩阵的Cholesky分解\n",
    "    - np.linalg.qr(): 用于计算矩阵的QR分解\n",
    "\n",
    "    "
   ]
  },
  {
   "cell_type": "code",
   "execution_count": 34,
   "id": "37bda335",
   "metadata": {},
   "outputs": [
    {
     "data": {
      "text/plain": [
       "array([[ 56,  29],\n",
       "       [195,  89]], dtype=int32)"
      ]
     },
     "execution_count": 34,
     "metadata": {},
     "output_type": "execute_result"
    }
   ],
   "source": [
    "import numpy as np\n",
    "np.random.seed(10)\n",
    "arr_x = np.random.randint(1, 10, size=(2, 5))\n",
    "arr_y = np.random.randint(1, 10, size=(5, 2))\n",
    "np.dot(arr_x, arr_y)"
   ]
  },
  {
   "cell_type": "code",
   "execution_count": 38,
   "id": "cbabfad1",
   "metadata": {},
   "outputs": [
    {
     "name": "stdout",
     "output_type": "stream",
     "text": [
      "[[  648150   648585   649020   649455   649890   650325   650760   651195\n",
      "    651630   652065   652500   652935   653370   653805   654240   654675\n",
      "    655110   655545   655980   656415   656850   657285   657720   658155\n",
      "    658590   659025   659460   659895   660330   660765]\n",
      " [ 1849650  1850985  1852320  1853655  1854990  1856325  1857660  1858995\n",
      "   1860330  1861665  1863000  1864335  1865670  1867005  1868340  1869675\n",
      "   1871010  1872345  1873680  1875015  1876350  1877685  1879020  1880355\n",
      "   1881690  1883025  1884360  1885695  1887030  1888365]\n",
      " [ 3051150  3053385  3055620  3057855  3060090  3062325  3064560  3066795\n",
      "   3069030  3071265  3073500  3075735  3077970  3080205  3082440  3084675\n",
      "   3086910  3089145  3091380  3093615  3095850  3098085  3100320  3102555\n",
      "   3104790  3107025  3109260  3111495  3113730  3115965]\n",
      " [ 4252650  4255785  4258920  4262055  4265190  4268325  4271460  4274595\n",
      "   4277730  4280865  4284000  4287135  4290270  4293405  4296540  4299675\n",
      "   4302810  4305945  4309080  4312215  4315350  4318485  4321620  4324755\n",
      "   4327890  4331025  4334160  4337295  4340430  4343565]\n",
      " [ 5454150  5458185  5462220  5466255  5470290  5474325  5478360  5482395\n",
      "   5486430  5490465  5494500  5498535  5502570  5506605  5510640  5514675\n",
      "   5518710  5522745  5526780  5530815  5534850  5538885  5542920  5546955\n",
      "   5550990  5555025  5559060  5563095  5567130  5571165]\n",
      " [ 6655650  6660585  6665520  6670455  6675390  6680325  6685260  6690195\n",
      "   6695130  6700065  6705000  6709935  6714870  6719805  6724740  6729675\n",
      "   6734610  6739545  6744480  6749415  6754350  6759285  6764220  6769155\n",
      "   6774090  6779025  6783960  6788895  6793830  6798765]\n",
      " [ 7857150  7862985  7868820  7874655  7880490  7886325  7892160  7897995\n",
      "   7903830  7909665  7915500  7921335  7927170  7933005  7938840  7944675\n",
      "   7950510  7956345  7962180  7968015  7973850  7979685  7985520  7991355\n",
      "   7997190  8003025  8008860  8014695  8020530  8026365]\n",
      " [ 9058650  9065385  9072120  9078855  9085590  9092325  9099060  9105795\n",
      "   9112530  9119265  9126000  9132735  9139470  9146205  9152940  9159675\n",
      "   9166410  9173145  9179880  9186615  9193350  9200085  9206820  9213555\n",
      "   9220290  9227025  9233760  9240495  9247230  9253965]\n",
      " [10260150 10267785 10275420 10283055 10290690 10298325 10305960 10313595\n",
      "  10321230 10328865 10336500 10344135 10351770 10359405 10367040 10374675\n",
      "  10382310 10389945 10397580 10405215 10412850 10420485 10428120 10435755\n",
      "  10443390 10451025 10458660 10466295 10473930 10481565]\n",
      " [11461650 11470185 11478720 11487255 11495790 11504325 11512860 11521395\n",
      "  11529930 11538465 11547000 11555535 11564070 11572605 11581140 11589675\n",
      "  11598210 11606745 11615280 11623815 11632350 11640885 11649420 11657955\n",
      "  11666490 11675025 11683560 11692095 11700630 11709165]\n",
      " [12663150 12672585 12682020 12691455 12700890 12710325 12719760 12729195\n",
      "  12738630 12748065 12757500 12766935 12776370 12785805 12795240 12804675\n",
      "  12814110 12823545 12832980 12842415 12851850 12861285 12870720 12880155\n",
      "  12889590 12899025 12908460 12917895 12927330 12936765]\n",
      " [13864650 13874985 13885320 13895655 13905990 13916325 13926660 13936995\n",
      "  13947330 13957665 13968000 13978335 13988670 13999005 14009340 14019675\n",
      "  14030010 14040345 14050680 14061015 14071350 14081685 14092020 14102355\n",
      "  14112690 14123025 14133360 14143695 14154030 14164365]\n",
      " [15066150 15077385 15088620 15099855 15111090 15122325 15133560 15144795\n",
      "  15156030 15167265 15178500 15189735 15200970 15212205 15223440 15234675\n",
      "  15245910 15257145 15268380 15279615 15290850 15302085 15313320 15324555\n",
      "  15335790 15347025 15358260 15369495 15380730 15391965]\n",
      " [16267650 16279785 16291920 16304055 16316190 16328325 16340460 16352595\n",
      "  16364730 16376865 16389000 16401135 16413270 16425405 16437540 16449675\n",
      "  16461810 16473945 16486080 16498215 16510350 16522485 16534620 16546755\n",
      "  16558890 16571025 16583160 16595295 16607430 16619565]\n",
      " [17469150 17482185 17495220 17508255 17521290 17534325 17547360 17560395\n",
      "  17573430 17586465 17599500 17612535 17625570 17638605 17651640 17664675\n",
      "  17677710 17690745 17703780 17716815 17729850 17742885 17755920 17768955\n",
      "  17781990 17795025 17808060 17821095 17834130 17847165]\n",
      " [18670650 18684585 18698520 18712455 18726390 18740325 18754260 18768195\n",
      "  18782130 18796065 18810000 18823935 18837870 18851805 18865740 18879675\n",
      "  18893610 18907545 18921480 18935415 18949350 18963285 18977220 18991155\n",
      "  19005090 19019025 19032960 19046895 19060830 19074765]\n",
      " [19872150 19886985 19901820 19916655 19931490 19946325 19961160 19975995\n",
      "  19990830 20005665 20020500 20035335 20050170 20065005 20079840 20094675\n",
      "  20109510 20124345 20139180 20154015 20168850 20183685 20198520 20213355\n",
      "  20228190 20243025 20257860 20272695 20287530 20302365]\n",
      " [21073650 21089385 21105120 21120855 21136590 21152325 21168060 21183795\n",
      "  21199530 21215265 21231000 21246735 21262470 21278205 21293940 21309675\n",
      "  21325410 21341145 21356880 21372615 21388350 21404085 21419820 21435555\n",
      "  21451290 21467025 21482760 21498495 21514230 21529965]\n",
      " [22275150 22291785 22308420 22325055 22341690 22358325 22374960 22391595\n",
      "  22408230 22424865 22441500 22458135 22474770 22491405 22508040 22524675\n",
      "  22541310 22557945 22574580 22591215 22607850 22624485 22641120 22657755\n",
      "  22674390 22691025 22707660 22724295 22740930 22757565]\n",
      " [23476650 23494185 23511720 23529255 23546790 23564325 23581860 23599395\n",
      "  23616930 23634465 23652000 23669535 23687070 23704605 23722140 23739675\n",
      "  23757210 23774745 23792280 23809815 23827350 23844885 23862420 23879955\n",
      "  23897490 23915025 23932560 23950095 23967630 23985165]\n",
      " [24678150 24696585 24715020 24733455 24751890 24770325 24788760 24807195\n",
      "  24825630 24844065 24862500 24880935 24899370 24917805 24936240 24954675\n",
      "  24973110 24991545 25009980 25028415 25046850 25065285 25083720 25102155\n",
      "  25120590 25139025 25157460 25175895 25194330 25212765]\n",
      " [25879650 25898985 25918320 25937655 25956990 25976325 25995660 26014995\n",
      "  26034330 26053665 26073000 26092335 26111670 26131005 26150340 26169675\n",
      "  26189010 26208345 26227680 26247015 26266350 26285685 26305020 26324355\n",
      "  26343690 26363025 26382360 26401695 26421030 26440365]\n",
      " [27081150 27101385 27121620 27141855 27162090 27182325 27202560 27222795\n",
      "  27243030 27263265 27283500 27303735 27323970 27344205 27364440 27384675\n",
      "  27404910 27425145 27445380 27465615 27485850 27506085 27526320 27546555\n",
      "  27566790 27587025 27607260 27627495 27647730 27667965]\n",
      " [28282650 28303785 28324920 28346055 28367190 28388325 28409460 28430595\n",
      "  28451730 28472865 28494000 28515135 28536270 28557405 28578540 28599675\n",
      "  28620810 28641945 28663080 28684215 28705350 28726485 28747620 28768755\n",
      "  28789890 28811025 28832160 28853295 28874430 28895565]\n",
      " [29484150 29506185 29528220 29550255 29572290 29594325 29616360 29638395\n",
      "  29660430 29682465 29704500 29726535 29748570 29770605 29792640 29814675\n",
      "  29836710 29858745 29880780 29902815 29924850 29946885 29968920 29990955\n",
      "  30012990 30035025 30057060 30079095 30101130 30123165]\n",
      " [30685650 30708585 30731520 30754455 30777390 30800325 30823260 30846195\n",
      "  30869130 30892065 30915000 30937935 30960870 30983805 31006740 31029675\n",
      "  31052610 31075545 31098480 31121415 31144350 31167285 31190220 31213155\n",
      "  31236090 31259025 31281960 31304895 31327830 31350765]\n",
      " [31887150 31910985 31934820 31958655 31982490 32006325 32030160 32053995\n",
      "  32077830 32101665 32125500 32149335 32173170 32197005 32220840 32244675\n",
      "  32268510 32292345 32316180 32340015 32363850 32387685 32411520 32435355\n",
      "  32459190 32483025 32506860 32530695 32554530 32578365]\n",
      " [33088650 33113385 33138120 33162855 33187590 33212325 33237060 33261795\n",
      "  33286530 33311265 33336000 33360735 33385470 33410205 33434940 33459675\n",
      "  33484410 33509145 33533880 33558615 33583350 33608085 33632820 33657555\n",
      "  33682290 33707025 33731760 33756495 33781230 33805965]\n",
      " [34290150 34315785 34341420 34367055 34392690 34418325 34443960 34469595\n",
      "  34495230 34520865 34546500 34572135 34597770 34623405 34649040 34674675\n",
      "  34700310 34725945 34751580 34777215 34802850 34828485 34854120 34879755\n",
      "  34905390 34931025 34956660 34982295 35007930 35033565]\n",
      " [35491650 35518185 35544720 35571255 35597790 35624325 35650860 35677395\n",
      "  35703930 35730465 35757000 35783535 35810070 35836605 35863140 35889675\n",
      "  35916210 35942745 35969280 35995815 36022350 36048885 36075420 36101955\n",
      "  36128490 36155025 36181560 36208095 36234630 36261165]]\n",
      "执行耗时为：1.8596649169921875e-05\n"
     ]
    }
   ],
   "source": [
    "import numpy as np \n",
    "#导入时间库用于计算程序执行时间\n",
    "import time\n",
    "\n",
    "def numpy_matrix_multiply(A, B):\n",
    "    start = time.time()\n",
    "\n",
    "    C = np.dot(A, B)\n",
    "    end = time.time()\n",
    "    return C, end-start\n",
    "\n",
    "n = 30\n",
    "\n",
    "A = np.arange(n * n).reshape(n, n)\n",
    "B = np.arange(n*n, 2*n*n).reshape(n, n)\n",
    "\n",
    "result, time = numpy_matrix_multiply(A, B)\n",
    "\n",
    "print(result)\n",
    "print(f\"执行耗时为：{time}\")\n"
   ]
  },
  {
   "cell_type": "markdown",
   "id": "cc694e26",
   "metadata": {},
   "source": [
    "### 二分查找算法\n",
    "1. 前提条件\n",
    "- 数组必须是有序的（升序或降序）\n",
    "2. 算法步骤\n",
    "- 初始化两个指针，left指向数组的起始位置，right指向数组的结束位置\n",
    "- 计算中间位置mid = (left + right) // 2\n",
    "- 比较中间元素arr[mid]与目标值target\n",
    "  - 如果arr[mid] == target，返回mid，表示找到目标值\n",
    "  - 如果arr[mid] < target，说明目标值在右半部分，更新left = mid + 1\n",
    "  - 如果arr[mid] > target，说明目标值在左半部分，更新right = mid - 1\n",
    "- 重复步骤2-4，直到left > right，表示目标值不存在于数组中，返回-1或其他表示未找到的值\n",
    "3. 时间复杂度\n",
    "- O(log n)，每次比较都将搜索范围缩小一半\n"
   ]
  },
  {
   "cell_type": "code",
   "execution_count": 52,
   "id": "31a34a11",
   "metadata": {},
   "outputs": [
    {
     "name": "stdout",
     "output_type": "stream",
     "text": [
      "-1\n"
     ]
    }
   ],
   "source": [
    "import numpy as np\n",
    "def binary_search(arr, traget):\n",
    "    low = 0\n",
    "    hight = len(arr) - 1\n",
    "    while low <= hight:\n",
    "        moddle = (low + hight)//2\n",
    "        if arr[moddle] > traget:\n",
    "            hight = moddle - 1\n",
    "        elif arr[moddle] < traget:\n",
    "            low = moddle + 1\n",
    "        else:\n",
    "            return moddle\n",
    "    return -1\n",
    "arr = np.array([1, 2, 3 ,4])\n",
    "print(binary_search(arr, 5))"
   ]
  },
  {
   "cell_type": "markdown",
   "id": "bb84bf17",
   "metadata": {},
   "source": [
    "### 线性查找\n",
    "直接遍历查找\n",
    "### 归并排序\n",
    "- 合并排序是一种分治算法，将数组递归地分成两半，分别排序后再合并\n",
    "- 时间复杂度为O(n log n)，适用于大规模数据排序\n",
    "### 选择排序和插入排序\n",
    "- 选择排序：每次选择未排序部分的最小元素，放到已排序部分的末尾，时间复杂度为O(n^2)，适用于小规模数据排序\n",
    "- 插入排序：将未排序部分的元素插入到已排序部分的正确位置，时间复杂度为O(n^2)，适用于小规模数据排序和部分有序数据"
   ]
  },
  {
   "cell_type": "code",
   "execution_count": 64,
   "id": "1abe4383",
   "metadata": {},
   "outputs": [
    {
     "name": "stdout",
     "output_type": "stream",
     "text": [
      "[1]\n",
      "[2]\n",
      "[2] [3] [2 3]\n",
      "[1] [2 3] [2 3 4]\n",
      "[1 2 3]\n",
      "[4]\n",
      "[2]\n",
      "[2] [3] [2 3]\n",
      "[4] [2 3] [1 2 3]\n",
      "[1 2 3] [2 3 4] [1 2 3 4 2 3]\n"
     ]
    },
    {
     "data": {
      "text/plain": [
       "array([1, 2, 2, 3, 3, 4])"
      ]
     },
     "execution_count": 64,
     "metadata": {},
     "output_type": "execute_result"
    }
   ],
   "source": [
    "import numpy as np\n",
    "def merge_sort(arr):\n",
    "    if not isinstance(arr, np.ndarray): #判断arr是否为numpy的数组类型\n",
    "        arr = np.array(arr)\n",
    "    \n",
    "    if len(arr) <= 1:\n",
    "        return arr.copy() #返回数组副本避免修改后续原数组内容\n",
    "    \n",
    "    mid = len(arr)//2\n",
    "    left = merge_sort(arr[:mid])\n",
    "    print(left)\n",
    "    right = merge_sort(arr[mid:])\n",
    "    merged = np.empty(len(left) + len(right), dtype=arr.dtype)\n",
    "    print(left, right, merged)\n",
    "    i = j = k = 0\n",
    "    #双容器合并过程：同时遍历左右两个有序子数组，将较小的元素放入合并数组\n",
    "    while i < len(left) and j < len(right):\n",
    "        if left[i] < right[j]:\n",
    "            merged[k] = left[i]\n",
    "            i += 1\n",
    "        else:\n",
    "            merged[k] = right[j]\n",
    "            j += 1\n",
    "\n",
    "        k += 1\n",
    "    merged[k:k + len(left) - i] = left[i:]\n",
    "\n",
    "    merged[k + len(left) - i:] = right[j:]\n",
    "\n",
    "    return merged\n",
    "    \n",
    "\n",
    "arr = np.array([1, 2, 3, 4, 2, 3])\n",
    "# print(arr)\n",
    "merge_sort(arr)"
   ]
  },
  {
   "cell_type": "code",
   "execution_count": 67,
   "id": "58492ad2",
   "metadata": {},
   "outputs": [
    {
     "name": "stdout",
     "output_type": "stream",
     "text": [
      "插入排序结果[1 2 3 4]\n",
      "查找排序结果[1 2 3 4]\n"
     ]
    }
   ],
   "source": [
    "#选择排序实现和插入排序\n",
    "\n",
    "import numpy as np\n",
    "\n",
    "def select_sort(arr):\n",
    "    arr_copy = arr.copy()\n",
    "    n = len(arr_copy)\n",
    "    for i in range(n-1):\n",
    "        min = i + np.argmin(arr_copy[i:]) #argmin返回最小值索引，加上i是因为切片arr_copy[i:]的索引是相对的\n",
    "        arr_copy[i], arr_copy[min] = arr_copy[min], arr_copy[i]\n",
    "    return arr_copy\n",
    "\n",
    "def insert_sort(arr):\n",
    "    arr_copy = arr.copy()\n",
    "    n = len(arr_copy)\n",
    "    for i in range(1, n):\n",
    "        key = arr_copy[i]\n",
    "        j = i - 1\n",
    "        #内层循环将已排序的部分大于key的元素以此向后移动，知道找到key的正确位置或者遍历完\n",
    "        while j >= 0 and arr_copy[j] > key:\n",
    "            arr_copy[j + 1] = arr_copy[j]\n",
    "            j -=1\n",
    "        arr_copy[j + 1] = key\n",
    "    return arr_copy\n",
    "\n",
    "arr = np.array([1, 2, 4, 3])\n",
    "print(f\"插入排序结果{insert_sort(arr)}\")\n",
    "print(f\"查找排序结果{select_sort(arr)}\")\n",
    "\n",
    "\n"
   ]
  },
  {
   "cell_type": "markdown",
   "id": "166f953a",
   "metadata": {},
   "source": [
    "### 背包问题\n",
    "- 01背包问题：每个物品只能选择放入背包或不放入背包，使用动态规划解决\n",
    "- 完全背包问题：每个物品可以选择多次放入背包，使用动态规划解决\n",
    "- 多重背包问题：每个物品有数量限制，使用动态规划解决"
   ]
  },
  {
   "cell_type": "code",
   "execution_count": null,
   "id": "f42a3761",
   "metadata": {},
   "outputs": [],
   "source": [
    "def fractional_knapsack(weights, values, capacity):\n",
    "    \"\"\"部分背包问题\"\"\"\n",
    "    num_items = len(weights)\n",
    "    # 创建物品列表，包含性价比\n",
    "    items = []\n",
    "    for i in range(num_items):\n",
    "        items.append({\n",
    "            'weight': weights[i],\n",
    "            'value': values[i],\n",
    "            'ratio': values[i] / weights[i]\n",
    "        })\n",
    "\n",
    "    # 按性价比从高到低排序\n",
    "    items.sort(key=lambda x: x['ratio'], reverse=True)\n",
    "\n",
    "    total_value = 0.0\n",
    "    \n",
    "    for item in items:\n",
    "        if capacity >= item['weight']:\n",
    "            # 可以完整放入\n",
    "            total_value += item['value']\n",
    "            capacity -= item['weight']\n",
    "        else:\n",
    "            # 只能放入一部分\n",
    "            total_value += item['ratio'] * capacity\n",
    "            break  # 背包已满\n",
    "            \n",
    "    return total_value\n",
    "\n",
    "# 示例\n",
    "weights = [10, 20, 30]\n",
    "values = [60, 100, 120]\n",
    "capacity = 50\n",
    "max_value = fractional_knapsack(weights, values, capacity)\n",
    "print(f\"部分背包问题的最大价值是: {max_value}\")  # 输出: 240.0\n",
    "# 解释: 拿走全部物品1(10kg, 60价值)和物品2(20kg, 100价值)，\n",
    "# 剩余容量20kg，拿走20/30的物品3，价值为(120/30)*20=80。\n",
    "# 总价值 60 + 100 + 80 = 240"
   ]
  },
  {
   "cell_type": "markdown",
   "id": "2a60ad9f",
   "metadata": {},
   "source": [
    "### pandas库\n",
    "series: 一维标签数组，可以存储任何数据类型， 可通过ndarray创建\n",
    "- 常用属性为前面为series数组：\n",
    "    - index: 索引标签\n",
    "    - values: 数组中的数据\n",
    "    - dtype: 数组中数据的类型\n",
    "    - shape: 数组的形状\n",
    "    - size: 数组中元素的数量\n",
    "    - ndim: 数组的维度\n",
    "    - empty: 判断数组是否为空\n",
    "    - T: 转置数组\n",
    "\n",
    "- 常用方法为前面为series数组：\n",
    "    - series.sum(): 计算Series中所有元素的和\n",
    "    - series.mean(): 计算Series中所有元素的均值\n",
    "    - series.median(): 计算Series中所有元素的中位数\n",
    "    - series.std(): 计算Series中所有元素的标准差\n",
    "    - series.var(): 计算Series中所有元素的方差\n",
    "    - series.min(): 返回Series中最小值\n",
    "    - series.max(): 返回Series中最大值\n",
    "    - series.head(n): 返回前n个元素，默认n=5\n",
    "    - series.tail(n): 返回后n个元素，默认n=5\n",
    "    - series.sort_values(ascending=True): 返回一个新的Series，按值排序，ascending表示是否升序\n",
    "    - series.sort_index(ascending=True): 返回一个新的Series，按索引排序，ascending表示是否升序\n",
    "    - series.apply(func): 对Series中的每个元素应用函数func，返回一个新的Series\n",
    "    - series.map(func): 对Series中的每个元素应用函数func，返回一个新的Series\n",
    "    - series.filter(func): 根据函数func的返回值过滤Series，返回一个新的Series\n",
    "    - series.sample(n): 从Series中随机抽取n个元素，返回一个新的Series\n",
    "    - series.cumsum(): 返回一个新的Series，计算累积和\n",
    "    - series.cumprod(): 返回一个新的Series，计算累积积\n",
    "    - series.cummax(): 返回一个新的Series，计算累积最大值\n",
    "    - series.cummin(): 返回一个新的Series，计算累积最小值\n",
    "    - series.shift(periods=1): 返回一个新的Series，将元素向下移动periods个位置，默认periods=1\n",
    "    - series.diff(periods=1): 返回一个新的Series，计算当前元素与前periods个元素的差值，默认periods=1\n",
    "    - series.rolling(window): 返回一个滚动窗口对象，可以对窗口内的元素进行聚合操作\n",
    "    - series.expanding(): 返回一个扩展窗口对象，可以对窗口内的元素进行聚合操作\n",
    "    - series.resample(rule): 返回一个重采样对象，可以对时间序列数据进行重采样操作\n",
    "    - astype(): 用于将Series转换为指定的数据类型\n",
    "    - describe(): 返回Series的统计信息，如计数、均值、标准差、最小值、最大值等\n",
    "    - unique(): 返回Series中的唯一值\n",
    "    - value_counts(): 返回Series中每个唯一值的出现次数\n",
    "    - isnull(): 返回一个布尔数组，表示每个元素是否为缺失值\n",
    "    - notnull(): 返回一个布尔数组，表示每个元素是否为非缺失值\n",
    "    - dropna(): 返回一个新的Series，删除缺失值\n",
    "    - fillna(value): 返回一个新的Series，将缺失值替换为指定的值\n",
    "\n",
    "\n",
    "- pd.Series(data, index): 创建一个Series对象，data为数据，可以是列表、字典字典时键为索引值为数据或ndarray，index为索引标签，默认为整数索引, \n",
    "\n",
    "\n",
    "DataFrame: 二维表格数据，可以看作是由多个Series组成的字典\n",
    "- pd.read_csv(): 从CSV文件中读取数据，返回一个DataFrame对象\n",
    "- pd.read_excel(): 从Excel文件中读取数据，返回一个DataFrame对象\n",
    "- pd.to_csv(): 将DataFrame对象保存为CSV文件\n",
    "- pd.loc[]: 根据**标签**选择数据，可以进行行列选择和切片, 切片时包含结束位置\n",
    "- pd.iloc[]: 根据**位置**选择数据，可以进行行列选择和切片, 切片时不包含结束位置\n",
    "\n",
    "|方法       |功能               |何时使用                     |示例                      |\n",
    "|----------|------------------|--------------------------|-------------------------|\n",
    "|df.loc[行标签, 列标签] | 基于标签的索引 | 当你知道行的索引名称时；进行条件筛选时（最常用）。      |df.loc['p2'],df.loc['价格'] > 10, df.loc[a1:a2, b2:b1], df.loc[[\"行标签\"], [\"列标签\"]] ， df.loc[:, [\"列标签\"]]      |\n",
    "|df.iloc[行索引, 列索引]|基于整数位置的索引|  当你知道行的数字位置时（第几行）；不关心索引标签具体是什么。      |df.iloc[1], df.iloc[0:5]             |\n",
    "\n",
    "\n",
    "### Series与DataFrame的转化\n",
    "- Series转DataFrame: 使用pd.DataFrame()函数将Series转换为DataFrame\n",
    "- DataFrame转Series: 使用DataFrame的squeeze()方法将DataFrame转换为Series\n",
    "- Series.to_frame(): 将Series转换为DataFrame, 其中name参数指定DataFrame的列名\n",
    "- DataFrame.squeeze(): 将DataFrame转换为Series, 如果DataFrame只有一列或一行，则返回一个Series，否则返回原DataFrame"
   ]
  },
  {
   "cell_type": "markdown",
   "id": "42004237",
   "metadata": {},
   "source": [
    "### Series"
   ]
  },
  {
   "cell_type": "code",
   "execution_count": 106,
   "id": "0fd19711",
   "metadata": {},
   "outputs": [
    {
     "data": {
      "text/plain": [
       "1    Python\n",
       "2      Java\n",
       "3       C++\n",
       "4        C#\n",
       "dtype: object"
      ]
     },
     "execution_count": 106,
     "metadata": {},
     "output_type": "execute_result"
    }
   ],
   "source": [
    "import pandas as pd\n",
    "arr_ser = pd.Series(data=['Python', 'Java', 'C++', 'C#'], index=[1, 2, 3, 4])\n",
    "arr_ser"
   ]
  },
  {
   "cell_type": "code",
   "execution_count": 107,
   "id": "c6214fef",
   "metadata": {},
   "outputs": [
    {
     "name": "stdout",
     "output_type": "stream",
     "text": [
      "[5 1 2 1 2]\n",
      "0    5\n",
      "1    1\n",
      "2    2\n",
      "3    1\n",
      "4    2\n",
      "dtype: int32 <class 'pandas.core.series.Series'>\n"
     ]
    }
   ],
   "source": [
    "import numpy as np\n",
    "import pandas as pd\n",
    "\n",
    "np.random.seed(10)\n",
    "arr = np.random.randint(1, 10, 5) #ndarray数组可创建为series\n",
    "print(arr)\n",
    "arr_series = pd.Series(data = arr)\n",
    "print(arr_series, type(arr_series)) # <class 'pandas.core.series.Series'>"
   ]
  },
  {
   "cell_type": "code",
   "execution_count": 24,
   "id": "61853611",
   "metadata": {},
   "outputs": [
    {
     "name": "stdout",
     "output_type": "stream",
     "text": [
      "RangeIndex(start=0, stop=4, step=1)\n",
      "[0.2 0.3 0.4 0.3]\n"
     ]
    }
   ],
   "source": [
    "import pandas as pd\n",
    "import numpy as np\n",
    "data  = np.ndarray(shape=(4, ),dtype=np.float64,  buffer=np.array([0.2, 0.3, 0.4, 0.3]))\n",
    "serise = pd.Series(data)\n",
    "serise\n",
    "print(serise.index)\n",
    "print(serise.values)"
   ]
  },
  {
   "cell_type": "code",
   "execution_count": 108,
   "id": "41cde531",
   "metadata": {},
   "outputs": [
    {
     "name": "stdout",
     "output_type": "stream",
     "text": [
      "姓名    [小明, 校长, 小节]\n",
      "id       [1, 2, 3]\n",
      "性别       [男, 女, 男]\n",
      "dtype: object\n",
      "Index(['姓名', 'id', '性别'], dtype='object')\n",
      "[list(['小明', '校长', '小节']) list([1, 2, 3]) list(['男', '女', '男'])]\n",
      "a    1.0\n",
      "b    2.0\n",
      "c    4.0\n",
      "d    NaN\n",
      "dtype: float64\n"
     ]
    }
   ],
   "source": [
    "studentSeries = pd.Series(data={\"姓名\":[\"小明\", \"校长\", \"小节\"], \"id\":[1, 2, 3], \"性别\":[\"男\", \"女\", \"男\"]})\n",
    "print(studentSeries)\n",
    "print(studentSeries.index)\n",
    "print(studentSeries.values)\n",
    "\n",
    "data = {'a':1, 'b':2, 'c':5, 'c':4}\n",
    "s = pd.Series(data=data, index=['a', 'b', 'c', 'd']) #c被后面的值吞没， 且index为键直接和data数据中进行匹配=\n",
    "print(s)\n"
   ]
  },
  {
   "cell_type": "code",
   "execution_count": 25,
   "id": "37f604f3",
   "metadata": {},
   "outputs": [
    {
     "name": "stdout",
     "output_type": "stream",
     "text": [
      "b    1.0\n",
      "c    2.0\n",
      "d    NaN\n",
      "a    0.0\n",
      "dtype: float64\n"
     ]
    }
   ],
   "source": [
    "#当床第的索引值无法找到与其对应的值的时，使用NaN填充\n",
    "data = {'a':0, 'b':1, 'c':2}\n",
    "s = pd.Series(data, index=['b', 'c', 'd', 'a'])\n",
    "print(s)\n"
   ]
  },
  {
   "cell_type": "code",
   "execution_count": 13,
   "id": "db2c35aa",
   "metadata": {},
   "outputs": [
    {
     "name": "stdout",
     "output_type": "stream",
     "text": [
      " === 原始产品销量数据 === \n",
      "prod_a    120\n",
      "prod_b     85\n",
      "prod_c    210\n",
      "prod_d     98\n",
      "prod_e    156\n",
      "dtype: int64\n",
      "--------------------------------------------------\n",
      " === 1.位置索引访问 === \n",
      "1.1 第1款产品(位置0)的周销量: 120\n",
      "\n",
      "1.2 前3款产品的周销量:\n",
      "prod_a    120\n",
      "prod_b     85\n",
      "prod_c    210\n",
      "dtype: int64\n",
      "\n",
      "1.3 最后3款产品的周销量:\n",
      "prod_c    210\n",
      "prod_d     98\n",
      "prod_e    156\n",
      "dtype: int64\n",
      "--------------------------------------------------\n",
      " === 2. 索引标签访问 === \n",
      "2.1 产品prod_b的周销量: 85\n",
      "\n",
      "2.2 重点产品(prod_a、prod_b、prod_c、prod_e)的周销量:\n",
      "prod_a    120\n",
      "prod_c    210\n",
      "prod_e    156\n",
      "dtype: int64\n",
      "\n",
      "2.3 错误演示:查询不存在的产品ID(prod_f)->触发KeyError\n",
      "异常提示:不存在该产品->'prod_f',请检查产品ID是否正确!\n"
     ]
    },
    {
     "name": "stderr",
     "output_type": "stream",
     "text": [
      "C:\\Users\\25711\\AppData\\Local\\Temp\\ipykernel_37776\\3302071926.py:19: FutureWarning: Series.__getitem__ treating keys as positions is deprecated. In a future version, integer keys will always be treated as labels (consistent with DataFrame behavior). To access a value by position, use `ser.iloc[pos]`\n",
      "  print(\"1.1 第1款产品(位置0)的周销量:\",product_sales[0])\n"
     ]
    }
   ],
   "source": [
    "\n",
    "import pandas as pd\n",
    "\n",
    "# 1. 模拟实际场景:创建“产品Id-周销量\"的Series(索引标签为产品ID,值为销量)\n",
    "# 场景说明:假设我们有5款产品(ID:prod_a-prod_e),存储它们的周销量数据\n",
    "product_sales = pd. Series(\n",
    "data=[120, 85, 210, 98, 156], #各产品的周销量(单位:件)\n",
    "index=['prod_a', 'prod_b', 'prod_c', 'prod_d', 'prod_e' ]\n",
    ")\n",
    "\n",
    "# 索引标签为产品ID(模拟业务中的唯一标识)\n",
    "\n",
    "print(\" === 原始产品销量数据 === \")\n",
    "print (product_sales)\n",
    "print(\"-\"* 50) #分隔线,提升输出可读性\n",
    "\n",
    "#2. 位置所以访问:按数据存储的“位置下标”查询(类似List/ndarray,从e开始计数)\n",
    "print(\" === 1.位置索引访问 === \")\n",
    "#场景1:查询第1款产品的销量(位置e,对应prod_a)\n",
    "print(\"1.1 第1款产品(位置0)的周销量:\",product_sales[0])\n",
    "\n",
    "# 场景2:查询前3款产品的销量(位置0-2,对应prod_a、prod_b、prod_c)\n",
    "print(\"\\n1.2 前3款产品的周销量:\")\n",
    "print (product_sales[ : 3])\n",
    "\n",
    "# 场景3:查询最后3款产品的销量(位置2~4,对应prod_c、prod_d、peod_e)\n",
    "print(\"\\n1.3 最后3款产品的周销量:\")\n",
    "print (product_sales[-3: ])\n",
    "print(\"-\" * 50)\n",
    "\n",
    "# 3. 索引标签访问:按“产品ID”查询(类似dict的key-value映射,更贴合业务场景)\n",
    "print(\" === 2. 索引标签访问 === \")\n",
    "#场景1:查询指定产品ID(prod_b)的销量\n",
    "print(\"2.1 产品prod_b的周销量:\",product_sales['prod_b'])\n",
    "# 场景2:批量查询重点产品(prod_a、prod_b,peod_c)的销量\n",
    "print(\"\\n2.2 重点产品(prod_a、prod_b、prod_c、prod_e)的周销量:\")\n",
    "print (product_sales[ ['prod_a', 'prod_c', 'prod_e' ]])\n",
    "\n",
    "# 场景3:错误演示:查询不存在的产品(peod_f),触发KeyError(模拟业务中”输入错误ID”的异常情况)\n",
    "print(\"\\n2.3 错误演示:查询不存在的产品ID(prod_f)->触发KeyError\")\n",
    "try:\n",
    "\n",
    "    print(product_sales['prod_f'])\n",
    "except KeyError as e:\n",
    "    print(f\"异常提示:不存在该产品->{e},请检查产品ID是否正确!\")"
   ]
  },
  {
   "cell_type": "code",
   "execution_count": 110,
   "id": "3e6e5c52",
   "metadata": {},
   "outputs": [
    {
     "name": "stdout",
     "output_type": "stream",
     "text": [
      " === 一周气温记录数据 === \n",
      "周一    25.6\n",
      "周二    19.0\n",
      "周三    19.0\n",
      "周四    17.3\n",
      "周五    25.3\n",
      "周六    27.2\n",
      "周日    20.0\n",
      "dtype: float64\n",
      "------------------------------------------------------------\n",
      "1. axes属性-查看数据的轴信息:\n",
      "[Index(['周一', '周二', '周三', '周四', '周五', '周六', '周日'], dtype='object')]\n",
      "说明:显示了气温数据的索引范围(周一至周日)\n",
      "------------------------------------------------------------\n",
      "2. dtype属性-查看数据类型:\n",
      "float64\n",
      "说明:气温数据为浮点数类型(float64),符合实际温度记录的需求\n",
      "------------------------------------------------------------\n",
      "3. empty属性-判断数据是否为空:\n",
      "False\n",
      "说明:返回False,表明这是一个有数据的气温记录\n",
      "4. ndim属性- 查看数据维度:\n",
      "1\n",
      "说明:返回1,因为气温记录是一维数据(仅包含温度一个维度)\n",
      "------------------------------------------------------------\n",
      "5. size属性-查看数据数量:\n",
      "7\n",
      "说明:返回7,代表一周有7天的气温记录\n",
      "------------------------------------------------------------\n",
      "6. value属性-查看所有气温数值:\n",
      "[25.6 19.  19.  17.3 25.3 27.2 20. ]\n",
      "说明:以numpy数组形式返回所有气温数据,方便进后续统计计算\n",
      "------------------------------------------------------------\n",
      "7. index属性- 查看索引(日志)\n",
      "Index(['周一', '周二', '周三', '周四', '周五', '周六', '周日'], dtype='object')\n"
     ]
    }
   ],
   "source": [
    "import pandas as pd\n",
    "import numpy as np\n",
    "\n",
    "#模拟生活场景:创建一周的气温记录(周一至周日)\n",
    "# 数据为随机生成的15~30度之间的其温度\n",
    "weekly_temperatures = pd.Series(\n",
    "data=np.random.uniform(15,30,7).round(1), #生成7个15~30之间的随机数并保留1位小数\n",
    "index=['周一','周二','周三','周四','周五','周六','周日']# 索引为星期几\n",
    "\n",
    ")\n",
    "\n",
    "print(\" === 一周气温记录数据 === \")\n",
    "print (weekly_temperatures)\n",
    "print(\"-\" * 60)\n",
    "\n",
    "# 1.axes属性:返回Series的轴信息(包含索引)\n",
    "print(\"1. axes属性-查看数据的轴信息:\")\n",
    "print(weekly_temperatures.axes)\n",
    "print(\"说明:显示了气温数据的索引范围(周一至周日)\")\n",
    "print(\"-\" * 60)\n",
    "\n",
    "#2.dtype属性:返回Series中数据的类型\n",
    "print(\"2. dtype属性-查看数据类型:\")\n",
    "print(weekly_temperatures.dtype)\n",
    "print(\"说明:气温数据为浮点数类型(float64),符合实际温度记录的需求\")\n",
    "print(\"-\" * 60)\n",
    "# 3. empty属性:判断Series是否为空\n",
    "print(\"3. empty属性-判断数据是否为空:\")\n",
    "print (weekly_temperatures. empty)\n",
    "print(\"说明:返回False,表明这是一个有数据的气温记录\")\n",
    "\n",
    "#4. ndim属性:返回Series的维度\n",
    "print(\"4. ndim属性- 查看数据维度:\")\n",
    "print(weekly_temperatures.ndim)\n",
    "print(\"说明:返回1,因为气温记录是一维数据(仅包含温度一个维度)\")\n",
    "print(\"-\" * 60)\n",
    "\n",
    "#5. size属性:返回Series中元素的数量\n",
    "print(\"5. size属性-查看数据数量:\")\n",
    "print (weekly_temperatures.size)\n",
    "print(\"说明:返回7,代表一周有7天的气温记录\")\n",
    "print(\"-\" * 60)\n",
    "\n",
    "#6. values属性:以数组的形式返回Series中的数据\n",
    "print(\"6. value属性-查看所有气温数值:\")\n",
    "print(weekly_temperatures.values)\n",
    "print(\"说明:以numpy数组形式返回所有气温数据,方便进后续统计计算\")\n",
    "print(\"-\" * 60)\n",
    "\n",
    "#7. index属性:查看Series的索引\n",
    "print(\"7. index属性- 查看索引(日志)\")\n",
    "print(weekly_temperatures.index)"
   ]
  },
  {
   "cell_type": "code",
   "execution_count": null,
   "id": "9e25dd93",
   "metadata": {},
   "outputs": [
    {
     "name": "stdout",
     "output_type": "stream",
     "text": [
      "2025-09-28    False\n",
      "2025-09-29    False\n",
      "2025-09-30     True\n",
      "2025-10-01    False\n",
      "2025-10-02    False\n",
      "2025-10-03    False\n",
      "2025-10-04     True\n",
      "2025-10-05    False\n",
      "2025-10-06    False\n",
      "2025-10-07    False\n",
      "Freq: D, dtype: bool\n",
      "DatetimeIndex(['2025-09-30', '2025-10-04'], dtype='datetime64[ns]', freq=None)\n"
     ]
    }
   ],
   "source": [
    "import pandas as pd\n",
    "import numpy as np\n",
    "\n",
    "# 模拟实际场景:生成10天用户消费记录(含部分缺失值)\n",
    "# 数据说明:值为消费金额(元),索引为日期,其中第3天和第7天数据缺失\n",
    "dates = pd.date_range(start='2025-9-28', periods=10) # 生成10天日期\n",
    "# sales_msg消费记录\n",
    "sales_msg = pd.Series(\n",
    "data=[158.5, 230.0, None, 99.9, 320.8, 186.3, np.nan, 450.8, 278.2, 129.5],\n",
    "index=dates\n",
    "\n",
    ")\n",
    "\n",
    "print(\" === 10天用户消费记录原始数据 === \")\n",
    "print (sales_msg)\n",
    "print(\"-\" * 60)\n",
    "\n",
    "# 1.head()方法:查看前n天的消费记录(快速了解月初消费情况)\n",
    "print(\" === 1. 使用head()查看月初消费记录 === \")\n",
    "print(\"前5天消费记录(默认):\")\n",
    "print(sales_msg.head()) #默认返回前5行\n",
    "print(\"\\n前3天消费记录:\")\n",
    "print(sales_msg.head(3)) #指定返回前3行\n",
    "print(\"说明:用于快速擦好看初期数据趋势,比如月初用户消费活跃度\")\n",
    "print(\"-\" * 60)\n",
    "\n",
    "print(f\"返回后两天数据{sales_msg.tail(2)}\")\n",
    "print(\"缺失数据返回True，否则返回False\")\n",
    "print(sales_msg.isnull())\n",
    "#提取却缺失值对应的日期\n",
    "print(sales_msg.index[sales_msg.isnull()])"
   ]
  },
  {
   "cell_type": "code",
   "execution_count": 9,
   "id": "f5d4f8e3",
   "metadata": {},
   "outputs": [
    {
     "name": "stdout",
     "output_type": "stream",
     "text": [
      "         string\n",
      "count  3.000000\n",
      "mean   2.333333\n",
      "std    0.577350\n",
      "min    2.000000\n",
      "25%    2.000000\n",
      "50%    2.000000\n",
      "75%    2.500000\n",
      "max    3.000000\n",
      "number    object\n",
      "string     int64\n",
      "dtype: object\n"
     ]
    }
   ],
   "source": [
    "import pandas as pd \n",
    "import numpy as np\n",
    "arr = np.array([[1,\"2\"], [2, \"2\"], [3,\"3\"]])\n",
    "arr_df = pd.DataFrame(data=arr, columns=[\"number\", \"string\"])\n",
    "\n",
    "arr_df[\"string\"] = arr_df[\"string\"].astype(int)\n",
    "print(arr_df.describe())\n",
    "print(arr_df.dtypes)"
   ]
  },
  {
   "cell_type": "code",
   "execution_count": null,
   "id": "b9a4c3f1",
   "metadata": {},
   "outputs": [
    {
     "data": {
      "text/plain": [
       "['1', '2', '3']"
      ]
     },
     "execution_count": 14,
     "metadata": {},
     "output_type": "execute_result"
    }
   ],
   "source": [
    "import pandas as pd\n",
    "data = [{\"1\":1, \"2\":2}, {\"1\":1, \"2\":2, \"3\":3}]\n",
    "df = pd.DataFrame(data=data)\n",
    "df[\"3\"].dtype\n",
    "df.columns.tolist() #输出列名\n"
   ]
  },
  {
   "cell_type": "code",
   "execution_count": 16,
   "id": "0405fc26",
   "metadata": {},
   "outputs": [
    {
     "data": {
      "text/html": [
       "<div>\n",
       "<style scoped>\n",
       "    .dataframe tbody tr th:only-of-type {\n",
       "        vertical-align: middle;\n",
       "    }\n",
       "\n",
       "    .dataframe tbody tr th {\n",
       "        vertical-align: top;\n",
       "    }\n",
       "\n",
       "    .dataframe thead th {\n",
       "        text-align: right;\n",
       "    }\n",
       "</style>\n",
       "<table border=\"1\" class=\"dataframe\">\n",
       "  <thead>\n",
       "    <tr style=\"text-align: right;\">\n",
       "      <th></th>\n",
       "      <th>A</th>\n",
       "      <th>B</th>\n",
       "      <th>C</th>\n",
       "      <th>D</th>\n",
       "    </tr>\n",
       "  </thead>\n",
       "  <tbody>\n",
       "    <tr>\n",
       "      <th>2020-01-02</th>\n",
       "      <td>0.883893</td>\n",
       "      <td>0.195865</td>\n",
       "      <td>0.357537</td>\n",
       "      <td>-2.343262</td>\n",
       "    </tr>\n",
       "    <tr>\n",
       "      <th>2020-01-03</th>\n",
       "      <td>-1.084833</td>\n",
       "      <td>0.559696</td>\n",
       "      <td>0.939469</td>\n",
       "      <td>-0.978481</td>\n",
       "    </tr>\n",
       "    <tr>\n",
       "      <th>2020-01-04</th>\n",
       "      <td>0.503097</td>\n",
       "      <td>0.406414</td>\n",
       "      <td>0.323461</td>\n",
       "      <td>-0.493411</td>\n",
       "    </tr>\n",
       "    <tr>\n",
       "      <th>2020-01-05</th>\n",
       "      <td>-0.792017</td>\n",
       "      <td>-0.842368</td>\n",
       "      <td>-1.279503</td>\n",
       "      <td>0.245715</td>\n",
       "    </tr>\n",
       "    <tr>\n",
       "      <th>2020-01-06</th>\n",
       "      <td>-0.044195</td>\n",
       "      <td>1.567633</td>\n",
       "      <td>1.051109</td>\n",
       "      <td>0.406368</td>\n",
       "    </tr>\n",
       "    <tr>\n",
       "      <th>2020-01-07</th>\n",
       "      <td>-0.168646</td>\n",
       "      <td>-3.189703</td>\n",
       "      <td>1.120132</td>\n",
       "      <td>1.332778</td>\n",
       "    </tr>\n",
       "  </tbody>\n",
       "</table>\n",
       "</div>"
      ],
      "text/plain": [
       "                   A         B         C         D\n",
       "2020-01-02  0.883893  0.195865  0.357537 -2.343262\n",
       "2020-01-03 -1.084833  0.559696  0.939469 -0.978481\n",
       "2020-01-04  0.503097  0.406414  0.323461 -0.493411\n",
       "2020-01-05 -0.792017 -0.842368 -1.279503  0.245715\n",
       "2020-01-06 -0.044195  1.567633  1.051109  0.406368\n",
       "2020-01-07 -0.168646 -3.189703  1.120132  1.332778"
      ]
     },
     "execution_count": 16,
     "metadata": {},
     "output_type": "execute_result"
    }
   ],
   "source": [
    "import pandas as pd \n",
    "import numpy as np\n",
    "np.random.seed(20)\n",
    "time = pd.date_range(\"2020-01-02\", periods=6)\n",
    "random = np.random.randn(6, 4)\n",
    "\n",
    "df = pd.DataFrame(\n",
    "    data=random,\n",
    "    index=time,\n",
    "    columns=list(\"ABCD\")\n",
    ")\n",
    "df"
   ]
  },
  {
   "cell_type": "markdown",
   "id": "b61ca16a",
   "metadata": {},
   "source": [
    "### DataFrame\n",
    "\n",
    "### DataFrame中的数据合并\n",
    "- pd.concat(): 用于沿指定轴将多个DataFrame或Series对象连接在一起\n",
    "- pd.merge(): 用于根据一个或多个键将两个DataFrame对象合并在一起，类似于SQL中的JOIN操作\n",
    "- pd.join(): 用于根据索引将两个DataFrame对象连接在一起，类似于SQL中的LEFT JOIN操作\n",
    "- pd.append(): 用于将一个DataFrame或Series对象添加到另一个DataFrame对象的末尾，返回一个新的DataFrame对象 <font color=\"red\">该方法已被弃用</font>，建议使用pd.concat()代替\n",
    "- pd.concat(objs, axis=0, join='outer', ignore_index=False): \n",
    "  - objs: 要连接的DataFrame或Series对象的列表或字典\n",
    "  - axis: 指定连接的轴，0表示按行连接，1表示按列连接\n",
    "  - join: 指定连接方式，'outer'表示取并集，'inner'表示取交集\n",
    "  - ignore_index: 如果为True，重新索引结果DataFrame\n",
    "- pd.merge(left, right, how='inner', on=None, left_on=None, right_on=None, left_index=False, right_index=False):\n",
    "  - left: 左侧的DataFrame对象\n",
    "  - right: 右侧的DataFrame对象\n",
    "  - how: 指定合并方式，'inner'表示内连接，'outer'表示外连接，'left'表示左连接，'right'表示右连接\n",
    "  - on: 指定用于连接的列名\n",
    "  - left_on: 指定左侧DataFrame用于连接的列名\n",
    "  - right_on: 指定右侧DataFrame用于连接的列名\n",
    "  - left_index: 如果为True，使用左侧DataFrame的索引进行连接\n",
    "  - right_index: 如果为True，使用右侧DataFrame的索引进行连接\n",
    "- df.join(other, on=None, how='left', lsuffix='', rsuffix='', sort=False):\n",
    "    - other: 要连接的DataFrame对象\n",
    "    - on: 指定用于连接的列名\n",
    "    - how: 指定连接方式，'left'表示左连接，'right'表示右连接，'outer'表示外连接，'inner'表示内连接\n",
    "    - lsuffix: 如果有重叠的列名，为左侧DataFrame的列名添加后缀\n",
    "    - rsuffix: 如果有重叠的列名，为右侧DataFrame的列名添加后缀\n",
    "    - sort: 如果为True，对结果DataFrame进行排序\n",
    "- df.append(other, ignore_index=False, verify_integrity=False, sort=False):\n",
    "    - other: 要添加的DataFrame或Series对象\n",
    "    - ignore_index: 如果为True，重新索引结果DataFrame\n",
    "    - verify_integrity: 如果为True，检查索引是否有重复\n",
    "    - sort: 如果为True，对结果DataFrame进行排序"
   ]
  },
  {
   "cell_type": "code",
   "execution_count": 30,
   "id": "ee2534fb",
   "metadata": {},
   "outputs": [
    {
     "name": "stdout",
     "output_type": "stream",
     "text": [
      "       name  age\n",
      "1  xiaoming   12\n",
      "2   xiaoliu   12\n",
      "3  xiaoyang   13\n"
     ]
    }
   ],
   "source": [
    "import pandas as pd\n",
    "data = [[\"xiaoming\", 12], [\"xiaoliu\", 12], [\"xiaoyang\", 13]]\n",
    "df = pd.DataFrame(data=data, columns=[\"name\", \"age\"], index=[1, 2, 3])\n",
    "print(df)"
   ]
  },
  {
   "cell_type": "code",
   "execution_count": 31,
   "id": "8f670eea",
   "metadata": {},
   "outputs": [
    {
     "data": {
      "text/html": [
       "<div>\n",
       "<style scoped>\n",
       "    .dataframe tbody tr th:only-of-type {\n",
       "        vertical-align: middle;\n",
       "    }\n",
       "\n",
       "    .dataframe tbody tr th {\n",
       "        vertical-align: top;\n",
       "    }\n",
       "\n",
       "    .dataframe thead th {\n",
       "        text-align: right;\n",
       "    }\n",
       "</style>\n",
       "<table border=\"1\" class=\"dataframe\">\n",
       "  <thead>\n",
       "    <tr style=\"text-align: right;\">\n",
       "      <th></th>\n",
       "      <th>a</th>\n",
       "      <th>b</th>\n",
       "      <th>c</th>\n",
       "    </tr>\n",
       "  </thead>\n",
       "  <tbody>\n",
       "    <tr>\n",
       "      <th>0</th>\n",
       "      <td>1</td>\n",
       "      <td>2</td>\n",
       "      <td>NaN</td>\n",
       "    </tr>\n",
       "    <tr>\n",
       "      <th>1</th>\n",
       "      <td>5</td>\n",
       "      <td>10</td>\n",
       "      <td>20.0</td>\n",
       "    </tr>\n",
       "  </tbody>\n",
       "</table>\n",
       "</div>"
      ],
      "text/plain": [
       "   a   b     c\n",
       "0  1   2   NaN\n",
       "1  5  10  20.0"
      ]
     },
     "execution_count": 31,
     "metadata": {},
     "output_type": "execute_result"
    }
   ],
   "source": [
    "import pandas as pd\n",
    "data = [{\"a\":1, \"b\":2}, {\"a\":5, \"b\":10, \"c\":20}]\n",
    "df = pd.DataFrame(data)\n",
    "df"
   ]
  },
  {
   "cell_type": "code",
   "execution_count": 32,
   "id": "06e6ff11",
   "metadata": {},
   "outputs": [
    {
     "name": "stdout",
     "output_type": "stream",
     "text": [
      "   one  two\n",
      "a  1.0    1\n",
      "b  2.0    2\n",
      "c  3.0    3\n",
      "d  NaN    4\n"
     ]
    }
   ],
   "source": [
    "import pandas as pd\n",
    "d = {\n",
    "    'one': pd.Series([1, 2, 3], index=[\"a\", \"b\", \"c\"]),\n",
    "    'two': pd.Series([1, 2, 3, 4], index=['a', 'b', 'c', 'd'])\n",
    "}\n",
    "df = pd.DataFrame(d)\n",
    "print(df)"
   ]
  },
  {
   "cell_type": "markdown",
   "id": "7c3c4940",
   "metadata": {},
   "source": [
    "### 用结构多维数组和记录多维数组生成DataFrame"
   ]
  },
  {
   "cell_type": "code",
   "execution_count": null,
   "id": "2aa88b8e",
   "metadata": {},
   "outputs": [
    {
     "name": "stdout",
     "output_type": "stream",
     "text": [
      "[(0, 0., b'') (0, 0., b'')]\n",
      "['A', 'C', 'B']\n",
      "A      int32\n",
      "C    float32\n",
      "B     object\n",
      "dtype: object\n",
      "   A    C         B\n",
      "0  1  2.0  b'hello'\n",
      "1  1  2.0  b'world'\n",
      "    A1   A2   A3\n",
      "0  NaN  NaN  NaN\n",
      "1  NaN  NaN  NaN\n"
     ]
    }
   ],
   "source": [
    "import numpy as np\n",
    "import pandas as pd\n",
    "\n",
    "data = np.zeros((2), dtype=[(\"A\", \"i4\"), (\"C\", \"f4\"), (\"B\", \"S10\")]) #使用zeros生成两个元组并为其设置类型其中i4， f2等为数据类型\n",
    "print(data)\n",
    "data[:] = [(1, 2, \"hello\"), (1, 2, \"world\")]\n",
    "df = pd.DataFrame(data)\n",
    "print(df.columns.tolist())\n",
    "print(df.dtypes)\n",
    "print(df)\n",
    "#自定义列名\n",
    "df = pd.DataFrame(data, columns=[\"A1\", \"A2\", \"A3\"])\n",
    "print(df) #出现此类的结果就是自定义列名与原始字段你名字不匹配"
   ]
  },
  {
   "cell_type": "code",
   "execution_count": null,
   "id": "cdc2f2bc",
   "metadata": {},
   "outputs": [
    {
     "name": "stdout",
     "output_type": "stream",
     "text": [
      "        number  float string\n",
      "first        1    2.0  hello\n",
      "second       1    2.0  world\n",
      "['number', 'float', 'string']\n",
      "['first', 'second']\n"
     ]
    }
   ],
   "source": [
    "#解决方法方法一\n",
    "data = np.zeros((2), dtype=[(\"A\", \"i4\"), (\"C\", \"f4\"), (\"B\", \"S10\")]) #使用zeros生成两个元组并为其设置类型其中i4， f2等为数据类型\n",
    "\n",
    "data[:] = [(1, 2, \"hello\"), (1, 2, \"world\")]\n",
    "df = pd.DataFrame(data, columns=[\"A\", \"C\", \"B\"], index=[\"first\", \"second\"])\n",
    "# print(df)\n",
    "\n",
    "df = df.rename(columns={\"A\":\"number\", \"C\":\"float\", \"B\":\"string\"})\n",
    "df['string'] = df['string'].str.decode('utf-8') #将bytes类型转换为字符串\n",
    "print(df)\n",
    " #将bytes类型转换为字符串\n",
    "print(df.columns.tolist())\n",
    "print(df.index.tolist())"
   ]
  },
  {
   "cell_type": "code",
   "execution_count": 36,
   "id": "ff7cc9bf",
   "metadata": {},
   "outputs": [
    {
     "name": "stdout",
     "output_type": "stream",
     "text": [
      "        number  float string\n",
      "first        1    2.0  hello\n",
      "second       1    2.0  world\n",
      "        number string  float\n",
      "first        1  hello    2.0\n",
      "second       1  world    2.0\n",
      "['first', 'second']\n",
      "['number', 'float', 'string']\n"
     ]
    }
   ],
   "source": [
    "#方法二使用zip方法\n",
    "data = np.zeros((2), dtype=[(\"A\", \"i4\"), (\"C\", \"f4\"), (\"B\", \"S10\")]) #使用zeros生成两个元组并为其设置类型其中i4， f2等为数据类型\n",
    "\n",
    "data[:] = [(1, 2, \"hello\"), (1, 2, \"world\")]\n",
    "df = pd.DataFrame(list(zip(data['A'], data['C'], data['B'])), columns=[\"number\", \"float\", \"string\"], index=[\"first\", \"second\"])\n",
    "df['string'] = df['string'].str.decode('utf-8') #将bytes类型转换为字符串\n",
    "print(df)\n",
    "#通过解包实现\n",
    "data_new = [data[\"A\"], data[\"B\"], data[\"C\"]]\n",
    "df2 = pd.DataFrame(data=zip(*data_new), columns=[\"number\", \"string\", \"float\"], index=[\"first\", \"second\"])\n",
    "df2[\"string\"] = df2[\"string\"].str.decode('UTF-8')\n",
    "print(df2)\n",
    "print(df.index.tolist())\n",
    "print(df.columns.tolist())\n"
   ]
  },
  {
   "cell_type": "code",
   "execution_count": 42,
   "id": "870153bd",
   "metadata": {},
   "outputs": [
    {
     "data": {
      "text/html": [
       "<div>\n",
       "<style scoped>\n",
       "    .dataframe tbody tr th:only-of-type {\n",
       "        vertical-align: middle;\n",
       "    }\n",
       "\n",
       "    .dataframe tbody tr th {\n",
       "        vertical-align: top;\n",
       "    }\n",
       "\n",
       "    .dataframe thead th {\n",
       "        text-align: right;\n",
       "    }\n",
       "</style>\n",
       "<table border=\"1\" class=\"dataframe\">\n",
       "  <thead>\n",
       "    <tr style=\"text-align: right;\">\n",
       "      <th></th>\n",
       "      <th>A</th>\n",
       "      <th>B</th>\n",
       "      <th>C</th>\n",
       "      <th>D</th>\n",
       "    </tr>\n",
       "  </thead>\n",
       "  <tbody>\n",
       "    <tr>\n",
       "      <th>2025-10-10</th>\n",
       "      <td>0.414708</td>\n",
       "      <td>-0.045107</td>\n",
       "      <td>0.142121</td>\n",
       "      <td>-1.318004</td>\n",
       "    </tr>\n",
       "    <tr>\n",
       "      <th>2025-10-11</th>\n",
       "      <td>-1.452599</td>\n",
       "      <td>0.105960</td>\n",
       "      <td>0.784095</td>\n",
       "      <td>-1.103058</td>\n",
       "    </tr>\n",
       "    <tr>\n",
       "      <th>2025-10-12</th>\n",
       "      <td>-0.681667</td>\n",
       "      <td>-0.849874</td>\n",
       "      <td>-0.264833</td>\n",
       "      <td>1.299357</td>\n",
       "    </tr>\n",
       "    <tr>\n",
       "      <th>2025-10-13</th>\n",
       "      <td>0.941906</td>\n",
       "      <td>0.629599</td>\n",
       "      <td>-0.302287</td>\n",
       "      <td>-0.351163</td>\n",
       "    </tr>\n",
       "    <tr>\n",
       "      <th>2025-10-14</th>\n",
       "      <td>-1.061222</td>\n",
       "      <td>1.383266</td>\n",
       "      <td>-1.244804</td>\n",
       "      <td>0.759125</td>\n",
       "    </tr>\n",
       "    <tr>\n",
       "      <th>2025-10-15</th>\n",
       "      <td>-0.630533</td>\n",
       "      <td>-0.595328</td>\n",
       "      <td>0.341650</td>\n",
       "      <td>-1.553104</td>\n",
       "    </tr>\n",
       "  </tbody>\n",
       "</table>\n",
       "</div>"
      ],
      "text/plain": [
       "                   A         B         C         D\n",
       "2025-10-10  0.414708 -0.045107  0.142121 -1.318004\n",
       "2025-10-11 -1.452599  0.105960  0.784095 -1.103058\n",
       "2025-10-12 -0.681667 -0.849874 -0.264833  1.299357\n",
       "2025-10-13  0.941906  0.629599 -0.302287 -0.351163\n",
       "2025-10-14 -1.061222  1.383266 -1.244804  0.759125\n",
       "2025-10-15 -0.630533 -0.595328  0.341650 -1.553104"
      ]
     },
     "execution_count": 42,
     "metadata": {},
     "output_type": "execute_result"
    }
   ],
   "source": [
    "#时间序列索引+多数据源整合\n",
    "import pandas as pd\n",
    "import numpy as np\n",
    "\n",
    "data = pd.date_range('20251010', periods=6)\n",
    "data\n",
    "df = pd.DataFrame(np.random.randn(6, 4), index=data, columns=[\"A\", \"B\", \"C\", \"D\"])\n",
    "df"
   ]
  },
  {
   "cell_type": "code",
   "execution_count": 21,
   "id": "98f68d52",
   "metadata": {},
   "outputs": [
    {
     "name": "stdout",
     "output_type": "stream",
     "text": [
      " === 1. 整合后的股票时间序列数据 === \n",
      "                      open   high    low  volume  announce\n",
      "2025-01-01 09:30:00  100.5  101.0  100.2    1000     False\n",
      "2025-01-01 09:31:00  101.2  150.5  100.8    1200      True\n",
      "2025-01-01 09:32:00    NaN  102.5  101.8     800     False\n",
      "2025-01-01 09:33:00  102.1  102.3  101.9    1500     False\n",
      "2025-01-01 09:34:00  101.8  102.8  101.5     900     False\n",
      "\n",
      " === 2. 各列数据类型详情 === \n",
      "open        float64\n",
      "high        float64\n",
      "low         float64\n",
      "volume        int64\n",
      "announce       bool\n",
      "dtype: object\n",
      "\n",
      " === 3. 缺失值分析 === \n",
      "各列缺失值数量:\n",
      "open        1\n",
      "high        0\n",
      "low         0\n",
      "volume      0\n",
      "announce    0\n",
      "dtype: int64\n",
      "\n",
      "各列缺失值占比(%):\n",
      "open        20.0\n",
      "high         0.0\n",
      "low          0.0\n",
      "volume       0.0\n",
      "announce     0.0\n",
      "dtype: float64\n",
      "\n",
      " === 4. 异常值分析(high列) === \n",
      "open        float64\n",
      "high        float64\n",
      "low         float64\n",
      "volume        int64\n",
      "announce       bool\n",
      "dtype: object\n",
      "正常范围(均值±2倍标准差):[100.56, 103.74]\n",
      "异常值数量:1\n",
      "异常值详情(时间+数值):\n",
      "                      high\n",
      "2025-01-01 09:31:00  150.5\n",
      "                      open   high    low  volume  announce  high_is_outlier\n",
      "2025-01-01 09:30:00  100.5  101.0  100.2    1000     False             True\n",
      "2025-01-01 09:31:00  101.2  150.5  100.8    1200      True            False\n",
      "2025-01-01 09:32:00    NaN  102.5  101.8     800     False             True\n",
      "2025-01-01 09:33:00  102.1  102.3  101.9    1500     False             True\n",
      "2025-01-01 09:34:00  101.8  102.8  101.5     900     False             True\n"
     ]
    }
   ],
   "source": [
    "#股票交易模拟\n",
    "import pandas as pd\n",
    "import numpy as np\n",
    "\n",
    "# 注意:删除无效的外部导入(原代码中from pandas_project_002 importmissing_stats无意义,且会报错)\n",
    "\n",
    "# 1. 修正时间频率参数:用'min'替代 deprecated的‘T',生成5个按分钟排列的时间索引\n",
    "# 统一所有数据源的时间基准,避免合并时数据错位\n",
    "# 使用pd.date_range()生成连续的分钟时间戳,作为后续所有数据的行索引\n",
    "time_index = pd.date_range(\n",
    "start='2025-01-01 09:30:00',\n",
    "periods=5,\n",
    "freq='min')\n",
    "\n",
    "# 2. 构造多数据源(股票价格、成交量、临时公告标记)\n",
    "# 价格数量(字典值为 ndarray,包含1个缺失值模拟数据异常)\n",
    "#价格数据字典:包含开盘价、最高价、最低价、模拟真实数据中的缺失和异常情况\n",
    "price_data = {\n",
    "\"open\": np.array([100.5, 101.2, np.nan, 102.1, 101.8]),\n",
    "\"high\": np.array([101.0, 150.5, 102.5, 102.3, 102.8]),\n",
    "\"low\": np.array([100.2, 100.8, 101.8, 101.9, 101.5])\n",
    "}\n",
    "\n",
    "\n",
    "#成交量数据(字典值为列表,与时间索引长度一致),确保合并时行数匹配\n",
    "volume_data = {\"volume\": [1000, 1200, 800, 1500, 900]} \n",
    "announce_series = pd.Series(\n",
    "    [False, True, False, False, False],\n",
    "    index=time_index,\n",
    "    name=\"announce\")\n",
    "\n",
    "announce_df = announce_series.to_frame()\n",
    "stock_df = pd.DataFrame(\n",
    "    data={ ** price_data, ** volume_data},  #将两个字典解包并进行合并\n",
    "    index=time_index\n",
    ")\n",
    "\n",
    "# 第二步:合并公告数据(用join方法,按索引对齐,无需手动匹配顺序)\n",
    "# join的优势:只要两个DataFrame的索引一致,就会自动按索引合并,避免数据错位\n",
    "stock_df = stock_df.join(announce_df)\n",
    "\n",
    "# 4. 数据质量分析(缺失值检测+异常值检测,异常值用标准差法,行业常用且容易实现)\n",
    "#打印整合后的完整数据,直观查看数据结构和内容\n",
    "print(\" === 1. 整合后的股票时间序列数据 === \")\n",
    "print(stock_df)\n",
    "\n",
    "#打印各列数据类型,确认数据类型正确(如数值列应为float/int,布尔列应为bool)\n",
    "print(\"\\n === 2. 各列数据类型详情 === \")\n",
    "print(stock_df.dtypes)\n",
    "\n",
    "# 缺失值分析:统计每列缺失值的数量和占比(评估数据完整性)\n",
    "# 1. 统计每列缺失值数量:isnull()返回布尔矩阵(True=缺失值),sum()按列求和\n",
    "missing_stats = stock_df.isnull().sum()\n",
    "print(\"\\n === 3. 缺失值分析 === \")\n",
    "print(f\"各列缺失值数量:\\n{missing_stats}\")#结果:仅open列有1个缺失值\n",
    "# 2. 计算缺失值占比:(缺失值/总样本数)*100%,round(2)保留两位小数\n",
    "print(f\"\\n各列缺失值占比(%):\\n{(missing_stats / len(stock_df)*\n",
    "100).round(2)}\")#结果:open列缺失占比20%\n",
    "\n",
    "# 异常值分析(以high列为例,用标准差法:适合近似正态分布的数据)\n",
    "print(\"\\n === 4. 异常值分析(high列) === \")\n",
    "#步骤1:排除缺失值(通用处理逻辑,即使当前high列无缺失,也保留该步骤)\n",
    "# dropna():删除该列中的缺失值,避免影响均值和标准差的计算准确性\n",
    "high_data = stock_df[\"high\"].dropna()\n",
    "\n",
    "# 核心算法:优化IQR筛选逻辑,避免正常数据被误排除\n",
    "# 逻辑:因数据量少(仅5个),用“3倍IQR”替代“1.5倍IQR\",放宽初步筛选范围,只排除\n",
    "q1= high_data.quantile(0.25)\n",
    "q3=high_data.quantile(0.75) #第三四分位数(75%分位数):将数据从小到大排,\n",
    "\n",
    "print(stock_df.dtypes)\n",
    "iqr = q3 - q1\n",
    "\n",
    "initial_low =  q1 - 3 * iqr\n",
    "initial_high = q3 + 3 * iqr\n",
    "high_data_normal = high_data[(high_data >= initial_low) & (high_data <= initial_high)]\n",
    "mean = high_data_normal.mean()\n",
    "std = high_data_normal.std() #标准差\n",
    "lower_bound = mean - 2*std\n",
    "upper_bound = mean + 2*std\n",
    "\n",
    "outliers = stock_df[(stock_df['high'] < lower_bound)|(stock_df[\"high\"] > upper_bound)]\n",
    "stock_df[\"high_is_outlier\"] = stock_df[\"high\"].between(\n",
    "left=lower_bound,\n",
    "right=upper_bound,\n",
    "inclusive='neither'\n",
    ")\n",
    "# 打印异常值分析结果\n",
    "print(f\"正常范围(均值±2倍标准差):[{lower_bound.round(2)}, {upper_bound.round(2)}]\")\n",
    "#修复后结果:[100.82,103.62]\n",
    "print(f\"异常值数量:{len(outliers)}\")#修复后结果:1(仅150.5为异常值)\n",
    "\n",
    "# 若存在异常值,打印具体的时间和数值(定位异常发生的时间点)\n",
    "#判断筛选处的异常值表格outliers是否“非空”,即是否真的有异常数据。只有满足“非\n",
    "if not outliers.empty:\n",
    "    print(\"异常值详情(时间+数值):\")\n",
    "    print(outliers[[\"high\"]])\n",
    "print(stock_df)"
   ]
  },
  {
   "cell_type": "markdown",
   "id": "f3304a1c",
   "metadata": {},
   "source": [
    "### df.quantile()\n",
    "- df.quantile(q=0.5, axis=0, numeric_only=True, interpolation='linear')\n",
    "  - q: 要计算的分位数，取值范围为[0, 1]，默认值为0.5，表示中位数\n",
    "  - axis: 指定计算的轴，0表示按列计算，1表示按行计算，默认值为0\n",
    "  - numeric_only: 如果为True，只计算数值类型的列，默认值为True\n",
    "  - interpolation: 指定插值方法，'linear'表示线性插值，'lower'表示向下取整，'higher'表示向上取整，'midpoint'表示取中点，'nearest'表示取最近值，默认值为'linear'\n",
    "  "
   ]
  },
  {
   "cell_type": "code",
   "execution_count": 7,
   "id": "9780d524",
   "metadata": {},
   "outputs": [
    {
     "data": {
      "text/plain": [
       "0    0\n",
       "1    4\n",
       "2    8\n",
       "Name: N1, dtype: int64"
      ]
     },
     "execution_count": 7,
     "metadata": {},
     "output_type": "execute_result"
    }
   ],
   "source": [
    "import numpy as np\n",
    "import pandas as pd\n",
    "\n",
    "arr = np.arange(12).reshape(3, 4)\n",
    "frame = pd.DataFrame(arr, columns=[\"N1\", \"N2\", \"N3\", \"N4\"])\n",
    "frame.N1\n",
    "\n"
   ]
  },
  {
   "cell_type": "code",
   "execution_count": 8,
   "id": "9714a3c2",
   "metadata": {},
   "outputs": [
    {
     "name": "stdout",
     "output_type": "stream",
     "text": [
      "<class 'pandas.core.frame.DataFrame'>\n",
      "RangeIndex: 3 entries, 0 to 2\n",
      "Data columns (total 4 columns):\n",
      " #   Column  Non-Null Count  Dtype\n",
      "---  ------  --------------  -----\n",
      " 0   N1      3 non-null      int64\n",
      " 1   N2      3 non-null      int64\n",
      " 2   N3      3 non-null      int64\n",
      " 3   N4      3 non-null      int64\n",
      "dtypes: int64(4)\n",
      "memory usage: 228.0 bytes\n"
     ]
    }
   ],
   "source": [
    "frame.info()"
   ]
  },
  {
   "cell_type": "code",
   "execution_count": 9,
   "id": "5de64162",
   "metadata": {},
   "outputs": [
    {
     "name": "stdout",
     "output_type": "stream",
     "text": [
      "    state  year  pop\n",
      "0     AMD  2021  1.2\n",
      "1  Nvidia  2022  1.8\n",
      "2     AMD  2023  1.4\n",
      "DataFrame类型:<class 'pandas.core.frame.DataFrame'>\n",
      "0    1.2\n",
      "1    1.8\n",
      "2    1.4\n",
      "Name: pop, dtype: float64\n",
      "<class 'pandas.core.series.Series'>\n",
      "    state  year  pop\n",
      "1  Nvidia  2022  1.8\n",
      "2     AMD  2023  1.4\n",
      "    state  year  pop\n",
      "1  Nvidia  2022  1.8\n",
      "2     AMD  2023  1.4\n",
      "    state  year  pop\n",
      "0     AMD  2021  1.2\n",
      "1  Nvidia  2022  1.8\n",
      "2     AMD  2023  1.4\n",
      "state    Nvidia\n",
      "year       2022\n",
      "pop         1.8\n",
      "Name: 1, dtype: object <class 'pandas.core.series.Series'>\n",
      "    state  year  pop\n",
      "1  Nvidia  2022  1.8 <class 'pandas.core.frame.DataFrame'>\n"
     ]
    }
   ],
   "source": [
    "import pandas as pd\n",
    "import numpy as np\n",
    "\n",
    "data = {\n",
    "    'state':['AMD', 'Nvidia', 'AMD'], #厂商名称\n",
    "    'year':[2021, 2022, 2023],\n",
    "    'pop':[1.2, 1.8, 1.4] #销售量\n",
    "}\n",
    "\n",
    "df = pd.DataFrame(data)\n",
    "print(df)\n",
    "print(f'DataFrame类型:{ type(df)}')\n",
    "year_series1 = df['pop'] #该操作将使DataFrame转换为series类型\n",
    "#或者\n",
    "#year_series1 = df.pop\n",
    "print(year_series1)\n",
    "print(f\"{type(year_series1)}\")\n",
    "year_Data = df[['pop']] #\n",
    "type(year_Data) # pandas.core.frame.DataFrame\n",
    "\n",
    "#可以使用iloc[]或者loc[]对行进行索引\n",
    "print(df.iloc[[1, 2]])\n",
    "print(df.loc[[1, 2]])\n",
    "print(df.loc[:2])\n",
    "print(df.loc[1],  type(df.loc[1])) #Name: 1, dtype: object <class 'pandas.core.series.Series'>\n",
    "print(df.loc[[1]], type(df.loc[[1]])) #    state  year  pop\n",
    "                                      #      1  Nvidia  2022  1.8 <class 'pandas.core.frame.DataFrame'>\n"
   ]
  },
  {
   "cell_type": "code",
   "execution_count": 10,
   "id": "b6b883c0",
   "metadata": {},
   "outputs": [
    {
     "name": "stdout",
     "output_type": "stream",
     "text": [
      "    state  year  pop\n",
      "1  Nvidia  2022  1.8\n",
      "2     AMD  2023  1.4 <class 'pandas.core.frame.DataFrame'>\n"
     ]
    }
   ],
   "source": [
    "\n",
    "print(df.loc[(df['pop'] > 1.2)], type(df.loc[(df['pop'] > 1.2)])) #连带索引一起删除"
   ]
  },
  {
   "cell_type": "code",
   "execution_count": 11,
   "id": "5310e919",
   "metadata": {},
   "outputs": [
    {
     "name": "stdout",
     "output_type": "stream",
     "text": [
      "    state  year  pop\n",
      "1  Nvidia  2022  1.8\n",
      "2     AMD  2023  1.4\n"
     ]
    }
   ],
   "source": [
    "print(df.loc[1:2]) #包含结束位置"
   ]
  },
  {
   "cell_type": "code",
   "execution_count": 12,
   "id": "ad6c5050",
   "metadata": {},
   "outputs": [
    {
     "data": {
      "text/html": [
       "<div>\n",
       "<style scoped>\n",
       "    .dataframe tbody tr th:only-of-type {\n",
       "        vertical-align: middle;\n",
       "    }\n",
       "\n",
       "    .dataframe tbody tr th {\n",
       "        vertical-align: top;\n",
       "    }\n",
       "\n",
       "    .dataframe thead th {\n",
       "        text-align: right;\n",
       "    }\n",
       "</style>\n",
       "<table border=\"1\" class=\"dataframe\">\n",
       "  <thead>\n",
       "    <tr style=\"text-align: right;\">\n",
       "      <th></th>\n",
       "      <th>year</th>\n",
       "      <th>pop</th>\n",
       "    </tr>\n",
       "  </thead>\n",
       "  <tbody>\n",
       "    <tr>\n",
       "      <th>1</th>\n",
       "      <td>2022</td>\n",
       "      <td>1.8</td>\n",
       "    </tr>\n",
       "  </tbody>\n",
       "</table>\n",
       "</div>"
      ],
      "text/plain": [
       "   year  pop\n",
       "1  2022  1.8"
      ]
     },
     "execution_count": 12,
     "metadata": {},
     "output_type": "execute_result"
    }
   ],
   "source": [
    "df.iloc[1:2, [1, 2]] #行为1列为1-2"
   ]
  },
  {
   "cell_type": "markdown",
   "id": "56b0c4dc",
   "metadata": {},
   "source": [
    "### 其他数据结构\n",
    "- Time-Series: 带有时间索引的一维数据结构，适用于时间序列数据的处理和分析\n",
    "- Panel: 三维数据结构，适用于多维数据的处理和分析，但在最新版本的Pandas中已被弃用，推荐使用MultiIndex DataFrame代替\n",
    "- Panel4D: 四维数据结构，适用于更高维度数据的处理和分析，但在最新版本的Pandas中已被弃用，推荐使用MultiIndex DataFrame代替\n",
    "- PanelND: 多维数据结构，适用于任意维度数据的处理和分析，但在最新版本的Pandas中已被弃用，推荐使用MultiIndex DataFrame代替\n",
    "\n",
    "### MultiIndex\n",
    "- MultiIndex是Pandas中用于处理多级索引的强大工具，允许在DataFrame或Series中使用多个索引级别，从而实现更复杂的数据组织和分析\n",
    "- 创建MultiIndex\n",
    "  - 使用pd.MultiIndex.from_tuples()：从元组列表创建MultiIndex\n",
    "  - 使用pd.MultiIndex.from_arrays()：从数组列表创建MultiIndex\n",
    "  - 使用pd.MultiIndex.from_product()：从多个数组的笛卡尔积创建MultiIndex\n",
    "- 访问和操作MultiIndex\n",
    "  - 使用df.loc[]：基于标签访问MultiIndex数据\n",
    "  - 使用df.xs()：跨级索引选择数据\n",
    "  - 使用df.swaplevel()：交换MultiIndex的级别\n",
    "  - 使用df.sort_index()：对MultiIndex进行排序\n",
    "  - df.unstack()：将MultiIndex的某个级别转换为列\n",
    " - df.stack()：将列转换为MultiIndex的某个级别\n",
    "- 优点\n",
    "  - 更复杂的数据组织：允许在DataFrame或Series中使用多个索引级别，实现更复杂的数据组织\n",
    "  - 灵活的数据访问：可以通过多级索引灵活地访问和操作数据\n",
    "  - 高效的数据分析：支持跨级索引选择和聚合操作，提高数据分析的效率"
   ]
  },
  {
   "cell_type": "code",
   "execution_count": null,
   "id": "f8ca3acf",
   "metadata": {},
   "outputs": [
    {
     "data": {
      "text/plain": [
       "DatetimeIndex(['2025-01-01', '2025-01-02', '2025-01-03', '2025-01-06',\n",
       "               '2025-01-07', '2025-01-08', '2025-01-09', '2025-01-10',\n",
       "               '2025-01-13', '2025-01-14'],\n",
       "              dtype='datetime64[ns]', freq='B')"
      ]
     },
     "execution_count": 2,
     "metadata": {},
     "output_type": "execute_result"
    }
   ],
   "source": [
    "import pandas as pd\n",
    "\n",
    "time_idex = pd.date_range(start='2025-01-01', periods=10, freq=\"B\") #不包括周日\n",
    "time_idex"
   ]
  },
  {
   "cell_type": "markdown",
   "id": "5405ad7a",
   "metadata": {},
   "source": [
    "### pandas写数据的方法\n",
    "- df.to_csv(): 将DataFrame对象保存为CSV文件\n",
    "- df.to_excel(): 将DataFrame对象保存为Excel文件\n",
    "- df.to_json(): 将DataFrame对象保存为JSON文件\n",
    "- df.to_sql(): 将DataFrame对象保存为SQL数据库表\n",
    "- df.to_dict(): 将DataFrame对象转换为字典\n",
    "- df.to_numpy(): 将DataFrame对象转换为NumPy数组\n",
    "- df.to_html(): 将DataFrame对象转换为HTML表格\n",
    "### pandas读数据的方法\n",
    "- pd.read_csv(): 从CSV文件中读取数据，返回一个DataFrame对象\n",
    "- pd.read_excel(): 从Excel文件中读取数据，返回一个DataFrame对象\n",
    "- pd.read_json(): 从JSON文件中读取数据，返回一个DataFrame对象\n",
    "- pd.read_sql(): 从SQL数据库表中读取数据，返回一个DataFrame对象\n",
    "- pd.read_html(): 从HTML表格中读取数据，返回一个DataFrame对象"
   ]
  },
  {
   "cell_type": "code",
   "execution_count": 2,
   "id": "4d140745",
   "metadata": {},
   "outputs": [
    {
     "name": "stdout",
     "output_type": "stream",
     "text": [
      "   编号  姓名 性别    部门\n",
      "0   1  小酒  男  人力资源\n",
      "1   2  小明  女  后勤保障\n",
      "2   3  小节  男    IT\n"
     ]
    }
   ],
   "source": [
    "import pandas as pd\n",
    "df_obj = pd.DataFrame({\n",
    "    '编号':[1, 2, 3],\n",
    "    '姓名': [\"小酒\", \"小明\", \"小节\"],\n",
    "    '性别': ['男', '女', '男'],\n",
    "    '部门': ['人力资源', \"后勤保障\", \"IT\"]\n",
    "})\n",
    "print(df_obj)\n",
    "df_obj.to_csv(r'test.csv', index=False, encoding='utf-8')"
   ]
  },
  {
   "cell_type": "code",
   "execution_count": 15,
   "id": "ba657ee9",
   "metadata": {},
   "outputs": [
    {
     "name": "stdout",
     "output_type": "stream",
     "text": [
      "TXT文件写入完毕\n",
      "   编号  姓名 性别    部门\n",
      "0   1  小酒  男  人力资源\n",
      "1   2  小明  女  后勤保障\n",
      "2   3  小节  男    IT\n"
     ]
    },
    {
     "data": {
      "text/html": [
       "<div>\n",
       "<style scoped>\n",
       "    .dataframe tbody tr th:only-of-type {\n",
       "        vertical-align: middle;\n",
       "    }\n",
       "\n",
       "    .dataframe tbody tr th {\n",
       "        vertical-align: top;\n",
       "    }\n",
       "\n",
       "    .dataframe thead th {\n",
       "        text-align: right;\n",
       "    }\n",
       "</style>\n",
       "<table border=\"1\" class=\"dataframe\">\n",
       "  <thead>\n",
       "    <tr style=\"text-align: right;\">\n",
       "      <th></th>\n",
       "      <th>编号</th>\n",
       "      <th>姓名</th>\n",
       "      <th>性别</th>\n",
       "      <th>部门</th>\n",
       "    </tr>\n",
       "  </thead>\n",
       "  <tbody>\n",
       "    <tr>\n",
       "      <th>2</th>\n",
       "      <td>3</td>\n",
       "      <td>小节</td>\n",
       "      <td>男</td>\n",
       "      <td>IT</td>\n",
       "    </tr>\n",
       "  </tbody>\n",
       "</table>\n",
       "</div>"
      ],
      "text/plain": [
       "   编号  姓名 性别  部门\n",
       "2   3  小节  男  IT"
      ]
     },
     "execution_count": 15,
     "metadata": {},
     "output_type": "execute_result"
    }
   ],
   "source": [
    "import pandas as pd\n",
    "df_obj = pd.read_csv(r'test.csv', encoding='utf-8')\n",
    "\n",
    "#将数据保存为Txt文件使用 '，'为分割符\n",
    "\n",
    "df_obj.to_csv(r'test.txt', index=False, encoding='utf-8')\n",
    "print(\"TXT文件写入完毕\")\n",
    "\n",
    "df_txt = pd.read_csv(r'test.txt', encoding='utf-8')\n",
    "#下面方法也可\n",
    "# df_txt = pd.read_table(r'test.txt', encoding='utf-8', sep=\",\") #将sep分割\n",
    "\n",
    "print(df_txt)\n",
    "#读取后一行\n",
    "df_txt.tail(1)\n",
    "#向xlsx写入数据"
   ]
  },
  {
   "cell_type": "code",
   "execution_count": 34,
   "id": "c9a77b3f",
   "metadata": {},
   "outputs": [
    {
     "data": {
      "text/html": [
       "<div>\n",
       "<style scoped>\n",
       "    .dataframe tbody tr th:only-of-type {\n",
       "        vertical-align: middle;\n",
       "    }\n",
       "\n",
       "    .dataframe tbody tr th {\n",
       "        vertical-align: top;\n",
       "    }\n",
       "\n",
       "    .dataframe thead th {\n",
       "        text-align: right;\n",
       "    }\n",
       "</style>\n",
       "<table border=\"1\" class=\"dataframe\">\n",
       "  <thead>\n",
       "    <tr style=\"text-align: right;\">\n",
       "      <th></th>\n",
       "      <th>编号</th>\n",
       "      <th>姓名</th>\n",
       "      <th>性别</th>\n",
       "    </tr>\n",
       "  </thead>\n",
       "  <tbody>\n",
       "    <tr>\n",
       "      <th>0</th>\n",
       "      <td>1</td>\n",
       "      <td>小酒</td>\n",
       "      <td>男</td>\n",
       "    </tr>\n",
       "    <tr>\n",
       "      <th>1</th>\n",
       "      <td>2</td>\n",
       "      <td>小明</td>\n",
       "      <td>女</td>\n",
       "    </tr>\n",
       "    <tr>\n",
       "      <th>2</th>\n",
       "      <td>3</td>\n",
       "      <td>小节</td>\n",
       "      <td>男</td>\n",
       "    </tr>\n",
       "  </tbody>\n",
       "</table>\n",
       "</div>"
      ],
      "text/plain": [
       "   编号  姓名 性别\n",
       "0   1  小酒  男\n",
       "1   2  小明  女\n",
       "2   3  小节  男"
      ]
     },
     "execution_count": 34,
     "metadata": {},
     "output_type": "execute_result"
    }
   ],
   "source": [
    "df_excel = df_obj.to_excel(r'test.xlsx')\n",
    "\n",
    "pd.read_excel(r\"test.xlsx\", header=0, index_col=0, usecols=[0, 1, 2, 3])\n"
   ]
  },
  {
   "cell_type": "code",
   "execution_count": 37,
   "id": "04905971",
   "metadata": {},
   "outputs": [
    {
     "data": {
      "text/plain": [
       "[    Oct 2025  Oct 2024  Change  Programming Language Programming Language.1  \\\n",
       " 0          1         1     NaN                   NaN                 Python   \n",
       " 1          2         4     NaN                   NaN                      C   \n",
       " 2          3         2     NaN                   NaN                    C++   \n",
       " 3          4         3     NaN                   NaN                   Java   \n",
       " 4          5         5     NaN                   NaN                     C#   \n",
       " 5          6         6     NaN                   NaN             JavaScript   \n",
       " 6          7         7     NaN                   NaN           Visual Basic   \n",
       " 7          8         8     NaN                   NaN                     Go   \n",
       " 8          9        10     NaN                   NaN   Delphi/Object Pascal   \n",
       " 9         10        11     NaN                   NaN                    SQL   \n",
       " 10        11         9     NaN                   NaN                Fortran   \n",
       " 11        12        29     NaN                   NaN                   Perl   \n",
       " 12        13        17     NaN                   NaN                      R   \n",
       " 13        14        15     NaN                   NaN                    PHP   \n",
       " 14        15        16     NaN                   NaN      Assembly language   \n",
       " 15        16        13     NaN                   NaN                   Rust   \n",
       " 16        17        12     NaN                   NaN                 MATLAB   \n",
       " 17        18        14     NaN                   NaN                Scratch   \n",
       " 18        19        24     NaN                   NaN                    Ada   \n",
       " 19        20        21     NaN                   NaN                 Kotlin   \n",
       " \n",
       "    Ratings Change.1  \n",
       " 0   24.45%   +2.55%  \n",
       " 1    9.29%   +0.91%  \n",
       " 2    8.84%   -2.77%  \n",
       " 3    8.35%   -2.15%  \n",
       " 4    6.94%   +1.32%  \n",
       " 5    3.41%   -0.13%  \n",
       " 6    3.22%   +0.87%  \n",
       " 7    1.92%   -0.10%  \n",
       " 8    1.86%   +0.19%  \n",
       " 9    1.77%   +0.13%  \n",
       " 10   1.70%   -0.10%  \n",
       " 11   1.66%   +1.10%  \n",
       " 12   1.52%   +0.43%  \n",
       " 13   1.38%   +0.17%  \n",
       " 14   1.20%   +0.07%  \n",
       " 15   1.19%   -0.25%  \n",
       " 16   1.16%   -0.32%  \n",
       " 17   1.15%   -0.26%  \n",
       " 18   0.98%   +0.25%  \n",
       " 19   0.98%   +0.01%  ,\n",
       "     Position  Programming Language Ratings\n",
       " 0         21  Classic Visual Basic   0.97%\n",
       " 1         22                 Swift   0.94%\n",
       " 2         23                 COBOL   0.86%\n",
       " 3         24                Prolog   0.80%\n",
       " 4         25                  Ruby   0.77%\n",
       " 5         26                   SAS   0.65%\n",
       " 6         27                  Dart   0.62%\n",
       " 7         28                  Lisp   0.55%\n",
       " 8         29       (Visual) FoxPro   0.47%\n",
       " 9         30                 Julia   0.46%\n",
       " 10        31           Objective-C   0.46%\n",
       " 11        32               Haskell   0.45%\n",
       " 12        33                   Lua   0.38%\n",
       " 13        34                 Scala   0.36%\n",
       " 14        35            TypeScript   0.31%\n",
       " 15        36                PL/SQL   0.26%\n",
       " 16        37              VBScript   0.24%\n",
       " 17        38                  GAMS   0.24%\n",
       " 18        39                  ABAP   0.23%\n",
       " 19        40              Solidity   0.20%\n",
       " 20        41                Elixir   0.19%\n",
       " 21        42                     V   0.17%\n",
       " 22        43                   Zig   0.17%\n",
       " 23        44                  Bash   0.16%\n",
       " 24        45                    ML   0.16%\n",
       " 25        46          Transact-SQL   0.15%\n",
       " 26        47            PowerShell   0.15%\n",
       " 27        48                Erlang   0.15%\n",
       " 28        49                   RPG   0.14%\n",
       " 29        50          Ladder Logic   0.14%,\n",
       "     Programming Language 2025 2020 2015 2010 2005 2000 1995 1990 1985\n",
       " 0                 Python    1    3    6    7    7   24   16    -    -\n",
       " 1                    C++    2    4    3    3    3    2    1    2   10\n",
       " 2                      C    3    1    2    2    1    1    2    1    1\n",
       " 3                   Java    4    2    1    1    2    3   32    -    -\n",
       " 4                     C#    5    5    4    6    8   10    -    -    -\n",
       " 5             JavaScript    6    7    8    9   11    8    -    -    -\n",
       " 6                     Go    7   13   61  172    -    -    -    -    -\n",
       " 7           Visual Basic    8   10   11    -    -    -    -    -    -\n",
       " 8   Delphi/Object Pascal    9  188   12   10    9    -    -    -    -\n",
       " 9                    SQL   10    9    -    -    -    -    -    -    -\n",
       " 10                   Ada   17   35   30   24   18   20    5    8    3\n",
       " 11                  Lisp   26   31   28   16   14    9    6    7    2\n",
       " 12        (Visual) Basic    -    -    -    5    6    4    3    3    4,\n",
       "     Year        Winner\n",
       " 0   2024        Python\n",
       " 1   2023            C#\n",
       " 2   2022           C++\n",
       " 3   2021        Python\n",
       " 4   2020        Python\n",
       " 5   2019             C\n",
       " 6   2018        Python\n",
       " 7   2017             C\n",
       " 8   2016            Go\n",
       " 9   2015          Java\n",
       " 10  2014    JavaScript\n",
       " 11  2013  Transact-SQL\n",
       " 12  2012   Objective-C\n",
       " 13  2011   Objective-C\n",
       " 14  2010        Python\n",
       " 15  2009            Go\n",
       " 16  2008             C\n",
       " 17  2007        Python\n",
       " 18  2006          Ruby\n",
       " 19  2005          Java\n",
       " 20  2004           PHP\n",
       " 21  2003           C++]"
      ]
     },
     "execution_count": 37,
     "metadata": {},
     "output_type": "execute_result"
    }
   ],
   "source": [
    "import pandas as pd\n",
    "#读取url\n",
    "tables = pd.read_html(io=\"https://www.tiobe.com/tiobe-index/\")\n",
    "tables"
   ]
  },
  {
   "cell_type": "markdown",
   "id": "936f82d4",
   "metadata": {},
   "source": [
    "### pd.read_sql_table()和pd.read_sql()区别\n",
    "|特性       |pd.read_sql_table          |pd.read_sql          |\n",
    "|----------|------------------|------------------|\n",
    "|主要输入       |表名 (table_name)       |SQL查询语句 或 表名 (sql)       |\n",
    "|灵活性       |低       |非常高       |\n",
    "|核心功能       |读取整张表       |执行任意复杂的 SELECT 查询       |\n",
    "|SQL 知识       |不需要       |需要       |\n",
    "|效率       |当表很大而你只需要部分数据时，效率较低       |当需要筛选或聚合数据时，效率更高       |\n"
   ]
  },
  {
   "cell_type": "code",
   "execution_count": null,
   "id": "7ee2f04d",
   "metadata": {},
   "outputs": [
    {
     "data": {
      "text/html": [
       "<div>\n",
       "<style scoped>\n",
       "    .dataframe tbody tr th:only-of-type {\n",
       "        vertical-align: middle;\n",
       "    }\n",
       "\n",
       "    .dataframe tbody tr th {\n",
       "        vertical-align: top;\n",
       "    }\n",
       "\n",
       "    .dataframe thead th {\n",
       "        text-align: right;\n",
       "    }\n",
       "</style>\n",
       "<table border=\"1\" class=\"dataframe\">\n",
       "  <thead>\n",
       "    <tr style=\"text-align: right;\">\n",
       "      <th></th>\n",
       "      <th>A</th>\n",
       "      <th>B</th>\n",
       "      <th>C</th>\n",
       "      <th>D</th>\n",
       "    </tr>\n",
       "  </thead>\n",
       "  <tbody>\n",
       "    <tr>\n",
       "      <th>0</th>\n",
       "      <td>-1.264053</td>\n",
       "      <td>1.527905</td>\n",
       "      <td>-0.970711</td>\n",
       "      <td>0.470560</td>\n",
       "    </tr>\n",
       "    <tr>\n",
       "      <th>1</th>\n",
       "      <td>-0.100697</td>\n",
       "      <td>0.303793</td>\n",
       "      <td>-1.725962</td>\n",
       "      <td>1.585095</td>\n",
       "    </tr>\n",
       "    <tr>\n",
       "      <th>2</th>\n",
       "      <td>0.134297</td>\n",
       "      <td>-1.106855</td>\n",
       "      <td>1.578226</td>\n",
       "      <td>0.107498</td>\n",
       "    </tr>\n",
       "  </tbody>\n",
       "</table>\n",
       "</div>"
      ],
      "text/plain": [
       "          A         B         C         D\n",
       "0 -1.264053  1.527905 -0.970711  0.470560\n",
       "1 -0.100697  0.303793 -1.725962  1.585095\n",
       "2  0.134297 -1.106855  1.578226  0.107498"
      ]
     },
     "execution_count": 2,
     "metadata": {},
     "output_type": "execute_result"
    }
   ],
   "source": [
    "import pandas as pd\n",
    "import numpy as np\n",
    "np.random.seed(30)\n",
    "data = pd.DataFrame(np.random.randn(6, 4), columns=[\"A\", \"B\", \"C\", \"D\"])\n",
    "data.iloc[:3] #等价于head(3)\n"
   ]
  },
  {
   "cell_type": "code",
   "execution_count": null,
   "id": "b0654fd7",
   "metadata": {},
   "outputs": [
    {
     "name": "stdout",
     "output_type": "stream",
     "text": [
      "DatetimeIndex(['2013-01-01', '2013-01-02', '2013-01-03', '2013-01-04',\n",
      "               '2013-01-05', '2013-01-06'],\n",
      "              dtype='datetime64[ns]', freq='D')\n",
      "Index(['A', 'B', 'C', 'D'], dtype='object')\n",
      "A    float64\n",
      "B    float64\n",
      "C    float64\n",
      "D    float64\n",
      "dtype: object\n",
      "              A         B         C         D\n",
      "count  6.000000  6.000000  6.000000  6.000000\n",
      "mean   0.461293  0.426984 -0.091310 -0.507489\n",
      "std    0.792876  1.463852  0.977649  0.969023\n",
      "min   -0.471573 -1.403892 -1.159011 -1.935950\n",
      "25%   -0.092781 -0.131014 -0.888984 -1.161008\n",
      "50%    0.327948 -0.025529 -0.220294 -0.270011\n",
      "75%    1.048345  0.997048  0.689333  0.289049\n",
      "max    1.527979  2.845123  1.171081  0.413641\n",
      "24\n",
      "2\n",
      "(6, 4)\n"
     ]
    }
   ],
   "source": [
    "dates = pd.date_range('20130101', periods=6) #以该日期为起点的六天\n",
    "df = pd.DataFrame(np.random.randn(6, 4), index=dates, columns=list('ABCD'))\n",
    "print(df.index)\n",
    "print(df.columns)\n",
    "print(df.dtypes)\n",
    "print(df.describe()) #查看描述信息\n",
    "print(df.size) #查看元素个数\n",
    "print(df.ndim) #查看维度\n",
    "print(df.shape) "
   ]
  },
  {
   "cell_type": "markdown",
   "id": "e2330a55",
   "metadata": {},
   "source": [
    "### pandas的增删改查\n",
    "- 增加数据\n",
    "  - 使用df.append()：将行数据添加到DataFrame的末尾，返回一个新的DataFrame\n",
    "  - 使用df.loc[]：通过标签添加或修改行数据\n",
    "  - 使用df.iloc[]：通过位置添加或修改行数据\n",
    "  - 使用df.insert()：在指定位置插入列数据\n",
    "  - 使用df.assign()：添加新列或修改现有列，返回一个新的DataFrame\n",
    "- 删除数据\n",
    "  - 使用df.drop()：删除指定的行或列，返回一个新的DataFrame\n",
    "  - 使用df.pop()：删除指定的列，并返回该列的数据\n",
    "  - 使用df.drop_duplicates()：删除重复的行，返回一个新的DataFrame\n",
    "  - 使用df.dropna()：删除包含缺失值的行或列，返回一个新的DataFrame\n",
    "- 修改数据\n",
    "  - 使用df.loc[]：通过标签修改行或列数据\n",
    "  - 使用df.iloc[]：通过位置修改行或列数据\n",
    "  - 使用df.replace()：替换指定的值，返回一个新的DataFrame\n",
    "  - 使用df.fillna()：填充缺失值，返回一个新的DataFrame\n",
    "- 查询数据\n",
    "  - 使用df.loc[]：基于标签选择数据\n",
    "  - 使用df.iloc[]：基于位置选择数据\n",
    "  - 使用df.query()：使用表达式查询数据，返回一个新的DataFrame\n",
    "  - 使用df.filter()：根据条件过滤数据，返回一个新的DataFrame\n",
    "  - 使用df.sample()：随机抽取数据，返回一个新的DataFrame\n",
    "  - 使用df.groupby()：对数据进行分组，返回一个GroupBy对象，可以进行聚合操作\n",
    "  - 使用df.agg()：对分组数据进行聚合操作，返回一个新的DataFrame\n",
    "\n",
    "\n",
    "| 传入 [] 的内容       | 功能               | 返回类型           |\n",
    "|------------------|------------------|------------------|\n",
    "| '列名' (字符串)      | 选择单列           | Series           |\n",
    "| [['列1', '列2']] (列表) | 选择多列           | DataFrame         |\n",
    "| [布尔序列]          | 按条件筛选行       | DataFrame         |\n",
    "| [开始:结束] (切片)     | 选择连续的行       | DataFrame         |\n",
    "\n",
    "\n"
   ]
  },
  {
   "cell_type": "code",
   "execution_count": 17,
   "id": "2e98786a",
   "metadata": {},
   "outputs": [
    {
     "data": {
      "text/html": [
       "<div>\n",
       "<style scoped>\n",
       "    .dataframe tbody tr th:only-of-type {\n",
       "        vertical-align: middle;\n",
       "    }\n",
       "\n",
       "    .dataframe tbody tr th {\n",
       "        vertical-align: top;\n",
       "    }\n",
       "\n",
       "    .dataframe thead th {\n",
       "        text-align: right;\n",
       "    }\n",
       "</style>\n",
       "<table border=\"1\" class=\"dataframe\">\n",
       "  <thead>\n",
       "    <tr style=\"text-align: right;\">\n",
       "      <th></th>\n",
       "      <th>Numbers</th>\n",
       "    </tr>\n",
       "  </thead>\n",
       "  <tbody>\n",
       "    <tr>\n",
       "      <th>0</th>\n",
       "      <td>1</td>\n",
       "    </tr>\n",
       "    <tr>\n",
       "      <th>1</th>\n",
       "      <td>2</td>\n",
       "    </tr>\n",
       "    <tr>\n",
       "      <th>2</th>\n",
       "      <td>3</td>\n",
       "    </tr>\n",
       "    <tr>\n",
       "      <th>3</th>\n",
       "      <td>4</td>\n",
       "    </tr>\n",
       "    <tr>\n",
       "      <th>4</th>\n",
       "      <td>5</td>\n",
       "    </tr>\n",
       "  </tbody>\n",
       "</table>\n",
       "</div>"
      ],
      "text/plain": [
       "   Numbers\n",
       "0        1\n",
       "1        2\n",
       "2        3\n",
       "3        4\n",
       "4        5"
      ]
     },
     "execution_count": 17,
     "metadata": {},
     "output_type": "execute_result"
    }
   ],
   "source": [
    "import numpy as np\n",
    "import pandas as pd\n",
    "arr = np.array([1, 2, 3, 4, 5])\n",
    "s = pd.Series(arr, name='Numbers')\n",
    "s_df = s.to_frame()\n",
    "s_df"
   ]
  },
  {
   "cell_type": "markdown",
   "id": "585744d7",
   "metadata": {},
   "source": [
    "### pandas的统计\n",
    "- 描述性统计\n",
    "  - df.describe(): 返回DataFrame的统计信息，如计数、均值、标准差、最小值、最大值等\n",
    "  - df.info(): 返回DataFrame的简要信息，如数据类型、非空值数量等\n",
    "  - df.count(): 计算每列的非空值数量\n",
    "  - df.mean(): 计算每列的均值\n",
    "  - df.median(): 计算每列的中位数\n",
    "  - df.std(): 计算每列的标准差\n",
    "  - df.var(): 计算每列的方差\n",
    "  - df.min(): 返回每列的最小值\n",
    "  - df.max(): 返回每列的最大值\n",
    "  - df.quantile(): 计算每列的分位数\n",
    "  - df.corr(): 计算DataFrame中各列之间的相关系数\n",
    "  - df.cov(): 计算DataFrame中各列之间的协方差\n",
    "  - df.skew(): 计算每列的偏度\n",
    "  - df.kurt(): 计算每列的峰度\n",
    "\n",
    "- 聚合统计\n",
    "    - df.groupby(): 对数据进行分组，返回一个GroupBy对象，可以进行聚合操作\n",
    "    - df.agg(): 对分组数据进行聚合操作，返回一个新的DataFrame\n",
    "    - df.pivot_table(): 创建数据透视表，支持多种聚合函数\n",
    "    - df.value_counts(): 返回每个唯一值的出现次数\n",
    "    - df.unique(): 返回每列中的唯一值\n",
    "    - df.nunique(): 计算每列中的唯一值数量  \n",
    "### 索引重置\n",
    "- df.reset_index(): 重置DataFrame的索引，返回一个新的DataFrame\n",
    "- df.set_index(): 设置DataFrame的索引，返回一个新的DataFrame\n",
    "- df.reindex(): 根据新的索引重新排列DataFrame，返回一个新的DataFrame， fill_value参数指定缺失值的填充值, method参数指定填充方法(其中ffill向前填充,dfill向后填充, nearest临近值索引), limit参数指定填充的最大数量\n",
    "\n",
    "- df.rename(): 重命名DataFrame的行或列标签，返回一个新的DataFrame"
   ]
  },
  {
   "cell_type": "code",
   "execution_count": null,
   "id": "69d4e544",
   "metadata": {},
   "outputs": [
    {
     "name": "stdout",
     "output_type": "stream",
     "text": [
      "a    1\n",
      "b    2\n",
      "c    3\n",
      "d    4\n",
      "dtype: int64\n",
      "a    1\n",
      "b    2\n",
      "c    3\n",
      "e    9\n",
      "dtype: int64\n",
      "a    1\n",
      "b    2\n",
      "c    3\n",
      "e    4\n",
      "dtype: int64\n"
     ]
    }
   ],
   "source": [
    "import numpy as np\n",
    "import pandas as pd\n",
    "arr = np.array([1, 2, 3, 4])\n",
    "\n",
    "arr_seri = pd.Series(arr, index=['a', 'b', 'c', 'd'])\n",
    "print(arr_seri)\n",
    "new_se = arr_seri.reindex(index=['a', 'b', 'c', 'e'], fill_value=9)\n",
    "print(new_se)\n",
    "new_se = arr_seri.reindex(index=['a', 'b', 'c', 'e'], method='ffill') #它会使用新索引出现缺失值（NaN）之前最后一个有效（非缺失）的值 来填充这个缺失值。\n",
    "print(new_se)"
   ]
  },
  {
   "cell_type": "code",
   "execution_count": null,
   "id": "1e91d530",
   "metadata": {},
   "outputs": [
    {
     "data": {
      "text/plain": [
       "b    2\n",
       "dtype: int64"
      ]
     },
     "execution_count": 7,
     "metadata": {},
     "output_type": "execute_result"
    }
   ],
   "source": [
    "new_se\n",
    "new_se[1:2] #左闭右开\n",
    "new_se[\"a\":\"b\"] #左闭右闭\n"
   ]
  },
  {
   "cell_type": "code",
   "execution_count": 20,
   "id": "c6579962",
   "metadata": {},
   "outputs": [
    {
     "name": "stdout",
     "output_type": "stream",
     "text": [
      "   r1  r2\n",
      "B   4   5\n",
      "C   8   9\n",
      "   r1  r2\n",
      "B   4   5\n",
      "C   8   9\n"
     ]
    },
    {
     "data": {
      "text/html": [
       "<div>\n",
       "<style scoped>\n",
       "    .dataframe tbody tr th:only-of-type {\n",
       "        vertical-align: middle;\n",
       "    }\n",
       "\n",
       "    .dataframe tbody tr th {\n",
       "        vertical-align: top;\n",
       "    }\n",
       "\n",
       "    .dataframe thead th {\n",
       "        text-align: right;\n",
       "    }\n",
       "</style>\n",
       "<table border=\"1\" class=\"dataframe\">\n",
       "  <thead>\n",
       "    <tr style=\"text-align: right;\">\n",
       "      <th></th>\n",
       "      <th>r1</th>\n",
       "    </tr>\n",
       "  </thead>\n",
       "  <tbody>\n",
       "    <tr>\n",
       "      <th>A</th>\n",
       "      <td>0</td>\n",
       "    </tr>\n",
       "  </tbody>\n",
       "</table>\n",
       "</div>"
      ],
      "text/plain": [
       "   r1\n",
       "A   0"
      ]
     },
     "execution_count": 20,
     "metadata": {},
     "output_type": "execute_result"
    }
   ],
   "source": [
    "import numpy as np\n",
    "import pandas as pd\n",
    "arr = np.arange(12).reshape(3, 4)\n",
    "df = pd.DataFrame(arr, index=[\"A\",\"B\", \"C\"], columns=[\"r1\", \"r2\", \"r3\", \"r4\"])\n",
    "df\n",
    "print(df[1:3][['r1', 'r2']])\n",
    "print(df[(df['r1'] > 2)][['r1', 'r2']])\n",
    "df.loc[:\"A\", [\"r1\"]]\n"
   ]
  },
  {
   "cell_type": "markdown",
   "id": "11a999cc",
   "metadata": {},
   "source": [
    "### 副本和视图\n",
    "- 副本（Copy）: 副本是原始数据的一个独立副本，修改副本不会影响原始数据(类似于深拷贝)\n",
    "- 视图（View）: 视图是原始数据的一个引用，修改视图会影响原始数据\n",
    "- 创建副本\n",
    "    - 使用df.copy(): 创建DataFrame的副本，返回一个新的DataFrame\n",
    "    - 使用series.copy(): 创建Series的副本，返回一个新的Series\n",
    "    - 使用np.copy(): 创建NumPy数组的副本，返回一个新的数组\n",
    "    - 使用np.array(): 创建NumPy数组的副本，返回一个新的数组\n",
    "- 创建视图\n",
    "    - 使用df.loc[]: 通过标签选择数据，返回一个视图\n",
    "    - 使用df.iloc[]: 通过位置选择数据，返回一个视图\n",
    "    - 使用series.loc[]: 通过标签选择数据，返回一个视图\n",
    "    - 使用series.iloc[]: 通过位置选择数据，返回一个视图\n",
    "    - 使用np.ndarray.view(): 创建NumPy数组的视图，返回一个新的数组，但与原数组共享数据，其中参数\n"
   ]
  },
  {
   "cell_type": "code",
   "execution_count": 33,
   "id": "d0f640fb",
   "metadata": {},
   "outputs": [
    {
     "data": {
      "text/plain": [
       "array([ 0,  2,  3,  4,  5,  6,  7,  8,  9, 10, 11])"
      ]
     },
     "execution_count": 33,
     "metadata": {},
     "output_type": "execute_result"
    }
   ],
   "source": [
    "arr = np.arange(12).reshape(3, 4)\n",
    "np.delete(arr, 1) #将数组展平后删除下标位1的数据, 返回的是副本"
   ]
  },
  {
   "cell_type": "code",
   "execution_count": null,
   "id": "5a55f9cb",
   "metadata": {},
   "outputs": [
    {
     "name": "stdout",
     "output_type": "stream",
     "text": [
      "vstack:\n",
      "[[1]\n",
      " [2]\n",
      " [3]\n",
      " [4]\n",
      " [5]\n",
      " [6]]\n",
      "\n",
      "hstack:\n",
      "[[1 4]\n",
      " [2 5]\n",
      " [3 6]]\n"
     ]
    }
   ],
   "source": [
    "a = np.array([[1], [2], [3]])\n",
    "b = np.array([[4], [5], [6]])\n",
    "# 垂直堆叠方法于concatenat((a, b), axis=0)\n",
    "v_stacked = np.vstack((a, b))\n",
    "print(f\"vstack:\\n{v_stacked}\")\n",
    "\n",
    "# 水平堆叠concatenat((a, b), axis=1)\n",
    "h_stacked = np.hstack((a, b))\n",
    "print(f\"\\nhstack:\\n{h_stacked}\")"
   ]
  },
  {
   "cell_type": "code",
   "execution_count": null,
   "id": "4a1d21c7",
   "metadata": {},
   "outputs": [
    {
     "name": "stdout",
     "output_type": "stream",
     "text": [
      "   1  2  3\n",
      "1  6  7  8\n",
      "2  0  1  2\n",
      "3  3  4  5\n"
     ]
    },
    {
     "data": {
      "text/html": [
       "<div>\n",
       "<style scoped>\n",
       "    .dataframe tbody tr th:only-of-type {\n",
       "        vertical-align: middle;\n",
       "    }\n",
       "\n",
       "    .dataframe tbody tr th {\n",
       "        vertical-align: top;\n",
       "    }\n",
       "\n",
       "    .dataframe thead th {\n",
       "        text-align: right;\n",
       "    }\n",
       "</style>\n",
       "<table border=\"1\" class=\"dataframe\">\n",
       "  <thead>\n",
       "    <tr style=\"text-align: right;\">\n",
       "      <th></th>\n",
       "      <th>1</th>\n",
       "      <th>2</th>\n",
       "      <th>3</th>\n",
       "    </tr>\n",
       "  </thead>\n",
       "  <tbody>\n",
       "    <tr>\n",
       "      <th>2</th>\n",
       "      <td>0</td>\n",
       "      <td>1</td>\n",
       "      <td>2</td>\n",
       "    </tr>\n",
       "    <tr>\n",
       "      <th>3</th>\n",
       "      <td>3</td>\n",
       "      <td>4</td>\n",
       "      <td>5</td>\n",
       "    </tr>\n",
       "    <tr>\n",
       "      <th>1</th>\n",
       "      <td>6</td>\n",
       "      <td>7</td>\n",
       "      <td>8</td>\n",
       "    </tr>\n",
       "  </tbody>\n",
       "</table>\n",
       "</div>"
      ],
      "text/plain": [
       "   1  2  3\n",
       "2  0  1  2\n",
       "3  3  4  5\n",
       "1  6  7  8"
      ]
     },
     "execution_count": 43,
     "metadata": {},
     "output_type": "execute_result"
    }
   ],
   "source": [
    "import pandas as pd\n",
    "import numpy as np\n",
    "df_obj = pd.DataFrame(\n",
    "    np.arange(9).reshape(3, 3),\n",
    "    index=[2, 3, 1],\n",
    "    columns=[1, 2, 3]\n",
    ")\n",
    "\n",
    "print(df_obj.sort_index())\n",
    "df_obj.sort_values(by=1) #标签为1的列中数值进行排序"
   ]
  },
  {
   "cell_type": "code",
   "execution_count": 53,
   "id": "87b1b554",
   "metadata": {},
   "outputs": [
    {
     "name": "stdout",
     "output_type": "stream",
     "text": [
      "    Name Department  Age  Salary\n",
      "0  Alice         HR   28    6000\n",
      "1    Bob         IT   35    8500\n",
      "==================================================\n",
      "    Name Department  Age  Salary\n",
      "0  Alice         HR   28    6000\n",
      "1    Bob         IT   35    8500\n",
      "==================================================\n",
      "    Name Department  Age  Salary\n",
      "6  Grace         IT   27    8000\n",
      "5  Frank         HR   33    6500\n",
      "==================================================\n",
      "按照薪水升序排序\n",
      "      Name Department  Age  Salary\n",
      "0    Alice         HR   28    6000\n",
      "5    Frank         HR   33    6500\n",
      "4      Eve    Finance   29    7200\n",
      "2  Charlie    Finance   30    7500\n",
      "6    Grace         IT   27    8000\n",
      "==================================================\n",
      "按照年龄和部门降序排序\n",
      "      Name Department  Age  Salary\n",
      "3    David         IT   40    9200\n",
      "1      Bob         IT   35    8500\n",
      "5    Frank         HR   33    6500\n",
      "2  Charlie    Finance   30    7500\n",
      "4      Eve    Finance   29    7200\n"
     ]
    }
   ],
   "source": [
    "import pandas as pd\n",
    "\n",
    "df = pd.read_csv('data/employees.csv')\n",
    "print(df.head(2))\n",
    "print(\"=\"*50)\n",
    "#按照索引nane排序\n",
    "df_sorted_index = df.sort_index(ascending=True) #按照索引升序排列\n",
    "print(df_sorted_index.head(2))\n",
    "print(\"=\"*50)\n",
    "\n",
    "df_sorted_index = df.sort_index(ascending=False) #按照索引降序排列\n",
    "print(df_sorted_index.head(2))\n",
    "print(\"=\"*50)\n",
    "print(\"按照薪水升序排序\")\n",
    "df_sorted_sal = df.sort_values(by=\"Salary\", ascending=True)\n",
    "print(df_sorted_sal.head())\n",
    "print(\"=\"*50)\n",
    "print(\"按照年龄和部门降序排序\")\n",
    "df_sorted_ageanddp = df.sort_values(by=['Age','Department'], ascending=[False, False])\n",
    "print(df_sorted_ageanddp.head())\n",
    "\n"
   ]
  },
  {
   "cell_type": "markdown",
   "id": "bdc34f0a",
   "metadata": {},
   "source": [
    "### MultiIndex对象\n",
    "- from_tuples(): 从元组列表创建MultiIndex, 元组列表为二维列表[(), ()], 各元组长度必须相同, 维度数为元组长度\n",
    "- from_arrays(): 从数组列表创建MultiIndex, 数组列表为二维列表[[], []], 各数组长度必须相同， 维度数为数组个数\n",
    "- from_product(): 从多个数组的笛卡尔积创建MultiIndex, 数组列表为二维列表[[], []], 各数组长度可以不同， 维度数为数组个数\n",
    "- from_frame(): 从DataFrame创建MultiIndex\n"
   ]
  },
  {
   "cell_type": "code",
   "execution_count": null,
   "id": "1680645c",
   "metadata": {},
   "outputs": [
    {
     "data": {
      "text/html": [
       "<div>\n",
       "<style scoped>\n",
       "    .dataframe tbody tr th:only-of-type {\n",
       "        vertical-align: middle;\n",
       "    }\n",
       "\n",
       "    .dataframe tbody tr th {\n",
       "        vertical-align: top;\n",
       "    }\n",
       "\n",
       "    .dataframe thead tr th {\n",
       "        text-align: left;\n",
       "    }\n",
       "\n",
       "    .dataframe thead tr:last-of-type th {\n",
       "        text-align: right;\n",
       "    }\n",
       "</style>\n",
       "<table border=\"1\" class=\"dataframe\">\n",
       "  <thead>\n",
       "    <tr>\n",
       "      <th></th>\n",
       "      <th></th>\n",
       "      <th>store</th>\n",
       "      <th colspan=\"4\" halign=\"left\">Store1</th>\n",
       "      <th colspan=\"4\" halign=\"left\">Store2</th>\n",
       "    </tr>\n",
       "    <tr>\n",
       "      <th></th>\n",
       "      <th></th>\n",
       "      <th>Item</th>\n",
       "      <th>apple</th>\n",
       "      <th>orange</th>\n",
       "      <th>banana</th>\n",
       "      <th>lemon</th>\n",
       "      <th>apple</th>\n",
       "      <th>orange</th>\n",
       "      <th>banana</th>\n",
       "      <th>lemon</th>\n",
       "    </tr>\n",
       "    <tr>\n",
       "      <th>Year</th>\n",
       "      <th>Quarter</th>\n",
       "      <th>number</th>\n",
       "      <th></th>\n",
       "      <th></th>\n",
       "      <th></th>\n",
       "      <th></th>\n",
       "      <th></th>\n",
       "      <th></th>\n",
       "      <th></th>\n",
       "      <th></th>\n",
       "    </tr>\n",
       "  </thead>\n",
       "  <tbody>\n",
       "    <tr>\n",
       "      <th rowspan=\"3\" valign=\"top\">2024</th>\n",
       "      <th>Q1</th>\n",
       "      <th>1</th>\n",
       "      <td>39</td>\n",
       "      <td>32</td>\n",
       "      <td>60</td>\n",
       "      <td>81</td>\n",
       "      <td>10</td>\n",
       "      <td>44</td>\n",
       "      <td>88</td>\n",
       "      <td>76</td>\n",
       "    </tr>\n",
       "    <tr>\n",
       "      <th rowspan=\"2\" valign=\"top\">Q2</th>\n",
       "      <th>2</th>\n",
       "      <td>25</td>\n",
       "      <td>89</td>\n",
       "      <td>18</td>\n",
       "      <td>55</td>\n",
       "      <td>37</td>\n",
       "      <td>59</td>\n",
       "      <td>69</td>\n",
       "      <td>79</td>\n",
       "    </tr>\n",
       "    <tr>\n",
       "      <th>3</th>\n",
       "      <td>79</td>\n",
       "      <td>77</td>\n",
       "      <td>13</td>\n",
       "      <td>92</td>\n",
       "      <td>97</td>\n",
       "      <td>35</td>\n",
       "      <td>11</td>\n",
       "      <td>2</td>\n",
       "    </tr>\n",
       "    <tr>\n",
       "      <th rowspan=\"3\" valign=\"top\">2025</th>\n",
       "      <th>Q1</th>\n",
       "      <th>1</th>\n",
       "      <td>37</td>\n",
       "      <td>95</td>\n",
       "      <td>77</td>\n",
       "      <td>17</td>\n",
       "      <td>54</td>\n",
       "      <td>81</td>\n",
       "      <td>84</td>\n",
       "      <td>85</td>\n",
       "    </tr>\n",
       "    <tr>\n",
       "      <th>Q2</th>\n",
       "      <th>2</th>\n",
       "      <td>98</td>\n",
       "      <td>54</td>\n",
       "      <td>70</td>\n",
       "      <td>48</td>\n",
       "      <td>90</td>\n",
       "      <td>49</td>\n",
       "      <td>39</td>\n",
       "      <td>60</td>\n",
       "    </tr>\n",
       "    <tr>\n",
       "      <th>Q3</th>\n",
       "      <th>3</th>\n",
       "      <td>18</td>\n",
       "      <td>54</td>\n",
       "      <td>48</td>\n",
       "      <td>61</td>\n",
       "      <td>97</td>\n",
       "      <td>55</td>\n",
       "      <td>80</td>\n",
       "      <td>28</td>\n",
       "    </tr>\n",
       "  </tbody>\n",
       "</table>\n",
       "</div>"
      ],
      "text/plain": [
       "store               Store1                     Store2                    \n",
       "Item                 apple orange banana lemon  apple orange banana lemon\n",
       "Year Quarter number                                                      \n",
       "2024 Q1      1          39     32     60    81     10     44     88    76\n",
       "     Q2      2          25     89     18    55     37     59     69    79\n",
       "             3          79     77     13    92     97     35     11     2\n",
       "2025 Q1      1          37     95     77    17     54     81     84    85\n",
       "     Q2      2          98     54     70    48     90     49     39    60\n",
       "     Q3      3          18     54     48    61     97     55     80    28"
      ]
     },
     "execution_count": 60,
     "metadata": {},
     "output_type": "execute_result"
    }
   ],
   "source": [
    "import pandas as pd\n",
    "import numpy as np\n",
    "#创建多层索引\n",
    "year_quarter = [('2024', 'Q1', 1),('2024', 'Q2', 2),('2024', 'Q2', 3), #顺序改变将会发生变化\n",
    "                ('2025', 'Q1', 1),('2025', 'Q2', 2),('2025', 'Q3', 3)]\n",
    "store = ('Store1', 'Store2')\n",
    "item = ('apple', 'orange', 'banana', 'lemon')\n",
    "\n",
    "mutli_idex = pd.MultiIndex.from_tuples(year_quarter, names=['Year', 'Quarter', 'number'])\n",
    "data = np.random.randint(0, 100, size=(len(year_quarter), len(item)*len(store)))\n",
    "df = pd.DataFrame(data, index=mutli_idex, columns=pd.MultiIndex.from_product([store, item], names=['store', 'Item']))\n",
    "df"
   ]
  },
  {
   "cell_type": "code",
   "execution_count": 67,
   "id": "bcc1a983",
   "metadata": {},
   "outputs": [
    {
     "data": {
      "text/html": [
       "<div>\n",
       "<style scoped>\n",
       "    .dataframe tbody tr th:only-of-type {\n",
       "        vertical-align: middle;\n",
       "    }\n",
       "\n",
       "    .dataframe tbody tr th {\n",
       "        vertical-align: top;\n",
       "    }\n",
       "\n",
       "    .dataframe thead tr th {\n",
       "        text-align: left;\n",
       "    }\n",
       "\n",
       "    .dataframe thead tr:last-of-type th {\n",
       "        text-align: right;\n",
       "    }\n",
       "</style>\n",
       "<table border=\"1\" class=\"dataframe\">\n",
       "  <thead>\n",
       "    <tr>\n",
       "      <th></th>\n",
       "      <th>学年</th>\n",
       "      <th colspan=\"3\" halign=\"left\">第一学年</th>\n",
       "      <th colspan=\"3\" halign=\"left\">第二学年</th>\n",
       "    </tr>\n",
       "    <tr>\n",
       "      <th></th>\n",
       "      <th>科目</th>\n",
       "      <th>数学</th>\n",
       "      <th>英语</th>\n",
       "      <th>语文</th>\n",
       "      <th>数学</th>\n",
       "      <th>英语</th>\n",
       "      <th>语文</th>\n",
       "    </tr>\n",
       "    <tr>\n",
       "      <th>班级</th>\n",
       "      <th>成员</th>\n",
       "      <th></th>\n",
       "      <th></th>\n",
       "      <th></th>\n",
       "      <th></th>\n",
       "      <th></th>\n",
       "      <th></th>\n",
       "    </tr>\n",
       "  </thead>\n",
       "  <tbody>\n",
       "    <tr>\n",
       "      <th rowspan=\"3\" valign=\"top\">一年级</th>\n",
       "      <th>班长</th>\n",
       "      <td>9</td>\n",
       "      <td>94</td>\n",
       "      <td>46</td>\n",
       "      <td>65</td>\n",
       "      <td>76</td>\n",
       "      <td>70</td>\n",
       "    </tr>\n",
       "    <tr>\n",
       "      <th>学委</th>\n",
       "      <td>65</td>\n",
       "      <td>27</td>\n",
       "      <td>64</td>\n",
       "      <td>21</td>\n",
       "      <td>65</td>\n",
       "      <td>43</td>\n",
       "    </tr>\n",
       "    <tr>\n",
       "      <th>生活委员</th>\n",
       "      <td>26</td>\n",
       "      <td>78</td>\n",
       "      <td>27</td>\n",
       "      <td>5</td>\n",
       "      <td>2</td>\n",
       "      <td>89</td>\n",
       "    </tr>\n",
       "    <tr>\n",
       "      <th rowspan=\"3\" valign=\"top\">二年级</th>\n",
       "      <th>班长</th>\n",
       "      <td>82</td>\n",
       "      <td>84</td>\n",
       "      <td>3</td>\n",
       "      <td>88</td>\n",
       "      <td>24</td>\n",
       "      <td>1</td>\n",
       "    </tr>\n",
       "    <tr>\n",
       "      <th>学委</th>\n",
       "      <td>48</td>\n",
       "      <td>41</td>\n",
       "      <td>29</td>\n",
       "      <td>5</td>\n",
       "      <td>55</td>\n",
       "      <td>74</td>\n",
       "    </tr>\n",
       "    <tr>\n",
       "      <th>生活委员</th>\n",
       "      <td>94</td>\n",
       "      <td>13</td>\n",
       "      <td>10</td>\n",
       "      <td>92</td>\n",
       "      <td>30</td>\n",
       "      <td>24</td>\n",
       "    </tr>\n",
       "  </tbody>\n",
       "</table>\n",
       "</div>"
      ],
      "text/plain": [
       "学年       第一学年         第二学年        \n",
       "科目         数学  英语  语文   数学  英语  语文\n",
       "班级  成员                            \n",
       "一年级 班长      9  94  46   65  76  70\n",
       "    学委     65  27  64   21  65  43\n",
       "    生活委员   26  78  27    5   2  89\n",
       "二年级 班长     82  84   3   88  24   1\n",
       "    学委     48  41  29    5  55  74\n",
       "    生活委员   94  13  10   92  30  24"
      ]
     },
     "execution_count": 67,
     "metadata": {},
     "output_type": "execute_result"
    }
   ],
   "source": [
    "classname = [\"一年级\", \"二年级\"]\n",
    "members = ['班长', '学委', '生活委员']\n",
    "year = [\"第一学年\", \"第二学年\"]\n",
    "item = [\"数学\", \"英语\", \"语文\"]\n",
    "\n",
    "class_index = pd.MultiIndex.from_product([classname, members], names=[\"班级\", \"成员\"])\n",
    "year_column = pd.MultiIndex.from_product([year, item], names=[\"学年\", \"科目\"])\n",
    "df = pd.DataFrame(np.random.randint(1, 100, 36).reshape(6, 6),\n",
    "                  index=class_index,\n",
    "                  columns=year_column)\n",
    "df"
   ]
  },
  {
   "cell_type": "code",
   "execution_count": null,
   "id": "fc684f82",
   "metadata": {},
   "outputs": [
    {
     "data": {
      "text/html": [
       "<div>\n",
       "<style scoped>\n",
       "    .dataframe tbody tr th:only-of-type {\n",
       "        vertical-align: middle;\n",
       "    }\n",
       "\n",
       "    .dataframe tbody tr th {\n",
       "        vertical-align: top;\n",
       "    }\n",
       "\n",
       "    .dataframe thead tr th {\n",
       "        text-align: left;\n",
       "    }\n",
       "\n",
       "    .dataframe thead tr:last-of-type th {\n",
       "        text-align: right;\n",
       "    }\n",
       "</style>\n",
       "<table border=\"1\" class=\"dataframe\">\n",
       "  <thead>\n",
       "    <tr>\n",
       "      <th></th>\n",
       "      <th>学年</th>\n",
       "      <th>第一学年</th>\n",
       "      <th>第二学年</th>\n",
       "      <th>第三学年</th>\n",
       "    </tr>\n",
       "    <tr>\n",
       "      <th></th>\n",
       "      <th>科目</th>\n",
       "      <th>数学</th>\n",
       "      <th>英语</th>\n",
       "      <th>语文</th>\n",
       "    </tr>\n",
       "    <tr>\n",
       "      <th>班级</th>\n",
       "      <th>成员</th>\n",
       "      <th></th>\n",
       "      <th></th>\n",
       "      <th></th>\n",
       "    </tr>\n",
       "  </thead>\n",
       "  <tbody>\n",
       "    <tr>\n",
       "      <th>一年级</th>\n",
       "      <th>班长</th>\n",
       "      <td>29</td>\n",
       "      <td>71</td>\n",
       "      <td>3</td>\n",
       "    </tr>\n",
       "    <tr>\n",
       "      <th>二年级</th>\n",
       "      <th>学委</th>\n",
       "      <td>43</td>\n",
       "      <td>24</td>\n",
       "      <td>31</td>\n",
       "    </tr>\n",
       "    <tr>\n",
       "      <th>三年级</th>\n",
       "      <th>生活委员</th>\n",
       "      <td>36</td>\n",
       "      <td>78</td>\n",
       "      <td>78</td>\n",
       "    </tr>\n",
       "  </tbody>\n",
       "</table>\n",
       "</div>"
      ],
      "text/plain": [
       "学年       第一学年 第二学年 第三学年\n",
       "科目         数学   英语   语文\n",
       "班级  成员                 \n",
       "一年级 班长     29   71    3\n",
       "二年级 学委     43   24   31\n",
       "三年级 生活委员   36   78   78"
      ]
     },
     "execution_count": 70,
     "metadata": {},
     "output_type": "execute_result"
    }
   ],
   "source": [
    "classname = [\"一年级\",\"二年级\", \"三年级\"]\n",
    "members = ['班长', '学委', '生活委员']\n",
    "year = [\"第一学年\", \"第二学年\", \"第三学年\"]\n",
    "item = [\"数学\", \"英语\", \"语文\"]\n",
    "class_index = pd.MultiIndex.from_arrays([classname, members], names=[\"班级\", \"成员\"])\n",
    "year_column = pd.MultiIndex.from_arrays([year, item], names=[\"学年\", \"科目\"])\n",
    "df = pd.DataFrame(np.random.randint(1, 100, 9).reshape(3, 3),\n",
    "                  index=class_index,\n",
    "                  columns=year_column)\n",
    "df"
   ]
  },
  {
   "cell_type": "code",
   "execution_count": 55,
   "id": "9846fa63",
   "metadata": {},
   "outputs": [
    {
     "data": {
      "text/html": [
       "<div>\n",
       "<style scoped>\n",
       "    .dataframe tbody tr th:only-of-type {\n",
       "        vertical-align: middle;\n",
       "    }\n",
       "\n",
       "    .dataframe tbody tr th {\n",
       "        vertical-align: top;\n",
       "    }\n",
       "\n",
       "    .dataframe thead tr th {\n",
       "        text-align: left;\n",
       "    }\n",
       "\n",
       "    .dataframe thead tr:last-of-type th {\n",
       "        text-align: right;\n",
       "    }\n",
       "</style>\n",
       "<table border=\"1\" class=\"dataframe\">\n",
       "  <thead>\n",
       "    <tr>\n",
       "      <th></th>\n",
       "      <th>store</th>\n",
       "      <th colspan=\"2\" halign=\"left\">Store1</th>\n",
       "      <th colspan=\"2\" halign=\"left\">Store2</th>\n",
       "    </tr>\n",
       "    <tr>\n",
       "      <th></th>\n",
       "      <th>item</th>\n",
       "      <th>apple</th>\n",
       "      <th>tomato</th>\n",
       "      <th>apple</th>\n",
       "      <th>tomato</th>\n",
       "    </tr>\n",
       "    <tr>\n",
       "      <th>year</th>\n",
       "      <th>quarter</th>\n",
       "      <th></th>\n",
       "      <th></th>\n",
       "      <th></th>\n",
       "      <th></th>\n",
       "    </tr>\n",
       "  </thead>\n",
       "  <tbody>\n",
       "    <tr>\n",
       "      <th rowspan=\"4\" valign=\"top\">2023</th>\n",
       "      <th>Q1</th>\n",
       "      <td>0.531416</td>\n",
       "      <td>0.308149</td>\n",
       "      <td>0.037101</td>\n",
       "      <td>0.874294</td>\n",
       "    </tr>\n",
       "    <tr>\n",
       "      <th>Q2</th>\n",
       "      <td>0.262228</td>\n",
       "      <td>0.627718</td>\n",
       "      <td>0.506554</td>\n",
       "      <td>0.285592</td>\n",
       "    </tr>\n",
       "    <tr>\n",
       "      <th>Q3</th>\n",
       "      <td>0.719669</td>\n",
       "      <td>0.860173</td>\n",
       "      <td>0.702771</td>\n",
       "      <td>0.538572</td>\n",
       "    </tr>\n",
       "    <tr>\n",
       "      <th>Q4</th>\n",
       "      <td>0.596364</td>\n",
       "      <td>0.004686</td>\n",
       "      <td>0.054969</td>\n",
       "      <td>0.998302</td>\n",
       "    </tr>\n",
       "    <tr>\n",
       "      <th rowspan=\"4\" valign=\"top\">2024</th>\n",
       "      <th>Q1</th>\n",
       "      <td>0.054246</td>\n",
       "      <td>0.998659</td>\n",
       "      <td>0.007630</td>\n",
       "      <td>0.356656</td>\n",
       "    </tr>\n",
       "    <tr>\n",
       "      <th>Q2</th>\n",
       "      <td>0.408198</td>\n",
       "      <td>0.937034</td>\n",
       "      <td>0.534542</td>\n",
       "      <td>0.552174</td>\n",
       "    </tr>\n",
       "    <tr>\n",
       "      <th>Q3</th>\n",
       "      <td>0.065115</td>\n",
       "      <td>0.385344</td>\n",
       "      <td>0.978217</td>\n",
       "      <td>0.229205</td>\n",
       "    </tr>\n",
       "    <tr>\n",
       "      <th>Q4</th>\n",
       "      <td>0.758254</td>\n",
       "      <td>0.781154</td>\n",
       "      <td>0.792419</td>\n",
       "      <td>0.968481</td>\n",
       "    </tr>\n",
       "  </tbody>\n",
       "</table>\n",
       "</div>"
      ],
      "text/plain": [
       "store           Store1              Store2          \n",
       "item             apple    tomato     apple    tomato\n",
       "year quarter                                        \n",
       "2023 Q1       0.531416  0.308149  0.037101  0.874294\n",
       "     Q2       0.262228  0.627718  0.506554  0.285592\n",
       "     Q3       0.719669  0.860173  0.702771  0.538572\n",
       "     Q4       0.596364  0.004686  0.054969  0.998302\n",
       "2024 Q1       0.054246  0.998659  0.007630  0.356656\n",
       "     Q2       0.408198  0.937034  0.534542  0.552174\n",
       "     Q3       0.065115  0.385344  0.978217  0.229205\n",
       "     Q4       0.758254  0.781154  0.792419  0.968481"
      ]
     },
     "metadata": {},
     "output_type": "display_data"
    }
   ],
   "source": [
    "year_quarter = [[2023, 2023, 2023, 2023, 2024, 2024, 2024, 2024],\n",
    "['Q1', 'Q2', 'Q3', 'Q4', 'Q1', 'Q2', 'Q3', 'Q4']]\n",
    "store_item = [['Store1', 'Store1' , 'Store2', 'Store2', ],\n",
    "['apple', 'tomato', 'apple', 'tomato' ]]\n",
    "data = pd.DataFrame(np.random.random((8, 4)), index=pd.MultiIndex.from_arrays(year_quarter,\n",
    "names=['year', 'quarter' ]),\n",
    "columns=pd.MultiIndex.from_arrays(store_item, names=['store', 'item']) )\n",
    "display(data)"
   ]
  },
  {
   "cell_type": "code",
   "execution_count": 57,
   "id": "75d38ce2",
   "metadata": {},
   "outputs": [
    {
     "name": "stdout",
     "output_type": "stream",
     "text": [
      "store           Store1              Store2          \n",
      "ITEM             apple    tomato     apple    tomato\n",
      "YEAR QUARTER                                        \n",
      "2023 Q1       0.531416  0.308149  0.037101  0.874294\n",
      "     Q2       0.262228  0.627718  0.506554  0.285592\n",
      "     Q3       0.719669  0.860173  0.702771  0.538572\n",
      "     Q4       0.596364  0.004686  0.054969  0.998302\n",
      "2024 Q1       0.054246  0.998659  0.007630  0.356656\n",
      "     Q2       0.408198  0.937034  0.534542  0.552174\n",
      "     Q3       0.065115  0.385344  0.978217  0.229205\n",
      "     Q4       0.758254  0.781154  0.792419  0.968481\n",
      "store           Store1              Store2          \n",
      "ITEM             apple    tomato     apple    tomato\n",
      "YEAR QUARTER                                        \n",
      "2023 Q1       0.531416  0.308149  0.037101  0.874294\n",
      "     Q2       0.262228  0.627718  0.506554  0.285592\n",
      "     Q3       0.719669  0.860173  0.702771  0.538572\n",
      "     Q4       0.596364  0.004686  0.054969  0.998302\n",
      "2024 Q1       0.054246  0.998659  0.007630  0.356656\n",
      "     Q2       0.408198  0.937034  0.534542  0.552174\n",
      "     Q3       0.065115  0.385344  0.978217  0.229205\n",
      "     Q4       0.758254  0.781154  0.792419  0.968481\n"
     ]
    }
   ],
   "source": [
    "# print(data.index.levels)\n",
    "#将多层索引进行重命名\n",
    "data.index.rename(\"YEAR\", level=0, inplace=True)\n",
    "data.index.rename(\"QUARTER\", level=1, inplace=True)\n",
    "data.columns.rename('STORE', level=1, inplace=True )\n",
    "data.columns.rename('ITEM', level=1, inplace=True)\n",
    "print(data)\n",
    "print(data.T.groupby(level=[0,1]).mean().T)\n",
    "# data.T.mean().groupby(level=[0, 1]).mean().T"
   ]
  },
  {
   "cell_type": "code",
   "execution_count": 74,
   "id": "dbe51914",
   "metadata": {},
   "outputs": [
    {
     "data": {
      "text/plain": [
       "FrozenList([['Store1', 'Store2'], ['apple', 'tomato']])"
      ]
     },
     "execution_count": 74,
     "metadata": {},
     "output_type": "execute_result"
    }
   ],
   "source": [
    "data.columns.levels"
   ]
  },
  {
   "cell_type": "code",
   "execution_count": 75,
   "id": "76c979ee",
   "metadata": {},
   "outputs": [
    {
     "data": {
      "text/plain": [
       "FrozenList(['store', 'item'])"
      ]
     },
     "execution_count": 75,
     "metadata": {},
     "output_type": "execute_result"
    }
   ],
   "source": [
    "data.columns.names"
   ]
  },
  {
   "cell_type": "code",
   "execution_count": 85,
   "id": "68c36da0",
   "metadata": {},
   "outputs": [
    {
     "name": "stdout",
     "output_type": "stream",
     "text": [
      "store      Store1          \n",
      "item        apple    tomato\n",
      "quarter                    \n",
      "Q1       0.940695  0.282298\n",
      "Q2       0.946606  0.681748\n",
      "Q3       0.392707  0.906030\n",
      "Q4       0.853151  0.581928\n",
      "quarter\n",
      "Q1    0.940695\n",
      "Q2    0.946606\n",
      "Q3    0.392707\n",
      "Q4    0.853151\n",
      "Name: (Store1, apple), dtype: float64\n"
     ]
    }
   ],
   "source": [
    "print(data.loc[2024, ['Store1']])\n",
    "\n",
    "#在多层索引中引用apple索引\n",
    "print(data.loc[2024, (\"Store1\", \"apple\")])\n"
   ]
  },
  {
   "cell_type": "code",
   "execution_count": null,
   "id": "a5f4ac80",
   "metadata": {},
   "outputs": [
    {
     "data": {
      "text/html": [
       "<div>\n",
       "<style scoped>\n",
       "    .dataframe tbody tr th:only-of-type {\n",
       "        vertical-align: middle;\n",
       "    }\n",
       "\n",
       "    .dataframe tbody tr th {\n",
       "        vertical-align: top;\n",
       "    }\n",
       "\n",
       "    .dataframe thead th {\n",
       "        text-align: right;\n",
       "    }\n",
       "</style>\n",
       "<table border=\"1\" class=\"dataframe\">\n",
       "  <thead>\n",
       "    <tr style=\"text-align: right;\">\n",
       "      <th></th>\n",
       "      <th></th>\n",
       "      <th>占地面积</th>\n",
       "    </tr>\n",
       "  </thead>\n",
       "  <tbody>\n",
       "    <tr>\n",
       "      <th rowspan=\"4\" valign=\"top\">瑞士</th>\n",
       "      <th>苏黎世</th>\n",
       "      <td>91.88</td>\n",
       "    </tr>\n",
       "    <tr>\n",
       "      <th>日内瓦</th>\n",
       "      <td>16.00</td>\n",
       "    </tr>\n",
       "    <tr>\n",
       "      <th>巴塞尔</th>\n",
       "      <td>23.91</td>\n",
       "    </tr>\n",
       "    <tr>\n",
       "      <th>伯尔尼</th>\n",
       "      <td>51.62</td>\n",
       "    </tr>\n",
       "    <tr>\n",
       "      <th rowspan=\"4\" valign=\"top\">芬兰</th>\n",
       "      <th>赫尔辛基</th>\n",
       "      <td>719.00</td>\n",
       "    </tr>\n",
       "    <tr>\n",
       "      <th>图尔库</th>\n",
       "      <td>245.00</td>\n",
       "    </tr>\n",
       "    <tr>\n",
       "      <th>坦佩雷</th>\n",
       "      <td>689.60</td>\n",
       "    </tr>\n",
       "    <tr>\n",
       "      <th>奥卢</th>\n",
       "      <td>3818.00</td>\n",
       "    </tr>\n",
       "  </tbody>\n",
       "</table>\n",
       "</div>"
      ],
      "text/plain": [
       "            占地面积\n",
       "瑞士 苏黎世     91.88\n",
       "   日内瓦     16.00\n",
       "   巴塞尔     23.91\n",
       "   伯尔尼     51.62\n",
       "芬兰 赫尔辛基   719.00\n",
       "   图尔库    245.00\n",
       "   坦佩雷    689.60\n",
       "   奥卢    3818.00"
      ]
     },
     "execution_count": 4,
     "metadata": {},
     "output_type": "execute_result"
    }
   ],
   "source": [
    "import numpy as np\n",
    "import pandas as pd\n",
    "\n",
    "multiindex_df = pd.DataFrame({\n",
    "'占地面积':[91.88, 16.0, 23.91, 51.62, 719, 245, 689.6, 3818]},\n",
    "index=[\n",
    "[\"瑞士\",\"瑞士\",\"瑞士\",\"瑞士\",\"芬兰\",\"芬兰\",\"芬兰\",\"芬兰\"],\n",
    "[\"苏黎世\",\"日内瓦\",\"巴塞尔\",\"伯尔尼\",\"赫尔辛基\",\"图尔库\",\"坦佩雷\" ,\"奥卢\"]\n",
    "]\n",
    ")\n",
    "multiindex_df"
   ]
  },
  {
   "cell_type": "code",
   "execution_count": null,
   "id": "b440d884",
   "metadata": {},
   "outputs": [
    {
     "name": "stdout",
     "output_type": "stream",
     "text": [
      "小说  海底       50\n",
      "    斗罗       60\n",
      "    神秘       40\n",
      "散文  朝花夕拾     94\n",
      "    造出万股     63\n",
      "    起死回生    101\n",
      "传记  苏东坡     200\n",
      "    我        56\n",
      "    三毛       98\n",
      "dtype: int64\n",
      "50\n",
      "小说    60\n",
      "dtype: int64\n",
      "海底    小说     50\n",
      "斗罗    小说     60\n",
      "神秘    小说     40\n",
      "朝花夕拾  散文     94\n",
      "造出万股  散文     63\n",
      "起死回生  散文    101\n",
      "苏东坡   传记    200\n",
      "我     传记     56\n",
      "三毛    传记     98\n",
      "dtype: int64\n",
      "小说  海底       50\n",
      "    斗罗       60\n",
      "    神秘       40\n",
      "散文  朝花夕拾     94\n",
      "    造出万股     63\n",
      "    起死回生    101\n",
      "传记  苏东坡     200\n",
      "    我        56\n",
      "    三毛       98\n",
      "dtype: int64\n"
     ]
    }
   ],
   "source": [
    "import pandas as pd\n",
    "\n",
    "ser_obj = pd.Series(\n",
    "    [50, 60, 40, 94, 63, 101, 200, 56, 98],\n",
    "    index=[\n",
    "        [\"小说\",\"小说\",\"小说\", \"散文\",\"散文\",\"散文\", \"传记\", \"传记\",\"传记\"],\n",
    "        [\"海底\",\"斗罗\", \"神秘\", \"朝花夕拾\", \"造出万股\", \"起死回生\", \"苏东坡\",\"我\",\"三毛\"]\n",
    "    ]\n",
    ")\n",
    "print(ser_obj)\n",
    "print(ser_obj[\"小说\", \"海底\"])\n",
    "print(ser_obj[:,\"斗罗\"]) #直接获取销量和类型\n",
    "print(ser_obj.swaplevel()) #交换列数据"
   ]
  },
  {
   "cell_type": "code",
   "execution_count": null,
   "id": "98292c0b",
   "metadata": {},
   "outputs": [
    {
     "data": {
      "text/html": [
       "<div>\n",
       "<style scoped>\n",
       "    .dataframe tbody tr th:only-of-type {\n",
       "        vertical-align: middle;\n",
       "    }\n",
       "\n",
       "    .dataframe tbody tr th {\n",
       "        vertical-align: top;\n",
       "    }\n",
       "\n",
       "    .dataframe thead th {\n",
       "        text-align: right;\n",
       "    }\n",
       "</style>\n",
       "<table border=\"1\" class=\"dataframe\">\n",
       "  <thead>\n",
       "    <tr style=\"text-align: right;\">\n",
       "      <th></th>\n",
       "      <th></th>\n",
       "      <th>word</th>\n",
       "      <th>num</th>\n",
       "    </tr>\n",
       "  </thead>\n",
       "  <tbody>\n",
       "    <tr>\n",
       "      <th rowspan=\"3\" valign=\"top\">A</th>\n",
       "      <th>1</th>\n",
       "      <td>a</td>\n",
       "      <td>1</td>\n",
       "    </tr>\n",
       "    <tr>\n",
       "      <th>3</th>\n",
       "      <td>b</td>\n",
       "      <td>2</td>\n",
       "    </tr>\n",
       "    <tr>\n",
       "      <th>2</th>\n",
       "      <td>d</td>\n",
       "      <td>4</td>\n",
       "    </tr>\n",
       "    <tr>\n",
       "      <th rowspan=\"3\" valign=\"top\">C</th>\n",
       "      <th>3</th>\n",
       "      <td>e</td>\n",
       "      <td>5</td>\n",
       "    </tr>\n",
       "    <tr>\n",
       "      <th>1</th>\n",
       "      <td>f</td>\n",
       "      <td>3</td>\n",
       "    </tr>\n",
       "    <tr>\n",
       "      <th>2</th>\n",
       "      <td>k</td>\n",
       "      <td>2</td>\n",
       "    </tr>\n",
       "    <tr>\n",
       "      <th rowspan=\"3\" valign=\"top\">B</th>\n",
       "      <th>4</th>\n",
       "      <td>d</td>\n",
       "      <td>6</td>\n",
       "    </tr>\n",
       "    <tr>\n",
       "      <th>5</th>\n",
       "      <td>s</td>\n",
       "      <td>2</td>\n",
       "    </tr>\n",
       "    <tr>\n",
       "      <th>8</th>\n",
       "      <td>l</td>\n",
       "      <td>3</td>\n",
       "    </tr>\n",
       "  </tbody>\n",
       "</table>\n",
       "</div>"
      ],
      "text/plain": [
       "    word  num\n",
       "A 1    a    1\n",
       "  3    b    2\n",
       "  2    d    4\n",
       "C 3    e    5\n",
       "  1    f    3\n",
       "  2    k    2\n",
       "B 4    d    6\n",
       "  5    s    2\n",
       "  8    l    3"
      ]
     },
     "metadata": {},
     "output_type": "display_data"
    },
    {
     "data": {
      "text/html": [
       "<div>\n",
       "<style scoped>\n",
       "    .dataframe tbody tr th:only-of-type {\n",
       "        vertical-align: middle;\n",
       "    }\n",
       "\n",
       "    .dataframe tbody tr th {\n",
       "        vertical-align: top;\n",
       "    }\n",
       "\n",
       "    .dataframe thead th {\n",
       "        text-align: right;\n",
       "    }\n",
       "</style>\n",
       "<table border=\"1\" class=\"dataframe\">\n",
       "  <thead>\n",
       "    <tr style=\"text-align: right;\">\n",
       "      <th></th>\n",
       "      <th></th>\n",
       "      <th>word</th>\n",
       "      <th>num</th>\n",
       "    </tr>\n",
       "  </thead>\n",
       "  <tbody>\n",
       "    <tr>\n",
       "      <th>1</th>\n",
       "      <th>A</th>\n",
       "      <td>a</td>\n",
       "      <td>1</td>\n",
       "    </tr>\n",
       "    <tr>\n",
       "      <th>3</th>\n",
       "      <th>A</th>\n",
       "      <td>b</td>\n",
       "      <td>2</td>\n",
       "    </tr>\n",
       "    <tr>\n",
       "      <th>2</th>\n",
       "      <th>A</th>\n",
       "      <td>d</td>\n",
       "      <td>4</td>\n",
       "    </tr>\n",
       "    <tr>\n",
       "      <th>3</th>\n",
       "      <th>C</th>\n",
       "      <td>e</td>\n",
       "      <td>5</td>\n",
       "    </tr>\n",
       "    <tr>\n",
       "      <th>1</th>\n",
       "      <th>C</th>\n",
       "      <td>f</td>\n",
       "      <td>3</td>\n",
       "    </tr>\n",
       "    <tr>\n",
       "      <th>2</th>\n",
       "      <th>C</th>\n",
       "      <td>k</td>\n",
       "      <td>2</td>\n",
       "    </tr>\n",
       "    <tr>\n",
       "      <th>4</th>\n",
       "      <th>B</th>\n",
       "      <td>d</td>\n",
       "      <td>6</td>\n",
       "    </tr>\n",
       "    <tr>\n",
       "      <th>5</th>\n",
       "      <th>B</th>\n",
       "      <td>s</td>\n",
       "      <td>2</td>\n",
       "    </tr>\n",
       "    <tr>\n",
       "      <th>8</th>\n",
       "      <th>B</th>\n",
       "      <td>l</td>\n",
       "      <td>3</td>\n",
       "    </tr>\n",
       "  </tbody>\n",
       "</table>\n",
       "</div>"
      ],
      "text/plain": [
       "    word  num\n",
       "1 A    a    1\n",
       "3 A    b    2\n",
       "2 A    d    4\n",
       "3 C    e    5\n",
       "1 C    f    3\n",
       "2 C    k    2\n",
       "4 B    d    6\n",
       "5 B    s    2\n",
       "8 B    l    3"
      ]
     },
     "execution_count": 66,
     "metadata": {},
     "output_type": "execute_result"
    }
   ],
   "source": [
    "import pandas as pd\n",
    "df_obj = pd.DataFrame({'word': ['a','b','d','e','f' ,'k' ,'d','s' ,'l'],\n",
    "'num': [1, 2, 4, 5, 3, 2, 6, 2, 3]},\n",
    "index=[['A', 'A', 'A', 'C', 'C', 'C', 'B', 'B', 'B'],\n",
    "[1, 3, 2, 3, 1, 2, 4, 5, 8]])\n",
    "\n",
    "display(df_obj)\n",
    "# df_obj.sort_index() #对索引进行排序\n",
    "df_obj.swaplevel() #swaplevel是操作索引层的"
   ]
  },
  {
   "cell_type": "code",
   "execution_count": 83,
   "id": "c3d8fdac",
   "metadata": {},
   "outputs": [
    {
     "name": "stdout",
     "output_type": "stream",
     "text": [
      "     一本分数线      二本分数线     \n",
      "        文科   理科    文科   理科\n",
      "2008   557  527   520  490\n",
      "2009   540  537   495  495\n",
      "2010   559  556   500  500\n",
      "2011   543  540   495  488\n",
      "2012   556  517   497  461\n",
      "2013   540  485   486  435\n",
      "2014   548  503   492  452\n",
      "2015   510  480   467  440\n",
      "2016   511  470   460  423\n",
      "2017   509  449   457  397\n",
      "2018   518  474   467  425\n",
      "2019   518  468   400  363\n",
      "2020   512  451   405  350\n",
      "2021   499  443   406  341\n",
      "2022   484  449   400  344\n",
      "理科最高分\n",
      "556\n",
      "理科最低分\n",
      "443\n"
     ]
    },
    {
     "data": {
      "text/html": [
       "<div>\n",
       "<style scoped>\n",
       "    .dataframe tbody tr th:only-of-type {\n",
       "        vertical-align: middle;\n",
       "    }\n",
       "\n",
       "    .dataframe tbody tr th {\n",
       "        vertical-align: top;\n",
       "    }\n",
       "\n",
       "    .dataframe thead tr th {\n",
       "        text-align: left;\n",
       "    }\n",
       "</style>\n",
       "<table border=\"1\" class=\"dataframe\">\n",
       "  <thead>\n",
       "    <tr>\n",
       "      <th></th>\n",
       "      <th colspan=\"2\" halign=\"left\">一本分数线</th>\n",
       "      <th colspan=\"2\" halign=\"left\">二本分数线</th>\n",
       "    </tr>\n",
       "    <tr>\n",
       "      <th></th>\n",
       "      <th>文科</th>\n",
       "      <th>理科</th>\n",
       "      <th>文科</th>\n",
       "      <th>理科</th>\n",
       "    </tr>\n",
       "  </thead>\n",
       "  <tbody>\n",
       "    <tr>\n",
       "      <th>count</th>\n",
       "      <td>15.000000</td>\n",
       "      <td>15.000000</td>\n",
       "      <td>15.000000</td>\n",
       "      <td>15.000000</td>\n",
       "    </tr>\n",
       "    <tr>\n",
       "      <th>mean</th>\n",
       "      <td>526.933333</td>\n",
       "      <td>489.933333</td>\n",
       "      <td>463.133333</td>\n",
       "      <td>426.933333</td>\n",
       "    </tr>\n",
       "    <tr>\n",
       "      <th>std</th>\n",
       "      <td>23.435220</td>\n",
       "      <td>37.501365</td>\n",
       "      <td>41.248146</td>\n",
       "      <td>56.623401</td>\n",
       "    </tr>\n",
       "    <tr>\n",
       "      <th>min</th>\n",
       "      <td>484.000000</td>\n",
       "      <td>443.000000</td>\n",
       "      <td>400.000000</td>\n",
       "      <td>341.000000</td>\n",
       "    </tr>\n",
       "    <tr>\n",
       "      <th>25%</th>\n",
       "      <td>510.500000</td>\n",
       "      <td>459.500000</td>\n",
       "      <td>431.500000</td>\n",
       "      <td>380.000000</td>\n",
       "    </tr>\n",
       "    <tr>\n",
       "      <th>50%</th>\n",
       "      <td>518.000000</td>\n",
       "      <td>480.000000</td>\n",
       "      <td>467.000000</td>\n",
       "      <td>435.000000</td>\n",
       "    </tr>\n",
       "    <tr>\n",
       "      <th>75%</th>\n",
       "      <td>545.500000</td>\n",
       "      <td>522.000000</td>\n",
       "      <td>495.000000</td>\n",
       "      <td>474.500000</td>\n",
       "    </tr>\n",
       "    <tr>\n",
       "      <th>max</th>\n",
       "      <td>559.000000</td>\n",
       "      <td>556.000000</td>\n",
       "      <td>520.000000</td>\n",
       "      <td>500.000000</td>\n",
       "    </tr>\n",
       "  </tbody>\n",
       "</table>\n",
       "</div>"
      ],
      "text/plain": [
       "            一本分数线                   二本分数线            \n",
       "               文科          理科          文科          理科\n",
       "count   15.000000   15.000000   15.000000   15.000000\n",
       "mean   526.933333  489.933333  463.133333  426.933333\n",
       "std     23.435220   37.501365   41.248146   56.623401\n",
       "min    484.000000  443.000000  400.000000  341.000000\n",
       "25%    510.500000  459.500000  431.500000  380.000000\n",
       "50%    518.000000  480.000000  467.000000  435.000000\n",
       "75%    545.500000  522.000000  495.000000  474.500000\n",
       "max    559.000000  556.000000  520.000000  500.000000"
      ]
     },
     "execution_count": 83,
     "metadata": {},
     "output_type": "execute_result"
    }
   ],
   "source": [
    "import pandas as pd\n",
    "import numpy as np\n",
    "\n",
    "df = pd.read_excel('data/scores.xlsx', header=[0, 1], index_col=0) #0,1表示是由于表格有多层需要header指定标题\n",
    "df.head()\n",
    "print(df.sort_index())\n",
    "print(\"理科最高分\")\n",
    "print(df[\"一本分数线\",'理科'].max())\n",
    "print(\"理科最低分\")\n",
    "print(df[\"一本分数线\",'理科'].min())\n",
    "df.describe()"
   ]
  },
  {
   "attachments": {
    "Google Ge-2025-10-11_15-45-45.png": {
     "image/png": "[encoded data removed]"
    }
   },
   "cell_type": "markdown",
   "id": "57a2a583",
   "metadata": {},
   "source": [
    "![Google Ge-2025-10-11_15-45-45.png](<attachment:Google Ge-2025-10-11_15-45-45.png>)\n",
    "\n",
    "当使用loc对多层索引进行布尔索引时：\n",
    "- 使用df.index.get_level_values(level)获取指定级别的索引值\n"
   ]
  },
  {
   "cell_type": "code",
   "execution_count": null,
   "id": "95a87351",
   "metadata": {},
   "outputs": [
    {
     "data": {
      "text/html": [
       "<div>\n",
       "<style scoped>\n",
       "    .dataframe tbody tr th:only-of-type {\n",
       "        vertical-align: middle;\n",
       "    }\n",
       "\n",
       "    .dataframe tbody tr th {\n",
       "        vertical-align: top;\n",
       "    }\n",
       "\n",
       "    .dataframe thead th {\n",
       "        text-align: right;\n",
       "    }\n",
       "</style>\n",
       "<table border=\"1\" class=\"dataframe\">\n",
       "  <thead>\n",
       "    <tr style=\"text-align: right;\">\n",
       "      <th></th>\n",
       "      <th></th>\n",
       "      <th>word</th>\n",
       "      <th>num</th>\n",
       "    </tr>\n",
       "    <tr>\n",
       "      <th>group</th>\n",
       "      <th>id</th>\n",
       "      <th></th>\n",
       "      <th></th>\n",
       "    </tr>\n",
       "  </thead>\n",
       "  <tbody>\n",
       "    <tr>\n",
       "      <th rowspan=\"3\" valign=\"top\">A</th>\n",
       "      <th>1</th>\n",
       "      <td>a</td>\n",
       "      <td>1</td>\n",
       "    </tr>\n",
       "    <tr>\n",
       "      <th>2</th>\n",
       "      <td>b</td>\n",
       "      <td>2</td>\n",
       "    </tr>\n",
       "    <tr>\n",
       "      <th>3</th>\n",
       "      <td>d</td>\n",
       "      <td>4</td>\n",
       "    </tr>\n",
       "    <tr>\n",
       "      <th rowspan=\"3\" valign=\"top\">C</th>\n",
       "      <th>1</th>\n",
       "      <td>d</td>\n",
       "      <td>6</td>\n",
       "    </tr>\n",
       "    <tr>\n",
       "      <th>2</th>\n",
       "      <td>s</td>\n",
       "      <td>2</td>\n",
       "    </tr>\n",
       "    <tr>\n",
       "      <th>3</th>\n",
       "      <td>l</td>\n",
       "      <td>3</td>\n",
       "    </tr>\n",
       "  </tbody>\n",
       "</table>\n",
       "</div>"
      ],
      "text/plain": [
       "         word  num\n",
       "group id          \n",
       "A     1     a    1\n",
       "      2     b    2\n",
       "      3     d    4\n",
       "C     1     d    6\n",
       "      2     s    2\n",
       "      3     l    3"
      ]
     },
     "metadata": {},
     "output_type": "display_data"
    }
   ],
   "source": [
    "import pandas as pd\n",
    "\n",
    "# 创建一个带有命名索引层级的 DataFrame\n",
    "df = pd.DataFrame(\n",
    "    {'word': ['a','b','d','e','f' ,'k' ,'d','s' ,'l'],\n",
    "     'num': [1, 2, 4, 5, 3, 2, 6, 2, 3]},\n",
    "\n",
    "    index= pd.MultiIndex.from_arrays([\n",
    "        ['A', 'A', 'A', 'B', 'B', 'B', 'C', 'C', 'C'],\n",
    "        [1, 2, 3, 1, 2, 3, 1, 2, 3]\n",
    "    ], names=['group', 'id'])\n",
    ")\n",
    "df = df.sort_index()\n",
    "# 使用 get_level_values() 获取外层索引的值\n",
    "# 它会返回一个类似 Series 的对象\n",
    "level_values = df.index.get_level_values('group')\n",
    "\n",
    "# 创建布尔条件\n",
    "condition = (level_values == 'A') | (level_values == 'C') # | 代表 \"或\"\n",
    "\n",
    "# 应用条件\n",
    "display(df.loc[condition])\n",
    "\n"
   ]
  },
  {
   "cell_type": "code",
   "execution_count": 90,
   "id": "a442cf17",
   "metadata": {},
   "outputs": [
    {
     "data": {
      "text/plain": [
       "(9, 2)"
      ]
     },
     "execution_count": 90,
     "metadata": {},
     "output_type": "execute_result"
    }
   ],
   "source": [
    "df.shape"
   ]
  },
  {
   "cell_type": "code",
   "execution_count": null,
   "id": "cbcf87e2",
   "metadata": {},
   "outputs": [],
   "source": []
  }
 ],
 "metadata": {
  "kernelspec": {
   "display_name": "syc",
   "language": "python",
   "name": "python3"
  },
  "language_info": {
   "codemirror_mode": {
    "name": "ipython",
    "version": 3
   },
   "file_extension": ".py",
   "mimetype": "text/x-python",
   "name": "python",
   "nbconvert_exporter": "python",
   "pygments_lexer": "ipython3",
   "version": "3.13.7"
  }
 },
 "nbformat": 4,
 "nbformat_minor": 5
}
