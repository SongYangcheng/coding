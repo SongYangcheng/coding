{
 "cells": [
  {
   "cell_type": "markdown",
   "id": "049be5c7",
   "metadata": {},
   "source": [
    "## 数据分析\n",
    "- 描述性分析：从一组数据中可以摘要并且描述这份数据的集中和描述情景\n",
    "- 探究性分析：从数据中发现模式、关系和假设\n",
    "- 验证性分析：使用统计方法来检验假设\n",
    "### Numpy库\n",
    "- 数值计算的基础包可以高效处理大规模数组和矩阵运算\n",
    "- 数组对象：ndarray\n",
    "- 数组创建：array, arange, linspace, zeros, ones, empty, eye\n",
    "- 数组属性：shape, dtype, size, ndim\n",
    "- 数组操作：索引、切片、迭代、变形、连接、分割\n",
    "- 数学函数：基本运算、统计函数、线性代数\n",
    "### Pandas库\n",
    "- 数据分析的强大工具，提供了高效的数据结构和数据操作功能，是基于Numpy构建的\n",
    "- 主要数据结构：Series（一维标签数组）、DataFrame（二维表格数据）\n",
    "- 数据导入导出：read_csv, read_excel, to_csv, to_excel\n",
    "- 数据选择与过滤：loc, iloc, 条件筛选\n",
    "- 数据清洗：处理缺失值、重复值、数据类型转换\n",
    "- 数据操作：排序、分组、聚合、透视表、合并、连接\n",
    "### Matplotlib库\n",
    "- 数据可视化的基础库，提供了丰富的绘图功能\n",
    "- 基本绘图函数：plot, scatter, bar, hist, pie\n",
    "- 图形定制：标题、标签、图例、颜色、样式\n",
    "- 子图布局：subplot, subplots\n",
    "- 保存图形：savefig\n",
    "### Seaborn库\n",
    "- 基于Matplotlib的高级可视化库，提供了更美观和简洁的绘图接口\n",
    "- 统计图形：箱线图、热力图、分布图、回归图\n",
    "- 数据集集成：内置多个常用数据集，方便练习和演示\n",
    "- 主题设置：set_style, set_context, set_palette\n",
    "### NLTK库\n",
    "- 自然语言处理的强大工具包，提供了丰富的文本处理和分析功能\n",
    "- 主要功能：分词、词性标注、命名实体识别、句法分析、情感分析\n",
    "- 语料库：内置多个常用语料库，方便练习和演示\n",
    "- 文本预处理：去除停用词、词干提取、词形还原\n",
    "### Pyecharts库\n",
    "- 基于Echarts的Python可视化库，支持生成交互式图表\n",
    "- 多种图表类型：折线图、柱状图、饼图、散点图、地图等\n",
    "- 图表定制：标题、标签、图例、颜色、样式\n",
    "- 交互功能：缩放、悬停提示、数据视图\n",
    "- 输出格式：HTML文件、Jupyter Notebook\n"
   ]
  },
  {
   "cell_type": "markdown",
   "id": "84772816",
   "metadata": {},
   "source": [
    "### 数组和列表区别\n",
    "- 数组（Array）是固定大小的，所有元素类型相同，适合进行数值计算和矩阵运算，如果改变大小需要创建新数组,如果改变某个元素类型会报错\n",
    "- 列表（List）是动态大小的，可以包含不同类型的元素，适合存储和操作异构数据\n",
    "- 数组在内存中是连续存储的，访问速度快；列表在内存中是分散存储的，访问速度相对较慢\n",
    "- 数组支持向量化操作，可以对整个数组进行批量运算；列表需要通过循环逐个处理元素\n",
    "- 数组通常使用Numpy库来创建和操作，列表是Python内置的数据结构\n",
    "![image.png](/imgs/image.png)"
   ]
  },
  {
   "cell_type": "markdown",
   "id": "ff5f5c40",
   "metadata": {},
   "source": [
    "### numpy\n",
    "- ndarray: 多维数组对象，支持高效的数值计算和矩阵运算\n",
    "- array: 创建数组的函数，可以从列表、元组等数据结构转换而来\n",
    "- shape: 数组的形状属性，表示数组的维度信息，（行数， 列数）三维（深度，行数，列数）\n",
    "- dtype: 数组的元素类型属性，表示数组中元素的数据类型\n",
    "- size: 数组的大小属性，表示数组中元素的总数\n",
    "- iterdim: 数组的维度属性，表示数组的维度数量\n",
    "- ndmin: 数组的最小维度属性，表示数组的最小维度数量显示维度\n",
    "ndarrary对象称为数组\n",
    "数组维度元组称为形状\n"
   ]
  },
  {
   "cell_type": "code",
   "execution_count": null,
   "id": "49eadccc",
   "metadata": {},
   "outputs": [
    {
     "name": "stdout",
     "output_type": "stream",
     "text": [
      "(3, 2, 3)\n",
      "[[[1 2 3]\n",
      "  [1 2 3]]\n",
      "\n",
      " [[1 2 3]\n",
      "  [1 2 3]]\n",
      "\n",
      " [[1 2 3]\n",
      "  [1 2 3]]]\n",
      "(18,)\n",
      "int64\n",
      "[[0.96933675 0.06985592 0.55214668]\n",
      " [0.42114998 0.29239704 0.21558959]]\n",
      "(2, 3)\n",
      "[[-0.34620985 -0.45012429 -0.01817544]\n",
      " [-0.00268622  0.53759363  0.1030838 ]]\n"
     ]
    }
   ],
   "source": [
    "import numpy\n",
    "#ndarrary对象称为数组\n",
    "#数组维度元组称为形状\n",
    "#如果二维数组为空则二维数组不存在\n",
    "arr = numpy.array([[[1, 2, 3], [1, 2, 3]], [[1, 2, 3],  [1, 2, 3]], [[1, 2, 3],  [1, 2, 3]]])\n",
    "print(arr.shape) #(3, 2, 3)\n",
    "\n",
    "print(arr)\n",
    "\n",
    "arr = arr.flatten() #展平数组\n",
    "arr_lis = numpy.random.rand(2, 3) # 在0-1中生成随机2行3列数据\n",
    "normal_arr = numpy.random.randn(2, 3)\n",
    "print(arr.shape)\n",
    "print(arr.dtype)\n",
    "print(arr_lis)\n",
    "print(arr_lis.shape)\n",
    "print(normal_arr)"
   ]
  },
  {
   "cell_type": "markdown",
   "id": "34f3e668",
   "metadata": {},
   "source": [
    "### np中的常用函数\n",
    "- np.linspace(): 用于创建一个等间隔的数值序列，指定起始值、终止值和元素数量\n",
    "- np.arange(): 用于创建一个等差数值序列，指定起始值、终止值和步长\n",
    "- np.zeros(): 用于创建一个指定形状的数组，所有元素初始化为0\n",
    "- np.ones(): 用于创建一个指定形状的数组，所有元素初始化为1\n",
    "- np.eye(): 用于创建一个单位矩阵，主对角线元素为1，其余元素为0\n",
    "- np.sum(): 用于计算数组元素的和，可以指定轴进行按行或按列求和\n",
    "- np.dot(): 用于计算两个数组的点积，适用于向量和矩阵的乘法运算"
   ]
  },
  {
   "cell_type": "code",
   "execution_count": 34,
   "id": "b963d8d1",
   "metadata": {},
   "outputs": [
    {
     "data": {
      "text/plain": [
       "8112"
      ]
     },
     "execution_count": 34,
     "metadata": {},
     "output_type": "execute_result"
    }
   ],
   "source": [
    "import sys\n",
    "import numpy as np\n",
    "\n",
    "arr = np.arange(1000)\n",
    "\n",
    "sys.getsizeof(arr)"
   ]
  },
  {
   "cell_type": "code",
   "execution_count": null,
   "id": "e3e6421c",
   "metadata": {},
   "outputs": [
    {
     "name": "stdout",
     "output_type": "stream",
     "text": [
      "CPU times: total: 15.6 ms\n",
      "Wall time: 1.26 ms\n"
     ]
    }
   ],
   "source": [
    "#%%time是Ipython和jupyter中单元魔法函数\n",
    "%%time\n",
    "for _ in range(20):\n",
    "    my_list2 = [x*2 for x in arr]"
   ]
  },
  {
   "cell_type": "code",
   "execution_count": 35,
   "id": "25bf11bb",
   "metadata": {},
   "outputs": [
    {
     "name": "stdout",
     "output_type": "stream",
     "text": [
      "[ 5 13 25]\n"
     ]
    }
   ],
   "source": [
    "a = np.array([1, 2, 3])\n",
    "b = np.array([2, 3, 4])\n",
    "c = a**2 + b**2\n",
    "print(c)"
   ]
  },
  {
   "cell_type": "code",
   "execution_count": 45,
   "id": "53f6d690",
   "metadata": {},
   "outputs": [
    {
     "name": "stdout",
     "output_type": "stream",
     "text": [
      "[[1 2 3 4 5 6]]\n",
      "2\n"
     ]
    }
   ],
   "source": [
    "arr = np.array([1, 2, 3, 4, 5, 6],  ndmin=2, dtype=int)\n",
    "print(arr)\n",
    "print(arr[0, 1])"
   ]
  },
  {
   "cell_type": "code",
   "execution_count": null,
   "id": "6c7a743f",
   "metadata": {},
   "outputs": [
    {
     "name": "stdout",
     "output_type": "stream",
     "text": [
      "[[1. 0.]\n",
      " [0. 1.]]\n",
      "[1. 1.]\n",
      "[1. 0. 0. 1.]\n"
     ]
    }
   ],
   "source": [
    "import numpy as np\n",
    "arr_1 = np.eye(2, 2)\n",
    "arr_one = np.ones(2)\n",
    "print(arr_1)\n",
    "print(arr_one)\n",
    "arr_reshape = arr_1.reshape(4)\n",
    "print(arr_reshape)\n"
   ]
  },
  {
   "cell_type": "code",
   "execution_count": 85,
   "id": "9245814a",
   "metadata": {},
   "outputs": [
    {
     "name": "stdout",
     "output_type": "stream",
     "text": [
      "(2, 2)\n",
      "int64\n",
      "[[[1 2]]\n",
      "\n",
      " [[1 2]]]\n"
     ]
    },
    {
     "data": {
      "text/plain": [
       "(2, 1, 2)"
      ]
     },
     "execution_count": 85,
     "metadata": {},
     "output_type": "execute_result"
    }
   ],
   "source": [
    "arr = np.arange(1, 5)\n",
    "arr_lis = np.array([[1, 2], [1, 2]])\n",
    "arr_reshape = arr.reshape(2,2)\n",
    "print(arr_reshape.shape)\n",
    "print(arr_reshape.dtype)\n",
    "arr_reshape.ndim\n",
    "arr_lis_respape = arr_lis.reshape(2, 1, 2)\n",
    "print(arr_lis_respape)\n",
    "arr_lis_respape.shape"
   ]
  },
  {
   "cell_type": "markdown",
   "id": "5e456a23",
   "metadata": {},
   "source": [
    "当np.array()中dtype = object时 表示数组中的元素可以是任意类型的Python对象，而不仅仅是数值类型。这种情况下，数组的每个元素可以是字符串、列表、字典，甚至是自定义的类实例等。\n",
    "### 数组塌陷\n",
    "- 在Numpy数组中, 元素形状上不一致加上dtype=object时, 会导致数组塌陷, 即数组的某些元素本身是数组或列表, 但由于形状不一致, 整个数组被视为一维数组, 每个元素是一个独立的对象, 而不是多维数组的一部分\n",
    "- 这种情况下, 数组的shape属性会显示为(元素数量,), 表示这是一个一维数组, 而不是多维数组\n",
    "- 访问这些元素时, 需要使用索引来获取每个独立的对象, 而不是像多维数组那样使用多重索引"
   ]
  },
  {
   "cell_type": "code",
   "execution_count": null,
   "id": "f0ad5047",
   "metadata": {},
   "outputs": [
    {
     "name": "stdout",
     "output_type": "stream",
     "text": [
      "[1 2 3] [1 2 3]\n",
      "[1 2 3] [2 4 6]\n",
      "(2,)\n",
      "[1, 2, 3]\n",
      "[1]\n",
      "(3,)\n",
      "[list([[1, 2]]) list([[2, 3]]) list([[1, 2, 3], [1, 2]])]\n"
     ]
    }
   ],
   "source": [
    "a = np.array([1, 2, 3])\n",
    "b = a\n",
    "print(a, b)\n",
    "a = a*2 #a在此处开辟新的内存空间\n",
    "print(b, a)\n",
    "a = np.array([[1, 2, 3], [1]], dtype=object)\n",
    "print(a.shape) #输出(2,)表示有两个列表组成\n",
    "for i in a:\n",
    "    print(i)\n",
    "c = np.array([[[1, 2]],[[2, 3]], [[1, 2, 3]]], dtype=type)\n",
    "print(c.shape)\n",
    "print(c)"
   ]
  },
  {
   "cell_type": "code",
   "execution_count": 11,
   "id": "47962d29",
   "metadata": {},
   "outputs": [
    {
     "name": "stdout",
     "output_type": "stream",
     "text": [
      "12\n"
     ]
    },
    {
     "data": {
      "text/plain": [
       "array([5, 4, 3, 2, 1])"
      ]
     },
     "execution_count": 11,
     "metadata": {},
     "output_type": "execute_result"
    }
   ],
   "source": [
    "import numpy as np\n",
    "\n",
    "a = np.array([1, 2, 3])\n",
    "b = np.array([2, 2, 2]) #必须有相同的行列数\n",
    "print(np.dot(a, b))\n",
    "arr = np.arange(5, 0, -1)\n",
    "arr"
   ]
  },
  {
   "cell_type": "markdown",
   "id": "56663808",
   "metadata": {},
   "source": [
    "### arange和linspace区别\n",
    "- arange: 创建一个等差数值序列，指定起始值、终止值和步长，生成的数组不包含终止值\n",
    "- linspace: 创建一个等间隔的数值序列，指定起始值、终止值和元素数量，生成的数组包含终止值\n",
    "- arange适用于生成整数序列或具有固定步长的数值序列\n",
    "- linspace适用于生成具有指定数量元素的数值序列，尤其在需要精确控制元素数量时更为方便"
   ]
  },
  {
   "cell_type": "code",
   "execution_count": null,
   "id": "09c44b2d",
   "metadata": {},
   "outputs": [
    {
     "name": "stdout",
     "output_type": "stream",
     "text": [
      "[1.  1.5 2. ]\n"
     ]
    },
    {
     "data": {
      "text/plain": [
       "array([[0, 0, 0],\n",
       "       [0, 0, 0]])"
      ]
     },
     "execution_count": 28,
     "metadata": {},
     "output_type": "execute_result"
    }
   ],
   "source": [
    "arr = np.linspace(1, 2, 3)\n",
    "print(arr)\n",
    "np.sum(arr)\n",
    "arr.flags\n",
    "arr_emp = np.empty([2, 3], dtype=int)\n",
    "arr_emp #数组数值为随机值因为没有初始化\n",
    "arr_zero = np.zeros((2, 3), dtype=int)\n",
    "arr_zero #数组以0填充"
   ]
  },
  {
   "cell_type": "markdown",
   "id": "9b31efef",
   "metadata": {},
   "source": [
    "### zeros和zeros_like区别\n",
    "- numpy.zeros 可以直接指定要创建的数组的形状，而 numpy.zeros_like 则是创建一个与给定数组具有相同形状的数组。\n",
    "- numpy.zeros 需要手动指定形状参数，而 numpy.zeros_like 则是通过传入一个已有数组来自动获取形状信息。\n",
    "- ones和ones_like区别同理"
   ]
  },
  {
   "cell_type": "code",
   "execution_count": 29,
   "id": "3b23e515",
   "metadata": {},
   "outputs": [
    {
     "data": {
      "text/plain": [
       "array([0, 0, 0])"
      ]
     },
     "execution_count": 29,
     "metadata": {},
     "output_type": "execute_result"
    }
   ],
   "source": [
    "arr_like = np.zeros_like(arr, dtype=int)\n",
    "arr_like"
   ]
  },
  {
   "cell_type": "markdown",
   "id": "bded7de6",
   "metadata": {},
   "source": [
    "### numpy.asarray()\n",
    "- numpy.asarray() 函数用于将输入数据（如列表、元组等）转换为 NumPy 数组（ndarray）。\n",
    "- 如果输入数据已经是一个 NumPy 数组，asarray() 不会创建新的数组，而是返回原始数组的引用，从而节省内存和提高性能。\n",
    "- 如果输入数据不是 NumPy 数组，asarray() 会创建一个新的数组，并将输入数据复制到新数组中。\n"
   ]
  },
  {
   "cell_type": "code",
   "execution_count": null,
   "id": "3224839e",
   "metadata": {},
   "outputs": [
    {
     "name": "stdout",
     "output_type": "stream",
     "text": [
      "<class 'list'>\n",
      "<class 'numpy.ndarray'>\n"
     ]
    }
   ],
   "source": [
    "lis = [1, 2, 3]\n",
    "arr = np.asarray(lis)\n",
    "print(type(lis))#list\n",
    "print(type(arr)) #numpy.ndarray"
   ]
  },
  {
   "cell_type": "code",
   "execution_count": null,
   "id": "4efc302e",
   "metadata": {},
   "outputs": [
    {
     "name": "stdout",
     "output_type": "stream",
     "text": [
      "[0.  0.1 0.2 0.3 0.4 0.5]\n",
      "[1 3 5]\n",
      "[[ 1  2  3  4  5  6  7  8  9 10]\n",
      " [ 1  2  3  4  5  6  7  8  9 10]]\n",
      "[  2.71828183  20.08553692 148.4131591 ]\n"
     ]
    }
   ],
   "source": [
    "import numpy\n",
    "\n",
    "darray = numpy.linspace(0, 0.5, 6)\n",
    "print(darray)\n",
    "a = numpy.arange(1, 6, 2)\n",
    "print(a)\n",
    "arr_a = numpy.array([numpy.linspace(1, 10, 10) for _ in range(2)], dtype=int)\n",
    "print(arr_a)\n",
    "a = np.exp(a) #自然指数e\n",
    "print(a)"
   ]
  },
  {
   "cell_type": "code",
   "execution_count": 44,
   "id": "251c5945",
   "metadata": {},
   "outputs": [
    {
     "name": "stdout",
     "output_type": "stream",
     "text": [
      "x1 = (-1+1.4142135623730951j), x2 = (-1-1.4142135623730951j)\n"
     ]
    }
   ],
   "source": [
    "import numpy\n",
    "\n",
    "def sovle_quadratic(a, b, c):\n",
    "    \"\"\"求解a*x^2 + b*x + c = 0 返回x1， x2\"\"\"\n",
    "\n",
    "    discriminant = b**2 - 4*a*c\n",
    "\n",
    "    if discriminant >= 0:\n",
    "        # 判别式非负，实数解\n",
    "        sqrt_d = np.sqrt(discriminant)\n",
    "        x1 = (-b + sqrt_d ) / (2*a)\n",
    "        x2 = (-b - sqrt_d ) / (2*a)\n",
    "    else:\n",
    "        #判断为负数，则为复数解\n",
    "        sqrt_d = np.sqrt(-discriminant)\n",
    "        real_part = -b / (2 * a)\n",
    "        imag_part = sqrt_d / (2 * a)\n",
    "        x1 = complex(real_part, imag_part)\n",
    "        x2 = complex(real_part, -imag_part)\n",
    "\n",
    "    print(f\"x1 = {x1}, x2 = {x2}\")\n",
    "\n",
    "sovle_quadratic(1, 2, 3)"
   ]
  },
  {
   "cell_type": "code",
   "execution_count": null,
   "id": "55b12ddd",
   "metadata": {},
   "outputs": [
    {
     "name": "stdout",
     "output_type": "stream",
     "text": [
      "方程1x^2 + -3x + 2 = 0, 解为[np.float64(0.9999732670355815), np.float64(1.0000090180270362), np.float64(0.999972616993894), np.float64(0.9998613998613992), np.float64(2.0), np.float64(2.0), np.float64(2.000070867327505)]\n"
     ]
    }
   ],
   "source": [
    "\"\"\"求解a*x^2 + b*x + c = 0 返回x1， x2\"\"\"\n",
    "import numpy as np\n",
    "\n",
    "# import matplotlib.pyplot as plt\n",
    "\n",
    "def quadratic_equation(a, b, c, x):\n",
    "    return a * x**2 + b*x + c\n",
    "\n",
    "def find_approx_roots(a, b, c, x_range, num_points=1000, tol=1e-2):\n",
    "    \"\"\"x_range:x的取值范围(min_x, max_x)\n",
    "        tol:近似解的容差（y的绝对值小于tol时认为等于0\n",
    "    \"\"\"\n",
    "    x_vals = np.linspace(x_range[0], x_range[1], num_points)\n",
    "    y_vals = quadratic_equation(a, b, c, x_vals)\n",
    "\n",
    "    approx_roots = []\n",
    "    for i in range(len(x_vals) - 1):\n",
    "        #如果y跨过0， 或者y接近0\n",
    "        #如果两个领点之间的乘积小于0则存在零点在这个范围\n",
    "        # 注意这里只检测y_vals[i]是否接近零， 没有检测最后一个\n",
    "        if (y_vals[i] * y_vals[i+1] < 0 ) or (abs(y_vals[i]) < tol):\n",
    "            #获取相邻两点坐标\n",
    "            x0 = x_vals[i]\n",
    "            x1 = x_vals[i+1]\n",
    "            y0 = y_vals[i]\n",
    "            y1 = y_vals[i+1]\n",
    "            x_root = x0 - y0 * (x1 - x0) / (y1 - y0) #线性插值公式\n",
    "            approx_roots.append(x_root)\n",
    "            #以上是连接两点的直线与x轴交点的x坐标，比直接取x[i]更加方便\n",
    "    return approx_roots\n",
    "a = 1\n",
    "b = -3\n",
    "c = 2\n",
    "x_range = (-2, 4)\n",
    "approx_roots = find_approx_roots(a, b, c, x_range)\n",
    "print(f\"方程{a}x^2 + {b}x + {c} = 0, 解为{approx_roots}\")"
   ]
  },
  {
   "cell_type": "markdown",
   "id": "7794a160",
   "metadata": {},
   "source": [
    "np.logspace(start, stop, num=50, endpoint=True, base=10.0, dtype=None, axis=0)\n",
    "\n",
    "- np.logspace() 函数用于创建一个在对数刻度上均匀分布的数值序列。\n",
    "- start: 序列的起始值，表示 base 的 start 次幂。\n",
    "- stop: 序列的终止值，表示 base 的 stop 次幂。\n",
    "- num: 要生成的元素数量，默认为 50。\n",
    "- endpoint: 如果为 True，则序列中包含终止值 stop；如果为 False，则不包含 stop，默认为 True。\n",
    "- base: 对数的底数，默认为 10.0。\n",
    "- dtype: 输出数组的数据类型，默认为 None，表示根据输入数据自动推断类型。\n"
   ]
  },
  {
   "cell_type": "code",
   "execution_count": null,
   "id": "80bcdae6",
   "metadata": {},
   "outputs": [
    {
     "name": "stdout",
     "output_type": "stream",
     "text": [
      "[  10.           46.41588834  215.443469   1000.        ]\n"
     ]
    }
   ],
   "source": [
    "arr = np.logspace(1, 3, 4)\n",
    "print(arr) #因为生成的是均匀分布的数值序列"
   ]
  },
  {
   "cell_type": "code",
   "execution_count": 91,
   "id": "75f47dec",
   "metadata": {},
   "outputs": [
    {
     "name": "stdout",
     "output_type": "stream",
     "text": [
      "[0.0001 0.001  0.01   0.1   ]\n"
     ]
    }
   ],
   "source": [
    "learning_rates = np.logspace(-4, -1, num=4)#1e-4到1e-1之间的四个学习率\n",
    "print(learning_rates)"
   ]
  },
  {
   "cell_type": "code",
   "execution_count": 1,
   "id": "0c9ba7a7",
   "metadata": {},
   "outputs": [
    {
     "name": "stdout",
     "output_type": "stream",
     "text": [
      "tetx\n"
     ]
    }
   ],
   "source": [
    "a = \"tetx\"\n",
    "print(\"{}\".format(a))"
   ]
  },
  {
   "cell_type": "code",
   "execution_count": null,
   "id": "388eef97",
   "metadata": {},
   "outputs": [
    {
     "name": "stdout",
     "output_type": "stream",
     "text": [
      "0    1\n",
      "1    2\n",
      "2    3\n",
      "3    4\n",
      "dtype: int64\n",
      "0    1\n",
      "1    2\n",
      "2    3\n",
      "3    4\n",
      "dtype: int64\n",
      "1    1\n",
      "2    2\n",
      "3    3\n",
      "4    4\n",
      "dtype: int64\n"
     ]
    }
   ],
   "source": [
    "import pandas as pd\n",
    "import numpy\n",
    "lis = [1, 2, 3, 4]\n",
    "arr = numpy.array([1, 2, 3, 4])\n",
    "s = pd.Series(lis)\n",
    "s_arr = pd.Series(arr)\n",
    "print(s)#输出一样\n",
    "print(s_arr)\n",
    "\"\"\" \n",
    "0    1\n",
    "1    2\n",
    "2    3\n",
    "3    4\n",
    "dtype: int64\n",
    " \"\"\"\n",
    "#前面的索引可以自定义\n",
    "s_arr = pd.Series(arr, index= [1, 2, 3, 4])\n",
    "print(s_arr)\n",
    "\"\"\" \n",
    "1    1\n",
    "2    2\n",
    "3    3\n",
    "4    4\n",
    "dtype: int64 \"\"\""
   ]
  },
  {
   "cell_type": "code",
   "execution_count": null,
   "id": "6d0dd944",
   "metadata": {},
   "outputs": [
    {
     "name": "stdout",
     "output_type": "stream",
     "text": [
      "   0\n",
      "0  1\n",
      "1  2\n",
      "2  3\n",
      "3  4\n"
     ]
    }
   ],
   "source": [
    "data = [1, 2, 3, 4]\n",
    "df = pd.DataFrame(data)\n",
    "print(df)\n",
    "\"\"\" \n",
    "   0 \n",
    "0  1\n",
    "1  2\n",
    "2  3\n",
    "3  4\n",
    " \"\"\""
   ]
  },
  {
   "cell_type": "code",
   "execution_count": null,
   "id": "f42e918e",
   "metadata": {},
   "outputs": [
    {
     "name": "stdout",
     "output_type": "stream",
     "text": [
      "         name department  monthly_salary  yearly_bonus\n",
      "1  Employee_1      Teach           19000         63328\n",
      "2  Employee_2         HR           10600         90654\n",
      "3  Employee_3      Teach           15123         69659\n",
      "4  Employee_4         HR           11253         73766\n",
      "5  Employee_5      Teach           15206         64179\n",
      "6  Employee_6         HR           13324         40098\n",
      "7  Employee_7      Teach           11214         65135\n",
      "8  Employee_8         HR           19565         73662\n",
      "数据状态：\n",
      "(25, 4)\n",
      "\n",
      "描述统计数据\n",
      "name              object\n",
      "department        object\n",
      "monthly_salary     int32\n",
      "yearly_bonus       int32\n",
      "dtype: object\n"
     ]
    }
   ],
   "source": [
    "import random\n",
    "import numpy as np\n",
    "import pandas as pd\n",
    "np.random.seed(50) #固定随机种子\n",
    "# name = [\"Employee_\" + f\"{i}\" for i in range(1, 26)]\n",
    "# department  = ([\"Teach\", \"HR\"] * 13)[:25]\n",
    "# monthly_salary = np.random.randint(5000, 20000, size=25)\n",
    "# yearly_bonus = np.random.randint(20000, 100000, size=25)\n",
    "data = {\n",
    "\"name\" : [\"Employee_\" + f\"{i}\" for i in range(1, 26)],\n",
    "\"department\" : ([\"Teach\", \"HR\"] * 13)[:25],\n",
    "\"monthly_salary\" : np.random.randint(5000, 20000, size=25),\n",
    "\"yearly_bonus\" : np.random.randint(20000, 100000, size=25)\n",
    "}\n",
    "\n",
    "index = [ i for i in range(1, 26)]\n",
    "\n",
    "info_chess = pd.DataFrame(data, index=index)\n",
    "# print(info_chess)\n",
    "\n",
    "#输出前八行数据\n",
    "print(info_chess.head(8))\n",
    "#输出数据形状\n",
    "print(\"数据状态：\")\n",
    "print(info_chess.shape)\n",
    "print(\"\\n数据类型\")\n",
    "print(info_chess.dtypes)"
   ]
  },
  {
   "cell_type": "code",
   "execution_count": 7,
   "id": "07de4322",
   "metadata": {},
   "outputs": [
    {
     "name": "stdout",
     "output_type": "stream",
     "text": [
      "你好\n",
      "hello\n"
     ]
    }
   ],
   "source": [
    "def wrapper(func):\n",
    "    def inner():\n",
    "        func()\n",
    "        print(\"hello\")\n",
    "    return inner\n",
    "@wrapper\n",
    "def Hello():\n",
    "    print(\"你好\")\n",
    "Hello()"
   ]
  },
  {
   "cell_type": "code",
   "execution_count": 11,
   "id": "4cd1b5a6",
   "metadata": {},
   "outputs": [
    {
     "name": "stdout",
     "output_type": "stream",
     "text": [
      "[1.  2.5 4. ]1.5\n",
      "[[1. 0. 0. 0.]\n",
      " [0. 1. 0. 0.]\n",
      " [0. 0. 1. 0.]\n",
      " [0. 0. 0. 1.]]\n"
     ]
    }
   ],
   "source": [
    "import numpy as np\n",
    "arr, step = np.linspace(1, 4, num=3 ,retstep=True)\n",
    "print(f\"{arr}{step}\")\n",
    "arr_1 = np.identity(4)\n",
    "print(arr_1)"
   ]
  },
  {
   "cell_type": "code",
   "execution_count": 21,
   "id": "c0d62a51",
   "metadata": {},
   "outputs": [
    {
     "name": "stdout",
     "output_type": "stream",
     "text": [
      "[[[1. 2.]\n",
      "  [3. 4.]\n",
      "  [5. 6.]]\n",
      "\n",
      " [[3. 4.]\n",
      "  [5. 6.]\n",
      "  [7. 8.]]]\n"
     ]
    }
   ],
   "source": [
    "start = np.array([[1, 2], [3, 4]])\n",
    "stop = np.array([[5, 6], [7, 8]])\n",
    "arr = np.linspace(start, stop, num=3, axis=1)\n",
    "print(arr)"
   ]
  },
  {
   "cell_type": "code",
   "execution_count": 36,
   "id": "881b571d",
   "metadata": {},
   "outputs": [
    {
     "name": "stdout",
     "output_type": "stream",
     "text": [
      "[[[1 2 3]\n",
      "  [2 3 4]]\n",
      "\n",
      " [[3 4 5]\n",
      "  [4 5 6]]]\n"
     ]
    }
   ],
   "source": [
    "a = np.array([[1, 2], [3, 4]])\n",
    "b = np.array([[3, 4], [5, 6]])\n",
    "# print(np.subtract(a, b)) #对应值相减\n",
    "arr = np.linspace(a, b, num=3, axis=2, dtype=int)\n",
    "print(arr)"
   ]
  },
  {
   "cell_type": "markdown",
   "id": "08a18292",
   "metadata": {},
   "source": [
    "### numpy中的数学函数\n",
    "- np.add(): 用于对两个数组进行逐元素加法运算\n",
    "- np.subtract(): 用于对两个数组进行逐元素减法运算\n",
    "- np.multiply(): 用于对两个数组进行逐元素乘法运算\n",
    "- np.divide(): 用于对两个数组进行逐元素除法运算\n",
    "- np.sqrt(): 用于计算数组中每个元素的平方根\n",
    "- np.exp(): 用于计算数组中每个元素的指数值\n",
    "- np.log(): 用于计算数组中每个元素的自然对数\n",
    "- np.median(): 用于计算数组中元素的中位数\n",
    "- np.mean(): 用于计算数组中元素的平均值\n",
    "- np.std(): 用于计算数组中元素的标准差\n",
    "- np.var(): 用于计算数组中元素的方差\n",
    "- np.min(): 用于计算数组中元素的最小值\n",
    "- np.max(): 用于计算数组中元素的最大值\n",
    "- np.corrcoef(): 用于计算两个数组之间的相关系数矩阵\n",
    "- np.linalg.inv(): 用于计算矩阵的逆矩阵\n",
    "- np.linalg.det(): 用于计算矩阵的行列式\n",
    "多维数组数学运算时，默认按元素位置对应进行运算"
   ]
  },
  {
   "cell_type": "markdown",
   "id": "4bab02f8",
   "metadata": {},
   "source": [
    "numpy.random模块是numpy的一个子模块， 在numpy生成随机数方面提供了丰富的功能\n",
    "- numpy.random.rand(): 生成均匀分布的随机数，参数为数组的形状\n",
    "- numpy.random.randn(): 生成标准正态分布的随机数，参数为数组的形状\n",
    "- numpy.random.randint(): 生成指定范围内的随机整数，参数为起始值\n",
    "- numpy.random.choice(): 从给定的一维数组中随机抽取指定数量的元素，参数为数组和抽取数量\n",
    "- numpy.random.seed(): 设置随机数种子，确保每次生成的随机数序列相同\n",
    "- numpy.random.normal(): 生成正态分布的随机数，参数为均值、标准差和数量\n",
    "- numpy.random.uniform(): 生成均匀分布的随机数，参数为起始值、终止值和数量\n",
    "RandomState: 生成随机数的对象，可以创建多个独立的随机数生成器ng = np.random.default_rng()\n",
    "Generator: 新的随机数生成器，推荐使用，可以替代RandomState"
   ]
  },
  {
   "cell_type": "code",
   "execution_count": null,
   "id": "b4e6e9af",
   "metadata": {},
   "outputs": [
    {
     "name": "stdout",
     "output_type": "stream",
     "text": [
      "0.8050029237453802\n",
      "[1]\n"
     ]
    }
   ],
   "source": [
    "import numpy as np\n",
    "#未设置种子每次随机结果都不同\n",
    "# np.random.seed(50)\n",
    "# arr = np.random.randint(5)\n",
    "# arr\n",
    "rng = np.random.default_rng(5) #这个直接在括号里面设置种子该方式为Generator\n",
    "print(rng.random())\n",
    "arr = np.arange(1, 2)\n",
    "print(arr)\n",
    "arr = np.array([[1, 2, 3], [1, 2, 3]])\n",
    "arr.resize(1, 3)"
   ]
  },
  {
   "cell_type": "code",
   "execution_count": null,
   "id": "ba3f720d",
   "metadata": {},
   "outputs": [
    {
     "data": {
      "text/plain": [
       "array([7.56994721, 6.84853026, 3.39587269])"
      ]
     },
     "execution_count": 32,
     "metadata": {},
     "output_type": "execute_result"
    }
   ],
   "source": [
    "np.random.rand(3) #生成三个随机浮点数0-1 np.random.rand(3)[0.24423009, 0.3251973 , 0.43930505\n",
    "np.random.randint(1, 5, 3) #array([4, 4, 2], dtype=int32)\n",
    "np.random.randn(2) #正态分布array([2.51254838, 0.4411176 ])\n",
    "np.random.uniform(1, 5, 3) #array([2.53197239, 1.4592758 , 4.45781604])\n",
    "np.random.normal(5, 2, 3) #生成三个均值为5标准差为2的三个随机数， array([7.56994721, 6.84853026, 3.39587269])"
   ]
  },
  {
   "cell_type": "markdown",
   "id": "344b9f21",
   "metadata": {},
   "source": [
    "###  rng = np.random.default_rng() \n",
    "()中可设置种子该方式为Generator\n",
    "- rng.random(): 生成**均匀分布**的随机数，范围在[0.0, 1.0)之间\n",
    "- rng.integers(low, high=None, size=None, dtype=int): 生成指定范围内的随机整数，low为起始值，high为终止值<font color=\"red\">(不包含)</font>，size为生成的整数数量,endpoint=True表示包含终止值\n",
    "- rng.normal(loc=0.0, scale=1.0, size=None): 生成**正态分布**的随机数，loc为均值，scale为标准差，size为生成的随机数数量\n",
    "- rng.uniform(low=0.0, high=1.0, size=None): 生成**均匀分布**的随机数，low为起始值，high为终止值（不包含），size为生成的随机数数量\n",
    "- rng.choice(a, size=None, replace=True, p=None): 从给定的一维数组a中随机抽取指定数量的元素，size为抽取数量，replace表示是否允许重复抽取，p为每个元素被抽取的概率分布\n",
    "- rng.standard_normal(size=None): 生成标准**正态分布**的随机数，均值为0，标准差为1，size为生成的随机数数量"
   ]
  },
  {
   "cell_type": "code",
   "execution_count": null,
   "id": "93f4e410",
   "metadata": {},
   "outputs": [
    {
     "name": "stdout",
     "output_type": "stream",
     "text": [
      "0.852633198899536\n",
      "[2 2 2]\n",
      "[-0.89084632  0.64187558  0.08624737]\n",
      "[3.34882274 1.3941724  9.8817529 ]\n",
      "[ 0.30503957  1.19408509 -0.9849753 ]\n"
     ]
    }
   ],
   "source": [
    "rng = np.random.default_rng()\n",
    "\n",
    "print(rng.random()) #生成0-1之间的均匀分布浮点数\n",
    "print(rng.integers(1, 3, 3, dtype=int)) #[2 1 2]\n",
    "print(rng.standard_normal(3)) #均值为0标准差为1的随机数3\n",
    "print(rng.uniform(1, 10, 3)) #[6.5809714  1.98769408 6.55718315]均匀分布\n",
    "print(rng.normal(1, 1, 3)) #[1.40180647 0.1278559  2.12011302]分别为均值标准差"
   ]
  },
  {
   "cell_type": "markdown",
   "id": "ab9b75c6",
   "metadata": {},
   "source": [
    "### numpy中数据类型\n",
    "- int: 整数类型，如 int8, int16, int32, int64\n",
    "- float: 浮点数类型，如 float16, float32, float64\n",
    "- bool: 布尔类型，表示 True 或 False\n",
    "- complex: 复数类型，如 complex64, complex128\n",
    "- object: 通用对象类型，可以存储任意 Python 对象\n",
    "### 特征码\n",
    "- b: 布尔类型\n",
    "- i: 有符号整数类型\n",
    "- u: 无符号整数类型\n",
    "- f: 浮点数类型\n",
    "- c: 复数类型\n",
    "- m: 时间间隔类型\n",
    "- M: 日期时间类型\n",
    "- O: 对象类型\n",
    "- S: 字节字符串类型\n",
    "- V: 原始数据类型\n",
    "- U: Unicode字符串类型\n"
   ]
  },
  {
   "cell_type": "markdown",
   "id": "a6edc919",
   "metadata": {},
   "source": [
    "### 数据类型转换- astype(): 用于将数组转换为指定的数据类型\n",
    "- astype() 方法用于将 NumPy 数组转换为指定的数据类型。\n"
   ]
  },
  {
   "cell_type": "code",
   "execution_count": null,
   "id": "33f04afc",
   "metadata": {},
   "outputs": [
    {
     "name": "stdout",
     "output_type": "stream",
     "text": [
      "f\n",
      "float64\n",
      "int64\n",
      "int64\n"
     ]
    }
   ],
   "source": [
    "data = np.array([1, 2, 3])\n",
    "data.dtype.name #输出int64\n",
    "float_dta = data.astype(\"float\")\n",
    "\n",
    "print(float_dta.dtype.kind)#f\n",
    "print(float_dta.dtype.name)#float64\n",
    "\n",
    "data_int = data.astype(\"int\")\n",
    "print(data_int.dtype.name) #int64\n",
    "data_int_2 = data.astype(np.int64)\n",
    "print(data_int_2.dtype.name) #int64\n"
   ]
  },
  {
   "cell_type": "code",
   "execution_count": 69,
   "id": "458b77d2",
   "metadata": {},
   "outputs": [
    {
     "name": "stdout",
     "output_type": "stream",
     "text": [
      "[-1.1290769  -0.92819418 -0.1313509  -1.22034345 -0.81828949  0.35720707\n",
      "  1.27934602 -0.69899402 -0.92830635  0.52414244]\n",
      "[-1  0  0 -1  0  0  1  0  0  0]\n",
      "[1 3 4]\n"
     ]
    }
   ],
   "source": [
    "rng = np.random.default_rng()\n",
    "rand_data = np.random.randn(10)\n",
    "print(rand_data)\n",
    "rand_data_int = rand_data.astype(\"int\")\n",
    "print(rand_data_int)\n",
    "\n",
    "rand_int = rng.integers(1, 5, 3)\n",
    "print(rand_int)"
   ]
  },
  {
   "cell_type": "code",
   "execution_count": 75,
   "id": "d1d9f1c5",
   "metadata": {},
   "outputs": [
    {
     "name": "stdout",
     "output_type": "stream",
     "text": [
      "[1 2 3]\n",
      "[1. 2. 3.]\n",
      "['1.0' '2.0' '3.0']\n"
     ]
    }
   ],
   "source": [
    "import numpy as np\n",
    "\n",
    "str_data = np.array([\"1\", \"2\", \"3\"])\n",
    "int_data = str_data.astype(int)\n",
    "print(int_data)\n",
    "float_data = int_data.astype(float)\n",
    "print(float_data)\n",
    "#数字转字符串\n",
    "str_data_1 = float_data.astype(str)\n",
    "print(str_data_1)"
   ]
  },
  {
   "cell_type": "markdown",
   "id": "ec06aab7",
   "metadata": {},
   "source": [
    "### 多维数组索引和切片\n",
    "arr = np.array([[1, 2, 3, 4],\n",
    "                [5, 6, 7, 8],\n",
    "                [9, 10, 11, 12]])\n",
    "| 特性       | arr[1, 2] (元组索引) | arr[1][2] (链式索引) | arr[1:2, 2:3] (切片索引) |\n",
    "|----------|------------------|------------------|--------------------|\n",
    "| 目的       | 获取单个元素         | 获取单个元素         | 提取子数组             |\n",
    "| 语法风格     | NumPy推荐，高效       | Python原生列表风格，效率较低 | 用于数据子集提取          |\n",
    "| 返回类型     | 单个元素 (标量)      | 单个元素 (标量)      | NumPy数组           |\n",
    "| 返回值示例    | 7                | 7                | [[7]]\n",
    "| 返回维度     | 降维 (2D -> 0D)    | 降维 (2D -> 0D)    | 保持维度 (2D -> 2D)   |\n",
    "| 性能       | 最高效 (一次操作)     | 较低效 (多次操作)     | 取决于切片大小         |\n",
    "| 数据关系     | 返回值的副本         | 返回值的副本         | 返回原数组的视图       |\n",
    "\n"
   ]
  },
  {
   "cell_type": "code",
   "execution_count": null,
   "id": "4adf1b48",
   "metadata": {},
   "outputs": [
    {
     "name": "stdout",
     "output_type": "stream",
     "text": [
      "[[1 2 3]\n",
      " [1 2 3]]\n",
      "2\n",
      "[[2]\n",
      " [2]]\n",
      "[3 3]\n",
      "(3, 5)\n",
      "34\n",
      "[[34]]\n",
      "[[2]]\n",
      "34\n"
     ]
    }
   ],
   "source": [
    "arr = np.array([[1, 2, 3],[1, 2, 3]])\n",
    "print(arr[:2]) #获取\n",
    "print(arr[1, 1])\n",
    "print(arr[:, 1:2]) #取所有行的第二列 [[2] [2]]\n",
    "\n",
    "print(arr[:, 2]) #获取第三列的元素并组成列表[3 3]\n",
    "\n",
    "arr = np.array([[1 ,6 ,11, 15, 16], [1, 12, 34, 15, 13], [2, 3, 4, 5, 5]])\n",
    "\n",
    "print(arr.shape)\n",
    "print(arr[1][2]) #34\n",
    "print(arr[1:2, 2:3]) #[[34]]\n",
    "# print(arr[2:3, 0:1])\n",
    "print(arr[1, 2]) #34"
   ]
  },
  {
   "cell_type": "code",
   "execution_count": null,
   "id": "593cdf34",
   "metadata": {},
   "outputs": [
    {
     "name": "stdout",
     "output_type": "stream",
     "text": [
      "[[10  6  5]\n",
      " [11 16  2]]\n",
      "[[10  6  5]\n",
      " [11 16  2]]\n"
     ]
    }
   ],
   "source": [
    "#花式索引\n",
    "#一维数组\n",
    "arr = np.array([10, 6, 5, 11, 16, 2])\n",
    "arr[[0, 1, 3]] #输出下表组成的二维数组 array([10,  6, 11])\n",
    "arr_2 = arr.reshape(2,3)\n",
    "print(arr_2)\n",
    "print(arr_2[[0, 1]]) #直接按照行索引取出 [[10  6  5] [11 16  2]]\n"
   ]
  },
  {
   "cell_type": "code",
   "execution_count": null,
   "id": "7b18693c",
   "metadata": {},
   "outputs": [
    {
     "data": {
      "text/plain": [
       "array([34,  5])"
      ]
     },
     "execution_count": 105,
     "metadata": {},
     "output_type": "execute_result"
    }
   ],
   "source": [
    "arr = np.array([[1 ,6 ,11, 15, 16], [1, 12, 34, 15, 13], [2, 3, 4, 5, 5]])\n",
    "arr[[1,2], [2, 3]] #每一个列表中第一个元素为行索引第二个为改行的元素索引array([34,  5])\n",
    "\n",
    "#注意：使用两个花式索引索引二维数组时候，两个花式索引对应的数组或者列表的长度是相等的，并且长度不能出超过二维数组终端的相应轴上的元素数量，否则回传先索引异常\n"
   ]
  },
  {
   "cell_type": "code",
   "execution_count": null,
   "id": "1475436b",
   "metadata": {},
   "outputs": [
    {
     "name": "stdout",
     "output_type": "stream",
     "text": [
      "[[False  True  True  True  True]\n",
      " [False  True  True  True  True]\n",
      " [False False  True  True  True]]\n",
      "[ 6 11 15 16 12 34 15 13  4  5  5]\n",
      "(11,)\n"
     ]
    },
    {
     "data": {
      "text/plain": [
       "array([[ 1,  6, 11, 15],\n",
       "       [ 1, 12, 34, 15]])"
      ]
     },
     "execution_count": 12,
     "metadata": {},
     "output_type": "execute_result"
    }
   ],
   "source": [
    "import numpy as np\n",
    "\n",
    "arr = np.array([[1 ,6 ,11, 15, 16],\n",
    "                 [1, 12, 34, 15, 13],\n",
    "                   [2, 3, 4, 5, 5]])\n",
    "#判断当前哪些元素大于3\n",
    "print(arr > 3)\n",
    "#返回比较后的bool数组维度变\n",
    "\n",
    "print(arr[arr > 3]) #显示出大于3的数组并降维\n",
    "print(arr[arr > 3].shape)\n",
    "\n",
    "arr[[True, True, False], :4] #前面的布尔值是代表是否选择第几行True为选择， 后面的切片为改行的元素\n",
    "\n",
    "\n"
   ]
  },
  {
   "cell_type": "code",
   "execution_count": null,
   "id": "d49ead46",
   "metadata": {},
   "outputs": [
    {
     "name": "stdout",
     "output_type": "stream",
     "text": [
      "[ True False  True]\n",
      "[ True False  True]\n"
     ]
    }
   ],
   "source": [
    "arr1 = np.array([True, False, True])\n",
    "arr2 = np.array([1, 0, 3], dtype=bool)\n",
    "print(arr1)\n",
    "print(arr2) #有值九为True\n"
   ]
  },
  {
   "cell_type": "code",
   "execution_count": null,
   "id": "a059c388",
   "metadata": {},
   "outputs": [
    {
     "name": "stdout",
     "output_type": "stream",
     "text": [
      "[[ 6  8 10 12]\n",
      " [ 6  8 10 12]\n",
      " [ 6  8 10 12]]\n",
      "[[-4 -4 -4 -4]\n",
      " [-4 -4 -4 -4]\n",
      " [-4 -4 -4 -4]]\n",
      "[[ 5 12 21 32]\n",
      " [ 5 12 21 32]\n",
      " [ 5 12 21 32]]\n",
      "3\n",
      "[[6 8]\n",
      " [6 8]]\n"
     ]
    },
    {
     "data": {
      "text/plain": [
       "np.int64(10)"
      ]
     },
     "execution_count": 49,
     "metadata": {},
     "output_type": "execute_result"
    }
   ],
   "source": [
    "#形状相同的数组运算\n",
    "arr1 = np.array([[1, 2 ,3 ,4], [1, 2, 3, 4], [1, 2, 3, 4]])\n",
    "arr2 = np.array([[5, 6, 7, 8], [5, 6, 7, 8], [5, 6, 7, 8]])\n",
    "\n",
    "print(arr1 + arr2)\n",
    "print(arr1 - arr2)\n",
    "print(arr1 * arr2)\n",
    "print(arr1[:2, :2]  + arr2[:2, :2])\n",
    "arr1[2, 2] + arr2[1, 2]"
   ]
  },
  {
   "cell_type": "markdown",
   "id": "404fe266",
   "metadata": {},
   "source": [
    "### 塌陷和广播\n",
    "- 塌陷：当创建的数组中包含形状不一致的元素时，且dtype=object时，整个数组会被视为一维数组，每个元素是一个独立的对象，而不是多维数组的一部分\n",
    "- 广播：当对形状不同的数组进行数学运算时，NumPy会自动调整较小数组的形状以匹配较大数组的形状，从而使得运算可以顺利进行\n",
    " - 广播规则：\n",
    "  1. 如果两个数组的维度数量不同，则在较小的数组前面添加1，直到两个数组的维度数量相同\n",
    "  2. 如果两个数组在某个维度上的长度不相同，且其中一个数组在该维度上的长度为1，则将该数组沿该维度复制，直到其长度与另一个数组相同\n",
    "  3. 如果两个数组在某个维度上的长度不相同，且都不为1，则无法进行广播，抛出错误\n"
   ]
  },
  {
   "cell_type": "code",
   "execution_count": null,
   "id": "5249d31d",
   "metadata": {},
   "outputs": [
    {
     "name": "stdout",
     "output_type": "stream",
     "text": [
      "[[1 2 3]]\n",
      "[[1]\n",
      " [2]\n",
      " [3]\n",
      " [4]]\n"
     ]
    },
    {
     "data": {
      "text/plain": [
       "array([[2, 3, 4],\n",
       "       [3, 4, 5],\n",
       "       [4, 5, 6],\n",
       "       [5, 6, 7]])"
      ]
     },
     "execution_count": 57,
     "metadata": {},
     "output_type": "execute_result"
    }
   ],
   "source": [
    "#形状不同的算数运算， 可能会触发广播机制，对参与运算的数组进行扩展使扩展后的数组有相同形状\n",
    "a  =  np.array([[1, 2, 3]])\n",
    "b  = np.array([[1], [2], [3], [4]])\n",
    "print(a)\n",
    "#[[1 2 3]]\n",
    "print(b)\n",
    "\"\"\" \n",
    "[[1]\n",
    " [2]\n",
    " [3]\n",
    " [4]] \"\"\"\n",
    "a + b #每个进行对自己复制并且延申成a.shape * b*shape形状的在进行操作\n",
    "\"\"\"\n",
    "  array([[2, 3, 4],\n",
    "       [3, 4, 5],\n",
    "       [4, 5, 6],\n",
    "       [5, 6, 7]])\n",
    "  \"\"\"\n"
   ]
  },
  {
   "cell_type": "code",
   "execution_count": null,
   "id": "3b6c0f34",
   "metadata": {},
   "outputs": [],
   "source": []
  },
  {
   "cell_type": "code",
   "execution_count": 47,
   "id": "4890830d",
   "metadata": {},
   "outputs": [
    {
     "name": "stdout",
     "output_type": "stream",
     "text": [
      "  name  math_grader  china_grader  other\n",
      "1   小明          100            90     80\n",
      "2   小红           98            70     40\n",
      "3   小美           60            80     80\n",
      "++++++++++++++++++++++++++++\n",
      "      math_grader  other\n",
      "name                    \n",
      "小明            100     80\n",
      "小红             98     40\n",
      "小美             60     80\n",
      "++++++++++++++++++++++++++++++\n",
      "name  other\n",
      "小明    80       100\n",
      "小红    40        98\n",
      "小美    80        60\n",
      "Name: math_grader, dtype: int64\n"
     ]
    }
   ],
   "source": [
    "import pandas as pd\n",
    "\n",
    "frame = pd.DataFrame(\n",
    "    {\n",
    "    \"name\":[\"小明\", \"小红\", \"小美\"],\n",
    "    \"math_grader\":[100, 98, 60],\n",
    "    \"china_grader\":[90, 70, 80],\n",
    "    \"other\": [80, 40, 80]\n",
    "},\n",
    "index=[1, 2, 3]\n",
    ")\n",
    "print(frame)\n",
    "print(\"++++++++++++++++++++++++++++\")\n",
    "group = frame.groupby(\"name\").agg({\n",
    "    \"math_grader\":\"sum\",\n",
    "    \"other\": \"max\"\n",
    "}\n",
    ")\n",
    "print(group)\n",
    "print(\"++++++++++++++++++++++++++++++\")\n",
    "sum_grader = frame.groupby([\"name\", \"other\"])[\"math_grader\"].sum()\n",
    "print(sum_grader)\n",
    "\n",
    "\n"
   ]
  },
  {
   "cell_type": "markdown",
   "id": "bb7fc280",
   "metadata": {},
   "source": [
    "### np.where()\n",
    "- np.where() 函数用于根据条件从数组中选择元素，返回满足条件的元素的索引或值。\n",
    "- 语法：np.where(condition, [x, y])\n",
    "  - condition: 条件表达式，返回布尔数组\n",
    "  - x: 满足条件时返回的值（可选）\n",
    "  - y: 不满足条件时返回的值（可选）\n",
    "- 用处\n",
    "  - 条件筛选：根据条件从数组中筛选元素\n",
    "  - 条件替换：根据条件替换数组中的元素\n",
    "  - 索引获取：获取满足条件的元素的索引位置"
   ]
  },
  {
   "cell_type": "code",
   "execution_count": null,
   "id": "5de99f75",
   "metadata": {},
   "outputs": [
    {
     "name": "stdout",
     "output_type": "stream",
     "text": [
      "[  20.   20.   20.   20.   20.   20. -999.]\n"
     ]
    }
   ],
   "source": [
    "#用法跟条件表达式类似\n",
    "import numpy as np\n",
    "\n",
    "temp_c = np.array([22.3, 19.2, 43, 38, -38, -23.4, -999])\n",
    "\n",
    "#将-999修正为20\n",
    "temp_c_clear = np.where(temp_c == -999, 20, temp_c) #当前面条件为True时返回20， 否则返回temp_c中的值\n",
    "\n",
    "print(temp_c_clear)\n",
    "\n"
   ]
  },
  {
   "cell_type": "code",
   "execution_count": null,
   "id": "333dac8b",
   "metadata": {},
   "outputs": [
    {
     "name": "stdout",
     "output_type": "stream",
     "text": [
      "[[272 224 219]\n",
      " [279  72 163]\n",
      " [119  41 283]]\n",
      "[[20 20 20]\n",
      " [20 20 20]\n",
      " [20 20 20]]\n",
      "[[1 2]\n",
      " [3 4]]\n",
      "[[1 2]\n",
      " [3 4]]\n"
     ]
    }
   ],
   "source": [
    "np.random.seed(20)#生成随机种子，让数据可视化更强\n",
    "arr = np.random.randint(1, 300, size=(3, 3))\n",
    "print(arr)\n",
    "new_arr = np.where(arr > 30, 20, np.where(arr<20, 10, arr))\n",
    "print(new_arr)\n",
    "\n",
    "arr = np.array([1, 2, 3, 4])\n",
    "arr_re = np.where(arr>2) #当为一维元素时返回的是其下表\n",
    "arr_re  #(array([2, 3]),)\n",
    "\n",
    "#当数组是二维时返回两个数组参数分别对应其满足条件的行列索引\n",
    "arr_two = np.array([1, 2, 3, 4]).reshape(2, 2)\n",
    "print(arr_two)\n",
    "\"\"\"\n",
    " [[1 2]\n",
    " [3 4]] \"\"\"\n",
    "arr_re = np.where(arr_two>2)\n",
    "arr_re #(array([1, 1]), array([0, 1]))其对应的=是3， 4的坐标\n",
    "\n",
    "arr_re = np.where((arr_two>1) & (arr_two <4), arr_two, 999)#将不在这个范围内的数替换为999且该符号必须为&或者|\n",
    "\n",
    "print(arr_re)"
   ]
  },
  {
   "cell_type": "markdown",
   "id": "18649461",
   "metadata": {},
   "source": [
    "### numpy中的通用函数\n",
    "- numpy.ufuncs 是 NumPy 中的通用函数（universal functions），用于对数组进行逐元素操作。\n",
    "- 这些函数可以对数组的每个元素应用相同的操作，而无需使用显式的循环，从而提高了代码的效率和可读性。\n",
    "- ufuncs包括\n",
    "    - 算术运算：np.add, np.subtract, np.multiply, np.divide, np.powerf\n",
    "    - 三角函数：np.sin, np.cos, np.tan, np.arcsin, np.arccos, np.arctan\n",
    "    - 指数和对数函数：np.exp, np.log, np.log10, np.log2\n",
    "    - 比较运算：np.equal, np.not_equal, np.greater, np.less, np.greater_equal, np.less_equal\n",
    "    - 逻辑运算：np.logical_and, np.logical_or, np.logical_not\n",
    "    - 聚合函数：np.sum, np.prod, np.mean, np.std, np.var, np.min, np.max\n",
    "    - 其他函数：np.abs, np.sqrt, np.ceil, np.floor, np.round\n",
    "- 其中：\n",
    "    - np.add: 对应元素相加\n",
    "    - np.subtract: 对应元素相减\n",
    "    - np.multiply: 对应元素相乘\n",
    "    - np.divide: 对应元素相除\n",
    "    - np.power: 对应元素求幂\n",
    "    - np.sin: 计算每个元素的正弦值\n",
    "    - np.cos: 计算每个元素的余弦值\n",
    "    - np.tan: 计算每个元素的正切值\n",
    "    - np.exp: 计算每个元素的指数值（e的幂）\n",
    "    - np.log: 计算每个元素的自然对数值\n",
    "    - np.sqrt: 计算每个元素的平方根值\n",
    "    - np.abs: 计算每个元素的绝对值\n",
    "    - np.ceil: 对每个元素向上取整\n",
    "    - np.floor: 对每个元素向下取整\n",
    "    - np.round: 对每个元素进行四舍五入\n",
    "    - np.rint: 对每个元素取整(四舍五入)\n",
    "    - np.modf: 将每个元素分解为整数部分和小数部分\n",
    "    - np.isnan: 检查每个元素是否为NaN（Not a Number）\n",
    "    - np.isinf: 检查每个元素是否为正无穷或负无穷\n",
    "    - np.isfinite: 检查每个元素是否为有限数值（非NaN且非无穷）\n",
    "    - np.sign: 返回每个元素的符号（正数为1，负数为-1，零为0）\n",
    "    - np.clip: 将数组中的元素限制在指定的范围内\n",
    "    - sinh, cosh, tanh: 计算每个元素的双曲正弦、双曲余弦和双曲正切值\n",
    "    - arcsinh, arccosh, arctanh: 计算每个元素的反双曲正弦、反双曲余弦和反双曲正切值\n",
    "    - np.diff: 计算数组中相邻元素的差值\n",
    "    - np.cumsum: 计算数组中元素的累积和\n",
    "    - np.cumprod: 计算数组中元素的累积积\n",
    "    - np.logical_and: 对应元素进行逻辑与运算\n",
    "    - np.logical_or: 对应元素进行逻辑或运算\n",
    "    - np.logical_not: 对应元素进行逻辑非运算\n",
    "    - np.equal: 对应元素进行相等比较\n",
    "    - np.not_equal: 对应元素进行不相等比较\n",
    "    - np.greater: 对应元素进行大于比较\n",
    "    - np.less: 对应元素进行小于比较\n",
    "    - np.greater_equal: 对应元素进行大于等于比较\n",
    "    - np.less_equal: 对应元素进行小于等于比较\n",
    "    - np.maximum: 返回对应元素中的最大值\n",
    "    - np.std(): 计算数组中元素的标准差\n",
    "    - np.var(): 计算数组中元素的方差\n",
    "    - np.min(): 计算数组中元素的最小值\n",
    "### 二元函数\n",
    "- 二元函数是指接受两个输入参数并返回一个输出结果的函数\n",
    "- 例如，np.add(x, y) 是一个二元函数，它接受两个数组作为输入，并返回一个新的数组，其中每个元素是对应输入数组元素的和\n",
    "- 二元函数包括:\n",
    "    - np.add: 对应元素相加\n",
    "    - np.subtract: 对应元素相减\n",
    "    - np.multiply: 对应元素相乘\n",
    "    - np.divide: 对应元素相除\n",
    "    - np.power: 对应元素求幂\n",
    "    - np.logical_and: 对应元素进行逻辑与运算\n",
    "    - np.logical_or: 对应元素进行逻辑或运算\n",
    "    - np.logical_xor: 对应元素进行逻辑异或运算\n",
    "    - np.maximum: 返回对应元素中的最大值\n",
    "    - np.minimum: 返回对应元素中的最小值\n",
    "    - np.mod: 计算对应元素的模（取余）值\n",
    "    - np.copysign: 将第二个数组的符号赋给第一个数组的对应元素\n",
    "    - np.hypot: 计算对应元素的平方和的平方根（即欧几里得距离）\n",
    "    - np.arctan2: 计算对应元素的反正切值，考虑象限信息\n",
    "    - np.floor_divide: 对应元素进行向下取整的整数除法\n",
    "    - greater, less, equal, not_equal, greater_equal, less_equal: 对应元素进行比较运算分别对应大于、小于、等于、不等于、大于等于、小于等于\n",
    "\n"
   ]
  },
  {
   "cell_type": "markdown",
   "id": "997401dd",
   "metadata": {},
   "source": [
    "### np.random.rand()和np.random.random()区别\n",
    "- np.random.rand(): 生成均匀分布的随机数，参数为数组的形状，返回值范围在[0.0, 1.0)之间\n",
    "- np.random.random(): 生成均匀分布的随机数，参数为数组的形状，返回值范围在[0.0, 1.0)之间\n",
    "- 两者的主要区别在于参数的传递方式\n",
    "  - np.random.rand() 需要将形状参数作为单独的参数传递，例如 np.random.rand(3, 4) 会生成一个形状为 (3, 4) 的数组\n",
    "  - np.random.random() 则需要将形状参数作为一个元组传递，例如 np.random.random((3, 4)) 会生成一个形状为 (3, 4) 的数组"
   ]
  },
  {
   "cell_type": "markdown",
   "id": "34f3bbe5",
   "metadata": {},
   "source": [
    "### np.fabs()和np.abs()区别\n",
    "- np.fabs(): 计算数组中每个元素的绝对值，返回一个新的数组，结果类型为浮点数\n",
    "- np.abs(): 计算数组中每个元素的绝对值，返回一个新的数组，结果类型与输入数组相同"
   ]
  },
  {
   "cell_type": "code",
   "execution_count": null,
   "id": "d8af152a",
   "metadata": {},
   "outputs": [
    {
     "data": {
      "text/plain": [
       "array([ True,  True, False, False])"
      ]
     },
     "execution_count": 41,
     "metadata": {},
     "output_type": "execute_result"
    }
   ],
   "source": [
    "import numpy as np\n",
    "np.random.seed(10)\n",
    "arr_int = np.random.randint(0, 4, size=(2, 2))\n",
    "arr_float = np.array([1.3, 1.8, -5.5, 4.0, -10.4])\n",
    "arr_bool = np.array([np.nan, np.nan, 8.0, -10.7])\n",
    "np.fabs(arr_float) #返回的是浮点数\n",
    "np.abs(arr_float) #返回的是原类型的绝对值\n",
    "np.ceil(arr_float) #返回向上取整array([  2.,   2.,  -5.,   4., -10.])\n",
    "np.rint(arr_float) #四舍五入 array([  1.,   2.,  -6.,   4., -10.])\n",
    "np.isnan(arr_bool) #是nan返回True否则返回False\n"
   ]
  },
  {
   "cell_type": "markdown",
   "id": "2e72a26f",
   "metadata": {},
   "source": [
    "### 数组重塑和转置操作\n",
    "数组的重塑和转置是Numpy中常用的操作，用于改变数组的形状和维度顺序，一般在处理多维数据时使用，也就是说**新形状行数和列数必须与原形状的元素总数相同**\n",
    "- 重塑（Reshape）: 使用reshape()方法可以改变数组的形状，但不改变数据内容\n",
    "- 转置（Transpose）: 使用T属性或transpose()方法可以交换数组的维度顺序\n",
    "### np.reshape()和np.resize()区别\n",
    "- np.reshape(): 用于改变数组的形状，但不改变数据内容，返回一个新的数组视图，如果新形状与原形状不兼容会报错\n",
    "- np.resize(): 用于改变数组的形状，如果新形状大于原形状，则重复填充原数组的元素，返回一个新的数组\n",
    " - reshape不会修改原数组，resize会修改原数组\n",
    " - resize的**填充规则**是从头开始重复填充原数组的元素，直到达到新形状所需的元素数量,然后循环遍历数组中的元素进行填充\n",
    "\n",
    "\n",
    "|序号|方法|描述|\n",
    "|---|---|---|\n",
    "|1 |np.reshape() |用于改变数组的形状，但不改变数据内容，返回一个新的数组视图，如果新形状与原形状不兼容会报错|\n",
    "|2 |np.resize() |用于改变数组的形状，如果新形状大于原形状，则重复填充原数组的元素，返回一个新的数组|\n",
    "|3 |np.ravel() |将多维数组展平为一维数组，返回一个新的视图, **其与原数组arr共用一个内存地址**|\n",
    "|4 |flatten() |将多维数组展平为一维数组，返回一个新的数组副本, **对原数组无影响**,有时候会存在内存爆炸情况，对超大数组会出现内存溢出|\n",
    "\n",
    "\n",
    "np.ravel(arr, order='C')其中arr为输入数组，order参数指定展平的顺序，'C'表示按行优先（C风格），'F'表示按列优先（Fortran风格），'K'表示按元素在内存中的顺序，' A'表示按列优先（Fortran风格）如果数组是Fortran连续的，否则按行优先（C风格）\n",
    "\n",
    "flatten(a, order='C')其中a为输入数组，order参数指定展平的顺序，'C'表示按行优先（C风格），'F'表示按列优先（Fortran风格），'K'表示按元素在内存中的顺序, ' A'表示按列优先（Fortran风格）如果数组是Fortran连续的，否则按行优先（C风格）返回一维数组原数组不变"
   ]
  },
  {
   "cell_type": "code",
   "execution_count": null,
   "id": "4cf35112",
   "metadata": {},
   "outputs": [
    {
     "name": "stdout",
     "output_type": "stream",
     "text": [
      "[[1 2]\n",
      " [3 4]]\n",
      "[[1 2 3]\n",
      " [4 1 2]\n",
      " [3 4 1]]\n",
      "[[[ 1  3  5]]\n",
      "\n",
      " [[ 7  9 11]]]\n",
      "[ 1  3  5  7  9 11]\n",
      "[ 1  3  5  7  9 11]\n",
      "[ 1  3  5  7  9 11]\n"
     ]
    }
   ],
   "source": [
    "import numpy as np\n",
    "arr = np.array([1, 2, 3, 4])\n",
    "print(arr.reshape(2, 2))\n",
    "\"\"\" [[1 2]\n",
    " [3 4]] \"\"\"\n",
    "arr_resize = np.resize(arr, (3, 3))\n",
    "print(arr_resize)\n",
    "\n",
    "\"\"\" [[1 2 3]\n",
    " [4 1 2]\n",
    " [3 4 1]] \"\"\"\n",
    "arr = np.arange(1, 12, 2)\n",
    "arr_reshape = arr.reshape(2, 1, 3)\n",
    "print(arr_reshape)\n",
    "\"\"\" \n",
    "array([[[ 1,  3,  5]],\n",
    "\n",
    "       [[ 7,  9, 11]]]) \n",
    "       \"\"\"\n",
    "arr_rav = arr_reshape.ravel()\n",
    "print(arr_rav) #[ 1  3  5  7  9 11]\n",
    "arr_rav2 = np.ravel(arr, order=\"c\") #按行优先展开\n",
    "print(arr_rav2) # array([ 1,  3,  5,  7,  9, 11])\n",
    "arr_F = np.ravel(arr, order=\"F\")\n",
    "print(arr_F) #[ 1  3  5  7  9 11] 在多维数组中效果明显"
   ]
  },
  {
   "cell_type": "code",
   "execution_count": null,
   "id": "ca5b85d0",
   "metadata": {},
   "outputs": [
    {
     "data": {
      "text/plain": [
       "array([1, 2, 3, 4])"
      ]
     },
     "execution_count": 17,
     "metadata": {},
     "output_type": "execute_result"
    }
   ],
   "source": [
    "arr = np.array([1, 2, 3, 4])\n",
    "arr_resize = np.resize(arr, (2, 3))\n",
    "arr_resize\n",
    "\"\"\" array([[1, 2, 3],\n",
    "       [4, 1, 2]]) 将原数组中元素遍历进行填充 \"\"\"\n",
    "\n",
    "arr_flatten = arr.flatten()\n",
    "arr_flatten\n",
    "\"\"\"array([1, 2, 3, 4])  \"\"\""
   ]
  },
  {
   "cell_type": "code",
   "execution_count": null,
   "id": "366ef7c7",
   "metadata": {},
   "outputs": [
    {
     "data": {
      "image/png": "[encoded data removed]",
      "text/plain": [
       "<Figure size 640x480 with 1 Axes>"
      ]
     },
     "metadata": {},
     "output_type": "display_data"
    },
    {
     "name": "stdout",
     "output_type": "stream",
     "text": [
      "(3, 4)\n"
     ]
    }
   ],
   "source": [
    "import matplotlib.pyplot as plt\n",
    "\n",
    "arr = np.random.rand(3, 4)\n",
    "arr_rav = np.ravel(arr, order=\"c\")\n",
    "plt.plot(arr_rav)\n",
    "\n",
    "plt.show()\n",
    "print(f\"{arr.shape}\")"
   ]
  },
  {
   "cell_type": "code",
   "execution_count": null,
   "id": "5ccfc350",
   "metadata": {},
   "outputs": [
    {
     "name": "stdout",
     "output_type": "stream",
     "text": [
      "[[0. 0. 0. ... 0. 0. 0.]\n",
      " [0. 0. 0. ... 0. 0. 0.]\n",
      " [0. 0. 0. ... 0. 0. 0.]\n",
      " ...\n",
      " [0. 0. 0. ... 0. 0. 0.]\n",
      " [0. 0. 0. ... 0. 0. 0.]\n",
      " [0. 0. 0. ... 0. 0. 0.]]\n",
      "[1. 1. 1. ... 1. 1. 1.]\n",
      "[[1. 1. 1. ... 1. 1. 1.]\n",
      " [1. 1. 1. ... 1. 1. 1.]\n",
      " [1. 1. 1. ... 1. 1. 1.]\n",
      " ...\n",
      " [1. 1. 1. ... 1. 1. 1.]\n",
      " [1. 1. 1. ... 1. 1. 1.]\n",
      " [1. 1. 1. ... 1. 1. 1.]]\n"
     ]
    }
   ],
   "source": [
    "# 能直接修改原来元素可见ravel方法与原数组共享一个地址空间\n",
    "import numpy as np\n",
    "large_arr = np.zeros((100, 100))\n",
    "print(large_arr)\n",
    "large = np.ravel(large_arr)\n",
    "large[:] = 1\n",
    "# print(large)\n",
    "print(large_arr)"
   ]
  },
  {
   "cell_type": "code",
   "execution_count": null,
   "id": "54be1e51",
   "metadata": {},
   "outputs": [
    {
     "data": {
      "text/plain": [
       "array([[0., 0.],\n",
       "       [0., 0.]])"
      ]
     },
     "execution_count": 33,
     "metadata": {},
     "output_type": "execute_result"
    }
   ],
   "source": [
    "#由此可见flatten与原数组不共享内存\n",
    "import numpy as np\n",
    "\n",
    "arr_zero = np.zeros((2, 2))\n",
    "arr_flatten = arr_zero.flatten()\n",
    "arr_flatten[:] = 1\n",
    "arr_flatten #array([1., 1., 1., 1.])\n",
    "arr_zero\n",
    "\"\"\" array([[0., 0.],\n",
    "       [0., 0.]]) \"\"\""
   ]
  },
  {
   "cell_type": "markdown",
   "id": "4425c3b3",
   "metadata": {},
   "source": [
    "### 连续数组和非连续数组\n",
    "可通过arr.flags['CONTIGUOUS']查看连续性，可分为['C_CONTIGUOUS', 'F_CONTIGUOUS']\n",
    "- 连续数组：在内存中连续存储的数组，访问速度快，适合进行数值计算和矩阵运算\n",
    "- 特点：\n",
    "     1. 高效切片和迭代：连续数组在进行切片和迭代操作时，由于内存地址是连续的，访问速度更快\n",
    "     2. 兼容性：与许多科学计算库（如SciPy、Pandas）兼容性更好\n",
    "     3. 内存占用：连续数组由于在内存中连续存储，通常占用更少的内存空间，因为没有额外的指针或引用来连接元素\n",
    "     4. CPU缓存友好：连续数组由于在内存中连续存储，更容易利用CPU缓存，提高访问速度\n",
    "- 非连续数组：在内存中不连续存储的数组，访问速度相对较慢，适合存储和操作异构数据\n",
    "- 特点：\n",
    "     1. 灵活性：非连续数组可以包含不同类型的元素，适合存储和操作异构数据\n",
    "     2. 内存碎片化：由于非连续数组在内存中不连续存储，可能会导致内存碎片化，影响性能\n",
    "     3. 切片和迭代效率较低：非连续数组在进行切片和迭代操作时，由于内存地址不连续，访问速度相对较慢\n",
    "     4. CPU缓存不友好：非连续数组由于在内存中不连续存储，较难利用CPU缓存，可能导致访问速度较慢\n",
    "- 连续数组通常使用Numpy库来创建和操作，非连续数组可以使用Python内置的列表或Pandas库来创建和操作\n",
    "\n",
    "### 内存重新排序\n",
    "可将非连续数组转换为连续数组\n",
    "- np.ascontiguousarray(): 将数组转换为C风格的连续数组\n",
    "- np.asfortranarray(): 将数组转换为Fortran风格的连续数组\n",
    "- np.copy(): 创建数组的副本，返回一个新的数组\n",
    "\n"
   ]
  },
  {
   "cell_type": "code",
   "execution_count": null,
   "id": "39c6af36",
   "metadata": {},
   "outputs": [
    {
     "name": "stdout",
     "output_type": "stream",
     "text": [
      "arr_re是否连续按行True\n",
      "arr_re是否连续按列False\n",
      "[[1 3]\n",
      " [4 6]]\n",
      "arr_re是否连续按行False\n",
      "arr_re是否连续按列False\n",
      "arr_re是否连续按行False\n",
      "arr_re是否连续按列False\n",
      "arr_re是否连续按行True\n",
      "arr_re是否连续按列False\n"
     ]
    }
   ],
   "source": [
    "import numpy as np\n",
    "\n",
    "arr = np.array([1, 2, 3, 4, 5, 6])\n",
    "arr_re = arr.reshape(2, 3)\n",
    "print(f\"arr_re是否连续按行{arr_re.flags['C_CONTIGUOUS']}\") #arr_re是否连续按行True\n",
    "\n",
    "print(f\"arr_re是否连续按列{arr_re.flags['F_CONTIGUOUS']}\") #arr_re是否连续按列False\n",
    "\n",
    "arr_split = arr_re[:, ::2]\n",
    "print(arr_split)\n",
    "\"\"\" [[1 3]\n",
    " [4 6]] \"\"\"\n",
    "print(f\"arr_re是否连续按行{arr_split.flags['C_CONTIGUOUS']}\") #arr_re是否连续按行False\n",
    "\n",
    "print(f\"arr_re是否连续按列{arr_split.flags['F_CONTIGUOUS']}\") #arr_re是否连续按列False\n",
    "\n",
    "arr_split_T = arr_split.T\n",
    "print(f\"arr_re是否连续按行{arr_split_T.flags['C_CONTIGUOUS']}\") #arr_re是否连续按行False\n",
    "\n",
    "print(f\"arr_re是否连续按列{arr_split_T.flags['F_CONTIGUOUS']}\") #arr_re是否连续按列False\n",
    "\n",
    "# 内存重新排列\n",
    "contiguous_arr = np.ascontiguousarray(arr_split_T) \n",
    "# 或者用contiguous_arr = arr_split_T.copy() \n",
    "print(f\"arr_re是否连续按行{contiguous_arr.flags['C_CONTIGUOUS']}\") #arr_re是否连续按行True\n",
    "\n",
    "print(f\"arr_re是否连续按列{contiguous_arr.flags['F_CONTIGUOUS']}\") #arr_re是否连续按列False"
   ]
  },
  {
   "cell_type": "markdown",
   "id": "8467e06a",
   "metadata": {},
   "source": [
    "### np.squeeze()和np.expand_dims()区别\n",
    "- np.squeeze(a, axis=(0,1)): 用于删除数组中维度为1的轴，返回一个新的数组,a为输入数组,axis指定要删除的轴，默认为None，表示删除所有维度为1的轴, ()可同时去除多个维度\n",
    "- np.expand_dims(): 用于在指定位置插入一个新的轴，返回一个新的数组\n",
    "\n",
    "### np.squeeze()和np.reshape()区别\n",
    "| 特性       | np.squeeze()          | np.reshape()          |\n",
    "|----------|------------------|------------------|\n",
    "| 目的       | 删除维度为1的轴       | 改变数组的形状       |\n",
    "| 语法       | np.squeeze(a, axis=None) | np.reshape(a, newshape) |\n",
    "| 参数       | a: 输入数组    axis: 要删除的轴，默认为None     | a: 输入数组      newshape: 新的形状，可以是整数或元组     |\n",
    "| 返回类型     | 新的数组           | 新的数组           |  \n",
    "| 维度变化     | 只删除维度为1的轴     | 可以增加或减少维度     |\n",
    "|与原始数组的关系| 返回原数组的视图, 不改变数组内容       | 返回原数组的视图或副本， 可能改变内存布局，如reshape(-1, 3)自动计算第一维大小  |"
   ]
  },
  {
   "cell_type": "code",
   "execution_count": 16,
   "id": "233e9fe2",
   "metadata": {},
   "outputs": [
    {
     "name": "stdout",
     "output_type": "stream",
     "text": [
      "[1 3 4]\n"
     ]
    }
   ],
   "source": [
    "import numpy as np\n",
    "\n",
    "arr = np.array([[1], [3], [4]])\n",
    "\n",
    "squeeze = np.squeeze(arr, axis=1)\n",
    "\n",
    "print(squeeze)"
   ]
  },
  {
   "cell_type": "code",
   "execution_count": null,
   "id": "3bc6ddc9",
   "metadata": {},
   "outputs": [
    {
     "name": "stdout",
     "output_type": "stream",
     "text": [
      "()\n",
      "(1, 1)\n",
      "43\n"
     ]
    }
   ],
   "source": [
    "#简化单元素数组\n",
    "arr = np.array([[43]])\n",
    "squeeze = np.squeeze(arr)\n",
    "\n",
    "print(squeeze.shape) #()\n",
    "print(arr.shape) #(1, 1)\n",
    "print(squeeze.item()) #43\n"
   ]
  },
  {
   "cell_type": "code",
   "execution_count": null,
   "id": "34b19177",
   "metadata": {},
   "outputs": [
    {
     "name": "stdout",
     "output_type": "stream",
     "text": [
      "(1, 2, 3, 1)\n",
      "(2, 3)\n",
      "[[0 1 2]\n",
      " [3 4 5]]\n"
     ]
    }
   ],
   "source": [
    "arr = np.arange(6).reshape(1, 2, 3, 1)\n",
    "print(arr.shape) #(1, 2, 3, 1)\n",
    "arr_sq = np.squeeze(arr)\n",
    "print(arr_sq.shape) #(2, 3)删除了所有为一的维度\n",
    "print(arr_sq)\n",
    "\"\"\" [[0 1 2]\n",
    " [3 4 5]] \"\"\""
   ]
  },
  {
   "cell_type": "markdown",
   "id": "104fe81b",
   "metadata": {},
   "source": [
    "### 数组的转置\n",
    "数组的转置是指交换数组的维度顺序，对于二维数组将行变为列，列变为行，对于多维数组则是交换各个维度的位置, transpose()转置后的数可以通过该数在数组中的索引, 比如三维数组的一个元素的位置为(3, 4, 5)当转置后变为(4, 3, 5)则运用的是transpose((1, 0, 2))默认为(0, 1, 2),其中数字代表着维度的索引位置\n",
    "- 对于二维数组，转置操作可以使用.T属性或transpose()方法\n",
    "- 对于多维数组，转置操作可以使用transpose()方法，并指定新的维度顺序\n",
    "transpose()方法可以接受一个元组作为参数，指定新的维度顺序，例如对于一个形状为(2, 3, 4)的数组，调用transpose((1, 0, 2))会将其转置为形状为(3, 2, 4)的数组, 其中数字代表着维度的索引位置\n"
   ]
  },
  {
   "cell_type": "code",
   "execution_count": null,
   "id": "5326cc34",
   "metadata": {},
   "outputs": [
    {
     "name": "stdout",
     "output_type": "stream",
     "text": [
      "[[ 0  1  2  3]\n",
      " [ 4  5  6  7]\n",
      " [ 8  9 10 11]] \n",
      " (3, 4)\n",
      "[[ 0  4  8]\n",
      " [ 1  5  9]\n",
      " [ 2  6 10]\n",
      " [ 3  7 11]] \n",
      " (3, 4)\n",
      "[[ 0  4  8]\n",
      " [ 1  5  9]\n",
      " [ 2  6 10]\n",
      " [ 3  7 11]] \n",
      " (4, 3)\n"
     ]
    }
   ],
   "source": [
    "arr = np.arange(12).reshape(3, 4)\n",
    "print(arr,\"\\n\", arr.shape)\n",
    "\"\"\" \n",
    "[[ 0  1  2  3]\n",
    " [ 4  5  6  7]\n",
    " [ 8  9 10 11]] \n",
    " (3, 4) \"\"\"\n",
    "print(arr.T,\"\\n\", arr.shape)\n",
    "\n",
    "arr_tran = arr.transpose((1, 0)) #将轴0和1互换\n",
    "print(arr_tran, \"\\n\", arr_tran.shape)"
   ]
  },
  {
   "cell_type": "code",
   "execution_count": 41,
   "id": "642503ad",
   "metadata": {},
   "outputs": [
    {
     "name": "stdout",
     "output_type": "stream",
     "text": [
      "[[[0 1]\n",
      "  [2 3]]\n",
      "\n",
      " [[4 5]\n",
      "  [6 7]]]\n",
      "[[[0 1]\n",
      "  [4 5]]\n",
      "\n",
      " [[2 3]\n",
      "  [6 7]]]\n",
      "[[[0 4]\n",
      "  [2 6]]\n",
      "\n",
      " [[1 5]\n",
      "  [3 7]]]\n"
     ]
    }
   ],
   "source": [
    "arr = np.arange(8).reshape(2, 2, 2)\n",
    "print(arr)\n",
    "print(arr.transpose(1, 0, 2))\n",
    "print(arr.transpose())"
   ]
  },
  {
   "cell_type": "markdown",
   "id": "203fb870",
   "metadata": {},
   "source": [
    "### 条件逻辑\n",
    "在Numpy中，可以使用多种函数和方法来实现条件逻辑操作，以下是一些常用的函数和方法：\n",
    "- np.where(): 根据条件从数组中选择元素，返回满足条件的元素的索引或值，跟if-else类似x = np.where(condition, x, y)\n",
    "- np.select(): 根据多个条件从数组中选择元素，返回满足条件的元素的值\n",
    "- np.clip(): 将数组中的元素限制在指定的范围内\n",
    "- np.nonzero(): 返回数组中非零元素的索引\n",
    "- np.extract(): 根据条件从数组中提取元素，返回满足条件的元素的值\n",
    "- np.logical_and(): 对应元素进行逻辑与运算"
   ]
  },
  {
   "cell_type": "code",
   "execution_count": null,
   "id": "f6a995b2",
   "metadata": {},
   "outputs": [
    {
     "data": {
      "text/plain": [
       "array([1, 2, 6, 7])"
      ]
     },
     "execution_count": 42,
     "metadata": {},
     "output_type": "execute_result"
    }
   ],
   "source": [
    "arr_x = np.array([1, 2, 3, 4])\n",
    "arr_y = np.array([4, 5, 6, 7])\n",
    "arr_con = np.array([True, True, False, False])\n",
    "\n",
    "result = np.where(arr_con, arr_x, arr_y) #跟条件语句一样，True则选择第一否则选择第二个\n",
    "\n",
    "result"
   ]
  },
  {
   "cell_type": "markdown",
   "id": "674a6f1c",
   "metadata": {},
   "source": [
    "\n",
    "arr.argsort(): 返回数组元素排序后的索引\n",
    "arr.argmax(): 返回数组中最大值的索引\n",
    "arr.argmin(): 返回数组中最小值的索引\n",
    "arr.cumsum(): 计算数组中元素的累积和, 前n个元素的和\n",
    "arr.cumprod(): 计算数组中元素的累积积\n",
    "np.sort(arr, axis): 对数组进行排序，默认按行排序,什么不传入返回None, kind='quicksort'快速排序, 'mergesort'归并排序, 'heapsort'堆排序, 'stable'稳定排序\n",
    "np.argsort(arr, axis): 返回数组元素排序后的索引\n",
    "np.partition(arr, kth, axis): 对数组进行部分排序，返回第k个最小元素及其左侧的元素\n",
    "np.argpartition(arr, kth, axis): 返回数组部分排序后的索引\n",
    "np.all(): 检查数组中所有元素是否满足条件\n",
    "np.any(): 检查数组中是否有任意元素满足条件"
   ]
  },
  {
   "cell_type": "code",
   "execution_count": null,
   "id": "29bc28f1",
   "metadata": {},
   "outputs": [
    {
     "name": "stdout",
     "output_type": "stream",
     "text": [
      "[ 0  1  3  6 10 15 21 28 36 45]\n"
     ]
    },
    {
     "data": {
      "text/plain": [
       "array([0, 0, 0, 0, 0, 0, 0, 0, 0, 0])"
      ]
     },
     "execution_count": 46,
     "metadata": {},
     "output_type": "execute_result"
    }
   ],
   "source": [
    "arr = np.arange(10)\n",
    "print(arr.cumsum())\n",
    "arr.cumprod()\n",
    "\n"
   ]
  },
  {
   "cell_type": "code",
   "execution_count": null,
   "id": "626e486a",
   "metadata": {},
   "outputs": [
    {
     "data": {
      "text/plain": [
       "array([1, 2, 3, 4])"
      ]
     },
     "execution_count": 49,
     "metadata": {},
     "output_type": "execute_result"
    }
   ],
   "source": [
    "arr = np.array([1, 3, 4, 2])\n",
    "np.sort(arr)"
   ]
  },
  {
   "cell_type": "code",
   "execution_count": null,
   "id": "a96d9393",
   "metadata": {},
   "outputs": [
    {
     "name": "stdout",
     "output_type": "stream",
     "text": [
      "[[1 3]\n",
      " [4 2]]\n",
      "[[1 2]\n",
      " [4 3]]\n",
      "[[1 3]\n",
      " [2 4]]\n"
     ]
    }
   ],
   "source": [
    "arr = np.array([1, 3, 4, 2])\n",
    "arr_r = arr.reshape(2, 2)\n",
    "print(arr_r)\n",
    "print(np.sort(arr_r, axis=0)) #在列方向进行排序\n",
    "print(np.sort(arr_r, axis=1))"
   ]
  },
  {
   "cell_type": "code",
   "execution_count": 66,
   "id": "da2f8c88",
   "metadata": {},
   "outputs": [
    {
     "name": "stdout",
     "output_type": "stream",
     "text": [
      "[(b'xiaoming', 20) (b'yangcheng', 24)]\n"
     ]
    }
   ],
   "source": [
    "dtype_result = [(\"name\",\"S10\"), (\"age\", int)]\n",
    "data = np.array([(\"yangcheng\", 24), (\"xiaoming\", 20)], dtype=dtype_result)\n",
    "sorted_data = np.sort(data, order=\"age\")\n",
    "print(sorted_data)\n"
   ]
  },
  {
   "cell_type": "code",
   "execution_count": 63,
   "id": "2854f266",
   "metadata": {},
   "outputs": [
    {
     "name": "stdout",
     "output_type": "stream",
     "text": [
      "[0 1 3 2]\n"
     ]
    }
   ],
   "source": [
    "arr = np.array([1, 2, 4, 3])\n",
    "print(np.argsort(arr))"
   ]
  },
  {
   "cell_type": "code",
   "execution_count": 9,
   "id": "e121ca53",
   "metadata": {},
   "outputs": [
    {
     "data": {
      "text/plain": [
       "array([(1, '小明'), (2, '小将'), (3, '小刘')],\n",
       "      dtype=[('x', '<i8'), ('y', '<U2')])"
      ]
     },
     "execution_count": 9,
     "metadata": {},
     "output_type": "execute_result"
    }
   ],
   "source": [
    "arr = np.array([(1, \"小明\"), (3, \"小刘\"), (2, \"小将\")], dtype=[(\"x\", int), (\"y\", 'U2')])\n",
    "arr_sort = np.sort(arr, order=\"x\")\n",
    "arr_sort"
   ]
  },
  {
   "cell_type": "markdown",
   "id": "33b633ae",
   "metadata": {},
   "source": [
    "扁平化排序\n",
    "先将多维数组展平为一维数组，然后对展平后的数组进行排序\n",
    "- arr.flatten().sort()：将多维数组展平为一维数组，并对展平后的数组进行排序，返回一个新的排序后的数组副本\n",
    "- np.sort(arr.flatten())：将多维数组展平为一维数组，并对展平后的数组进行排序，返回一个新的排序后的数组副本\n"
   ]
  },
  {
   "cell_type": "code",
   "execution_count": 62,
   "id": "fa081e91",
   "metadata": {},
   "outputs": [
    {
     "data": {
      "text/plain": [
       "array([[1],\n",
       "       [2],\n",
       "       [3],\n",
       "       [4]])"
      ]
     },
     "execution_count": 62,
     "metadata": {},
     "output_type": "execute_result"
    }
   ],
   "source": [
    "import numpy as np\n",
    "arr = np.array([[1], [3], [4], [2]])\n",
    "\n",
    "arr_f = arr.flatten()\n",
    "np.sort(arr_f).reshape(arr.shape)\n"
   ]
  },
  {
   "cell_type": "markdown",
   "id": "69afb5d1",
   "metadata": {},
   "source": [
    "### 查找数组唯一元素\n",
    "- np.unique(): 用于查找数组中的唯一元素，返回一个排序后的唯一元素数组\n",
    "- np.unique(arr, return_index=False, return_inverse=False, return_counts=False, axis=None)\n",
    "  - arr: 输入数组\n",
    "  - return_index: 如果为True，返回唯一元素在原数组中的索引\n",
    "  - return_inverse: 如果为True，返回原数组中每个元素对应的唯一元素的索引, 可以用于数组重构\n",
    "  - return_counts: 如果为True，返回每个唯一元素在原数组中出现的次数\n",
    "  - axis: 指定沿哪个轴查找唯一元素，默认为None，表示查找整个数组的唯一元素\n",
    "  - equal_nan: 如果为True，则将NaN视为相等的唯一值, **默认情况下为True**"
   ]
  },
  {
   "cell_type": "code",
   "execution_count": null,
   "id": "3cb8f570",
   "metadata": {},
   "outputs": [
    {
     "name": "stdout",
     "output_type": "stream",
     "text": [
      "[1 2 3]\n",
      "[0 1 2]\n",
      "[0 1 2 2 0]\n",
      "count为：[2 1 2]\n",
      "[1 2 3 3 1]\n"
     ]
    },
    {
     "data": {
      "text/plain": [
       "array([ 1.,  2., nan, nan])"
      ]
     },
     "execution_count": 20,
     "metadata": {},
     "output_type": "execute_result"
    }
   ],
   "source": [
    "import numpy as np\n",
    "arr = np.array([1, 2, 3, 3, 1])\n",
    "arr_unique, indexs, inverse, count = np.unique(arr, return_index=True, return_inverse=True, return_counts=True)\n",
    "print(arr_unique) #[1 2 3]\n",
    "print(indexs) #[0 1 2]可设置返回索引返回唯一值在数组中的索引\n",
    "print(inverse) #[0 1 2 2 0]\n",
    "print(f\"count为：{count}\") #[2 1 2]前面的分别为其出现的次数\n",
    "#元组重构 \n",
    "reconstruct = arr_unique[inverse]\n",
    "print(reconstruct) #[1 2 3 3 1]\n",
    "\n",
    "arr = np.array([1, 2, np.nan, np.nan])\n",
    "arr_un = np.unique(arr)\n",
    "arr_un #默认情况下是去重的array([ 1.,  2., nan])\n",
    "arr_un_1 = np.unique(arr, equal_nan=False)\n",
    "arr_un_1 # array([ 1.,  2., nan, nan])"
   ]
  },
  {
   "cell_type": "markdown",
   "id": "7b83351b",
   "metadata": {},
   "source": [
    "### numpy中判断元素是否在数组中\n",
    "- np.in1d(): 用于判断一个数组中的元素是否在另一个数组中，返回一个布尔数组， 布尔数组的长度与第一个数组相同, <font color=\"red\">**该方法已经被弃用**</font>\n",
    "- np.isin(): 用于判断一个数组中的元素是否在另一个数组中，返回一个布尔数组,功能更强大\n",
    "- np.isin(element, test_elements, assume_unique=False, invert=False)\n",
    "  - element: 输入数组\n",
    "  - test_elements: 用于测试的数组\n",
    "  - assume_unique: 如果为True，假设输入数组和测试数组中的元素都是唯一的，可以提高性能\n",
    "  - invert: 如果为True，返回元素不在测试数组中的布尔值"
   ]
  },
  {
   "cell_type": "code",
   "execution_count": 30,
   "id": "1f39cd08",
   "metadata": {},
   "outputs": [
    {
     "name": "stdout",
     "output_type": "stream",
     "text": [
      "[4 3 4 4 1]\n",
      "[3 2 1 4 3]\n"
     ]
    },
    {
     "data": {
      "text/plain": [
       "array([ True, False,  True,  True,  True])"
      ]
     },
     "execution_count": 30,
     "metadata": {},
     "output_type": "execute_result"
    }
   ],
   "source": [
    "import numpy as np\n",
    "np.random.seed(20)\n",
    "arr = np.random.randint(1, 5, size=5)\n",
    "arr_test = np.random.randint(1, 5, size=5)\n",
    "print(arr)\n",
    "print(arr_test)\n",
    "np.isin(arr_test, arr)"
   ]
  },
  {
   "cell_type": "markdown",
   "id": "6c8c8e96",
   "metadata": {},
   "source": [
    "### 线性代数模块\n",
    "- numpy.linalg 模块提供了丰富的线性代数函数，用于矩阵运算、特征值分解、奇异值分解等\n",
    "- 常用函数包括：\n",
    "    - np.dot(): 用于计算两个数组的点积，适用于向量和矩阵的乘法运算\n",
    "    - np.matmul(): 用于计算两个数组的矩阵乘法，支持广播\n",
    "    - np.linalg.inv(): 用于计算矩阵的逆矩阵\n",
    "    - np.linalg.diag(): 用于创建对角矩阵或提取矩阵的对角线元素\n",
    "    - np.linalg.trace(): 用于计算方阵的迹（对角线元素之和）\n",
    "    - np.linalg.lstsq(): 用于计算线性最小二乘解\n",
    "    - np.linalg.det(): 用于计算矩阵的行列式\n",
    "    - np.linalg.eig(): 用于计算方阵的特征值和特征向量\n",
    "    - np.linalg.svd(): 用于计算矩阵的奇异值分解\n",
    "    - np.linalg.norm(): 用于计算向量或矩阵的范数\n",
    "    - np.linalg.solve(): 用于解线性方程组\n",
    "    - np.trace(): 用于计算方阵的迹（对角线元素之和）\n",
    "    - np.linalg.pinv(): 用于计算矩阵的伪逆\n",
    "    - np.linalg.cholesky(): 用于计算正定矩阵的Cholesky分解\n",
    "    - np.linalg.qr(): 用于计算矩阵的QR分解\n",
    "\n",
    "    "
   ]
  },
  {
   "cell_type": "code",
   "execution_count": 34,
   "id": "37bda335",
   "metadata": {},
   "outputs": [
    {
     "data": {
      "text/plain": [
       "array([[ 56,  29],\n",
       "       [195,  89]], dtype=int32)"
      ]
     },
     "execution_count": 34,
     "metadata": {},
     "output_type": "execute_result"
    }
   ],
   "source": [
    "import numpy as np\n",
    "np.random.seed(10)\n",
    "arr_x = np.random.randint(1, 10, size=(2, 5))\n",
    "arr_y = np.random.randint(1, 10, size=(5, 2))\n",
    "np.dot(arr_x, arr_y)"
   ]
  },
  {
   "cell_type": "code",
   "execution_count": null,
   "id": "cbabfad1",
   "metadata": {},
   "outputs": [],
   "source": []
  },
  {
   "cell_type": "code",
   "execution_count": null,
   "id": "31a34a11",
   "metadata": {},
   "outputs": [],
   "source": []
  },
  {
   "cell_type": "code",
   "execution_count": null,
   "id": "1abe4383",
   "metadata": {},
   "outputs": [],
   "source": []
  },
  {
   "cell_type": "code",
   "execution_count": null,
   "id": "58492ad2",
   "metadata": {},
   "outputs": [],
   "source": []
  },
  {
   "cell_type": "code",
   "execution_count": null,
   "id": "f42a3761",
   "metadata": {},
   "outputs": [],
   "source": []
  },
  {
   "cell_type": "markdown",
   "id": "2a60ad9f",
   "metadata": {},
   "source": [
    "### pandas库\n",
    "series: 一维标签数组，可以存储任何数据类型\n",
    "- 其中的函数\n",
    "DataFrame: 二维表格数据，可以看作是由多个Series组成的字典\n",
    "- pd.read_csv(): 从CSV文件中读取数据，返回一个DataFrame对象\n",
    "- pd.read_excel(): 从Excel文件中读取数据，返回一个DataFrame对象\n",
    "- pd.to_csv(): 将DataFrame对象保存为CSV文件\n",
    "- pd.loc[]: 根据**标签**选择数据，可以进行行列选择和切片, 切片时包含结束位置\n",
    "- pd.iloc[]: 根据**位置**选择数据，可以进行行列选择和切片, 切片时不包含结束位置\n",
    "\n",
    "|方法       |功能               |何时使用                     |示例                      |\n",
    "|----------|------------------|--------------------------|-------------------------|\n",
    "|df.loc[...] | 基于标签的索引 | 当你知道行的索引名称时；进行条件筛选时（最常用）。      |df.loc['p2'],df.loc['价格' > 10]       |\n",
    "|df.iloc[...]|基于整数位置的索引|  当你知道行的数字位置时（第几行）；不关心索引标签具体是什么。      |df.iloc[1], df.iloc[0:5]             |\n",
    "\n"
   ]
  },
  {
   "cell_type": "code",
   "execution_count": null,
   "id": "9780d524",
   "metadata": {},
   "outputs": [
    {
     "data": {
      "text/plain": [
       "0    0\n",
       "1    4\n",
       "2    8\n",
       "Name: N1, dtype: int64"
      ]
     },
     "execution_count": 9,
     "metadata": {},
     "output_type": "execute_result"
    }
   ],
   "source": [
    "import numpy as np\n",
    "import pandas as pd\n",
    "\n",
    "arr = np.arange(12).reshape(3, 4)\n",
    "frame = pd.DataFrame(arr, columns=[\"N1\", \"N2\", \"N3\", \"N4\"])\n",
    "frame.N1\n",
    "\n"
   ]
  },
  {
   "cell_type": "code",
   "execution_count": 10,
   "id": "9714a3c2",
   "metadata": {},
   "outputs": [
    {
     "name": "stdout",
     "output_type": "stream",
     "text": [
      "<class 'pandas.core.frame.DataFrame'>\n",
      "RangeIndex: 3 entries, 0 to 2\n",
      "Data columns (total 4 columns):\n",
      " #   Column  Non-Null Count  Dtype\n",
      "---  ------  --------------  -----\n",
      " 0   N1      3 non-null      int64\n",
      " 1   N2      3 non-null      int64\n",
      " 2   N3      3 non-null      int64\n",
      " 3   N4      3 non-null      int64\n",
      "dtypes: int64(4)\n",
      "memory usage: 228.0 bytes\n"
     ]
    }
   ],
   "source": [
    "frame.info()"
   ]
  },
  {
   "cell_type": "code",
   "execution_count": null,
   "id": "5de64162",
   "metadata": {},
   "outputs": [
    {
     "name": "stdout",
     "output_type": "stream",
     "text": [
      "    state  year  pop\n",
      "0     AMD  2021  1.2\n",
      "1  Nvidia  2022  1.8\n",
      "2     AMD  2023  1.4\n",
      "DataFrame类型:<class 'pandas.core.frame.DataFrame'>\n",
      "0    1.2\n",
      "1    1.8\n",
      "2    1.4\n",
      "Name: pop, dtype: float64\n",
      "<class 'pandas.core.series.Series'>\n",
      "    state  year  pop\n",
      "1  Nvidia  2022  1.8\n",
      "2     AMD  2023  1.4\n",
      "    state  year  pop\n",
      "1  Nvidia  2022  1.8\n",
      "2     AMD  2023  1.4\n",
      "    state  year  pop\n",
      "0     AMD  2021  1.2\n",
      "1  Nvidia  2022  1.8\n",
      "2     AMD  2023  1.4\n",
      "state    Nvidia\n",
      "year       2022\n",
      "pop         1.8\n",
      "Name: 1, dtype: object <class 'pandas.core.series.Series'>\n",
      "    state  year  pop\n",
      "1  Nvidia  2022  1.8 <class 'pandas.core.frame.DataFrame'>\n",
      "==================\n",
      "    state  year  pop\n",
      "0     AMD  2021  1.2\n",
      "1  Nvidia  2022  1.8\n",
      "2     AMD  2023  1.4\n"
     ]
    }
   ],
   "source": [
    "import pandas as pd\n",
    "import numpy as np\n",
    "\n",
    "data = {\n",
    "    'state':['AMD', 'Nvidia', 'AMD'], #厂商名称\n",
    "    'year':[2021, 2022, 2023],\n",
    "    'pop':[1.2, 1.8, 1.4] #销售量\n",
    "}\n",
    "\n",
    "df = pd.DataFrame(data)\n",
    "print(df)\n",
    "print(f'DataFrame类型:{ type(df)}')\n",
    "year_series1 = df['pop'] #该操作将使DataFrame转换为series类型\n",
    "#或者\n",
    "#year_series1 = df.pop\n",
    "print(year_series1)\n",
    "print(f\"{type(year_series1)}\")\n",
    "year_Data = df[['pop']] #\n",
    "type(year_Data) # pandas.core.frame.DataFrame\n",
    "\n",
    "#可以使用iloc[]或者loc[]对行进行索引\n",
    "print(df.iloc[[1, 2]])\n",
    "print(df.loc[[1, 2]])\n",
    "print(df.loc[:2])\n",
    "print(df.loc[1],  type(df.loc[1])) #Name: 1, dtype: object <class 'pandas.core.series.Series'>\n",
    "print(df.loc[[1]], type(df.loc[[1]])) #    state  year  pop\n",
    "                                      #      1  Nvidia  2022  1.8 <class 'pandas.core.frame.DataFrame'>\n"
   ]
  },
  {
   "cell_type": "code",
   "execution_count": 40,
   "id": "b6b883c0",
   "metadata": {},
   "outputs": [
    {
     "name": "stdout",
     "output_type": "stream",
     "text": [
      "    state  year  pop\n",
      "1  Nvidia  2022  1.8\n",
      "2     AMD  2023  1.4 <class 'pandas.core.frame.DataFrame'>\n"
     ]
    }
   ],
   "source": [
    "\n",
    "print(df.loc[(df['pop'] > 1.2)], type(df.loc[(df['pop'] > 1.2)])) #连带索引一起删除"
   ]
  },
  {
   "cell_type": "code",
   "execution_count": null,
   "id": "5310e919",
   "metadata": {},
   "outputs": [
    {
     "name": "stdout",
     "output_type": "stream",
     "text": [
      "    state  year  pop\n",
      "1  Nvidia  2022  1.8\n",
      "2     AMD  2023  1.4\n"
     ]
    }
   ],
   "source": [
    "print(df.loc[1:2]) #包含结束位置"
   ]
  },
  {
   "cell_type": "code",
   "execution_count": null,
   "id": "ad6c5050",
   "metadata": {},
   "outputs": [
    {
     "data": {
      "text/html": [
       "<div>\n",
       "<style scoped>\n",
       "    .dataframe tbody tr th:only-of-type {\n",
       "        vertical-align: middle;\n",
       "    }\n",
       "\n",
       "    .dataframe tbody tr th {\n",
       "        vertical-align: top;\n",
       "    }\n",
       "\n",
       "    .dataframe thead th {\n",
       "        text-align: right;\n",
       "    }\n",
       "</style>\n",
       "<table border=\"1\" class=\"dataframe\">\n",
       "  <thead>\n",
       "    <tr style=\"text-align: right;\">\n",
       "      <th></th>\n",
       "      <th>year</th>\n",
       "      <th>pop</th>\n",
       "    </tr>\n",
       "  </thead>\n",
       "  <tbody>\n",
       "    <tr>\n",
       "      <th>1</th>\n",
       "      <td>2022</td>\n",
       "      <td>1.8</td>\n",
       "    </tr>\n",
       "  </tbody>\n",
       "</table>\n",
       "</div>"
      ],
      "text/plain": [
       "   year  pop\n",
       "1  2022  1.8"
      ]
     },
     "execution_count": 44,
     "metadata": {},
     "output_type": "execute_result"
    }
   ],
   "source": [
    "df.iloc[1:2, [1, 2]] #行为1列为1-2"
   ]
  },
  {
   "cell_type": "markdown",
   "id": "56b0c4dc",
   "metadata": {},
   "source": [
    "### 其他数据结构\n",
    "- Time-Series: 带有时间索引的一维数据结构，适用于时间序列数据的处理和分析\n",
    "- Panel: 三维数据结构，适用于多维数据的处理和分析，但在最新版本的Pandas中已被弃用，推荐使用MultiIndex DataFrame代替\n",
    "- Panel4D: 四维数据结构，适用于更高维度数据的处理和分析，但在最新版本的Pandas中已被弃用，推荐使用MultiIndex DataFrame代替\n",
    "- PanelND: 多维数据结构，适用于任意维度数据的处理和分析，但在最新版本的Pandas中已被弃用，推荐使用MultiIndex DataFrame代替\n",
    "\n",
    "### MultiIndex\n",
    "- MultiIndex是Pandas中用于处理多级索引的强大工具，允许在DataFrame或Series中使用多个索引级别，从而实现更复杂的数据组织和分析\n",
    "- 创建MultiIndex\n",
    "  - 使用pd.MultiIndex.from_tuples()：从元组列表创建MultiIndex\n",
    "  - 使用pd.MultiIndex.from_arrays()：从数组列表创建MultiIndex\n",
    "  - 使用pd.MultiIndex.from_product()：从多个数组的笛卡尔积创建MultiIndex\n",
    "- 访问和操作MultiIndex\n",
    "  - 使用df.loc[]：基于标签访问MultiIndex数据\n",
    "  - 使用df.xs()：跨级索引选择数据\n",
    "  - 使用df.swaplevel()：交换MultiIndex的级别\n",
    "  - 使用df.sort_index()：对MultiIndex进行排序\n",
    "  - df.unstack()：将MultiIndex的某个级别转换为列\n",
    " - df.stack()：将列转换为MultiIndex的某个级别\n",
    "- 优点\n",
    "  - 更复杂的数据组织：允许在DataFrame或Series中使用多个索引级别，实现更复杂的数据组织\n",
    "  - 灵活的数据访问：可以通过多级索引灵活地访问和操作数据\n",
    "  - 高效的数据分析：支持跨级索引选择和聚合操作，提高数据分析的效率"
   ]
  },
  {
   "cell_type": "code",
   "execution_count": null,
   "id": "f8ca3acf",
   "metadata": {},
   "outputs": [
    {
     "data": {
      "text/plain": [
       "DatetimeIndex(['2025-01-01', '2025-01-02', '2025-01-03', '2025-01-06',\n",
       "               '2025-01-07', '2025-01-08', '2025-01-09', '2025-01-10',\n",
       "               '2025-01-13', '2025-01-14'],\n",
       "              dtype='datetime64[ns]', freq='B')"
      ]
     },
     "execution_count": 2,
     "metadata": {},
     "output_type": "execute_result"
    }
   ],
   "source": [
    "import pandas as pd\n",
    "\n",
    "time_idex = pd.date_range(start='2025-01-01', periods=10, freq=\"B\") #不包括周日\n",
    "time_idex"
   ]
  },
  {
   "cell_type": "markdown",
   "id": "5405ad7a",
   "metadata": {},
   "source": [
    "### pandas写数据的方法\n",
    "- df.to_csv(): 将DataFrame对象保存为CSV文件\n",
    "- df.to_excel(): 将DataFrame对象保存为Excel文件\n",
    "- df.to_json(): 将DataFrame对象保存为JSON文件\n",
    "- df.to_sql(): 将DataFrame对象保存为SQL数据库表\n",
    "- df.to_dict(): 将DataFrame对象转换为字典\n",
    "- df.to_numpy(): 将DataFrame对象转换为NumPy数组\n",
    "- df.to_html(): 将DataFrame对象转换为HTML表格\n",
    "### pandas读数据的方法\n",
    "- pd.read_csv(): 从CSV文件中读取数据，返回一个DataFrame对象\n",
    "- pd.read_excel(): 从Excel文件中读取数据，返回一个DataFrame对象\n",
    "- pd.read_json(): 从JSON文件中读取数据，返回一个DataFrame对象\n",
    "- pd.read_sql(): 从SQL数据库表中读取数据，返回一个DataFrame对象\n",
    "- pd.read_html(): 从HTML表格中读取数据，返回一个DataFrame对象"
   ]
  },
  {
   "cell_type": "code",
   "execution_count": 2,
   "id": "4d140745",
   "metadata": {},
   "outputs": [
    {
     "name": "stdout",
     "output_type": "stream",
     "text": [
      "   编号  姓名 性别    部门\n",
      "0   1  小酒  男  人力资源\n",
      "1   2  小明  女  后勤保障\n",
      "2   3  小节  男    IT\n"
     ]
    }
   ],
   "source": [
    "import pandas as pd\n",
    "df_obj = pd.DataFrame({\n",
    "    '编号':[1, 2, 3],\n",
    "    '姓名': [\"小酒\", \"小明\", \"小节\"],\n",
    "    '性别': ['男', '女', '男'],\n",
    "    '部门': ['人力资源', \"后勤保障\", \"IT\"]\n",
    "})\n",
    "print(df_obj)\n",
    "df_obj.to_csv(r'test.csv', index=False, encoding='utf-8')"
   ]
  },
  {
   "cell_type": "code",
   "execution_count": 15,
   "id": "ba657ee9",
   "metadata": {},
   "outputs": [
    {
     "name": "stdout",
     "output_type": "stream",
     "text": [
      "TXT文件写入完毕\n",
      "   编号  姓名 性别    部门\n",
      "0   1  小酒  男  人力资源\n",
      "1   2  小明  女  后勤保障\n",
      "2   3  小节  男    IT\n"
     ]
    },
    {
     "data": {
      "text/html": [
       "<div>\n",
       "<style scoped>\n",
       "    .dataframe tbody tr th:only-of-type {\n",
       "        vertical-align: middle;\n",
       "    }\n",
       "\n",
       "    .dataframe tbody tr th {\n",
       "        vertical-align: top;\n",
       "    }\n",
       "\n",
       "    .dataframe thead th {\n",
       "        text-align: right;\n",
       "    }\n",
       "</style>\n",
       "<table border=\"1\" class=\"dataframe\">\n",
       "  <thead>\n",
       "    <tr style=\"text-align: right;\">\n",
       "      <th></th>\n",
       "      <th>编号</th>\n",
       "      <th>姓名</th>\n",
       "      <th>性别</th>\n",
       "      <th>部门</th>\n",
       "    </tr>\n",
       "  </thead>\n",
       "  <tbody>\n",
       "    <tr>\n",
       "      <th>2</th>\n",
       "      <td>3</td>\n",
       "      <td>小节</td>\n",
       "      <td>男</td>\n",
       "      <td>IT</td>\n",
       "    </tr>\n",
       "  </tbody>\n",
       "</table>\n",
       "</div>"
      ],
      "text/plain": [
       "   编号  姓名 性别  部门\n",
       "2   3  小节  男  IT"
      ]
     },
     "execution_count": 15,
     "metadata": {},
     "output_type": "execute_result"
    }
   ],
   "source": [
    "import pandas as pd\n",
    "df_obj = pd.read_csv(r'test.csv', encoding='utf-8')\n",
    "\n",
    "#将数据保存为Txt文件使用 '，'为分割符\n",
    "\n",
    "df_obj.to_csv(r'test.txt', index=False, encoding='utf-8')\n",
    "print(\"TXT文件写入完毕\")\n",
    "\n",
    "df_txt = pd.read_csv(r'test.txt', encoding='utf-8')\n",
    "#下面方法也可\n",
    "# df_txt = pd.read_table(r'test.txt', encoding='utf-8', sep=\",\") #将sep分割\n",
    "\n",
    "print(df_txt)\n",
    "#读取后一行\n",
    "df_txt.tail(1)\n",
    "#向xlsx写入数据"
   ]
  },
  {
   "cell_type": "code",
   "execution_count": 34,
   "id": "c9a77b3f",
   "metadata": {},
   "outputs": [
    {
     "data": {
      "text/html": [
       "<div>\n",
       "<style scoped>\n",
       "    .dataframe tbody tr th:only-of-type {\n",
       "        vertical-align: middle;\n",
       "    }\n",
       "\n",
       "    .dataframe tbody tr th {\n",
       "        vertical-align: top;\n",
       "    }\n",
       "\n",
       "    .dataframe thead th {\n",
       "        text-align: right;\n",
       "    }\n",
       "</style>\n",
       "<table border=\"1\" class=\"dataframe\">\n",
       "  <thead>\n",
       "    <tr style=\"text-align: right;\">\n",
       "      <th></th>\n",
       "      <th>编号</th>\n",
       "      <th>姓名</th>\n",
       "      <th>性别</th>\n",
       "    </tr>\n",
       "  </thead>\n",
       "  <tbody>\n",
       "    <tr>\n",
       "      <th>0</th>\n",
       "      <td>1</td>\n",
       "      <td>小酒</td>\n",
       "      <td>男</td>\n",
       "    </tr>\n",
       "    <tr>\n",
       "      <th>1</th>\n",
       "      <td>2</td>\n",
       "      <td>小明</td>\n",
       "      <td>女</td>\n",
       "    </tr>\n",
       "    <tr>\n",
       "      <th>2</th>\n",
       "      <td>3</td>\n",
       "      <td>小节</td>\n",
       "      <td>男</td>\n",
       "    </tr>\n",
       "  </tbody>\n",
       "</table>\n",
       "</div>"
      ],
      "text/plain": [
       "   编号  姓名 性别\n",
       "0   1  小酒  男\n",
       "1   2  小明  女\n",
       "2   3  小节  男"
      ]
     },
     "execution_count": 34,
     "metadata": {},
     "output_type": "execute_result"
    }
   ],
   "source": [
    "df_excel = df_obj.to_excel(r'test.xlsx')\n",
    "\n",
    "pd.read_excel(r\"test.xlsx\", header=0, index_col=0, usecols=[0, 1, 2, 3])\n"
   ]
  },
  {
   "cell_type": "code",
   "execution_count": 37,
   "id": "04905971",
   "metadata": {},
   "outputs": [
    {
     "data": {
      "text/plain": [
       "[    Oct 2025  Oct 2024  Change  Programming Language Programming Language.1  \\\n",
       " 0          1         1     NaN                   NaN                 Python   \n",
       " 1          2         4     NaN                   NaN                      C   \n",
       " 2          3         2     NaN                   NaN                    C++   \n",
       " 3          4         3     NaN                   NaN                   Java   \n",
       " 4          5         5     NaN                   NaN                     C#   \n",
       " 5          6         6     NaN                   NaN             JavaScript   \n",
       " 6          7         7     NaN                   NaN           Visual Basic   \n",
       " 7          8         8     NaN                   NaN                     Go   \n",
       " 8          9        10     NaN                   NaN   Delphi/Object Pascal   \n",
       " 9         10        11     NaN                   NaN                    SQL   \n",
       " 10        11         9     NaN                   NaN                Fortran   \n",
       " 11        12        29     NaN                   NaN                   Perl   \n",
       " 12        13        17     NaN                   NaN                      R   \n",
       " 13        14        15     NaN                   NaN                    PHP   \n",
       " 14        15        16     NaN                   NaN      Assembly language   \n",
       " 15        16        13     NaN                   NaN                   Rust   \n",
       " 16        17        12     NaN                   NaN                 MATLAB   \n",
       " 17        18        14     NaN                   NaN                Scratch   \n",
       " 18        19        24     NaN                   NaN                    Ada   \n",
       " 19        20        21     NaN                   NaN                 Kotlin   \n",
       " \n",
       "    Ratings Change.1  \n",
       " 0   24.45%   +2.55%  \n",
       " 1    9.29%   +0.91%  \n",
       " 2    8.84%   -2.77%  \n",
       " 3    8.35%   -2.15%  \n",
       " 4    6.94%   +1.32%  \n",
       " 5    3.41%   -0.13%  \n",
       " 6    3.22%   +0.87%  \n",
       " 7    1.92%   -0.10%  \n",
       " 8    1.86%   +0.19%  \n",
       " 9    1.77%   +0.13%  \n",
       " 10   1.70%   -0.10%  \n",
       " 11   1.66%   +1.10%  \n",
       " 12   1.52%   +0.43%  \n",
       " 13   1.38%   +0.17%  \n",
       " 14   1.20%   +0.07%  \n",
       " 15   1.19%   -0.25%  \n",
       " 16   1.16%   -0.32%  \n",
       " 17   1.15%   -0.26%  \n",
       " 18   0.98%   +0.25%  \n",
       " 19   0.98%   +0.01%  ,\n",
       "     Position  Programming Language Ratings\n",
       " 0         21  Classic Visual Basic   0.97%\n",
       " 1         22                 Swift   0.94%\n",
       " 2         23                 COBOL   0.86%\n",
       " 3         24                Prolog   0.80%\n",
       " 4         25                  Ruby   0.77%\n",
       " 5         26                   SAS   0.65%\n",
       " 6         27                  Dart   0.62%\n",
       " 7         28                  Lisp   0.55%\n",
       " 8         29       (Visual) FoxPro   0.47%\n",
       " 9         30                 Julia   0.46%\n",
       " 10        31           Objective-C   0.46%\n",
       " 11        32               Haskell   0.45%\n",
       " 12        33                   Lua   0.38%\n",
       " 13        34                 Scala   0.36%\n",
       " 14        35            TypeScript   0.31%\n",
       " 15        36                PL/SQL   0.26%\n",
       " 16        37              VBScript   0.24%\n",
       " 17        38                  GAMS   0.24%\n",
       " 18        39                  ABAP   0.23%\n",
       " 19        40              Solidity   0.20%\n",
       " 20        41                Elixir   0.19%\n",
       " 21        42                     V   0.17%\n",
       " 22        43                   Zig   0.17%\n",
       " 23        44                  Bash   0.16%\n",
       " 24        45                    ML   0.16%\n",
       " 25        46          Transact-SQL   0.15%\n",
       " 26        47            PowerShell   0.15%\n",
       " 27        48                Erlang   0.15%\n",
       " 28        49                   RPG   0.14%\n",
       " 29        50          Ladder Logic   0.14%,\n",
       "     Programming Language 2025 2020 2015 2010 2005 2000 1995 1990 1985\n",
       " 0                 Python    1    3    6    7    7   24   16    -    -\n",
       " 1                    C++    2    4    3    3    3    2    1    2   10\n",
       " 2                      C    3    1    2    2    1    1    2    1    1\n",
       " 3                   Java    4    2    1    1    2    3   32    -    -\n",
       " 4                     C#    5    5    4    6    8   10    -    -    -\n",
       " 5             JavaScript    6    7    8    9   11    8    -    -    -\n",
       " 6                     Go    7   13   61  172    -    -    -    -    -\n",
       " 7           Visual Basic    8   10   11    -    -    -    -    -    -\n",
       " 8   Delphi/Object Pascal    9  188   12   10    9    -    -    -    -\n",
       " 9                    SQL   10    9    -    -    -    -    -    -    -\n",
       " 10                   Ada   17   35   30   24   18   20    5    8    3\n",
       " 11                  Lisp   26   31   28   16   14    9    6    7    2\n",
       " 12        (Visual) Basic    -    -    -    5    6    4    3    3    4,\n",
       "     Year        Winner\n",
       " 0   2024        Python\n",
       " 1   2023            C#\n",
       " 2   2022           C++\n",
       " 3   2021        Python\n",
       " 4   2020        Python\n",
       " 5   2019             C\n",
       " 6   2018        Python\n",
       " 7   2017             C\n",
       " 8   2016            Go\n",
       " 9   2015          Java\n",
       " 10  2014    JavaScript\n",
       " 11  2013  Transact-SQL\n",
       " 12  2012   Objective-C\n",
       " 13  2011   Objective-C\n",
       " 14  2010        Python\n",
       " 15  2009            Go\n",
       " 16  2008             C\n",
       " 17  2007        Python\n",
       " 18  2006          Ruby\n",
       " 19  2005          Java\n",
       " 20  2004           PHP\n",
       " 21  2003           C++]"
      ]
     },
     "execution_count": 37,
     "metadata": {},
     "output_type": "execute_result"
    }
   ],
   "source": [
    "import pandas as pd\n",
    "#读取url\n",
    "tables = pd.read_html(io=\"https://www.tiobe.com/tiobe-index/\")\n",
    "tables"
   ]
  },
  {
   "cell_type": "markdown",
   "id": "936f82d4",
   "metadata": {},
   "source": [
    "### pd.read_sql_table()和pd.read_sql()区别\n",
    "|特性       |pd.read_sql_table          |pd.read_sql          |\n",
    "|----------|------------------|------------------|\n",
    "|主要输入       |表名 (table_name)       |SQL查询语句 或 表名 (sql)       |\n",
    "|灵活性       |低       |非常高       |\n",
    "|核心功能       |读取整张表       |执行任意复杂的 SELECT 查询       |\n",
    "|SQL 知识       |不需要       |需要       |\n",
    "|效率       |当表很大而你只需要部分数据时，效率较低       |当需要筛选或聚合数据时，效率更高       |\n"
   ]
  },
  {
   "cell_type": "code",
   "execution_count": null,
   "id": "7ee2f04d",
   "metadata": {},
   "outputs": [],
   "source": []
  }
 ],
 "metadata": {
  "kernelspec": {
   "display_name": "syc",
   "language": "python",
   "name": "python3"
  },
  "language_info": {
   "codemirror_mode": {
    "name": "ipython",
    "version": 3
   },
   "file_extension": ".py",
   "mimetype": "text/x-python",
   "name": "python",
   "nbconvert_exporter": "python",
   "pygments_lexer": "ipython3",
   "version": "3.13.7"
  }
 },
 "nbformat": 4,
 "nbformat_minor": 5
}
