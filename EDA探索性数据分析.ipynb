{
 "cells": [
  {
   "cell_type": "markdown",
   "id": "95be7345",
   "metadata": {},
   "source": [
    "### EDA探索性数据分析\n",
    "EDA（Exploratory Data Analysis）是数据分析过程中非常重要的一步，旨在通过统计图表和数据摘要来理解数据的结构、分布和关系。Dataprep是一个强大的Python库，专为简化EDA过程而设计。  \n",
    "EDA它能快速生成可视化，是一种方便报表的一种EDA库\n",
    "#### 主要功能\n",
    "- **数据概览**：快速生成数据集的摘要信息，包括缺失值、数据类型和基本统计量。\n",
    "- **可视化**：自动创建各种图表，如直方图、散点图、箱线图等，以帮助理解数据分布和关系。\n",
    "- **交互式报告**：生成交互式HTML报告，方便分享和展示数据分析结果。\n",
    "- **数据清洗**：提供简单的方法来处理缺失值、重复值和异常值。\n",
    "#### 安装\n",
    "`conda install -c conda-forge dataprep`"
   ]
  },
  {
   "cell_type": "code",
   "execution_count": null,
   "id": "6b8e61fc",
   "metadata": {},
   "outputs": [],
   "source": []
  }
 ],
 "metadata": {
  "language_info": {
   "name": "python"
  }
 },
 "nbformat": 4,
 "nbformat_minor": 5
}
