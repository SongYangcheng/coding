{
 "cells": [
  {
   "cell_type": "code",
   "execution_count": 1,
   "id": "475dcbec",
   "metadata": {},
   "outputs": [
    {
     "name": "stdout",
     "output_type": "stream",
     "text": [
      "d:\\python_demo\\fastapi\n"
     ]
    }
   ],
   "source": [
    "import os\n",
    "\n",
    "print(os.getcwd())"
   ]
  },
  {
   "cell_type": "code",
   "execution_count": null,
   "id": "b93d3f2b",
   "metadata": {},
   "outputs": [
    {
     "name": "stdout",
     "output_type": "stream",
     "text": [
      "hello 10\n",
      "hello 10\n",
      "hello 10\n"
     ]
    }
   ],
   "source": [
    "a = 10 \n",
    "\n",
    "print(f\"hello {a}\", )\n",
    "print(\"hello {}\".format(a))\n",
    "print(\"hello %s\" % (a))"
   ]
  },
  {
   "cell_type": "code",
   "execution_count": 1,
   "id": "66c6da63",
   "metadata": {},
   "outputs": [
    {
     "data": {
      "text/plain": [
       "100"
      ]
     },
     "execution_count": 1,
     "metadata": {},
     "output_type": "execute_result"
    }
   ],
   "source": [
    "a = 99\n",
    "a = 100\n",
    "a"
   ]
  },
  {
   "cell_type": "code",
   "execution_count": null,
   "id": "66e53b09",
   "metadata": {},
   "outputs": [
    {
     "name": "stdout",
     "output_type": "stream",
     "text": [
      "4.50\n",
      "1.3333333333333333\n",
      "True\n"
     ]
    }
   ],
   "source": [
    "print(\"%.2f\"%(9/2))\n",
    "print(4.0/3)\n",
    "a = isinstance(4/3, float) # 如果是浮点型则返回True\n",
    "print(a)"
   ]
  },
  {
   "cell_type": "code",
   "execution_count": 15,
   "id": "b29f0bd8",
   "metadata": {},
   "outputs": [
    {
     "name": "stdout",
     "output_type": "stream",
     "text": [
      "all_money, begin_time, max_bus, bus_all, students, boy, gril, arrive_time, eat_time, eat_money, away_time, return_money, return_time, leave_money\n",
      "33.5 8 30 2 51 28 23 10.33 12 25.5 3 5 5 5\n",
      "<class 'float'> <class 'int'> <class 'int'> <class 'int'> <class 'int'> <class 'int'> <class 'int'> <class 'float'> <class 'int'> <class 'float'> <class 'int'> <class 'int'> <class 'int'> <class 'int'>\n"
     ]
    }
   ],
   "source": [
    "all_money, begin_time, max_bus, bus_all, students, boy, gril, arrive_time, eat_time, eat_money, away_time, return_money, return_time, leave_money = 33.5, 8, 30, 2, 51, 28, 23, 10.33, 12, 25.5, 3, 5, 5, 5\n",
    "print(\"all_money, begin_time, max_bus, bus_all, students, boy, gril, arrive_time, eat_time, eat_money, away_time, return_money, return_time, leave_money\")\n",
    "print(all_money, begin_time, max_bus, bus_all, students, boy, gril, arrive_time, eat_time, eat_money, away_time, return_money, return_time, leave_money)\n",
    "print(type(all_money), type(begin_time), type(max_bus), type(bus_all), type(students), type(boy), type(gril), type(arrive_time), type(eat_time), type(eat_money), type(away_time), type(return_money), type(return_time), type(leave_money))"
   ]
  },
  {
   "cell_type": "code",
   "execution_count": 18,
   "id": "f13902fb",
   "metadata": {},
   "outputs": [
    {
     "name": "stdout",
     "output_type": "stream",
     "text": [
      "(2-2j)\n",
      "(-2+6j)\n"
     ]
    }
   ],
   "source": [
    "a = 2 + 2j\n",
    "b = 1 + 2j \n",
    "print(a.conjugate())\n",
    "print(a*b)\n"
   ]
  },
  {
   "cell_type": "code",
   "execution_count": 98,
   "id": "345d5169",
   "metadata": {},
   "outputs": [
    {
     "name": "stdout",
     "output_type": "stream",
     "text": [
      "[1, 5, 2]\n"
     ]
    }
   ],
   "source": [
    "a = [1, 2, 3, 5, 2]\n",
    "a.remove(2)\n",
    "a.pop(1)\n",
    "print(a)"
   ]
  },
  {
   "cell_type": "code",
   "execution_count": 75,
   "id": "d1771bef",
   "metadata": {},
   "outputs": [
    {
     "name": "stdout",
     "output_type": "stream",
     "text": [
      "899\n"
     ]
    }
   ],
   "source": [
    "import math\n",
    "a = 20677\n",
    "b = 899\n",
    "print(math.gcd(a, b))"
   ]
  },
  {
   "cell_type": "code",
   "execution_count": null,
   "id": "bed38722",
   "metadata": {},
   "outputs": [
    {
     "name": "stdout",
     "output_type": "stream",
     "text": [
      "[2009, -1, 20677, 825]\n"
     ]
    }
   ],
   "source": [
    "import math\n",
    "nums=[287,41,49,287,899,23,23,20677,5,825]\n",
    "num = []\n",
    "\n",
    "def function(nums):\n",
    "    length = len(nums)-1\n",
    "    for i in range(length):\n",
    "        if (math.gcd(nums[i], nums[i+1]) > 1 and nums[i] != -1 and nums[i+1]!= -1):\n",
    "\n",
    "            nums[i+1] = math.lcm(nums[i], nums[i+1])\n",
    "            nums[i] = -1\n",
    "    return nums\n",
    "nums = function(nums)\n",
    "for i in nums:\n",
    "    if i != -1:\n",
    "        num.append(i)\n",
    "# print(num)\n",
    "while(num != function(num)):\n",
    "    num = function(num)\n",
    "num.remove(-1)\n",
    "print(num)\n",
    "        \n",
    "    "
   ]
  },
  {
   "cell_type": "code",
   "execution_count": 11,
   "id": "afaa2a04",
   "metadata": {},
   "outputs": [
    {
     "name": "stdout",
     "output_type": "stream",
     "text": [
      "[287]\n",
      "[287]\n",
      "[2009]\n",
      "[2009]\n",
      "[2009, 899]\n",
      "[2009, 899, 23]\n",
      "[2009, 899, 23]\n",
      "[2009, 20677]\n",
      "[2009, 20677, 5]\n",
      "[2009, 20677, 825]\n"
     ]
    }
   ],
   "source": [
    "ans = list()\n",
    "\n",
    "nums=[287,41,49,287,899,23,23,20677,5,825]\n",
    "\n",
    "for num in nums:\n",
    "    # print(bool(ans))\n",
    "    while ans:\n",
    "        g = math.gcd(ans[-1], num)\n",
    "        if g > 1:\n",
    "            num = math.lcm(ans[-1], num)\n",
    "            ans.pop()\n",
    "        else:\n",
    "            break\n",
    "    ans.append(num)\n",
    "    print(ans)\n"
   ]
  },
  {
   "cell_type": "code",
   "execution_count": 10,
   "id": "28165534",
   "metadata": {},
   "outputs": [],
   "source": [
    "while False:\n",
    "    print(hello)"
   ]
  },
  {
   "cell_type": "code",
   "execution_count": 12,
   "id": "c60fd247",
   "metadata": {},
   "outputs": [
    {
     "name": "stdout",
     "output_type": "stream",
     "text": [
      "2906782023472 2906782020720\n"
     ]
    }
   ],
   "source": [
    "e1 = \"你\"\n",
    "e2 = \"你\"\n",
    "print(id(e1), id(e2))"
   ]
  },
  {
   "cell_type": "code",
   "execution_count": 13,
   "id": "4069b276",
   "metadata": {},
   "outputs": [
    {
     "name": "stdout",
     "output_type": "stream",
     "text": [
      "2906781976688 2906766894752\n"
     ]
    }
   ],
   "source": [
    "b = \"你好\"\n",
    "a =  b + \"~\"\n",
    "print(id(a), id(b))"
   ]
  },
  {
   "cell_type": "code",
   "execution_count": null,
   "id": "b5ad1576",
   "metadata": {},
   "outputs": [
    {
     "name": "stdout",
     "output_type": "stream",
     "text": [
      "2906782256064 2906782402736 2906782256064 2906782256064 你好\n"
     ]
    }
   ],
   "source": [
    "original = \"你好\"\n",
    "\n",
    "sender = original\n",
    "receiver = sender\n",
    "bakup = receiver\n",
    "bakup = \"hello\"\n",
    "edited = original + \"~\"\n",
    "\n",
    "print(id(original), id(edited), id(sender), id(receiver), sender)\n",
    "\n",
    "\n",
    "\n",
    "\n"
   ]
  },
  {
   "cell_type": "code",
   "execution_count": 9,
   "id": "d517d941",
   "metadata": {},
   "outputs": [
    {
     "name": "stdout",
     "output_type": "stream",
     "text": [
      "Help help hELp help HELP Help\n"
     ]
    }
   ],
   "source": [
    "str = \"HelP\"\n",
    "print(str.capitalize(), str.casefold(), str.swapcase(), str.lower(), str.upper(), str.title())"
   ]
  },
  {
   "cell_type": "markdown",
   "id": "c9239d37",
   "metadata": {},
   "source": [
    "### 字符串驻留机制\n",
    "- 是python一种优化技术，其核心是为相同的字符串共享内存地址当多个指向相同字符串时，python会确保他们引用同一个内存地址，从日节约内存并提高性能\n",
    "- 作用\n",
    "  - 内存优化：避免重复存储相同字符串\n",
    "  - 提高性能：字符串比较直接比较内存地址，而不是逐字符比较\n",
    "- 主流机制的工作原理\n",
    "pyhon适用全局哈希表来管理字符串\n",
    "  - pyhon会检查interned表中是否存在相同内容的字符串如果存在则返回已存在字符串对象，如果不存在则创建新对象并加入interned表\n",
    "  - python字符串驻留由Cpython解释器实现， interned是全局dict对象，键是字符串内容，值是对应字符串对象\n",
    "\n",
    "优点：节省内存，不同开辟新的内存空间所以节省; 提升字符串比较效率\n",
    "\n",
    "缺点：长字符串驻留可能导致内存浪费； 驻留行为可能因版本实现不同而改变"
   ]
  },
  {
   "cell_type": "code",
   "execution_count": null,
   "id": "264effbc",
   "metadata": {},
   "outputs": [
    {
     "name": "stdout",
     "output_type": "stream",
     "text": [
      "['heel'] h\n"
     ]
    }
   ],
   "source": [
    "str = \"heel peer\"\n",
    "str1 = str.split(\" \")\n",
    "print(str1[slice(1)], str[slice(1)])\n"
   ]
  },
  {
   "cell_type": "code",
   "execution_count": 22,
   "id": "65bba426",
   "metadata": {},
   "outputs": [
    {
     "name": "stdout",
     "output_type": "stream",
     "text": [
      "False 1807850015856 1807850275312\n"
     ]
    }
   ],
   "source": [
    "a = \"hello\"\n",
    "b = \"world\"\n",
    "e = a + b\n",
    "f = \"helloworld\"\n",
    "\n",
    "print(e is f, id(e), id(f))"
   ]
  },
  {
   "cell_type": "code",
   "execution_count": null,
   "id": "7e4394d9",
   "metadata": {},
   "outputs": [
    {
     "name": "stdout",
     "output_type": "stream",
     "text": [
      "True True 2 8 2\n"
     ]
    }
   ],
   "source": [
    "ab = \"helloworld\"\n",
    "a = \"hello\"\n",
    "b = \"world\"\n",
    "c = a + b\n",
    "# startswith endswitch返回判断起始字符串是否为指定字符串但会True， false\n",
    "start = c.startswith(\"h\") # 开始位置是否为某成员返回bool型\n",
    "end = c.endswith(\"d\") #结束位置\n",
    "#find和index返回指定字符标，find找不到时返回-1，index找不到时报错\n",
    "find = c.find(\"l\") # 返回整形\n",
    "rfind = c.rfind(\"l\")\n",
    "index = c.index(\"l\") #返回整形或找不到则报错 find和index都严格遵循大小写\n",
    "\n",
    "print(start, end, find, rfind, index)"
   ]
  },
  {
   "cell_type": "code",
   "execution_count": null,
   "id": "e85aba6f",
   "metadata": {},
   "outputs": [
    {
     "name": "stdout",
     "output_type": "stream",
     "text": [
      "False True\n",
      "True False\n",
      "False True True\n",
      "False True\n",
      "True\n",
      "True\n",
      "True False\n",
      "False True\n",
      "oo\n",
      "Hool lool\n",
      "tease   easea\n",
      "tease           easea\n",
      "{101: 49, 97: 50, 115: 51}\n",
      "t1231\n",
      "Misc\n",
      "cTests\n",
      "('your ', 'lap', '')\n",
      "('', 'your', ' lap')\n",
      "('', 'your', ' lap')\n",
      "['your', 'lap']\n",
      "['your', 'lap']\n",
      "python is prefect\n",
      "b'your lap'\n"
     ]
    }
   ],
   "source": [
    "#isalnum()如果字符串中有字母或者数字则返回True否则返回False\n",
    "a = \"12332kkk#\"\n",
    "b = \"13234jjjj\"\n",
    "print(a.isalnum(), b.isalnum())\n",
    "\n",
    "#isalpha() 如果字符中字符都是字母返回True否则返回False\n",
    "c = \"capitalize\"\n",
    "print(c.isalpha(), a.isalpha())\n",
    "\n",
    "#isascii() 能转换成ascii码的返回True否则返回False， 德语就不是\n",
    "\n",
    "#isdecimal() 满足数字是十进制返回True\n",
    "\n",
    "#isdigit() 都是数字返回True\n",
    "digital = \"133434\"\n",
    "print(a.isdigit(), digital.isdigit(), digital.isdecimal())\n",
    "\n",
    "#isidentifier() 字符是有效标识符返回True\n",
    "\n",
    "#isnumeric()如果字符串至少有一个字符且字符均为数字则返回True，否则返回False\n",
    "print(a.isnumeric(), digital.isnumeric()) #False True\n",
    "\n",
    "#isprintable() 如果字符串均可打印或者为空则返回True\n",
    "print(a.isprintable()) #True\n",
    "\n",
    "#isspace()如果字符串只有空白字符则返回True\n",
    "space = \"  \"\n",
    "print(space.isspace()) #True\n",
    "\n",
    "# istitle() 如果字符串中有一个字符且为标题则返回True，否则返回False, 首字母大写\n",
    "\n",
    "Title = \"Title\"\n",
    "title = \"title\"\n",
    "print(Title.istitle(), title.istitle()) #True False\n",
    "\n",
    "# isupper() 字符全为大写则返回True否则为False\n",
    "upper = \"ADSAD\"\n",
    "print(Title.isupper(), upper.isupper()) #False True\n",
    "\n",
    "# islower()字符全为小写则为True\n",
    "\n",
    "#strip()去掉字符串左右两边的字符（可指定默认空格）\n",
    "#lstrip()仅去掉左边， rstrip\n",
    "word = \"lool\"\n",
    "print(word.strip(\"l\")) #oo\n",
    "\n",
    "# replace 将字符串中的旧元素替换成新的元素, 最后一个参数是要替换字符个数\n",
    "print(word.replace(\"l\", \"H\", 1), word.replace(\"1\", \"H\")) #Hool lool\n",
    "\n",
    "#expandtabs() 返回制表符空格， 实际上每tabsize个字符设置为制表位默认位（0， 8， 16）。要展开字符串，当前列被设为\n",
    "\n",
    "word = \"tease\\teasea\"\n",
    "print(word.expandtabs(8))\n",
    "print(word.expandtabs(16))\n",
    "\n",
    "#translate()将字符串中的元素一一映射成自己在后面修改的元素\n",
    "#maketrans()可配合translate()使用\n",
    "# print(word.translate(\"tease\", \"12345\"))\n",
    "str  = \"tease\"\n",
    "str_make = str.maketrans(\"eas\", \"123\")\n",
    "print(str_make) #{101: 49, 97: 50, 115: 51}\n",
    "print(str.translate(str_make)) #t1231 \n",
    "\n",
    "\n",
    "#removesuffix(suffix, /): 如果字符串一suffix字符结尾，则可删除尾字符，如果不在字符串中则返回原字符串\n",
    "#removeprefix(suffix, /): 如果字符串以suffix字符开头则删除相应字符串，否则返回原来字符\n",
    "str = \"MiscTests\".removesuffix(\"Tests\")\n",
    "print(str)\n",
    "str = \"MiscTests\".removeprefix(\"Mis\")\n",
    "print(str)\n",
    "\n",
    "\n",
    "# 字符串的分割与合并\n",
    "# partition(sep): 在sep首次出现位置拆分字符串返回三元组，其中包含分隔符之前的部分，字符本身，分割符之后的 \n",
    "word = \"your lap\"\n",
    "print(word.partition(\"lap\")) #以指定字符进行分割('your ', 'lap', '')\n",
    "print(word.rpartition(\"your\"))\n",
    "# rpartition(sep): 在从后向前找sep，返回三元组，分别为分隔符之前的，分隔符，分隔符之后的\n",
    "\n",
    "print(word.rpartition(\"your\"))\n",
    "\n",
    "#split(seq, num) seq分割符号， num分割次数\n",
    "#rsplit从右侧开切\n",
    "print(word.split(\" \")) #['your', 'lap']\n",
    "print(word.rsplit(\" \")) #['your', 'lap']\n",
    "\n",
    "#join\n",
    "list = [\"python\", \"is\", \"prefect\"]\n",
    "print(\" \".join(list))\n",
    "#encode\n",
    "print(word.encode(\"utf-8\")) #b'your lap'\n",
    "\n"
   ]
  },
  {
   "cell_type": "code",
   "execution_count": null,
   "id": "6d6dc367",
   "metadata": {},
   "outputs": [
    {
     "name": "stdout",
     "output_type": "stream",
     "text": [
      "The 猫is eating 鱼 \n",
      "The 猫is吃\n"
     ]
    }
   ],
   "source": [
    "# 继承和多态\n",
    "class animal:\n",
    "    def __init__(self, name, action):\n",
    "        self.name = name\n",
    "        self.action = action\n",
    "    def fly(self):\n",
    "        print(f\"The {self.name}is{self.action}\")\n",
    "\n",
    "class cat(animal):\n",
    "    def __init__(self, name, action, eat):\n",
    "        super().__init__(name, action)\n",
    "        self.eat = eat\n",
    "    def eatfish(self):\n",
    "        print(f\"The {self.name}is eating {self.eat} \" )\n",
    "\n",
    "animal = animal(\"小狗\", \"叫\")\n",
    "cat = cat(\"猫\", \"吃\", \"鱼\")\n",
    "cat.eatfish()\n",
    "cat.fly()"
   ]
  },
  {
   "cell_type": "code",
   "execution_count": 3,
   "id": "dd7f12c8",
   "metadata": {},
   "outputs": [
    {
     "name": "stdout",
     "output_type": "stream",
     "text": [
      "你好， 同学小六\n",
      "你好， 小孩\n",
      "， 同学 你好， \n",
      "字符串长度为： 6\n",
      "你好， 12\n",
      "你 好 ，   同 学\n"
     ]
    }
   ],
   "source": [
    "title = \"字符串处理系统\"\n",
    "# print(\"返送你的信息：\")\n",
    "# send = input()\n",
    "send = \"你好， 同学\"\n",
    "and_1 = \"小六\"\n",
    "send_replace = send.replace(\"同学\", \"小孩\")\n",
    "send_and = send + and_1\n",
    "print(send_and)\n",
    "print(send_replace)\n",
    "send_head = send.lstrip(\"你好\")\n",
    "send_end = send.rstrip(\"同学\")\n",
    "print(send_head, send_end)\n",
    "print(\"字符串长度为：\" ,len(send))\n",
    "send_make = send.maketrans(\"同学\", \"12\")\n",
    "print(send.translate(send_make))\n",
    "print(\" \".join(send))"
   ]
  },
  {
   "cell_type": "code",
   "execution_count": null,
   "id": "faaa2e85",
   "metadata": {},
   "outputs": [
    {
     "name": "stdout",
     "output_type": "stream",
     "text": [
      "[3, 2, 4] <class 'list'>\n"
     ]
    }
   ],
   "source": [
    "mylist = [4 ,2 ,3]\n",
    "# mylist.sort(reverse=True)\n",
    "mylist.reverse()\n",
    "print(mylist, type(mylist))\n"
   ]
  },
  {
   "cell_type": "code",
   "execution_count": null,
   "id": "87e5c61d",
   "metadata": {},
   "outputs": [
    {
     "name": "stdout",
     "output_type": "stream",
     "text": [
      "nnn\n",
      "pythonnn\n",
      "pton\n",
      "nnnohtyp\n",
      "nnhy\n",
      "onn\n",
      "{'p': 1, 'y': 1, 't': 1, 'h': 1, 'o': 1, 'n': 3}\n"
     ]
    }
   ],
   "source": [
    "test = \"pythonnn\"\n",
    "print(test[-3:])\n",
    "print(test[::1])\n",
    "print(test[::2])\n",
    "print(test[::-1])\n",
    "print(test[::-2])\n",
    "print(test[-4:-1])\n",
    "list = []\n",
    "dict_1 = {}\n",
    "\n",
    "def sum_num(i):\n",
    "    sum = 0\n",
    "    for j in test:\n",
    "        if i == j:\n",
    "            sum += 1\n",
    "    return sum\n",
    "for i in test:\n",
    "    dict_1[i] = sum_num(i)\n",
    "print(dict_1)\n"
   ]
  },
  {
   "cell_type": "code",
   "execution_count": null,
   "id": "327f9706",
   "metadata": {},
   "outputs": [
    {
     "name": "stdout",
     "output_type": "stream",
     "text": [
      "1,2,3,bushrowabdicateerectinedible不可食用的concatenate连接intrigue激起..兴趣\n",
      "{2, 3}\n",
      "bushrowabdicateerectinedible不可食用的concatenate连接intrigue激起..兴趣7\n",
      "['intrigue激起..兴趣', 'inedible不可食用的', 'abdicate', 'bush']\n",
      "['inedible不可食用的', 'concatenate连接']\n"
     ]
    }
   ],
   "source": [
    "# 列表相关操作\n",
    "a = [1, 2, 3]\n",
    "b = [4, 3, 2]\n",
    "c = a + b\n",
    "# print(a.pop(1))\n",
    "# print(a.remove(3))\n",
    "# print(a)\n",
    "for i in a:\n",
    "    print(i, end=\",\")\n",
    "words = [\"bush\", \"row\", \"abdicate\", \"erect\", \"inedible不可食用的\", \"concatenate连接\",\"intrigue激起..兴趣\"]\n",
    "\n",
    "print(\"\".join(words)) #bushrowabdicateerectinedible不可食用的\n",
    "\n",
    "set_1 = {1, 2, 3}\n",
    "set_2 = {2, 3}\n",
    "print(set_1 and set_2)\n",
    "print(\"\".join(words) + str(len(words))) #bushrowabdicateerectinedible不可食用的5\n",
    "print(words[::-2]) # ['intrigue激起..兴趣', 'inedible不可食用的', 'abdicate', 'bush']\n",
    "print(words[-3:-1]) #['inedible不可食用的', 'concatenate连接']\n"
   ]
  },
  {
   "cell_type": "code",
   "execution_count": 49,
   "id": "17b7f783",
   "metadata": {},
   "outputs": [
    {
     "name": "stdout",
     "output_type": "stream",
     "text": [
      "['李四', '公孙', '玄德']\n",
      "['张三', '小王', '小权']\n",
      "['张三', '李四', '小南', '小权']\n",
      "2126235128896 2126235664512 2126235132992\n",
      "['张三', '小王', '小权']\n",
      "['张三', '小王', '小王', '小王', '小王']\n"
     ]
    }
   ],
   "source": [
    "import copy\n",
    "names = [\"张三\", \"李四\", \"王五\", \"公孙\", \"孟德\", \"玄德\", \"小权\"]\n",
    "print(names[1:6:2])\n",
    "# print(names[1], names[3], names[5])\n",
    "temp = names[:]\n",
    "temp2 = copy.deepcopy(names)\n",
    "names[1:6] = [\"小王\"]\n",
    "# name_1[2:5] = [\"小南\"]\n",
    "print(names)\n",
    "temp[2:6] = [\"小南\"]\n",
    "print(temp)\n",
    "print(id(temp), id(names), id(temp2))\n",
    "print(names)\n",
    "names[2:3] = [\"小王\", \"小王\", \"小王\"]\n",
    "print(names)"
   ]
  },
  {
   "cell_type": "code",
   "execution_count": 66,
   "id": "b5060162",
   "metadata": {},
   "outputs": [
    {
     "name": "stdout",
     "output_type": "stream",
     "text": [
      "['bush', 'lap', 'row', 'abdicate', 'erect', 'inedible不可食用的', 'concatenate连接', 'intrigue激起..兴趣']\n",
      "0\n"
     ]
    }
   ],
   "source": [
    "# append() , insert(index, item), sort(), reserve(), extend(列表或者元组), clear(), \n",
    "words = [\"bush\", \"row\", \"abdicate\", \"erect\", \"inedible不可食用的\", \"concatenate连接\",\"intrigue激起..兴趣\"]\n",
    "dict_1 = {1:\"小米\", 2:\"苹果\"}\n",
    "words.insert(1, \"lap\")\n",
    "print(words)\n",
    "words.extend(dict_1.items()) #, (1, '小米'), (2, '苹果')]\n",
    "print(words.index(\"bush\"))\n"
   ]
  },
  {
   "cell_type": "code",
   "execution_count": 7,
   "id": "a4932cce",
   "metadata": {},
   "outputs": [
    {
     "name": "stdout",
     "output_type": "stream",
     "text": [
      "[]\n"
     ]
    }
   ],
   "source": [
    "str =  \"hello\"\n",
    "list_1 = list(str.split(\" \"))\n",
    "del(list_1[0])\n",
    "print(list_1)"
   ]
  },
  {
   "cell_type": "code",
   "execution_count": 14,
   "id": "ca14cdeb",
   "metadata": {},
   "outputs": [
    {
     "name": "stdout",
     "output_type": "stream",
     "text": [
      "[]\n",
      "2.8284271247461903\n"
     ]
    }
   ],
   "source": [
    "list = []\n",
    "for i in range(1, 1):\n",
    "    list.append(i)\n",
    "print(list)\n",
    "print(8**0.5)\n"
   ]
  },
  {
   "cell_type": "code",
   "execution_count": 17,
   "id": "98c5c492",
   "metadata": {},
   "outputs": [
    {
     "name": "stdout",
     "output_type": "stream",
     "text": [
      "[0, 1]\n",
      "1\n",
      "1\n",
      "0\n"
     ]
    }
   ],
   "source": [
    "x = 1\n",
    "list_1 = []\n",
    "target = int(x ** 0.5)\n",
    "for i in range(0, x//2 + 2):\n",
    "    list_1.append(i)\n",
    "print(list_1)\n",
    "lift = 0\n",
    "right = len(list_1)\n",
    "while(right >= lift):\n",
    "    moddle = (right + lift)//2\n",
    "    print(moddle)\n",
    "    if (list_1[moddle] > target):\n",
    "        right = moddle -1\n",
    "    elif (list_1[moddle] < target):\n",
    "        lift = moddle + 1\n",
    "    else: \n",
    "        print(moddle)\n",
    "        break\n",
    "print(lift)"
   ]
  },
  {
   "cell_type": "code",
   "execution_count": 28,
   "id": "2cb1b8b3",
   "metadata": {},
   "outputs": [
    {
     "name": "stdout",
     "output_type": "stream",
     "text": [
      "[2, 2]\n"
     ]
    }
   ],
   "source": [
    "nums = [3,2,2,3]\n",
    "val = 3\n",
    "lis = []\n",
    "for i in nums:\n",
    "    if i < val:\n",
    "        lis.append(i)\n",
    "print(lis)"
   ]
  },
  {
   "cell_type": "code",
   "execution_count": 36,
   "id": "c1726b7f",
   "metadata": {},
   "outputs": [
    {
     "name": "stdout",
     "output_type": "stream",
     "text": [
      "[2, 2, 2, 3]\n",
      "[2, 2, 2, 3]\n"
     ]
    }
   ],
   "source": [
    "nums = [3,2,2,3]\n",
    "val = 3\n",
    "low = 0\n",
    "fast = 0\n",
    "size = len(nums)\n",
    "while(fast < size):\n",
    "    if nums[fast] != val:\n",
    "        nums[low] = nums[fast]\n",
    "        print(nums)\n",
    "        low += 1\n",
    "    fast += 1"
   ]
  },
  {
   "cell_type": "code",
   "execution_count": null,
   "id": "4ddae895",
   "metadata": {},
   "outputs": [
    {
     "name": "stdout",
     "output_type": "stream",
     "text": [
      "2415709123056\n",
      "2415722724480\n",
      "<class 'int'>\n",
      "(1, 2)\n"
     ]
    }
   ],
   "source": [
    "# 元组不限制长度，元组成员是不可变的\n",
    "tup = (1, ) #<class 'tuple'>\n",
    "tup2 = (2, )\n",
    "tup1 = (1) #<class 'int'>\n",
    "print(id(tup)) #2415709123056\n",
    "tup = tup + tup2 #2415722724480地址发生变化可知元组成员不可变\n",
    "print(id(tup))\n",
    "print(type(tup1))\n",
    "print(tup)"
   ]
  },
  {
   "cell_type": "markdown",
   "id": "ef03e81c",
   "metadata": {},
   "source": [
    "# labdma在字典和列表中的使用"
   ]
  },
  {
   "cell_type": "code",
   "execution_count": null,
   "id": "2057682d",
   "metadata": {},
   "outputs": [
    {
     "name": "stdout",
     "output_type": "stream",
     "text": [
      "[1, 4, 9, 16, 25]\n"
     ]
    },
    {
     "ename": "TypeError",
     "evalue": "'dict' object is not callable",
     "output_type": "error",
     "traceback": [
      "\u001b[1;31m---------------------------------------------------------------------------\u001b[0m",
      "\u001b[1;31mTypeError\u001b[0m                                 Traceback (most recent call last)",
      "Cell \u001b[1;32mIn[12], line 6\u001b[0m\n\u001b[0;32m      4\u001b[0m \u001b[38;5;28mprint\u001b[39m(squared)  \u001b[38;5;66;03m# [1, 4, 9, 16, 25]\u001b[39;00m\n\u001b[0;32m      5\u001b[0m dict_name \u001b[38;5;241m=\u001b[39m \u001b[38;5;28msorted\u001b[39m(dict_name\u001b[38;5;241m.\u001b[39mitems(), key \u001b[38;5;241m=\u001b[39m \u001b[38;5;28;01mlambda\u001b[39;00m x:x[\u001b[38;5;241m1\u001b[39m]) \u001b[38;5;66;03m#[('李四', 22), ('张三', 23), ('王五', 24)]\u001b[39;00m\n\u001b[1;32m----> 6\u001b[0m dict_name \u001b[38;5;241m=\u001b[39m \u001b[38;5;28mdict\u001b[39m(dict_name) \u001b[38;5;66;03m# {'李四': 22, '张三': 23, '王五': 24}\u001b[39;00m\n\u001b[0;32m      7\u001b[0m dict_squre \u001b[38;5;241m=\u001b[39m \u001b[38;5;28mdict\u001b[39m(\u001b[38;5;28mmap\u001b[39m(\u001b[38;5;28;01mlambda\u001b[39;00m x:(x[\u001b[38;5;241m0\u001b[39m], x[\u001b[38;5;241m1\u001b[39m] \u001b[38;5;241m*\u001b[39m\u001b[38;5;241m*\u001b[39m \u001b[38;5;241m2\u001b[39m), dict_name\u001b[38;5;241m.\u001b[39mitems())) \n\u001b[0;32m      8\u001b[0m \u001b[38;5;28mprint\u001b[39m(dict_name)\n",
      "\u001b[1;31mTypeError\u001b[0m: 'dict' object is not callable"
     ]
    }
   ],
   "source": [
    "dict_name = {\"张三\":23, \"李四\":22, \"王五\": 24}\n",
    "numbers = [1, 2, 3, 4, 5]\n",
    "squared = list(map(lambda x: x ** 2, numbers))\n",
    "print(squared)  # [1, 4, 9, 16, 25]\n",
    "dict_name = sorted(dict_name.items(), key = lambda x:x[1]) #[('李四', 22), ('张三', 23), ('王五', 24)]\n",
    "# dict_name = dict(dict_name) # {'李四': 22, '张三': 23, '王五': 24}\n",
    "# dict_squre = dict(map(lambda x:(x[0], x[1] ** 2), dict_name.items())) \n",
    "print(dict_name)\n",
    "# print(dict_squre)"
   ]
  },
  {
   "cell_type": "code",
   "execution_count": 1,
   "id": "79a57ad8",
   "metadata": {},
   "outputs": [
    {
     "name": "stdout",
     "output_type": "stream",
     "text": [
      "[1, 4, 9, 16, 25]\n",
      "{'小宋': 1, '小刘': 4}\n",
      "{'小宋': 1, '小刘': 16}\n"
     ]
    },
    {
     "data": {
      "text/plain": [
       "\"输出结果\\n[1, 4, 9, 16, 25]\\n{'小宋': 1, '小刘': 4}\\n{'小宋': 1, '小刘': 16}\\n\""
      ]
     },
     "execution_count": 1,
     "metadata": {},
     "output_type": "execute_result"
    }
   ],
   "source": [
    "numbers = [1, 2, 3, 4, 5]\n",
    "dict_name = {\"小宋\":1, \"小刘\":2}\n",
    "squared = list(map(lambda x: x ** 2, numbers))\n",
    "dict_name = dict(map(lambda x:(x[0], x[1]**2), dict_name.items()))\n",
    "dict_squre = dict(map(lambda x:(x[0], x[1] ** 2), dict_name.items()))\n",
    "print(squared) \n",
    "print(dict_name)\n",
    "print(dict_squre)\n",
    "\"\"\"输出结果\n",
    "[1, 4, 9, 16, 25]\n",
    "{'小宋': 1, '小刘': 4}\n",
    "{'小宋': 1, '小刘': 16}\n",
    "\"\"\""
   ]
  },
  {
   "cell_type": "code",
   "execution_count": null,
   "id": "030b9a40",
   "metadata": {},
   "outputs": [
    {
     "name": "stdout",
     "output_type": "stream",
     "text": [
      "1\n",
      "None\n",
      "找不到\n",
      "<class 'dict_items'>\n",
      "('小明', 1)\n",
      "('小红', 2)\n"
     ]
    }
   ],
   "source": [
    "# get(key, \"自定义输出\")以key查询，查找未知键是返回None\n",
    "dict = {\"小明\":1, \"小红\":2}\n",
    "# print(dict[\"小张\"]) # 次将会报错\n",
    "print(dict.get(\"小明\"))# 1\n",
    "print(dict.get(\"小张\"))# None\n",
    "print(dict.get(\"校长\", \"找不到\")) #找不到\n",
    "print(type(dict.items()))\n",
    "for item in dict.items():\n",
    "    print(item) #('小明', 1) ('小红', 2)\n"
   ]
  },
  {
   "cell_type": "markdown",
   "id": "95a10c7c",
   "metadata": {},
   "source": [
    "# 流程控制相关"
   ]
  },
  {
   "cell_type": "code",
   "execution_count": null,
   "id": "b7eead2a",
   "metadata": {},
   "outputs": [
    {
     "name": "stdout",
     "output_type": "stream",
     "text": [
      "[1, 1, 4, 4]\n"
     ]
    }
   ],
   "source": [
    "# 双指针将列表元素变成其平方\n",
    "lis = [-2, -1, 1, 2]\n",
    "l, r, i = 0, len(lis) - 1, len(lis) - 1\n",
    "res = [float('inf')] * len(lis) # 需要创建新列表\n",
    "\n",
    "while(l<=r):\n",
    "    if (lis[l]**2 > lis[r] ** 2):\n",
    "        res[i] = lis[l] ** 2\n",
    "        l += 1\n",
    "    elif (lis[l]**2 <= lis[r]**2):\n",
    "        res[i] = lis[r] ** 2\n",
    "        r -= 1\n",
    "    i -= 1\n",
    "print(res)\n",
    "    \n"
   ]
  },
  {
   "cell_type": "code",
   "execution_count": 29,
   "id": "9d093738",
   "metadata": {},
   "outputs": [
    {
     "ename": "KeyboardInterrupt",
     "evalue": "Interrupted by user",
     "output_type": "error",
     "traceback": [
      "\u001b[1;31m---------------------------------------------------------------------------\u001b[0m",
      "\u001b[1;31mKeyboardInterrupt\u001b[0m                         Traceback (most recent call last)",
      "Cell \u001b[1;32mIn[29], line 1\u001b[0m\n\u001b[1;32m----> 1\u001b[0m grade \u001b[38;5;241m=\u001b[39m \u001b[38;5;28minput\u001b[39m(\u001b[38;5;124m\"\u001b[39m\u001b[38;5;124m请输入学生的成绩：\u001b[39m\u001b[38;5;124m\"\u001b[39m)\n\u001b[0;32m      2\u001b[0m \u001b[38;5;28;01mif\u001b[39;00m grade \u001b[38;5;241m>\u001b[39m\u001b[38;5;241m=\u001b[39m \u001b[38;5;241m90\u001b[39m \u001b[38;5;129;01mand\u001b[39;00m grade \u001b[38;5;241m<\u001b[39m\u001b[38;5;241m=\u001b[39m \u001b[38;5;241m100\u001b[39m:\n\u001b[0;32m      3\u001b[0m     \u001b[38;5;28mprint\u001b[39m(\u001b[38;5;124m\"\u001b[39m\u001b[38;5;124m优秀\u001b[39m\u001b[38;5;124m\"\u001b[39m)\n",
      "File \u001b[1;32md:\\Users\\25711\\anaconda3\\Lib\\site-packages\\ipykernel\\kernelbase.py:1262\u001b[0m, in \u001b[0;36mKernel.raw_input\u001b[1;34m(self, prompt)\u001b[0m\n\u001b[0;32m   1260\u001b[0m     msg \u001b[38;5;241m=\u001b[39m \u001b[38;5;124m\"\u001b[39m\u001b[38;5;124mraw_input was called, but this frontend does not support input requests.\u001b[39m\u001b[38;5;124m\"\u001b[39m\n\u001b[0;32m   1261\u001b[0m     \u001b[38;5;28;01mraise\u001b[39;00m StdinNotImplementedError(msg)\n\u001b[1;32m-> 1262\u001b[0m \u001b[38;5;28;01mreturn\u001b[39;00m \u001b[38;5;28mself\u001b[39m\u001b[38;5;241m.\u001b[39m_input_request(\n\u001b[0;32m   1263\u001b[0m     \u001b[38;5;28mstr\u001b[39m(prompt),\n\u001b[0;32m   1264\u001b[0m     \u001b[38;5;28mself\u001b[39m\u001b[38;5;241m.\u001b[39m_parent_ident[\u001b[38;5;124m\"\u001b[39m\u001b[38;5;124mshell\u001b[39m\u001b[38;5;124m\"\u001b[39m],\n\u001b[0;32m   1265\u001b[0m     \u001b[38;5;28mself\u001b[39m\u001b[38;5;241m.\u001b[39mget_parent(\u001b[38;5;124m\"\u001b[39m\u001b[38;5;124mshell\u001b[39m\u001b[38;5;124m\"\u001b[39m),\n\u001b[0;32m   1266\u001b[0m     password\u001b[38;5;241m=\u001b[39m\u001b[38;5;28;01mFalse\u001b[39;00m,\n\u001b[0;32m   1267\u001b[0m )\n",
      "File \u001b[1;32md:\\Users\\25711\\anaconda3\\Lib\\site-packages\\ipykernel\\kernelbase.py:1305\u001b[0m, in \u001b[0;36mKernel._input_request\u001b[1;34m(self, prompt, ident, parent, password)\u001b[0m\n\u001b[0;32m   1302\u001b[0m \u001b[38;5;28;01mexcept\u001b[39;00m \u001b[38;5;167;01mKeyboardInterrupt\u001b[39;00m:\n\u001b[0;32m   1303\u001b[0m     \u001b[38;5;66;03m# re-raise KeyboardInterrupt, to truncate traceback\u001b[39;00m\n\u001b[0;32m   1304\u001b[0m     msg \u001b[38;5;241m=\u001b[39m \u001b[38;5;124m\"\u001b[39m\u001b[38;5;124mInterrupted by user\u001b[39m\u001b[38;5;124m\"\u001b[39m\n\u001b[1;32m-> 1305\u001b[0m     \u001b[38;5;28;01mraise\u001b[39;00m \u001b[38;5;167;01mKeyboardInterrupt\u001b[39;00m(msg) \u001b[38;5;28;01mfrom\u001b[39;00m \u001b[38;5;28;01mNone\u001b[39;00m\n\u001b[0;32m   1306\u001b[0m \u001b[38;5;28;01mexcept\u001b[39;00m \u001b[38;5;167;01mException\u001b[39;00m:\n\u001b[0;32m   1307\u001b[0m     \u001b[38;5;28mself\u001b[39m\u001b[38;5;241m.\u001b[39mlog\u001b[38;5;241m.\u001b[39mwarning(\u001b[38;5;124m\"\u001b[39m\u001b[38;5;124mInvalid Message:\u001b[39m\u001b[38;5;124m\"\u001b[39m, exc_info\u001b[38;5;241m=\u001b[39m\u001b[38;5;28;01mTrue\u001b[39;00m)\n",
      "\u001b[1;31mKeyboardInterrupt\u001b[0m: Interrupted by user"
     ]
    }
   ],
   "source": [
    "grade = input(\"请输入学生的成绩：\")\n",
    "if grade >= 90 and grade <= 100:\n",
    "    print(\"优秀\")\n",
    "elif grade >= 80 and grade < 90:\n",
    "    print(\"优良\")\n",
    "elif  grade >=70 and grade < 80:\n",
    "    print(\"良好\")\n",
    "elif grade >= 60 and grade < 70:\n",
    "    print(\"合格\")\n",
    "else:\n",
    "    print(\"不合格\")"
   ]
  },
  {
   "cell_type": "markdown",
   "id": "e577124d",
   "metadata": {},
   "source": [
    "# 警告\n",
    "这样列表创建的所有字列表都属于同一个对象，修改其中一个会影响其他所有列表"
   ]
  },
  {
   "cell_type": "code",
   "execution_count": 27,
   "id": "89a3c40e",
   "metadata": {},
   "outputs": [
    {
     "name": "stdout",
     "output_type": "stream",
     "text": [
      "[[], [], []]\n",
      "[[1], [1], [1]]\n"
     ]
    }
   ],
   "source": [
    "lis = [[]] * 3\n",
    "print(lis)\n",
    "lis[1].append(1)\n",
    "print(lis)"
   ]
  },
  {
   "cell_type": "code",
   "execution_count": null,
   "id": "9de51f9a",
   "metadata": {},
   "outputs": [
    {
     "name": "stdout",
     "output_type": "stream",
     "text": [
      "10000\n",
      "2500\n"
     ]
    }
   ],
   "source": [
    "sum = 0\n",
    "for i in range(1, 101, 2):\n",
    "    sum += i\n",
    "print(sum)\n"
   ]
  },
  {
   "cell_type": "code",
   "execution_count": 44,
   "id": "e43014c5",
   "metadata": {},
   "outputs": [
    {
     "name": "stdout",
     "output_type": "stream",
     "text": [
      "2500.0\n"
     ]
    }
   ],
   "source": [
    "a1, d = 1, 2\n",
    "s100 = 50*(2*a1 + (99//2)*d)/2\n",
    "print(s100)"
   ]
  },
  {
   "cell_type": "code",
   "execution_count": 45,
   "id": "7fba46d7",
   "metadata": {},
   "outputs": [
    {
     "name": "stdout",
     "output_type": "stream",
     "text": [
      "3\n"
     ]
    }
   ],
   "source": [
    "lis = [1, 2, 3]\n",
    "print(lis.pop())"
   ]
  },
  {
   "cell_type": "code",
   "execution_count": 46,
   "id": "1c779e49",
   "metadata": {},
   "outputs": [
    {
     "name": "stdout",
     "output_type": "stream",
     "text": [
      "range(0, 5)\n"
     ]
    }
   ],
   "source": [
    "print(range(5))"
   ]
  },
  {
   "cell_type": "code",
   "execution_count": 51,
   "id": "4026a494",
   "metadata": {},
   "outputs": [
    {
     "name": "stdout",
     "output_type": "stream",
     "text": [
      "[[1, 0], [0, 0]]\n"
     ]
    }
   ],
   "source": [
    "n = 2\n",
    "lis = [[0] * n for _ in range(n)]\n",
    "lis[0][0] = 1\n",
    "print(lis)"
   ]
  },
  {
   "cell_type": "code",
   "execution_count": 24,
   "id": "829c7063",
   "metadata": {},
   "outputs": [
    {
     "name": "stdout",
     "output_type": "stream",
     "text": [
      "[1, 3, 4]\n"
     ]
    }
   ],
   "source": [
    "numbers = [1, 2, 3, 2, 4, 2]\n",
    "value_to_remove = 2\n",
    "\n",
    "numbers = list(filter(lambda x: x != value_to_remove, numbers))\n",
    "print(numbers)  # [1, 3, 4]\n",
    "\n"
   ]
  },
  {
   "cell_type": "code",
   "execution_count": 56,
   "id": "7ef09b9a",
   "metadata": {},
   "outputs": [
    {
     "name": "stdout",
     "output_type": "stream",
     "text": [
      "1\n"
     ]
    }
   ],
   "source": [
    "array = [[]]\n",
    "print(len(array))"
   ]
  },
  {
   "cell_type": "code",
   "execution_count": null,
   "id": "f1f63b8d",
   "metadata": {},
   "outputs": [
    {
     "name": "stdout",
     "output_type": "stream",
     "text": [
      "[[False, False], [False, False]]\n",
      "[[1, -1], [1, -1]]\n"
     ]
    }
   ],
   "source": [
    "visited = [[False] * 2 for _ in range(2)] # 这种子列表的地址不相同\n",
    "print(visited)\n",
    "array = [[1, 2], [1]]\n",
    "n = len(array)\n",
    "array = [[row[0] if j == 0 else -1 for j in range(n)] for row in array]\n",
    "print(array)"
   ]
  },
  {
   "cell_type": "code",
   "execution_count": null,
   "id": "09e8c718",
   "metadata": {},
   "outputs": [
    {
     "name": "stdout",
     "output_type": "stream",
     "text": [
      "-1\n"
     ]
    }
   ],
   "source": [
    "a ,j = 2, 1\n",
    "print(a if j == 0 else -1 ) # 如果j不等于0则a就为-1否则为0"
   ]
  },
  {
   "cell_type": "code",
   "execution_count": null,
   "id": "45967f1e",
   "metadata": {},
   "outputs": [
    {
     "name": "stdout",
     "output_type": "stream",
     "text": [
      "[0, 0]\n"
     ]
    }
   ],
   "source": [
    "order = [0] * 2\n",
    "print(order) # [0, 0] 浅拷贝但是不能这样操作为[[0]] * 2其子列表的地址相同改一个则变完\n",
    " \n",
    "\n",
    "array = []\n",
    "array_1  = [[]]\n",
    "print(not array_1[0]) # True"
   ]
  },
  {
   "cell_type": "code",
   "execution_count": 19,
   "id": "b7cef881",
   "metadata": {},
   "outputs": [
    {
     "name": "stdout",
     "output_type": "stream",
     "text": [
      "[1, 3, 6, 10, 15]\n"
     ]
    }
   ],
   "source": [
    "#前缀和\n",
    "lis = [1, 2, 3, 4, 5]\n",
    "lis_add = []\n",
    "sum = 0\n",
    "for i in lis:\n",
    "    sum += i\n",
    "    lis_add.append(sum)\n",
    "print(lis_add)"
   ]
  },
  {
   "cell_type": "code",
   "execution_count": null,
   "id": "bd45323f",
   "metadata": {},
   "outputs": [
    {
     "name": "stdout",
     "output_type": "stream",
     "text": [
      "5\n",
      "毕业: 5\n",
      "['新生', 1, 2, 3, 4]\n",
      "['你好', '新生', 1, 2, 3, 4]\n"
     ]
    }
   ],
   "source": [
    "#练习\n",
    "room = [1, 2, 3, 4, 5]\n",
    "room_new = [\"新生\"]\n",
    "print(len(room))\n",
    "# print(\"毕业: %d\"%(room.pop()))\n",
    "for i in range(len(room)- 1):\n",
    "    room_new.append(room[i])\n",
    "print(\"毕业: %d\"%(room.pop()))\n",
    "print(room_new)\n",
    "    \n",
    "room_new.insert(0, \"你好\")\n",
    "print(room_new)\n"
   ]
  },
  {
   "cell_type": "markdown",
   "id": "63d8d6ca",
   "metadata": {},
   "source": [
    "## enumerate 用法\n",
    "- enumerate(iterable, start) 函数用于将一个可遍历的数据对象(如列表、元组或字符串)组合为一个索引序列，同时列出数据和数据下标，一般用在 for 循环当中。start 用于指定索引起始位置，默认为0\n",
    "- 性能优势：enumerate() 比手动使用 range(len()) 更高效\n",
    "- 内存友好：enumerate() 是惰性求值的，不会一次性创建所有索引-值对\n",
    "- 可读性好：代码更清晰，意图更明确\n",
    "\n",
    "## zip 用法\n",
    "- zip(*iterables， strict) 函数用于将多个可迭代对象（如列表、元组等）打包成一个个元组，返回由这些元组组成的迭代器。每个元组包含来自各个可迭代对象中对应位置的元素, strict参数如果设置为True，当传入的可迭代对象长度不同时会抛出ValueError异常,默认状态下为false且该参数是python3.10版本新增\n",
    "- 性能优势：zip() 是惰性求值的，不会一次性创建\n",
    "- *可以将其解压\n",
    "- zip返回的是迭代器，只能遍历一次，再次遍历为空"
   ]
  },
  {
   "cell_type": "code",
   "execution_count": null,
   "id": "ce19a3f1",
   "metadata": {},
   "outputs": [
    {
     "name": "stdout",
     "output_type": "stream",
     "text": [
      "{1: 1, 2: 2, 3: 3}\n",
      "[(1, 1), (2, 2), (3, 3)]\n",
      "{1: '小明', 2: '小杰', 3: '小刘'} [(1, '小明'), (2, '小杰'), (3, '小刘')]\n",
      "{1: '小明', 2: '小杰'} [(1, '小明'), (2, '小杰')]\n",
      "((1, '小明'), (2, '小杰'), (3, '小刘'))\n",
      "[(1, 4, 7), (2, 5, 8), (3, 6, 9)]\n",
      "第0行第0列的元素为1\n",
      "第0行第1列的元素为2\n",
      "第0行第2列的元素为3\n",
      "第1行第0列的元素为4\n",
      "第1行第1列的元素为5\n",
      "第1行第2列的元素为6\n",
      "第2行第0列的元素为7\n",
      "第2行第1列的元素为8\n",
      "第2行第2列的元素为9\n"
     ]
    }
   ],
   "source": [
    "lis = [1, 2, 3]\n",
    "lis_name_1 = [\"小明\", \"小杰\", \"小刘\"]\n",
    "lis_name_2 = [\"小明\", \"小杰\"]\n",
    "dic = {}\n",
    "for i, v in enumerate(lis, 1):\n",
    "    dic[i] = v   # 直接打印lis下表和和lis中对应的值相当于lis[i], 也可直接生成字典\n",
    "print(dic) #{1: 1, 2: 2, 3: 3} 当start为1时。\n",
    "\n",
    "enum_lis = enumerate(lis, start=1)\n",
    "print(list(enum_lis)) #[(1, 1), (2, 2), (3, 3)]\n",
    "\n",
    "# zip()函数使用\n",
    "print(dict(zip(lis, lis_name_1)), list(zip(lis, lis_name_1)))#{1: '小明', 2: '小杰', 3: '小刘'} [(1, '小明'), (2, '小杰'), (3, '小刘')]\n",
    "print(dict(zip(lis, lis_name_2)), list(zip(lis, lis_name_2))) # {1: '小明', 2: '小杰'} [(1, '小明'), (2, '小杰')]如果不相对应则将其删除\n",
    "print(tuple(zip(lis, lis_name_1)))\n",
    "# 使用zip()函数对矩阵进行转置\n",
    "matrix = [\n",
    "    [1, 2, 3],\n",
    "    [4, 5, 6],\n",
    "    [7, 8, 9]\n",
    "]\n",
    "matrix_change = list(zip(*matrix))\n",
    "print(matrix_change) #[(1, 4, 7), (2, 5, 8), (3, 6, 9)]\n",
    "# 打印元素所在行和列\n",
    "for row, value_list in enumerate(matrix):\n",
    "    # print(row, value_list)\n",
    "    for colmn, value in enumerate(value_list):\n",
    "        print(f\"第{row}行第{colmn}列的元素为{value}\")\n",
    "        \"\"\" 第0行第0列的元素为1\n",
    "        第0行第1列的元素为2\n",
    "        第0行第2列的元素为3\n",
    "        第1行第0列的元素为4\n",
    "        第1行第1列的元素为5\n",
    "        第1行第2列的元素为6\n",
    "        第2行第0列的元素为7\n",
    "        第2行第1列的元素为8\n",
    "        第2行第2列的元素为9 \"\"\"\n"
   ]
  },
  {
   "cell_type": "code",
   "execution_count": 54,
   "id": "39a8a4c7",
   "metadata": {},
   "outputs": [
    {
     "name": "stdout",
     "output_type": "stream",
     "text": [
      "{'小明': 2, '小红': 4, '小陈': 5}\n",
      "[]\n",
      "('小明', '小成', '小洋') (4, 4, 9)\n"
     ]
    }
   ],
   "source": [
    "# zip压缩\n",
    "name = [\"小明\", \"小红\", \"小陈\"]\n",
    "age = [2, 4, 5]\n",
    "zipped = zip(name, age) # 返回的是可遍历对象需要将其转换为字典或者列表\n",
    "# dict_zip = dict(zipped)\n",
    "# print(dict_zip)\n",
    "print(dict(zipped)) #zip是返回可迭代对象再次遍历会返回空 #{'小明': 2, '小红': 4, '小陈': 5}\n",
    "print(list(zipped))# 返回空[]\n",
    "#zip的解压列表数组时用*即可\n",
    "original_name, original_age = zip(*[(\"小明\", 4),(\"小成\", 4), (\"小洋\", 9)])\n",
    "print(original_name, original_age)\n",
    "\n"
   ]
  },
  {
   "cell_type": "markdown",
   "id": "bfe14ef4",
   "metadata": {},
   "source": [
    "## list.reverse()和reversed()的区别\n",
    "- list.reverse() 是列表对象的一个方法，用于原地反转列表，即直接\n",
    "修改原列表，不返回新列表\n",
    "- reversed() 是一个内置函数，接受一个可迭代对象作为参数，返回一个反转后的迭代器，不修改原对象\n",
    "- list.reverse() 直接修改原列表，返回值为 None"
   ]
  },
  {
   "cell_type": "code",
   "execution_count": 68,
   "id": "fedb5360",
   "metadata": {},
   "outputs": [
    {
     "name": "stdout",
     "output_type": "stream",
     "text": [
      "[4, 3, 2, 1]\n",
      "4\n",
      "3\n",
      "2\n",
      "1\n",
      "0\n",
      "2943679567296 [4, 3, 2, 1] 2943679558144 [1, 2, 3, 4]\n",
      "['小兰', '小明', '小红']\n"
     ]
    }
   ],
   "source": [
    "lis = [1, 2, 3, 4]\n",
    "lis.reverse()\n",
    "print(lis)\n",
    "for i in reversed(range(5)):\n",
    "    print(i)\n",
    "\n",
    "# sorted和sort()\n",
    "lis = [1, 2, 3, 4]\n",
    "dic = {\"小明\":12, \"小红\":11, \"小兰\": 10}\n",
    "lis_sorted = sorted(lis, reverse=True) \n",
    "print(id(lis_sorted), lis_sorted, id(lis), lis)#和原地址发生该变员列表不变\n",
    "dic_sorted = sorted(dic, key= lambda x:x[1]) #key参数是个函数\n",
    "print(dic_sorted)"
   ]
  },
  {
   "cell_type": "markdown",
   "id": "a7011479",
   "metadata": {},
   "source": [
    "## 列表推导式/列表生成式\n",
    "- 列表推导式是一种简洁的创建列表的方式，语法为 [expression for item in iterable if condition]，其中 expression 是生成列表元素的表达式，item 是从 iterable 中依次取出的元素，condition 是可选的过滤条件"
   ]
  },
  {
   "cell_type": "code",
   "execution_count": 77,
   "id": "930c0c5c",
   "metadata": {},
   "outputs": [
    {
     "name": "stdout",
     "output_type": "stream",
     "text": [
      "[[1, 1, 0], [1, 1], [1, 1], [1, 1], [1, 1]]\n",
      "[[0], [1], [2], [3], [4], [5], [6], [7], [8], [9]]\n",
      "[1, 4, 9, 16]\n"
     ]
    }
   ],
   "source": [
    "lis = [[1]*2 for _ in range(5)]\n",
    "lis[0].append(0)\n",
    "print(lis)\n",
    "lis_number = [[i]for i in range(10)]\n",
    "print(lis_number)\n",
    "\n",
    "#列表推导式映射\n",
    "number = [1, 2, 3, 4]\n",
    "num_squared = [x**2 for x in number]\n",
    "print(num_squared)"
   ]
  },
  {
   "cell_type": "code",
   "execution_count": null,
   "id": "90b89449",
   "metadata": {},
   "outputs": [
    {
     "name": "stdout",
     "output_type": "stream",
     "text": [
      "[2, 4]\n",
      "['HELLO', 'WORLD']\n",
      "[[1, 4, 7], [2, 5, 8], [3, 6, 9]] [(1, 4, 7), (2, 5, 8), (3, 6, 9)]\n"
     ]
    }
   ],
   "source": [
    "# 推导式筛选\n",
    "number = [1, 2, 3, 4]\n",
    "even_num = [x for x in number if x%2 == 0]\n",
    "print(even_num)\n",
    "\n",
    "words = [\"hello\", \"world\"]\n",
    "upper_w = [word.upper() for word in words]\n",
    "print(upper_w)\n",
    "\n",
    "#矩阵转置\n",
    "matrix = [(1, 2, 3), (4, 5, 6), (7, 8, 9)]\n",
    "transposed = [[row[i] for row in matrix] for i in range(3)]\n",
    "transposed_zip = list(zip(*matrix))\n",
    "print(transposed, transposed_zip) #[[1, 4, 7], [2, 5, 8], [3, 6, 9]] ,[(1, 4, 7), (2, 5, 8), (3, 6, 9)]"
   ]
  },
  {
   "cell_type": "markdown",
   "id": "5e5fac60",
   "metadata": {},
   "source": [
    "## 字典推导式\n",
    "- 字典推导式类似于列表推导式，但用于创建字典，语法为 {key_expression: value_expression for item in iterable if condition}，其中 key_expression 和 value_expression 分别生成字典的键和值"
   ]
  },
  {
   "cell_type": "code",
   "execution_count": 8,
   "id": "1e3cf9f7",
   "metadata": {},
   "outputs": [
    {
     "name": "stdout",
     "output_type": "stream",
     "text": [
      "{'letter': {'a': 'A', 'b': 'B', 'c': 'C'}, 'number': {1: '1', 2: '2', 3: '3', 4: '4'}}\n"
     ]
    }
   ],
   "source": [
    "data = {\n",
    "    \"letters\":[\"a\", \"b\", \"c\"],\n",
    "    \"numbers\":[1, 2, 3, 4]\n",
    "}\n",
    "dict_1 = {\n",
    "    \"letter\":{letter:letter.upper() for letter in data[\"letters\"]},\n",
    "    \"number\":{number:ascii(number) for number in data[\"numbers\"]}\n",
    "}\n",
    "print(dict_1)"
   ]
  },
  {
   "cell_type": "code",
   "execution_count": null,
   "id": "9f883e23",
   "metadata": {},
   "outputs": [
    {
     "name": "stdout",
     "output_type": "stream",
     "text": [
      "{'a': 1, 'b': 4, 'c': 9}\n"
     ]
    }
   ],
   "source": [
    "#将矩阵转化成字典\n",
    "\n",
    "#将元组列表转换成字典\n",
    "paris = [(\"a\", 1), (\"b\", 2), (\"c\", 3)]\n",
    "dict_paris = dict((k, v**2)for k, v in paris)\n",
    "print(dict_paris)\n"
   ]
  },
  {
   "cell_type": "code",
   "execution_count": 7,
   "id": "5f18968c",
   "metadata": {},
   "outputs": [
    {
     "name": "stdout",
     "output_type": "stream",
     "text": [
      "         *          \n",
      "        ***         \n",
      "       *****        \n",
      "      *******       \n",
      "       *****        \n",
      "        ***         \n",
      "         *          \n"
     ]
    }
   ],
   "source": [
    "for i in range(1, 6, 2):\n",
    "    corn = \"*\"*i\n",
    "    # corn = \"*\"*i\n",
    "    print(corn.center(20,\" \"))\n",
    "for j in range(7, 0, -2):\n",
    "    corn = \"*\"*j\n",
    "    print(corn.center(20,\" \"))\n",
    "# for i in range(6, 1, -2):\n",
    "#     print(i)\n",
    "    \n",
    "        "
   ]
  },
  {
   "cell_type": "code",
   "execution_count": null,
   "id": "895bc9a5",
   "metadata": {},
   "outputs": [
    {
     "name": "stdout",
     "output_type": "stream",
     "text": [
      "[1, 2, 3, 4, 5]\n"
     ]
    }
   ],
   "source": [
    "                \n",
    "    "
   ]
  },
  {
   "cell_type": "code",
   "execution_count": null,
   "id": "9e292b6c",
   "metadata": {},
   "outputs": [
    {
     "name": "stdout",
     "output_type": "stream",
     "text": [
      "0 None\n"
     ]
    }
   ],
   "source": [
    "#python链表定义\n",
    "class ListNode:\n",
    "    def __init__(self, val=0, next=None):\n",
    "        self.val = val\n",
    "        self.next = next\n",
    "class MyLinkedList:\n",
    "    def __init__(self):\n",
    "        self.dummy_head = ListNode()\n",
    "        self.size = 0\n",
    "    \n",
    "    def get(self, index):\n",
    "        if index <0 or index >= self.size:\n",
    "            return -1\n",
    "        current = self.dummy_head.next\n",
    "        for i in range(index):\n",
    "            current = current.next\n",
    "        return current.val\n",
    "    \n",
    "    def addAtHead(self, val):\n",
    "        current = self.dummy_head.next\n",
    "        current = ListNode(val, current)\n",
    "        self.size += 1\n",
    "\n",
    "    def addAtTail(self, val):\n",
    "        pass\n",
    "\n",
    "\n",
    "\n"
   ]
  },
  {
   "cell_type": "code",
   "execution_count": 16,
   "id": "d63823a1",
   "metadata": {},
   "outputs": [
    {
     "name": "stdout",
     "output_type": "stream",
     "text": [
      "1*1= 1  \n",
      "2*1= 2  2*2= 4  \n",
      "3*1= 3  3*2= 6  3*3= 9  \n",
      "4*1= 4  4*2= 8  4*3=12  4*4=16  \n",
      "5*1= 5  5*2=10  5*3=15  5*4=20  5*5=25  \n",
      "6*1= 6  6*2=12  6*3=18  6*4=24  6*5=30  6*6=36  \n",
      "7*1= 7  7*2=14  7*3=21  7*4=28  7*5=35  7*6=42  7*7=49  \n",
      "8*1= 8  8*2=16  8*3=24  8*4=32  8*5=40  8*6=48  8*7=56  8*8=64  \n",
      "9*1= 9  9*2=18  9*3=27  9*4=36  9*5=45  9*6=54  9*7=63  9*8=72  9*9=81  \n"
     ]
    }
   ],
   "source": [
    "for i in range(1, 10):\n",
    "    for j in range(1, 10):\n",
    "        if i >= j:\n",
    "            print(f\"{i}*{j}={j*i:2}\", end=\"  \")\n",
    "    print()"
   ]
  },
  {
   "cell_type": "code",
   "execution_count": 43,
   "id": "c0ba316f",
   "metadata": {},
   "outputs": [
    {
     "name": "stdout",
     "output_type": "stream",
     "text": [
      "[4, 5, 6, 6, 7]\n"
     ]
    }
   ],
   "source": [
    "lis = [7, 6, 5, 6, 4]\n",
    "for _ in range(len(lis)):\n",
    "\n",
    "    for i in range(len(lis)- 1):\n",
    "        if lis[i] >= lis[i + 1]:\n",
    "            temp = lis[i]\n",
    "            lis[i] = lis[i+1]\n",
    "            lis[i+1] = temp\n",
    "            tag = True\n",
    "print(lis)\n",
    "\n",
    "\n",
    "\n",
    "\n"
   ]
  },
  {
   "cell_type": "code",
   "execution_count": null,
   "id": "922c4d76",
   "metadata": {},
   "outputs": [
    {
     "name": "stdout",
     "output_type": "stream",
     "text": [
      "('小明', 10)\n",
      "name:Alice\n",
      "age:25\n",
      "city:New York\n"
     ]
    }
   ],
   "source": [
    "# *形参时返回元组\n",
    "def function(*args):\n",
    "    return args\n",
    "\n",
    "print(function(\"小明\", 10))\n",
    "\n",
    "\n",
    "#**形参返回字典\n",
    "def function(**args):\n",
    "    for key, value in args.items():\n",
    "        print(f\"{key}:{value}\")\n",
    "\n",
    "\n",
    "function(name=\"Alice\", age=25, city=\"New York\")\n",
    "\n"
   ]
  },
  {
   "cell_type": "code",
   "execution_count": 9,
   "id": "42684022",
   "metadata": {},
   "outputs": [
    {
     "name": "stdout",
     "output_type": "stream",
     "text": [
      "N/A\n"
     ]
    }
   ],
   "source": [
    "def function(**kwargs):\n",
    "    get_key = kwargs.get(\"job\",\"N/A\") #N/A为默认值\n",
    "    return get_key\n",
    "print(function())"
   ]
  },
  {
   "cell_type": "markdown",
   "id": "b9475176",
   "metadata": {},
   "source": [
    "##### 装饰器"
   ]
  },
  {
   "cell_type": "code",
   "execution_count": 21,
   "id": "7f787a74",
   "metadata": {},
   "outputs": [
    {
     "name": "stdout",
     "output_type": "stream",
     "text": [
      "调用calculate携带参数：args:(5, 3), kwargs:{'operation': 'add'}\n",
      "8\n",
      "wrapper\n"
     ]
    }
   ],
   "source": [
    "def log_argument(func):\n",
    "    def wrapper(*args, **kwargs):\n",
    "        print(f\"调用{func.__name__}携带参数：args:{args}, kwargs:{kwargs}\")\n",
    "        return func(*args, **kwargs)\n",
    "    \n",
    "    return wrapper\n",
    "\n",
    "@log_argument\n",
    "\n",
    "def calculate(a, b, operation=\"add\"):\n",
    "    if operation == \"add\":\n",
    "        return a + b\n",
    "    else:\n",
    "        return a - b\n",
    "print(calculate(5, 3, operation=\"add\"))\n",
    "print(calculate.__name__) # 输出wrapper本应输出calculate\n",
    "\n"
   ]
  },
  {
   "cell_type": "code",
   "execution_count": null,
   "id": "67454ad7",
   "metadata": {},
   "outputs": [
    {
     "name": "stdout",
     "output_type": "stream",
     "text": [
      "调用calculate携带参数：args:(5, 3), kwargs:{'operation': 'add'}\n",
      "8\n",
      "calculate\n"
     ]
    }
   ],
   "source": [
    "from functools import wraps\n",
    "def log_argument(func):\n",
    "    @wraps(func) # 注意装饰器里面位func\n",
    "    def wrapper(*args, **kwargs):\n",
    "        print(f\"调用{func.__name__}携带参数：args:{args}, kwargs:{kwargs}\")\n",
    "        return func(*args, **kwargs)\n",
    "    \n",
    "    return wrapper\n",
    "\n",
    "@log_argument\n",
    "\n",
    "def calculate(a, b, operation=\"add\"):\n",
    "    if operation == \"add\":\n",
    "        return a + b\n",
    "    else:\n",
    "        return a - b\n",
    "print(calculate(5, 3, operation=\"add\"))\n",
    "print(calculate.__name__) # 添加wraps装饰器便可输出calculate"
   ]
  },
  {
   "cell_type": "markdown",
   "id": "566ecd4c",
   "metadata": {},
   "source": [
    "### *args 和 **kwargs\n",
    "- 混合使用*必须位于**前面\n",
    "- *args 用于传递可变数量的位置参数，接收一个元组\n",
    "- **kwargs 用于传递可变数量的关键字参数，接收一个字典\n",
    "- 解包\n",
    "  - 在函数调用时，可以使用 * 和 ** 来解包参数，将列表或元组解包为位置参数，将字典解包为关键字参数\n",
    "  - 在函数定义时，使用 *args 和 **kwargs 来接收可变数量的参数"
   ]
  },
  {
   "cell_type": "code",
   "execution_count": null,
   "id": "6d70187f",
   "metadata": {},
   "outputs": [
    {
     "name": "stdout",
     "output_type": "stream",
     "text": [
      "1 2 3\n",
      "小明:10\n"
     ]
    }
   ],
   "source": [
    "#set和dict的解包\n",
    "set_data = (1, 2, 3, )\n",
    "\n",
    "print(*set_data) #1 2 3\n",
    "\n",
    "def fun(name, age):\n",
    "    print(f\"{name}:{age}\")\n",
    "dict_data = {\"name\":\"小明\", \"age\":10}\n",
    "fun(**dict_data)"
   ]
  },
  {
   "cell_type": "code",
   "execution_count": 18,
   "id": "c6c903d0",
   "metadata": {},
   "outputs": [
    {
     "name": "stdout",
     "output_type": "stream",
     "text": [
      "{'小明': 10, '小站': 10}\n"
     ]
    }
   ],
   "source": [
    "dict_1 = {\"小明\":10}\n",
    "dict_2 = {\"小站\":10}\n",
    "dict_1.update(dict_2)\n",
    "print(dict_1)"
   ]
  },
  {
   "cell_type": "code",
   "execution_count": 26,
   "id": "5f118f01",
   "metadata": {},
   "outputs": [
    {
     "name": "stdout",
     "output_type": "stream",
     "text": [
      "24\n"
     ]
    }
   ],
   "source": [
    "def function(n):\n",
    "    if n < 2:\n",
    "        return 1\n",
    "    return n*function(n-1)\n",
    "print(function(4))"
   ]
  },
  {
   "cell_type": "markdown",
   "id": "9d395cd3",
   "metadata": {},
   "source": [
    "### 异常捕获\n",
    "- try-except 语句用于捕获和处理异常，基本语法为：\n",
    "  ```python\n",
    "  try:\n",
    "      # 可能引发异常的代码\n",
    "  except ExceptionType as e:\n",
    "      # 处理异常的代码\n",
    "  ```\n",
    "- 可以使用多个 except 块来处理不同类型的异常\n",
    "- 可以使用 else 块在没有异常时执行特定代码  \n",
    "- finally 块用于无论是否发生异常都要执行的代码，通常用于资源清理\n"
   ]
  },
  {
   "cell_type": "code",
   "execution_count": null,
   "id": "3e47f030",
   "metadata": {},
   "outputs": [
    {
     "name": "stdout",
     "output_type": "stream",
     "text": [
      "分子不能为0\n"
     ]
    }
   ],
   "source": [
    "def function(a, b, ):\n",
    "    sum = a/b\n",
    "    return sum\n",
    "\n",
    "try:\n",
    "    print(function(2, 0))\n",
    " \n",
    "except ZeroDivisionError:\n",
    "    print(f\"分子不能为0\")\n",
    "except KeyboardInterrupt as e:\n",
    "    print(f\"字典键不存在{e}\")\n",
    "except ValueError:\n",
    "    print(\"类型错误\")\n",
    "except IndentationError:\n",
    "    print(\"索引越界\")\n",
    "except FileExistsError:\n",
    "    print(\"文件不存在\")\n",
    "except PermissionError:\n",
    "    print(\"权限不够\")\n",
    "else:\n",
    "    raise \"其他异常\"\n",
    "# finally: 无论对错都会执行\n",
    "#     print(num)\n"
   ]
  },
  {
   "cell_type": "markdown",
   "id": "1977b9f1",
   "metadata": {},
   "source": [
    "## map 和 filter\n",
    "- map(function, iterable, ...) 函数用于将指定函数作用于给定可迭代对象的每个元素，返回一个迭代器\n",
    "- filter(function, iterable) 函数用于过滤可迭代对象中的元素，返回一个迭代器，包含所有使函数返回 True 的元素\n",
    "- 性能优势：map() 和 filter() 都是惰性求值的，不会一次性创建所有结果\n"
   ]
  },
  {
   "cell_type": "code",
   "execution_count": 13,
   "id": "c25da1aa",
   "metadata": {},
   "outputs": [
    {
     "name": "stdout",
     "output_type": "stream",
     "text": [
      "{'celsius': 15, 'fahrenheit': 59.0, 'kelvin': 288.1, 'status': 'cold'}\n",
      "{'celsius': 22, 'fahrenheit': 71.6, 'kelvin': 295.1, 'status': 'warm'}\n",
      "{'celsius': 28, 'fahrenheit': 82.4, 'kelvin': 301.1, 'status': 'warm'}\n",
      "{'celsius': 36, 'fahrenheit': 96.8, 'kelvin': 309.1, 'status': 'hot'}\n",
      "{'celsius': 49, 'fahrenheit': 120.2, 'kelvin': 322.1, 'status': 'hot'}\n"
     ]
    }
   ],
   "source": [
    "# 将摄氏度转换为华氏温度，和开尔文并判断温度状态\n",
    "def temperature(celsius):\n",
    "    fahrenheit = (celsius * 9/5) + 32\n",
    "    kelvin = celsius + 273.15\n",
    "    return {\n",
    "        \"celsius\": celsius,\n",
    "        \"fahrenheit\": round(fahrenheit, 1),\n",
    "        \"kelvin\": round(kelvin, 1),\n",
    "        \"status\": \"hot\" if celsius > 30 else \"warm\" if celsius > 20 else \"cold\"\n",
    "\n",
    "    }\n",
    "temps = [15, 22, 28, 36, 49]\n",
    "process_temp = map(temperature, temps)\n",
    "for temp_info in process_temp:\n",
    "    print(temp_info)"
   ]
  },
  {
   "cell_type": "code",
   "execution_count": 17,
   "id": "4d5bf300",
   "metadata": {},
   "outputs": [
    {
     "name": "stdout",
     "output_type": "stream",
     "text": [
      "{'age': None, 'grade': 100, 'courses': 'english'}\n"
     ]
    }
   ],
   "source": [
    "#数据校验和博禄\n",
    "def validate_student_data(item):\n",
    "    \"\"\"验证学生数据\"\"\"\n",
    "    key, value = item\n",
    "    if key == \"age\" and not (18 <= value <= 30):\n",
    "        return (key, None)\n",
    "    elif key == \"grade\" and not (0 <= value <= 100):\n",
    "        return (key, None)  #如果是false则返回None否则返回（key,None）\n",
    "    elif key == \"courses\":\n",
    "        #过滤无效课程名\n",
    "        valid_course = [course for course in value if isinstance(course, str) and course.strip()]\n",
    "        return (key, \"\".join(valid_course) or None)\n",
    "    return item\n",
    "\n",
    "student = {\n",
    "    \"age\": 10,\n",
    "    \"grade\":100,\n",
    "    \"courses\": \"english\"\n",
    "}\n",
    "validated = map(validate_student_data, student.items())\n",
    "print(dict(validated))"
   ]
  },
  {
   "cell_type": "code",
   "execution_count": 20,
   "id": "ff2cf9ea",
   "metadata": {},
   "outputs": [
    {
     "name": "stdout",
     "output_type": "stream",
     "text": [
      "{'user': {'name': 'Alice', 'detail': {'age': 30, 'address': {'street': '123, st', 'city': '成都'}}}, 'preference': ['DARK_MODE', <map object at 0x00000201CEB2C588>]}\n"
     ]
    }
   ],
   "source": [
    "def process_nested_dict_item(item):\n",
    "    \"\"\"处理字典嵌套\"\"\"\n",
    "    key, value = item\n",
    "    if isinstance(value, str):\n",
    "        #递归处理嵌套字典\n",
    "        processed = map(process_nested_dict_item, value.items())\n",
    "        return (key, dict(processed))\n",
    "    elif isinstance(value, list):\n",
    "        #处理字典列表\n",
    "        processed_list = [map(process_nested_dict_item, v.items()) if isinstance(v, dict) else v.upper() if isinstance(v, str) else v for v in value]\n",
    "        return (key, list(processed_list))\n",
    "    else:\n",
    "        return (key, str(value).upper() if isinstance(value, str) else value)\n",
    "\n",
    "\n",
    "\n",
    "\n",
    "nested_data = {\n",
    "    'user':{\n",
    "    \"name\": \"Alice\",\n",
    "    'detail': {\n",
    "        'age':30,\n",
    "        'address':{\n",
    "            'street': '123, st',\n",
    "            'city': \"成都\"\n",
    "        }\n",
    "    }\n",
    "    },\n",
    "    'preference':['dark_mode', {'font-size':12, 'theme':'orange'}]\n",
    "}\n",
    "\n",
    "processed = map(process_nested_dict_item, nested_data.items())\n",
    "print(dict(processed))"
   ]
  },
  {
   "cell_type": "markdown",
   "id": "02ed3517",
   "metadata": {},
   "source": [
    "## yeild 和生成器\n",
    "- yield 关键字用于定义生成器函数，生成器函数在调用时不会立即执行，而是返回一个生成器对象，生成器对象可以逐步迭代生成值\n",
    "- 生成器是一种特殊的迭代器，使用 yield 关键字来生成值，每次调用生成器的 __next__() 方法时，函数会从上次暂停的地方继续执行，直到遇到下一个 yield 语句\n",
    "- 优点\n",
    "  - 节省内存：生成器按需生成值，不需要一次性将所有值存储在内存中\n",
    "  - 提高性能：生成器可以处理大型数据集，避免了不必要的计算和内存开销\n",
    "  - 简化代码：使用生成器可以使代码更简洁、更易读\n",
    "#### yield和return的区别\n",
    "- return 用于从函数返回一个值，并终止函数的执行\n",
    "- yield 用于从生成器函数生成一个值，并暂停函数的执行，允许后续继续执行\n",
    "- return 只能返回一次，而 yield 可以多次生成值\n",
    "- return 返回一个具体的值，而 yield 返回一个生成器对象\n",
    "- yield 可以与循环结合使用，逐步生成多个值\n",
    "- return 通常用于普通函数，而 yield 用于生成器函数处理大数据集，无限序列，惰性求值，协程等\n"
   ]
  },
  {
   "cell_type": "code",
   "execution_count": 3,
   "id": "97fecbb3",
   "metadata": {},
   "outputs": [
    {
     "name": "stdout",
     "output_type": "stream",
     "text": [
      "1\n"
     ]
    }
   ],
   "source": [
    "def function(n):\n",
    "        yield 1\n",
    "        yield 2\n",
    "print(next(function(2)))"
   ]
  },
  {
   "cell_type": "code",
   "execution_count": 1,
   "id": "303aed27",
   "metadata": {},
   "outputs": [
    {
     "name": "stdout",
     "output_type": "stream",
     "text": [
      "10\n"
     ]
    }
   ],
   "source": [
    "def accumulator():\n",
    "    total = 0\n",
    "    while True:\n",
    "        value = yield total\n",
    "        if value is None:\n",
    "            break\n",
    "        total += value\n",
    "acc = accumulator()\n",
    "next(acc) #启动迭代器\n",
    "print(acc.send(10))"
   ]
  },
  {
   "cell_type": "code",
   "execution_count": null,
   "id": "4a14b5ad",
   "metadata": {},
   "outputs": [
    {
     "name": "stdout",
     "output_type": "stream",
     "text": [
      "{1: ['xiao'], 2: ['小洋']}\n"
     ]
    }
   ],
   "source": [
    "dic = {1:[\"小明\", \"xiao\"], 2:[\"小洋\"]}\n",
    "dic[1][0] = \"Name\"\n",
    "dic[1].remove(\"Name\") #删除字典列表中元素\n",
    "print(dic)\n"
   ]
  },
  {
   "cell_type": "code",
   "execution_count": null,
   "id": "951a4c21",
   "metadata": {},
   "outputs": [
    {
     "name": "stdout",
     "output_type": "stream",
     "text": [
      "0\n",
      "4\n",
      "16\n",
      "36\n",
      "64\n"
     ]
    }
   ],
   "source": [
    "#管道\n",
    "def even(numbers):\n",
    "    for n in numbers:\n",
    "        if n % 2 == 0:\n",
    "            yield n #yied节省空间不需要存储直接输出\n",
    "def squre(numbers):\n",
    "    for i in numbers:\n",
    "        yield i ** 2\n",
    "result = squre(even(range(10)))\n",
    "\n",
    "for i in result:\n",
    "    print(i)"
   ]
  },
  {
   "cell_type": "markdown",
   "id": "830b8575",
   "metadata": {},
   "source": [
    "协程和异步编程:\n",
    "yeild可以实现写成，允许任务在等待I/O完成时让出控制台，实现非堵塞并发执行，在python中yeild可以与async/await关键字使用"
   ]
  },
  {
   "cell_type": "code",
   "execution_count": null,
   "id": "5bb7875a",
   "metadata": {},
   "outputs": [
    {
     "ename": "RuntimeError",
     "evalue": "asyncio.run() cannot be called from a running event loop",
     "output_type": "error",
     "traceback": [
      "\u001b[1;31m---------------------------------------------------------------------------\u001b[0m",
      "\u001b[1;31mRuntimeError\u001b[0m                              Traceback (most recent call last)",
      "\u001b[1;32m~\\AppData\\Local\\Temp\\ipykernel_8452\\1581054479.py\u001b[0m in \u001b[0;36m<module>\u001b[1;34m\u001b[0m\n\u001b[0;32m     10\u001b[0m     \u001b[0masync_generator\u001b[0m\u001b[1;33m(\u001b[0m\u001b[1;33m)\u001b[0m\u001b[1;33m\u001b[0m\u001b[1;33m\u001b[0m\u001b[0m\n\u001b[0;32m     11\u001b[0m     \u001b[0mprint\u001b[0m\u001b[1;33m(\u001b[0m\u001b[0mitem\u001b[0m\u001b[1;33m)\u001b[0m\u001b[1;33m\u001b[0m\u001b[1;33m\u001b[0m\u001b[0m\n\u001b[1;32m---> 12\u001b[1;33m \u001b[0masyncio\u001b[0m\u001b[1;33m.\u001b[0m\u001b[0mrun\u001b[0m\u001b[1;33m(\u001b[0m\u001b[0mmain\u001b[0m\u001b[1;33m(\u001b[0m\u001b[1;33m)\u001b[0m\u001b[1;33m)\u001b[0m\u001b[1;33m\u001b[0m\u001b[1;33m\u001b[0m\u001b[0m\n\u001b[0m",
      "\u001b[1;32md:\\Users\\25711\\anaconda3\\envs\\syc\\lib\\asyncio\\runners.py\u001b[0m in \u001b[0;36mrun\u001b[1;34m(main, debug)\u001b[0m\n\u001b[0;32m     32\u001b[0m     \u001b[1;32mif\u001b[0m \u001b[0mevents\u001b[0m\u001b[1;33m.\u001b[0m\u001b[0m_get_running_loop\u001b[0m\u001b[1;33m(\u001b[0m\u001b[1;33m)\u001b[0m \u001b[1;32mis\u001b[0m \u001b[1;32mnot\u001b[0m \u001b[1;32mNone\u001b[0m\u001b[1;33m:\u001b[0m\u001b[1;33m\u001b[0m\u001b[1;33m\u001b[0m\u001b[0m\n\u001b[0;32m     33\u001b[0m         raise RuntimeError(\n\u001b[1;32m---> 34\u001b[1;33m             \"asyncio.run() cannot be called from a running event loop\")\n\u001b[0m\u001b[0;32m     35\u001b[0m \u001b[1;33m\u001b[0m\u001b[0m\n\u001b[0;32m     36\u001b[0m     \u001b[1;32mif\u001b[0m \u001b[1;32mnot\u001b[0m \u001b[0mcoroutines\u001b[0m\u001b[1;33m.\u001b[0m\u001b[0miscoroutine\u001b[0m\u001b[1;33m(\u001b[0m\u001b[0mmain\u001b[0m\u001b[1;33m)\u001b[0m\u001b[1;33m:\u001b[0m\u001b[1;33m\u001b[0m\u001b[1;33m\u001b[0m\u001b[0m\n",
      "\u001b[1;31mRuntimeError\u001b[0m: asyncio.run() cannot be called from a running event loop"
     ]
    }
   ],
   "source": [
    "# jupter内不能运行一下代码\n",
    "import asyncio\n",
    "\n",
    "async def async_generator():\n",
    "    await asyncio.sleep(1)\n",
    "    yield \"hello\"\n",
    "    await asyncio.sleep(2)\n",
    "    yield \"world\"\n",
    "\n",
    "async def main():\n",
    "    async for item in async_generator():\n",
    "            print(item)\n",
    "asyncio.run(main()) \n",
    "\"\"\" 输出\n",
    "        hello\n",
    "        world\n",
    "          \n",
    "\"\"\""
   ]
  },
  {
   "cell_type": "markdown",
   "id": "d0ac69e3",
   "metadata": {},
   "source": [
    "### 函数与并发编程\n",
    "python并发编程有三种形式：多进程，多线程，多协程编程\n",
    "- 多进程：通过multiprocessing模块实现，适用于CPU密集型任务，每个进程有独立的内存空间，开销较大\n",
    "- 多线程：通过threading模块实现，适用于I/O密集型任务，线程间共享内存空间，但受GIL限制，无法实现真正的并行\n",
    "- 多协程：通过asyncio模块实现，适用于大量I/O操作的任务，协程在单线程内切换任务，开销小，效率高\n",
    "\n"
   ]
  },
  {
   "cell_type": "code",
   "execution_count": 11,
   "id": "692af65d",
   "metadata": {},
   "outputs": [
    {
     "name": "stdout",
     "output_type": "stream",
     "text": [
      "cpu内核数量 32\n"
     ]
    }
   ],
   "source": [
    "from multiprocessing import cpu_count\n",
    "print(\"cpu内核数量 %s\" % (cpu_count()))"
   ]
  },
  {
   "cell_type": "code",
   "execution_count": null,
   "id": "92c1feae",
   "metadata": {},
   "outputs": [],
   "source": [
    "#多进程, 在jupter下运行不出结果\n",
    "import multiprocessing, time\n",
    "def worker(deplay, count):\n",
    "    for num in range(count):\n",
    "        print(num, multiprocessing.current_process().pid, multiprocessing.current_process().name) #输出进程信息\n",
    "        #pid获取进程id， name获取进程名称， \n",
    "\n",
    "        time.sleep(deplay) #延迟, 休眠状态类似电脑休眠\n",
    "\n",
    "def main():\n",
    "    for item in range(3):  #理解为创建三个进程\n",
    "        process = multiprocessing.Process(target=worker, args=(1, 10), name=\"AI-进程%s\" % item)\n",
    "        #group：分组定义， target：进程处理对象， name： 进程名成， args：进程处理对象所需的执行参数，kwargs：调用字典对象， daemon:\n",
    "        \n",
    "        process.start()  #进程启动，原生函数start()方法，该方法具备启动线程操作\n",
    "if __name__ == \"__main__\":\n",
    "    main()"
   ]
  },
  {
   "cell_type": "code",
   "execution_count": null,
   "id": "8be9095c",
   "metadata": {},
   "outputs": [],
   "source": [
    "#多进程, 在jupter下运行不出结果\n",
    "import multiprocessing, time\n",
    "class MyProcess(multiprocessing.Process):\n",
    "    def __init__(self, name, deplay, count):\n",
    "        super().__init__(name=name)\n",
    "        self.__delay = deplay\n",
    "        self.__count = count\n",
    "    def run(self):\n",
    "        for num in range(self.__count):\n",
    "            print(\"【%s】进程id: %s, 进程名称：%s\" %(num, multiprocessing.current_process().pid, multiprocessing.current_process().name))\n",
    "\n",
    "            time.sleep(self.__delay)\n",
    "def main():\n",
    "    for item in range(3):\n",
    "        process = MyProcess(name=\"AI-进程-%s\" % item, deplay=1, count=10)\n",
    "        process.start()\n",
    "\n",
    "if __name__ == \"__main__\":\n",
    "    main()"
   ]
  },
  {
   "cell_type": "markdown",
   "id": "853d1b83",
   "metadata": {},
   "source": [
    "### 进程控制\n"
   ]
  },
  {
   "cell_type": "code",
   "execution_count": null,
   "id": "57329e57",
   "metadata": {},
   "outputs": [],
   "source": [
    "import multiprocessing, time\n",
    "\n",
    "def send(msg):\n",
    "    time.sleep(5) #休眠五毫秒\n",
    "    print(\"【%s】进程id: %s, 进程名称：%s\" %(num, multiprocessing.current_process().pid, multiprocessing.current_process().name, msg)) #进程信息\n",
    "\n",
    "def main():\n",
    "    process = multiprocessing.Process(target=send, name=\"发送进程\", args=(\"www.com\",))\n",
    "    process.start()\n",
    "    process.join()\n",
    "    print(\"【%s】进程id: %s, 进程名称：%s, 消息发送完成...............\" %(num, multiprocessing.current_process().pid, multiprocessing.current_process().name,))\n",
    "if __name__ == \"__main__\":\n",
    "    main()"
   ]
  },
  {
   "cell_type": "code",
   "execution_count": 37,
   "id": "c8913fe7",
   "metadata": {},
   "outputs": [
    {
     "name": "stdout",
     "output_type": "stream",
     "text": [
      "change_num()中的num为: 30\n",
      "change_num()中的num为: 100\n",
      "change_num()中的num为: 20\n",
      "20\n",
      "change_num()中的num为: 20\n"
     ]
    }
   ],
   "source": [
    "num = 100\n",
    "def change_num():\n",
    "    num = 30\n",
    "    print(f\"change_num()中的num为: {num}\")\n",
    "change_num()\n",
    "\n",
    "num = 100\n",
    "def change_num():\n",
    "    global num\n",
    "    print(f\"change_num()中的num为: {num}\")\n",
    "change_num()\n",
    "\n",
    "# num = 100\n",
    "def change_num():\n",
    "    global num\n",
    "    num = 20\n",
    "    print(f\"change_num()中的num为: {num}\")\n",
    "change_num()\n",
    "print(num)\n",
    "def change_num():\n",
    "    # global num\n",
    "    num_1 = 20\n",
    "    print(f\"change_num()中的num为: {num_1}\")\n",
    "change_num()\n",
    "# print(num_1)\n"
   ]
  },
  {
   "cell_type": "markdown",
   "id": "217ccef5",
   "metadata": {},
   "source": [
    "### 闭包\n",
    "- 闭包是指在一个函数内部定义另一个函数，内部函数可以访问外部函数的变量，即使外部函数已经返回\n",
    "- 闭包的作用\n",
    "    - 数据封装：闭包可以将数据和操作数据的函数封装在一起，防止外部直接访问和修改\n",
    "    - 延迟计算：闭包可以延迟计算，只有在需要时才执行内部函数\n",
    "    - 状态保持：闭包可以保持状态，内部函数可以记住外部函数的变量值\n",
    "- 闭包的实现\n",
    "    - 在外部函数中定义内部函数\n",
    "    - 内部函数引用外部函数的变量\n",
    "    - 外部函数返回内部函数对象\n"
   ]
  },
  {
   "cell_type": "code",
   "execution_count": null,
   "id": "3a80e4cf",
   "metadata": {},
   "outputs": [
    {
     "name": "stdout",
     "output_type": "stream",
     "text": [
      "5\n",
      "4\n",
      "n1为10\n",
      "<function outer_add.<locals>.inner_add at 0x0000022FC26645E8>\n",
      "n2为20\n",
      "加法计算结果为 30\n"
     ]
    }
   ],
   "source": [
    "def line_cof(a, b): #外部函数\n",
    "    def line(x):    #内部函数\n",
    "        print(f\"{x}\") #5\n",
    "        return a*a + b\n",
    "    return line\n",
    "line_one = line_cof(1, 3)\n",
    "line_two = line_cof(4, 5)\n",
    "\n",
    "print(line_one(5)) #4\n",
    "\n",
    "\n",
    "def outer_add(n1):\n",
    "    def inner_add(n2):\n",
    "        print(f\"n2为{n2}\") #n2为20\n",
    "        return n1 + n2\n",
    "    print(f\"n1为{n1}\") #n1为10\n",
    "    return inner_add\n",
    "oa = outer_add(10)\n",
    "print(oa) #<function outer_add.<locals>.inner_add at 0x00000203FDCF24C8>\n",
    "print(f\"加法计算结果为 {oa(20)}\") #加法计算结果为 30"
   ]
  },
  {
   "cell_type": "code",
   "execution_count": 17,
   "id": "2833fa0e",
   "metadata": {},
   "outputs": [
    {
     "name": "stdout",
     "output_type": "stream",
     "text": [
      "1:阶段学习\n",
      "2:河南师范大学\n"
     ]
    }
   ],
   "source": [
    "def print_data(count):\n",
    "    def out(data):\n",
    "        nonlocal count #修改内外部的函数变量\n",
    "        count += 1\n",
    "        return f\"{count}:{data}\"\n",
    "    return out\n",
    "oa = print_data(0)\n",
    "print(oa(\"阶段学习\")) #1:阶段学习\n",
    "print(oa(\"河南师范大学\")) #2:河南师范大学"
   ]
  },
  {
   "cell_type": "markdown",
   "id": "834783a2",
   "metadata": {},
   "source": [
    "## lambda表达式\n",
    "- lambda表达式是一种简洁的定义匿名函数的方式，语法为 lambda 参数: 表达式，其中参数可以有多个，表达式只能有一个\n",
    "- lambda表达式常用于需要一个简单函数作为参数的场景，如排序、过滤、映射等\n",
    "- lambda表达式的优点\n",
    "  - 简洁：代码更简洁，适合定义简单函数\n",
    "  - 灵活：可以作为参数传递给其他函数\n",
    "  - 可读性：在某些情况下，lambda表达式可以提高代码的可读性\n",
    "  "
   ]
  },
  {
   "cell_type": "code",
   "execution_count": null,
   "id": "98cb0236",
   "metadata": {},
   "outputs": [
    {
     "name": "stdout",
     "output_type": "stream",
     "text": [
      "3\n",
      "hello\n",
      "110\n"
     ]
    }
   ],
   "source": [
    "sum = lambda x, y: x+y\n",
    "print(sum(1, 2))\n",
    "\n",
    "add = lambda :print(\"hello\")\n",
    "add()\n",
    "\n",
    "#闭包和lambda\n",
    "def add(n1):\n",
    "    return lambda n2:n1 + n2\n",
    "openr = add(10) #n1 = 10 n2为100\n",
    "print(openr(100))"
   ]
  },
  {
   "cell_type": "markdown",
   "id": "cd6245a0",
   "metadata": {},
   "source": [
    "## 装饰器\n",
    "- 装饰器是一种用于扩展或修改函数行为的设计模式，通常用于在不修改函数代码的情况下添加功能\n",
    "- 装饰器的基本语法\n",
    "  ```python\n",
    "  def decorator(func):\n",
    "      def wrapper(*args, **kwargs):\n",
    "          # 在调用原函数前添加功能\n",
    "          result = func(*args, **kwargs)\n",
    "          # 在调用原函数后添加功能\n",
    "          return result\n",
    "      return wrapper\n",
    "\n",
    "  @decorator\n",
    "  def original_function():\n",
    "      pass\n",
    "  ```\n",
    "- 装饰器的应用场景\n",
    "  - 日志记录：记录函数调用信息\n",
    "    - 权限验证：检查用户权限\n",
    "    - 缓存：缓存函数结果以提高性能\n",
    "    - 性能监控：测量函数执行时间\n"
   ]
  },
  {
   "cell_type": "code",
   "execution_count": null,
   "id": "1a140254",
   "metadata": {},
   "outputs": [
    {
     "name": "stdout",
     "output_type": "stream",
     "text": [
      "正在装饰\n",
      "正在检验权限\n",
      "test\n"
     ]
    }
   ],
   "source": [
    "def wrapper(func):\n",
    "    print(\"正在装饰\")\n",
    "    def inner():\n",
    "        print(\"正在检验权限\")\n",
    "        func()\n",
    "    return inner\n",
    "@wrapper\n",
    "def test():\n",
    "    print(\"test\")\n",
    "test()\n"
   ]
  },
  {
   "cell_type": "code",
   "execution_count": 47,
   "id": "c3c4f672",
   "metadata": {},
   "outputs": [
    {
     "name": "stdout",
     "output_type": "stream",
     "text": [
      "......test........\n",
      "........正在验证1.........\n",
      "+++++++++++++++++++++++++++++++++++\n",
      "........正在装饰二.........\n",
      "......test........\n"
     ]
    }
   ],
   "source": [
    "def wrapper_one(func):\n",
    "    # print(\"正在装饰\")\n",
    "    def inner():\n",
    "       \n",
    "        func() # 要调用外层函数的形参调用的是test操作\n",
    "        print(\"........正在验证1.........\")\n",
    "    return inner\n",
    "\n",
    "def wrapper_two(func):\n",
    "    def inner():\n",
    "        print(\"........正在装饰二.........\")\n",
    "        func()\n",
    "    return inner\n",
    "@wrapper_one\n",
    "def test():\n",
    "    print(\"......test........\")\n",
    "test()\n",
    "print(\"+++++++++++++++++++++++++++++++++++\")\n",
    "@wrapper_two\n",
    "def test():\n",
    "    print(\"......test........\")\n",
    "test()"
   ]
  },
  {
   "cell_type": "code",
   "execution_count": null,
   "id": "6a8e5375",
   "metadata": {},
   "outputs": [
    {
     "name": "stdout",
     "output_type": "stream",
     "text": [
      "开始校验\n",
      "test完成12\n"
     ]
    }
   ],
   "source": [
    "def wrapper(func):\n",
    "    #参数func有两个特点1.表示被装饰的函数即test函数2.装饰器作用是在不修改原函数的前提下增强其功能如权验证\n",
    "    \n",
    "    def inner(a, b): #inner只添加两个参数报错\n",
    "        #在wrapper内部定义一个嵌套函数inner参数为a,b\n",
    "        \"\"\" \n",
    "        参数a, b\n",
    "        1. 原函数test(a, b)与inner(a, b)保持一致\n",
    "        2. 装饰器适用于有参函数\n",
    "             \"\"\"\n",
    "        print(\"开始校验\")\n",
    "        func(a, b) # inner和func要同时添加才能正确输出， 其是原函数test只是伪装成了func()\n",
    "    return inner #返回值用来替代原函数test, 将内部函数inner返回给装饰，确保inner成为新函数\n",
    "\n",
    "@wrapper # 使用装饰器语法糖将test函数产地给wrapper(func)函数\n",
    "def test(a, b):\n",
    "    print(f\"test完成{a}{b}\")\n",
    "\"\"\"\n",
    "上面代码相当于\n",
    "\n",
    "def test(a, b):\n",
    "    print(f\"test完成{a}{b}\")\n",
    "test = wrapper(test)\n",
    "\n",
    "  \"\"\"\n",
    "test(1, 2) #该调用被装饰后的test函数\n"
   ]
  },
  {
   "cell_type": "markdown",
   "id": "ce98b6e0",
   "metadata": {},
   "source": [
    "通过装饰器完成学生系统的增删改查"
   ]
  },
  {
   "cell_type": "code",
   "execution_count": null,
   "id": "dbb8c3f9",
   "metadata": {},
   "outputs": [
    {
     "name": "stdout",
     "output_type": "stream",
     "text": [
      "['小明', '小强', '小红']\n"
     ]
    }
   ],
   "source": [
    "student = [\"小明\", \"小强\"]\n",
    "def wrapper(func):\n",
    "    def add(student_name):\n",
    "        student_name.append(\"小红\")\n",
    "        func(student_name)\n",
    "    return add\n",
    "        \n",
    "\n",
    "@wrapper\n",
    "def test(student):\n",
    "    print(student)\n",
    "test(student)\n"
   ]
  },
  {
   "cell_type": "markdown",
   "id": "dbd3e0a7",
   "metadata": {},
   "source": [
    "## 面向对象编程\n",
    "- 面向对象编程（OOP）是一种编程范式，基于“对象”的概念，将数据和操作数据的函数封装在一起\n",
    "- 面向对象的基本概念\n",
    "    - 类（Class）：定义对象的蓝图，包含属性和方法， 对象的抽象\n",
    "    - 对象（Object）：类的实例，包含具体的数据， 通过类创建\n",
    "    - 属性（Attribute）：对象的特征，表示对象的状态, self.name\n",
    "    - 方法（Method）：对象的行为，表示对象可以执行的操作, def func(self)为类的中函数\n",
    "    - 继承（Inheritance）：子类继承父类的属性和方法，实现代码重用\n",
    "    - 多态（Polymorphism）：不同类的对象可以通过相同的接口调用不同的方法\n",
    "    - 封装（Encapsulation）：将数据和方法封装在对象内部，防止外部直接访问\n",
    "- 面向对象的优点\n",
    "    - 模块化：代码结构清晰，易于维护和扩展\n",
    "    - 代码重用：通过继承和组合实现代码复用，减少重复代码\n",
    "    - 易于理解：通过模拟现实世界的对象，使代码更易于理解和设计\n",
    "### 面向对象的设计原则\n",
    "- 单一职责原则（SRP）：一个类应该只有一个引起它变化的原因\n",
    "- 开闭原则（OCP）：软件实体（类、模块、函数等）应该\n",
    "对扩展开放，对修改关闭\n",
    "- 里氏替换原则（LSP）：子类对象应该能够替换父类对象，并且程序的行为不会发生变化\n",
    "- 接口隔离原则（ISP）：客户端不应该被迫依赖它们不使用的方法\n",
    "- 依赖倒置原则（DIP）：高层模块不应该依赖低层模块，二者都应该依赖于抽象；抽象不应该依赖于细节，细节应该依赖于抽象\n",
    "### 面向过程和面向对象的区别\n",
    "- 面向过程编程（POP）是一种基于函数和过程的编程范式，强调按步骤执行任务\n",
    "- 面向对象编程（OOP）是一种基于对象的编程范式，强调数据和操作数据的函数封装在一起\n",
    "- **面向过程的优点**\n",
    "  - 简单直观：适合小型程序和简单任务\n",
    "  - 性能较高：函数调用开销较小\n",
    "-  **面向过程的缺点**\n",
    "  - 代码复用性差：难以实现代码重用\n",
    "  - 可维护性差：代码结构不清晰，难以维护和扩展\n",
    "    - 难以模拟复杂系统：难以表示现实世界的复杂关系\n",
    "- **面向对象的优点**\n",
    "  - 模块化：代码结构清晰，易于维护和扩展\n",
    "    - 代码重用：通过继承和组合实现代码复用，减少重复代码\n",
    "    - 易于理解：通过模拟现实世界的对象，使代码更易于理解和设计\n",
    "- **面向对象的缺点**\n",
    "  - 学习曲线陡峭：需要理解类、对象、继承等概念\n",
    "  - 性能开销较大：对象创建和方法调用开销较大\n",
    "  - 过度设计风险：可能导致代码复杂化，难以维护"
   ]
  },
  {
   "cell_type": "code",
   "execution_count": null,
   "id": "eb525bd2",
   "metadata": {},
   "outputs": [
    {
     "name": "stdout",
     "output_type": "stream",
     "text": [
      "小红17\n",
      "小红\n",
      "17\n"
     ]
    }
   ],
   "source": [
    "class cat:\n",
    "    # __init__使属性共享，且在类被调用时进行初始化\n",
    "    def __init__(self, name, age):\n",
    "        self.name = name\n",
    "        self.age = age\n",
    "    def action(self):\n",
    "        print(f\"{self.name}{self.age}\")\n",
    "\n",
    "c = cat(\"小红\", 17) #实例化对象，对象产生只有对象才能调用类中属性和方法\n",
    "c.action() #对象调方法\n",
    "print(c.name) #对象调属性\n",
    "print(c.age)"
   ]
  },
  {
   "cell_type": "code",
   "execution_count": 70,
   "id": "e1b779c9",
   "metadata": {},
   "outputs": [
    {
     "name": "stdout",
     "output_type": "stream",
     "text": [
      "小红1\n"
     ]
    }
   ],
   "source": [
    "class cat:\n",
    "    def my_class(self, name, age):\n",
    "        self.name = name\n",
    "        self.age = age\n",
    "    def action(self):\n",
    "        print(f\"{self.name}{self.age}\")\n",
    "\n",
    "c = cat()\n",
    "c.my_class(\"小红\",1)\n",
    "c.action()\n"
   ]
  },
  {
   "cell_type": "code",
   "execution_count": null,
   "id": "ce63bb68",
   "metadata": {},
   "outputs": [
    {
     "name": "stdout",
     "output_type": "stream",
     "text": [
      "李妹妹年龄27身高174收银\n",
      "路西年龄25身高172购买商品\n"
     ]
    }
   ],
   "source": [
    "class Counter: #\n",
    "    def __init__(self, name,age, height):\n",
    "        self.name = name\n",
    "        self.age = age\n",
    "        self.height = height\n",
    "    def work(self, work):\n",
    "        self.work = work\n",
    "        print(f\"{self.name}年龄{self.age}身高{self.height}{self.work}\")\n",
    "\n",
    "ct = Counter(\"李妹妹\", 27, 174)\n",
    "ct.work(\"收银\")\n",
    "ct = Counter(\"路西\", 25, 172)\n",
    "ct.work(\"购买商品\")"
   ]
  },
  {
   "cell_type": "code",
   "execution_count": 1,
   "id": "389855a2",
   "metadata": {},
   "outputs": [
    {
     "name": "stdout",
     "output_type": "stream",
     "text": [
      "值为小结\n"
     ]
    }
   ],
   "source": [
    "#区分实例变量和局部变量， self不是关键字也可使用this进行\n",
    "class SelfTest:\n",
    "    def set_value(self, value):\n",
    "        self.value = value\n",
    "        local_var = 10 #局部变量方法内有效, 且在后面函数也不能调用,如果调用直接报错\n",
    "    def print_value(self):\n",
    "        print(f\"值为{self.value}\")\n",
    "sel = SelfTest()\n",
    "sel.set_value(\"小结\")\n",
    "sel.print_value()\n",
    "\n",
    "\n"
   ]
  },
  {
   "cell_type": "code",
   "execution_count": 1,
   "id": "afa7bb1a",
   "metadata": {},
   "outputs": [
    {
     "name": "stdout",
     "output_type": "stream",
     "text": [
      "值为value的值为:10内部变量local_var:10外部变量local_var：0\n",
      "0\n"
     ]
    }
   ],
   "source": [
    "#全局变量可直接在类中调用，类中的变量属性则需要通过self.变量名称进行调用\n",
    "local_var= 0\n",
    "class SelfTest:\n",
    "    local_var = 10 #类中全局\n",
    "    def __init__(self, value):\n",
    "        self.value = value\n",
    "    def print_value(self):\n",
    "        print(f\"值为value的值为:{self.value}内部变量local_var:{self.local_var}外部变量local_var：{local_var}\")#需要self进行调用属性local_var\n",
    "sel = SelfTest(10)\n",
    "sel.print_value()# 值为value的值为:10内部变量local_var:10外部变量local_var：0\n",
    "print(local_var) #0"
   ]
  },
  {
   "cell_type": "code",
   "execution_count": 2,
   "id": "e9d275c7",
   "metadata": {},
   "outputs": [
    {
     "name": "stdout",
     "output_type": "stream",
     "text": [
      "[1, 2, '小红']\n"
     ]
    }
   ],
   "source": [
    "lis = [1, 2]\n",
    "def wrapepr(func):\n",
    "    def inner(lis):\n",
    "        lis.append(\"小红\")\n",
    "        func(lis)\n",
    "    return inner\n",
    "@wrapepr\n",
    "def print_lis(lis):\n",
    "    print(lis)\n",
    "\n",
    "print_lis(lis)"
   ]
  },
  {
   "cell_type": "code",
   "execution_count": 3,
   "id": "62a35912",
   "metadata": {},
   "outputs": [
    {
     "name": "stdout",
     "output_type": "stream",
     "text": [
      "hello\n",
      "hello\n"
     ]
    }
   ],
   "source": [
    "class Person:\n",
    "    def __init__(self, name, age):\n",
    "        self.name = name\n",
    "        self.age = age\n",
    "    def action(self, num, msg):\n",
    "        self.num = num\n",
    "        self.msg = msg\n",
    "        for i in range(self.num):\n",
    "            print(f\"{self.msg}\")\n",
    "P = Person(\"小娜\", 20)\n",
    "\n",
    "P.action(2, \"hello\")"
   ]
  },
  {
   "cell_type": "code",
   "execution_count": null,
   "id": "adc6d9d2",
   "metadata": {},
   "outputs": [
    {
     "name": "stdout",
     "output_type": "stream",
     "text": [
      "高10\n"
     ]
    }
   ],
   "source": [
    "#类的内部没有属性在外部进行定义\n",
    "class Worker():\n",
    "    def print_info(self):\n",
    "        print(f\"高{self.height}\")\n",
    "w = Worker()\n",
    "w.height = 10 #外部进行定义属性\n",
    "w.print_info()"
   ]
  },
  {
   "cell_type": "markdown",
   "id": "481ad461",
   "metadata": {},
   "source": [
    "### 魔法方法\n",
    "- 魔法方法（Magic Methods）是Python中以双下划线开头和结尾的方法，也称为特殊方法（Special Methods），用于实现类的特定行为和操作\n",
    "- 常见的魔法方法\n",
    "    - `__init__(self, ...)`：构造函数，用于初始化对象,在创建对象时自动调用\n",
    "    - `__str__(self)`：定义对象的字符串表示，通常用于 print() 函数\n",
    "    - `__new__(cls, ...)`：用于创建类的实例，在 __init__ 之前调用\n",
    "    - `__del__(self)`：析构函数，在对象销毁时调用\n",
    "    - `__repr__(self)`：定义对象的官方字符串表示，通常用于调试\n",
    "    - `__len__(self)`：定义对象的长度，通常用于 len() 函数\n",
    "    - `__getitem__(self, key)`：定义对象的索引访问，通常用于 obj[key]\n",
    "    - `__setitem__(self, key, value)`：定义对象的索引赋值，通常用于 obj[key] = value\n",
    "    - `__delitem__(self, key)`：定义对象的索引删除，通常用于 del obj[key]\n",
    "    - `__iter__(self)`：定义对象的迭代器，通常用于 for 循环\n",
    "    - `__next__(self)`：定义迭代器的下一个元素，通常与 __iter__ 一起使用\n",
    "    - `__call__(self, ...)`：使对象可调用，类似于函数调用\n",
    "    - `__add__(self, other)`：定义加法操作，通常用于 self + other\n",
    "    - `__sub__(self, other)`：定义减法操作，通常用于 self - other\n",
    "    - `__mul__(self, other)`：定义乘法操作，通常用于 self * other\n",
    "    - `__truediv__(self, other)`：定义除法操作，通常用于 self / other\n",
    "    - `__eq__(self, other)`：定义相等比较，通常用于 self == other\n",
    "    - `__lt__(self, other)`：定义小于比较，通常用于 self < other\n",
    "    - `__le__(self, other)`：定义小于等于比较，通常用于 self <= other\n",
    "    - `__gt__(self, other)`：定义大于比较，通常用于 self > other\n",
    "    - `__ge__(self, other)`：定义大于等于比较，通常用于 self >= other\n",
    "    - `__ne__(self, other)`：定义不等比较，通常用于 self != other\n",
    "- 使用魔法方法可以让自定义类的对象表现得像内置类型一样，支持各种操作和行为，提高代码的可读性和可维护性"
   ]
  },
  {
   "cell_type": "code",
   "execution_count": 30,
   "id": "8a134f24",
   "metadata": {},
   "outputs": [
    {
     "name": "stdout",
     "output_type": "stream",
     "text": [
      "0\n",
      "1\n",
      "2\n"
     ]
    }
   ],
   "source": [
    "def function(n):\n",
    "    for i in range(n):\n",
    "        yield i\n",
    "gen = function(3)\n",
    "for i in range(3):\n",
    "    print(next(gen))"
   ]
  },
  {
   "cell_type": "code",
   "execution_count": null,
   "id": "750256ed",
   "metadata": {},
   "outputs": [
    {
     "name": "stdout",
     "output_type": "stream",
     "text": [
      "这是当前信息\n"
     ]
    }
   ],
   "source": [
    "class Person():\n",
    "    def __init__(self, name, age):\n",
    "        self.name = name\n",
    "        self.age = age\n",
    "    def __str__(self):\n",
    "        return \"这是当前信息\"\n",
    "    \n",
    "    p = Person(\"张三\", 10)\n",
    "    print(p) #如果没有魔法函数__str__将输出内存地址否则为该魔法函数下的内容\n",
    "    "
   ]
  },
  {
   "cell_type": "code",
   "execution_count": null,
   "id": "2be6c996",
   "metadata": {},
   "outputs": [
    {
     "name": "stdout",
     "output_type": "stream",
     "text": [
      "__new__被调用\n",
      "__init__被调用\n",
      "实力被销毁\n"
     ]
    }
   ],
   "source": [
    "class Person:\n",
    "    def __new__(cls, *args, **kwargs):\n",
    "        print(\"__new__被调用\")\n",
    "        instance = super().__new__(cls)\n",
    "        return instance\n",
    "    def __init__(self, name):\n",
    "        self.name = name\n",
    "        print(\"__init__被调用\")\n",
    "    \n",
    "    def __del__(self):\n",
    "        print(\"实力被销毁\")\n",
    "\n",
    "p = Person(\"name\")\n",
    "del p #返回实力被销毁"
   ]
  },
  {
   "cell_type": "code",
   "execution_count": null,
   "id": "c467c4db",
   "metadata": {},
   "outputs": [
    {
     "name": "stdout",
     "output_type": "stream",
     "text": [
      "小米\n",
      "男\n",
      "['__class__', '__delattr__', '__dict__', '__dir__', '__doc__', '__eq__', '__format__', '__ge__', '__getattribute__', '__gt__', '__hash__', '__init__', '__init_subclass__', '__le__', '__lt__', '__module__', '__ne__', '__new__', '__reduce__', '__reduce_ex__', '__repr__', '__setattr__', '__sizeof__', '__str__', '__subclasshook__', '__weakref__', 'age', 'name', 'sex']\n"
     ]
    }
   ],
   "source": [
    "class Parent:\n",
    "    def __init__(self, name, age):\n",
    "        self.name = name\n",
    "        self.age = age\n",
    "    \n",
    "class Father(Parent):\n",
    "    def __init__(self, name, age, sex):\n",
    "        super().__init__(name, age)\n",
    "        self.sex = sex \n",
    "\n",
    "f = Father(\"小米\", 23, \"男\")\n",
    "print(f.name)\n",
    "print(f.sex)\n",
    "print(dir(f))"
   ]
  },
  {
   "cell_type": "code",
   "execution_count": 17,
   "id": "5a2aacca",
   "metadata": {},
   "outputs": [
    {
     "name": "stdout",
     "output_type": "stream",
     "text": [
      "你好我使grandfather\n",
      "这是son\n"
     ]
    }
   ],
   "source": [
    "class grandfather:\n",
    "    def __init__(self):\n",
    "        self.boat = \"bigboat\"\n",
    "        self.money = \"somuchmonney\"\n",
    "    def action(self):\n",
    "        print(\"你好我使grandfather\")\n",
    "class father:\n",
    "\n",
    "    def action(self):\n",
    "        print(f\"你好我是father\")\n",
    "\n",
    "class son(grandfather, father):\n",
    "    def __init__(self):\n",
    "        super().__init__()\n",
    "        \n",
    "    def action(self):\n",
    "        super().action()\n",
    "        print(\"这是son\")\n",
    "s = son()\n",
    "s.action()"
   ]
  },
  {
   "cell_type": "code",
   "execution_count": null,
   "id": "f265fc57",
   "metadata": {},
   "outputs": [
    {
     "ename": "SyntaxError",
     "evalue": "invalid syntax (789410603.py, line 71)",
     "output_type": "error",
     "traceback": [
      "\u001b[1;36m  File \u001b[1;32m\"C:\\Users\\25711\\AppData\\Local\\Temp\\ipykernel_38108\\789410603.py\"\u001b[1;36m, line \u001b[1;32m71\u001b[0m\n\u001b[1;33m    print(f\"墨水状态：黑{self.ink_levels[\"black\"]} %\")\u001b[0m\n\u001b[1;37m                                        ^\u001b[0m\n\u001b[1;31mSyntaxError\u001b[0m\u001b[1;31m:\u001b[0m invalid syntax\n"
     ]
    }
   ],
   "source": []
  },
  {
   "cell_type": "code",
   "execution_count": 18,
   "id": "4a39c67e",
   "metadata": {},
   "outputs": [
    {
     "name": "stdout",
     "output_type": "stream",
     "text": [
      "[0, 1, 2, 3, 4, 5, 6, 7, 8, 9, 10, 11, 12, 13, 14, 15, 16, 17, 18, 19, 20, 21, 22, 23, 24, 25, 26, 27, 28, 29, 30, 31, 32, 33, 34, 35, 36, 37, 38, 39, 40, 41, 42, 43, 44, 45, 46, 47, 48, 49, 50, 51, 52, 53, 54, 55, 56, 57, 58, 59, 60, 61, 62, 63, 64, 65, 66, 67, 68, 69, 70, 71, 72, 73, 74, 75, 76, 77, 78, 79, 80, 81, 82, 83, 84, 85, 86, 87, 88, 89, 90, 91, 92, 93, 94, 95]\n"
     ]
    }
   ],
   "source": [
    "seed_lis = [seed for seed in range(6*16) ]\n",
    "print(seed_lis)"
   ]
  },
  {
   "cell_type": "code",
   "execution_count": 3,
   "id": "85705ab3",
   "metadata": {},
   "outputs": [
    {
     "name": "stdout",
     "output_type": "stream",
     "text": [
      "饲养员但鹏飞照顾威武\n",
      "饲养员但鹏飞照顾冰冰\n",
      "饲养员但鹏飞照顾但鹏飞\n",
      "++++++++++++测试+++++++++++\n",
      "威武\n",
      "show Time! 但鹏飞\n",
      "威武 ShowTime展示捕猎突击速度50\n",
      "条纹数100\n",
      "冰冰 ShowTime展示游泳25\n",
      "鸡翅长度30\n",
      "但鹏飞 ShowTime展示喷水2\n",
      "象牙个数2\n",
      "\n",
      " -------------动物们休息一下-----------\n",
      "威武重在休息恢复能量到90\n",
      "冰冰重在休息恢复能量到90\n",
      "\n",
      "-------------去表演--------------\n",
      "show Time! 但鹏飞\n",
      "威武 ShowTime展示捕猎突击速度50\n",
      "条纹数100\n",
      "冰冰 ShowTime展示游泳25\n",
      "鸡翅长度30\n",
      "但鹏飞 ShowTime展示喷水2\n",
      "象牙个数2\n"
     ]
    }
   ],
   "source": [
    "class Animal:\n",
    "    \"\"\"动物基类\"\"\"\n",
    "    def __init__(self, name, age,gender, keeper):\n",
    "        self.name = name\n",
    "        self.gender = gender\n",
    "        self.age = age\n",
    "        self.keeper = keeper\n",
    "        self.energy = 100 #能量值\n",
    "    def rest(self):\n",
    "        self.energy = min(100, self.energy + 20)\n",
    "        print(f\"{self.name}重在休息恢复能量到{self.energy}\")\n",
    "\n",
    "    def perform(self):\n",
    "        \"\"\"动物表演的基方法，要在子类重写\"\"\"\n",
    "        if self.energy < 30:\n",
    "            print(f\"{self.name}累了\")\n",
    "            return False\n",
    "        \n",
    "        self.energy -= 30\n",
    "        return True\n",
    "    \n",
    "class Keeper:\n",
    "    \"\"\"饲养员负责管理动物\"\"\"\n",
    "    def __init__(self, name):\n",
    "        self.name = name\n",
    "        self.animals = []\n",
    "    def add_animal(self, animal):\n",
    "         \"\"\"添加饲养员动物\"\"\"\n",
    "         self.animals.append(animal)\n",
    "         print(f\"饲养员{self.name}照顾{animal.name}\")\n",
    "    def ask_perform(self):\n",
    "        print(f\"show Time! {self.name}\")\n",
    "        for animal in self.animals:\n",
    "            animal.perform()\n",
    "class Tiger(Animal):\n",
    "    \"\"\"老虎类\"\"\"\n",
    "    def __init__(self, name, age, gender, keeper, stripe_count):\n",
    "        super().__init__(name, age, gender, keeper)\n",
    "        self.strip_count = stripe_count\n",
    "        self.speed = 50\n",
    "\n",
    "    def perform(self):\n",
    "        if not super().perform(): #检查能能量\n",
    "            return \n",
    "        \n",
    "        print(f\"{self.name} ShowTime展示捕猎突击速度{self.speed}\")\n",
    "        print(f\"条纹数{self.strip_count}\")\n",
    "        \n",
    "class Penguin(Animal):\n",
    "    \"\"\"企鹅类\"\"\"\n",
    "    def __init__(self, name, age, gender, keeper, swimming_speed):\n",
    "        super().__init__(name, age, gender, keeper)\n",
    "        self.swimming_speed = swimming_speed\n",
    "        self.flipper_length = 30\n",
    "\n",
    "    def perform(self):\n",
    "        if not super().perform(): #检查能能量\n",
    "            return \n",
    "        \n",
    "        print(f\"{self.name} ShowTime展示游泳{self.swimming_speed}\")\n",
    "        print(f\"鸡翅长度{self.flipper_length}\")\n",
    "        \n",
    "class Elephant(Animal):\n",
    "    \"\"\"大象类\"\"\"\n",
    "    def __init__(self, name, age, gender, keeper, trunk_length):\n",
    "        super().__init__(name, age, gender, keeper)\n",
    "        self.trunk_length = trunk_length\n",
    "        self.tusk_length = 2\n",
    "\n",
    "    def perform(self):\n",
    "        if not super().perform(): #检查能能量\n",
    "            return \n",
    "        \n",
    "        print(f\"{self.name} ShowTime展示喷水{self.trunk_length}\")\n",
    "        print(f\"象牙个数{self.tusk_length}\")\n",
    "\n",
    "if __name__ == \"__main__\":\n",
    "    zookeeper = Keeper(\"但鹏飞\")\n",
    "\n",
    "    tiger = Tiger(\"威武\", 5, \"雄性\", zookeeper, 100)\n",
    "    penguin = Penguin(\"冰冰\", 3, \"雄性\", zookeeper, 25)\n",
    "    elephant = Elephant(\"但鹏飞\", 6, \"雄性\", zookeeper, 2)\n",
    "\n",
    "    zookeeper.add_animal(tiger)\n",
    "    zookeeper.add_animal(penguin)\n",
    "    zookeeper.add_animal(elephant)\n",
    "    print(\"++++++++++++测试+++++++++++\")\n",
    "    print(tiger.name)\n",
    "\n",
    "    #饲养员要求动物表演\n",
    "    zookeeper.ask_perform()\n",
    "\n",
    "    #动物休息恢复能量\n",
    "    print(\"\\n -------------动物们休息一下-----------\")\n",
    "    tiger.rest()\n",
    "    penguin.rest()\n",
    "    #再次表演\n",
    "    print(\"\\n-------------去表演--------------\")\n",
    "    zookeeper.ask_perform()\n",
    "    \n",
    "\n"
   ]
  },
  {
   "cell_type": "code",
   "execution_count": 2,
   "id": "951410eb",
   "metadata": {},
   "outputs": [
    {
     "name": "stdout",
     "output_type": "stream",
     "text": [
      "HElO\n"
     ]
    }
   ],
   "source": [
    "s = \"heLo\"\n",
    "print(s.swapcase())"
   ]
  },
  {
   "cell_type": "code",
   "execution_count": null,
   "id": "4c2149f3",
   "metadata": {},
   "outputs": [],
   "source": []
  }
 ],
 "metadata": {
  "kernelspec": {
   "display_name": "syc",
   "language": "python",
   "name": "python3"
  },
  "language_info": {
   "codemirror_mode": {
    "name": "ipython",
    "version": 3
   },
   "file_extension": ".py",
   "mimetype": "text/x-python",
   "name": "python",
   "nbconvert_exporter": "python",
   "pygments_lexer": "ipython3",
   "version": "3.13.7"
  }
 },
 "nbformat": 4,
 "nbformat_minor": 5
}
