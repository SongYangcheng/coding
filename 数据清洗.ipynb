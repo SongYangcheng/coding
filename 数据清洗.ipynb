{
 "cells": [
  {
   "cell_type": "markdown",
   "id": "3fc778a5",
   "metadata": {},
   "source": [
    "### 空值处理\n",
    "dropna()\n",
    "- axis: {0 或 'index', 1 或 'columns'} – 沿行或列删除\n",
    "- how: {'any', 'all'} – 'any' 删除有缺失的行，'all' 删除全缺失的行\n",
    "- thresh: int – 至少保留非缺失值的数量\n",
    "- subset: list – 指定列\",\"删除包含 NaN 的行。\n",
    "示例: df_na.dropna(axis=0, how='any') – 删除所有有缺失的行。  \n",
    "\n",
    "fillna()\n",
    "- value: scalar 或 dict – 填充值（如 0 或 'Unknown'）\n",
    "- method: {'ffill', 'bfill'} – 前向/后向填充\n",
    "- limit: int – 填充上限\",\"用指定值填充 NaN。\n",
    "示例: df_na.fillna({'Age': df_na['Age'].mean(), 'Salary': 0, 'Department': 'Unknown'})  \n",
    "\n",
    "ffill() / bfill()\n",
    "- 无主要参数（返回副本）,\"前向/后向填充 NaN。\n",
    "示例: df_na.ffill(limit=1) – 每列向前填充最多\n",
    "\n",
    "isnull() / isna(),\n",
    "- 无主要参数（返回布尔 DataFrame）,\"检查缺失值。\n",
    "示例: df_na.isnull().sum() – 统计每列缺失数。\"\n",
    "\n",
    "replace()：替换指定值"
   ]
  },
  {
   "cell_type": "code",
   "execution_count": 1,
   "id": "f363e605",
   "metadata": {},
   "outputs": [
    {
     "name": "stdout",
     "output_type": "stream",
     "text": [
      "      Name   Age   Salary Department\n",
      "0    Alice  25.0  50000.0         HR\n",
      "1      Bob   NaN  60000.0         IT\n",
      "2  Charlie  30.0      NaN        NaN\n",
      "3    David  28.0  55000.0    Finance\n"
     ]
    },
    {
     "data": {
      "text/html": [
       "<div>\n",
       "<style scoped>\n",
       "    .dataframe tbody tr th:only-of-type {\n",
       "        vertical-align: middle;\n",
       "    }\n",
       "\n",
       "    .dataframe tbody tr th {\n",
       "        vertical-align: top;\n",
       "    }\n",
       "\n",
       "    .dataframe thead th {\n",
       "        text-align: right;\n",
       "    }\n",
       "</style>\n",
       "<table border=\"1\" class=\"dataframe\">\n",
       "  <thead>\n",
       "    <tr style=\"text-align: right;\">\n",
       "      <th></th>\n",
       "      <th>数量</th>\n",
       "      <th>占比</th>\n",
       "    </tr>\n",
       "  </thead>\n",
       "  <tbody>\n",
       "    <tr>\n",
       "      <th>Age</th>\n",
       "      <td>1</td>\n",
       "      <td>25.0</td>\n",
       "    </tr>\n",
       "    <tr>\n",
       "      <th>Salary</th>\n",
       "      <td>1</td>\n",
       "      <td>25.0</td>\n",
       "    </tr>\n",
       "    <tr>\n",
       "      <th>Department</th>\n",
       "      <td>1</td>\n",
       "      <td>25.0</td>\n",
       "    </tr>\n",
       "    <tr>\n",
       "      <th>Name</th>\n",
       "      <td>0</td>\n",
       "      <td>0.0</td>\n",
       "    </tr>\n",
       "  </tbody>\n",
       "</table>\n",
       "</div>"
      ],
      "text/plain": [
       "            数量    占比\n",
       "Age          1  25.0\n",
       "Salary       1  25.0\n",
       "Department   1  25.0\n",
       "Name         0   0.0"
      ]
     },
     "execution_count": 1,
     "metadata": {},
     "output_type": "execute_result"
    }
   ],
   "source": [
    "import pandas as pd\n",
    "import numpy as np\n",
    "df_na = pd.DataFrame(\n",
    "    {\n",
    "    'Name': ['Alice', 'Bob', 'Charlie', 'David'],\n",
    "    'Age': [25, np.nan, 30, 28],\n",
    "    'Salary': [50000, 60000, np.nan, 55000],\n",
    "    'Department': ['HR', 'IT', np.nan, 'Finance']\n",
    "}\n",
    ")\n",
    "print(df_na)\n",
    "def missing_values_table(df):\n",
    "    mis_val = df.isnull().sum()\n",
    "    #计算缺失值比例\n",
    "    mis_val_percent = df.isnull().sum()/len(df) * 100\n",
    "    mis_val_table = pd.DataFrame({\"数量\":mis_val, \"占比\":mis_val_percent})\n",
    "    mis_val_table_sorted = mis_val_table.sort_values('数量', ascending=False)\n",
    "    return mis_val_table_sorted\n",
    "\n",
    "missing_values_table(df_na)\n"
   ]
  },
  {
   "cell_type": "code",
   "execution_count": 11,
   "id": "28e03c7a",
   "metadata": {},
   "outputs": [
    {
     "name": "stdout",
     "output_type": "stream",
     "text": [
      "    Name   Age   Salary Department\n",
      "0  Alice  25.0  50000.0         HR\n",
      "3  David  28.0  55000.0    Finance\n"
     ]
    },
    {
     "name": "stderr",
     "output_type": "stream",
     "text": [
      "C:\\Users\\25711\\AppData\\Local\\Temp\\ipykernel_28796\\2153906580.py:7: FutureWarning: DataFrame.fillna with 'method' is deprecated and will raise in a future version. Use obj.ffill() or obj.bfill() instead.\n",
      "  df_na.fillna(method=\"bfill\") #将缺失值用前面的填充, 返回的是副本（不会影响议案数据）\n"
     ]
    },
    {
     "data": {
      "text/html": [
       "<div>\n",
       "<style scoped>\n",
       "    .dataframe tbody tr th:only-of-type {\n",
       "        vertical-align: middle;\n",
       "    }\n",
       "\n",
       "    .dataframe tbody tr th {\n",
       "        vertical-align: top;\n",
       "    }\n",
       "\n",
       "    .dataframe thead th {\n",
       "        text-align: right;\n",
       "    }\n",
       "</style>\n",
       "<table border=\"1\" class=\"dataframe\">\n",
       "  <thead>\n",
       "    <tr style=\"text-align: right;\">\n",
       "      <th></th>\n",
       "      <th>Name</th>\n",
       "      <th>Age</th>\n",
       "      <th>Salary</th>\n",
       "      <th>Department</th>\n",
       "    </tr>\n",
       "  </thead>\n",
       "  <tbody>\n",
       "    <tr>\n",
       "      <th>0</th>\n",
       "      <td>Alice</td>\n",
       "      <td>25.0</td>\n",
       "      <td>50000.0</td>\n",
       "      <td>HR</td>\n",
       "    </tr>\n",
       "    <tr>\n",
       "      <th>1</th>\n",
       "      <td>Bob</td>\n",
       "      <td>30.0</td>\n",
       "      <td>60000.0</td>\n",
       "      <td>IT</td>\n",
       "    </tr>\n",
       "    <tr>\n",
       "      <th>2</th>\n",
       "      <td>Charlie</td>\n",
       "      <td>30.0</td>\n",
       "      <td>55000.0</td>\n",
       "      <td>Finance</td>\n",
       "    </tr>\n",
       "    <tr>\n",
       "      <th>3</th>\n",
       "      <td>David</td>\n",
       "      <td>28.0</td>\n",
       "      <td>55000.0</td>\n",
       "      <td>Finance</td>\n",
       "    </tr>\n",
       "  </tbody>\n",
       "</table>\n",
       "</div>"
      ],
      "text/plain": [
       "      Name   Age   Salary Department\n",
       "0    Alice  25.0  50000.0         HR\n",
       "1      Bob  30.0  60000.0         IT\n",
       "2  Charlie  30.0  55000.0    Finance\n",
       "3    David  28.0  55000.0    Finance"
      ]
     },
     "execution_count": 11,
     "metadata": {},
     "output_type": "execute_result"
    }
   ],
   "source": [
    "print(df_na.dropna())\n",
    "df_na\n",
    "#计算salary并保留一位小数\n",
    "SaMean = df_na.loc[:, \"Salary\"].mean()\n",
    "df_na.fillna(value={\"Salary\":SaMean}) #将缺失值用均值替换\n",
    "#使用前面的填充\n",
    "df_na.fillna(method=\"bfill\") #将缺失值用前面的填充, 返回的是副本（不会影响议案数据)该方法可能会被弃用\n",
    "df_na.bfill()"
   ]
  },
  {
   "cell_type": "markdown",
   "id": "5e9c9cde",
   "metadata": {},
   "source": [
    "### 重复值处理\n",
    "drop_duplicates()\n",
    "- subset: list – 指定列\n",
    "- keep: {'first', 'last', False} – 保留哪一个重复项,\"删除重复行。\n",
    "示例: df_na.drop_duplicates(subset=['Name', 'Age'], keep='first') – 保留每组重复的第一行。\n",
    "duplicated()\n",
    "- subset: list – 指定列\n",
    "- keep: {'first', 'last', False} – 标记哪一个重复项,\"标记重复行。\n",
    "示例: df_na.duplicated(subset=['Name', 'Age'], keep='first') – 标记每组重复的非第一行。\"\n"
   ]
  },
  {
   "cell_type": "code",
   "execution_count": 12,
   "id": "92cf81c3",
   "metadata": {},
   "outputs": [
    {
     "data": {
      "text/plain": [
       "0    False\n",
       "1    False\n",
       "2    False\n",
       "3    False\n",
       "dtype: bool"
      ]
     },
     "execution_count": 12,
     "metadata": {},
     "output_type": "execute_result"
    }
   ],
   "source": [
    "print(df_na.duplicated()) #检测重复值\n",
    "print(df_na.drop_duplicates()) #删除重复值\n"
   ]
  },
  {
   "attachments": {
    "数据清洗.ipyn-2025-10-11_17-23-34.png": {
     "image/png": "[encoded data removed]"
    }
   },
   "cell_type": "markdown",
   "id": "5dd0f98b",
   "metadata": {},
   "source": [
    "### 异常值检测\n",
    "常用方法：\n",
    "- 正太分布3σ原则， 数值分布在(μ-3σ, μ+3σ)之外的点被视为异常值, 在1-3σ中的概论0.6827, 0.9545, 0.9973\n",
    "- k-近邻（KNN）法\n",
    "- IQR（四分位距）法, 也叫箱线图法\n",
    "![数据清洗.ipyn-2025-10-11_17-23-34.png](attachment:数据清洗.ipyn-2025-10-11_17-23-34.png)\n",
    "- Z-score（标准分数）法\n",
    "- DBSCAN（基于密度的空间聚类）法\n",
    "- Isolation Forest（孤立森林）法"
   ]
  },
  {
   "cell_type": "code",
   "execution_count": 17,
   "id": "a986c0dd",
   "metadata": {},
   "outputs": [
    {
     "data": {
      "text/plain": [
       "KstestResult(statistic=np.float64(0.39270224380214147), pvalue=np.float64(0.0037560239228238146), statistic_location=np.int64(5), statistic_sign=np.int8(1))"
      ]
     },
     "execution_count": 17,
     "metadata": {},
     "output_type": "execute_result"
    }
   ],
   "source": [
    "import scipy.stats as stats\n",
    "data = pd.read_csv(r'data/outlier_data.csv')\n",
    "u = data['A'].mean()\n",
    "#计算均值\n",
    "std = data['A'].std()\n",
    "stats.kstest(data['A'], 'norm', (u, std)) #检测是否为正态分布\n"
   ]
  },
  {
   "cell_type": "code",
   "execution_count": null,
   "id": "481bc759",
   "metadata": {},
   "outputs": [
    {
     "data": {
      "text/plain": [
       "5     50\n",
       "15    23\n",
       "Name: A, dtype: int64"
      ]
     },
     "execution_count": 27,
     "metadata": {},
     "output_type": "execute_result"
    }
   ],
   "source": [
    "import numpy as np\n",
    "def box_outliers(ser):\n",
    "    # 去掉 NaN 并按值排序，使用位置索引计算四分位数\n",
    "    s = ser.dropna().sort_values()\n",
    "    n = s.shape[0]\n",
    "    if n == 0:\n",
    "        return s.iloc[0:0]  # 返回空 Series\n",
    "\n",
    "    mid = n // 2\n",
    "    if n % 2 == 0:\n",
    "        Q1 = s.iloc[:mid].median()\n",
    "        Q3 = s.iloc[mid:].median()\n",
    "    else:\n",
    "        Q1 = s.iloc[:mid].median()       # 下半部分（不包括中位数）\n",
    "        Q3 = s.iloc[mid+1:].median()     # 上半部分（不包括中位数）\n",
    "\n",
    "    IQR = Q3 - Q1\n",
    "    lower = Q1 - 1.5 * IQR\n",
    "    upper = Q3 + 1.5 * IQR\n",
    "\n",
    "    outliers = ser[(ser < lower) | (ser > upper)]\n",
    "    return outliers\n",
    "data = pd.read_csv(r'data/example_data.csv')\n",
    "box_outliers(data['A'])\n"
   ]
  },
  {
   "cell_type": "code",
   "execution_count": 24,
   "id": "1090bd0c",
   "metadata": {},
   "outputs": [
    {
     "data": {
      "text/plain": [
       "<Axes: >"
      ]
     },
     "execution_count": 24,
     "metadata": {},
     "output_type": "execute_result"
    },
    {
     "data": {
      "image/png": "[encoded data removed]",
      "text/plain": [
       "<Figure size 640x480 with 1 Axes>"
      ]
     },
     "metadata": {},
     "output_type": "display_data"
    }
   ],
   "source": [
    "df = pd.read_csv(r'data/outlier_data.csv')\n",
    "df.boxplot(column=['A', 'B'])"
   ]
  },
  {
   "cell_type": "code",
   "execution_count": 32,
   "id": "3b6b4e87",
   "metadata": {},
   "outputs": [
    {
     "data": {
      "image/png": "[encoded data removed]",
      "text/plain": [
       "<Figure size 640x480 with 1 Axes>"
      ]
     },
     "metadata": {},
     "output_type": "display_data"
    }
   ],
   "source": [
    "import pandas as pd\n",
    "import matplotlib.pyplot as plt\n",
    "df = pd.read_csv(r'data/example_data.csv')\n",
    "df.boxplot(column=['A', 'B'])\n",
    "plt.show()"
   ]
  },
  {
   "cell_type": "code",
   "execution_count": 49,
   "id": "7bcfdc1d",
   "metadata": {},
   "outputs": [
    {
     "name": "stdout",
     "output_type": "stream",
     "text": [
      "[0 1]\n",
      "(2, 2)\n"
     ]
    }
   ],
   "source": [
    "arr = np.array([[1, 2], [3, 4]])\n",
    "index = np.arange(arr.shape[0])\n",
    "print(index)\n",
    "print(arr.shape)"
   ]
  },
  {
   "cell_type": "markdown",
   "id": "830d77b0",
   "metadata": {},
   "source": [
    "replace()：替换指定值\n",
    "df.replace(to_replace={1: 10, 2: 20}) #将所有1替换为10, 2替换为20\n",
    "df.replace(to_replace=[1, 2], value=[10, 20]) #将所有1替换为10, 2替换为20, 返回副本"
   ]
  },
  {
   "cell_type": "code",
   "execution_count": 46,
   "id": "f0dc8ef4",
   "metadata": {},
   "outputs": [
    {
     "data": {
      "text/html": [
       "<div>\n",
       "<style scoped>\n",
       "    .dataframe tbody tr th:only-of-type {\n",
       "        vertical-align: middle;\n",
       "    }\n",
       "\n",
       "    .dataframe tbody tr th {\n",
       "        vertical-align: top;\n",
       "    }\n",
       "\n",
       "    .dataframe thead th {\n",
       "        text-align: right;\n",
       "    }\n",
       "</style>\n",
       "<table border=\"1\" class=\"dataframe\">\n",
       "  <thead>\n",
       "    <tr style=\"text-align: right;\">\n",
       "      <th></th>\n",
       "      <th>A</th>\n",
       "      <th>B</th>\n",
       "    </tr>\n",
       "  </thead>\n",
       "  <tbody>\n",
       "    <tr>\n",
       "      <th>0</th>\n",
       "      <td>10</td>\n",
       "      <td>20</td>\n",
       "    </tr>\n",
       "    <tr>\n",
       "      <th>1</th>\n",
       "      <td>20</td>\n",
       "      <td>3</td>\n",
       "    </tr>\n",
       "    <tr>\n",
       "      <th>2</th>\n",
       "      <td>3</td>\n",
       "      <td>8</td>\n",
       "    </tr>\n",
       "    <tr>\n",
       "      <th>3</th>\n",
       "      <td>4</td>\n",
       "      <td>5</td>\n",
       "    </tr>\n",
       "    <tr>\n",
       "      <th>4</th>\n",
       "      <td>5</td>\n",
       "      <td>6</td>\n",
       "    </tr>\n",
       "    <tr>\n",
       "      <th>5</th>\n",
       "      <td>50</td>\n",
       "      <td>7</td>\n",
       "    </tr>\n",
       "    <tr>\n",
       "      <th>6</th>\n",
       "      <td>20</td>\n",
       "      <td>8</td>\n",
       "    </tr>\n",
       "    <tr>\n",
       "      <th>7</th>\n",
       "      <td>3</td>\n",
       "      <td>9</td>\n",
       "    </tr>\n",
       "    <tr>\n",
       "      <th>8</th>\n",
       "      <td>3</td>\n",
       "      <td>0</td>\n",
       "    </tr>\n",
       "    <tr>\n",
       "      <th>9</th>\n",
       "      <td>4</td>\n",
       "      <td>3</td>\n",
       "    </tr>\n",
       "    <tr>\n",
       "      <th>10</th>\n",
       "      <td>5</td>\n",
       "      <td>4</td>\n",
       "    </tr>\n",
       "    <tr>\n",
       "      <th>11</th>\n",
       "      <td>3</td>\n",
       "      <td>5</td>\n",
       "    </tr>\n",
       "    <tr>\n",
       "      <th>12</th>\n",
       "      <td>20</td>\n",
       "      <td>6</td>\n",
       "    </tr>\n",
       "    <tr>\n",
       "      <th>13</th>\n",
       "      <td>4</td>\n",
       "      <td>7</td>\n",
       "    </tr>\n",
       "    <tr>\n",
       "      <th>14</th>\n",
       "      <td>5</td>\n",
       "      <td>20</td>\n",
       "    </tr>\n",
       "    <tr>\n",
       "      <th>15</th>\n",
       "      <td>23</td>\n",
       "      <td>4</td>\n",
       "    </tr>\n",
       "    <tr>\n",
       "      <th>16</th>\n",
       "      <td>20</td>\n",
       "      <td>5</td>\n",
       "    </tr>\n",
       "    <tr>\n",
       "      <th>17</th>\n",
       "      <td>5</td>\n",
       "      <td>6</td>\n",
       "    </tr>\n",
       "    <tr>\n",
       "      <th>18</th>\n",
       "      <td>3</td>\n",
       "      <td>4</td>\n",
       "    </tr>\n",
       "  </tbody>\n",
       "</table>\n",
       "</div>"
      ],
      "text/plain": [
       "     A   B\n",
       "0   10  20\n",
       "1   20   3\n",
       "2    3   8\n",
       "3    4   5\n",
       "4    5   6\n",
       "5   50   7\n",
       "6   20   8\n",
       "7    3   9\n",
       "8    3   0\n",
       "9    4   3\n",
       "10   5   4\n",
       "11   3   5\n",
       "12  20   6\n",
       "13   4   7\n",
       "14   5  20\n",
       "15  23   4\n",
       "16  20   5\n",
       "17   5   6\n",
       "18   3   4"
      ]
     },
     "execution_count": 46,
     "metadata": {},
     "output_type": "execute_result"
    }
   ],
   "source": [
    "#替换多个值\n",
    "df = pd.read_csv(r'data/example_data.csv')\n",
    "df.replace(to_replace=[1, 2], value=[10, 20])"
   ]
  },
  {
   "cell_type": "markdown",
   "id": "5ce9c468",
   "metadata": {},
   "source": [
    "### 数据类型转换\n",
    "- astype()：转换数据类型\n",
    "df['A'] = df['A'].astype(dtype='int') #将A列转换为整数类型\n",
    "df['B'] = df['B'].astype(dtype='float') #将B列转换为浮点类型\n",
    "- to_numeric()：将字符串转换为数值\n",
    "pd.to_numeric(df['A'], errors='coerce') #将A列转换为数值类型, 无法转换的设置为NaN\n",
    "- to_datetime()：将字符串转换为日期时间\n",
    "pd.to_datetime(df['date'], format='%Y-%m-%d', errors='coerce') #将date列转换为日期时间类型, 无法转换的设置为NaT\n",
    "- to_timedelta()：将字符串转换为时间差\n",
    "pd.to_timedelta(df['duration'], errors='coerce') #将duration列转换为时间差类型, 无法转换的设置为NaT"
   ]
  },
  {
   "cell_type": "code",
   "execution_count": 58,
   "id": "76a24c8e",
   "metadata": {},
   "outputs": [
    {
     "data": {
      "text/plain": [
       "A    object\n",
       "B     int64\n",
       "C    object\n",
       "dtype: object"
      ]
     },
     "execution_count": 58,
     "metadata": {},
     "output_type": "execute_result"
    }
   ],
   "source": [
    "import pandas as pd\n",
    "df = pd. DataFrame({'A': ['1', '1.2', '4.2'],\n",
    "'B': ['-9', '70', '88'],\n",
    "'C': ['x', '5.0', '0']})\n",
    "\n",
    "\n",
    "df['B'] = df['B'].astype(dtype='int') \n",
    "df.dtypes"
   ]
  },
  {
   "cell_type": "code",
   "execution_count": null,
   "id": "24e0e8b9",
   "metadata": {},
   "outputs": [],
   "source": []
  }
 ],
 "metadata": {
  "kernelspec": {
   "display_name": "syc",
   "language": "python",
   "name": "python3"
  },
  "language_info": {
   "codemirror_mode": {
    "name": "ipython",
    "version": 3
   },
   "file_extension": ".py",
   "mimetype": "text/x-python",
   "name": "python",
   "nbconvert_exporter": "python",
   "pygments_lexer": "ipython3",
   "version": "3.13.7"
  }
 },
 "nbformat": 4,
 "nbformat_minor": 5
}
