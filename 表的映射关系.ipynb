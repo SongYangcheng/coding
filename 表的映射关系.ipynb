{
 "cells": [
  {
   "cell_type": "markdown",
   "id": "59f10ec1",
   "metadata": {},
   "source": [
    "## 表的映射关系\n",
    "### 一对一映射\n",
    "### 一对多映射\n",
    "### 多对多映射"
   ]
  },
  {
   "cell_type": "code",
   "execution_count": null,
   "id": "e81b5075",
   "metadata": {},
   "outputs": [],
   "source": [
    "#一对一映射\n",
    "class Member:\n",
    "    def __init__(self, mid=None, name=None):\n",
    "        self.mid=mid\n",
    "        self.name=name\n",
    "        self.car=None #关键car=None表示初始化\n",
    "    def __str__(self):\n",
    "        return f'人员编号:{self.mid},姓名:{self.name},车辆信息:[{self.car}]'\n",
    "    def __repr__(self): \n",
    "        #对象表示\n",
    "        return f'Member({self.mid},{self.name})'\n",
    "\n"
   ]
  }
 ],
 "metadata": {
  "kernelspec": {
   "display_name": "syc",
   "language": "python",
   "name": "python3"
  },
  "language_info": {
   "name": "python",
   "version": "3.13.7"
  }
 },
 "nbformat": 4,
 "nbformat_minor": 5
}
