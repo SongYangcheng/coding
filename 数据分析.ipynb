{
 "cells": [
  {
   "cell_type": "markdown",
   "id": "868abcb1",
   "metadata": {},
   "source": [
    "### 数据分析包括\n",
    "- 描述性统计分析：从数据中可以提取的基本统计量，如均值、中位数、标准差等。\n",
    "- 探究性数据分析： 从海量队列数据中找出潜在的模式、关系和异常值。\n",
    "- 验证性数据分析：验证科研假设，通常涉及统计检验。"
   ]
  }
 ],
 "metadata": {
  "kernelspec": {
   "display_name": "syc",
   "language": "python",
   "name": "python3"
  },
  "language_info": {
   "name": "python",
   "version": "3.13.7"
  }
 },
 "nbformat": 4,
 "nbformat_minor": 5
}
